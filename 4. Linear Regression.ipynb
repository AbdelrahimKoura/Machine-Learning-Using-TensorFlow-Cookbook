{
 "cells": [
  {
   "cell_type": "markdown",
   "metadata": {},
   "source": [
    "# Linear Regression"
   ]
  },
  {
   "cell_type": "code",
   "execution_count": 1,
   "metadata": {},
   "outputs": [
    {
     "name": "stdout",
     "output_type": "stream",
     "text": [
      "2.0.0\n"
     ]
    }
   ],
   "source": [
    "import tensorflow as tf\n",
    "print(tf.__version__)"
   ]
  },
  {
   "cell_type": "markdown",
   "metadata": {},
   "source": [
    "## Learning the TensorFlow way of linear regression"
   ]
  },
  {
   "cell_type": "code",
   "execution_count": 2,
   "metadata": {},
   "outputs": [],
   "source": [
    "import numpy as np\n",
    "import pandas as pd\n",
    "import tensorflow_datasets as tfds\n",
    "tfds.disable_progress_bar()\n",
    "\n",
    "housing_url = 'http://archive.ics.uci.edu/ml/machine-learning-databases/housing/housing.data'\n",
    "path = tf.keras.utils.get_file(housing_url.split(\"/\")[-1], housing_url)\n",
    "\n",
    "columns = ['CRIM', 'ZN', 'INDUS', 'CHAS', 'NOX', 'RM', 'AGE', 'DIS', 'RAD', 'TAX', 'PTRATIO', 'B', 'LSTAT', 'MEDV']\n",
    "data = pd.read_table(path, delim_whitespace=True, header=None, names=columns)"
   ]
  },
  {
   "cell_type": "code",
   "execution_count": 3,
   "metadata": {},
   "outputs": [],
   "source": [
    "categorical_cols = ['CHAS', 'RAD']\n",
    "numeric_cols = ['CRIM', 'ZN', 'INDUS',  'NOX', 'RM', 'AGE', 'DIS', 'TAX', 'PTRATIO', 'B', 'LSTAT']\n",
    "\n",
    "def define_feature_columns(data_df, categorical_cols, numeric_cols):\n",
    "    feature_columns = []\n",
    "    \n",
    "    for feature_name in categorical_cols:\n",
    "        vocabulary = data_df[feature_name].unique()\n",
    "        feature_columns.append(tf.feature_column.categorical_column_with_vocabulary_list(feature_name, vocabulary))\n",
    "\n",
    "    for feature_name in numeric_cols:\n",
    "        feature_columns.append(tf.feature_column.numeric_column(feature_name, dtype=tf.float32))\n",
    "    \n",
    "    return feature_columns\n",
    "\n",
    "feature_columns = define_feature_columns(data, categorical_cols, numeric_cols)"
   ]
  },
  {
   "cell_type": "code",
   "execution_count": 4,
   "metadata": {},
   "outputs": [],
   "source": [
    "def make_input_fn(data_df, label_df, num_epochs=10, shuffle=True, batch_size=256):\n",
    "    \n",
    "    def input_function():\n",
    "        ds = tf.data.Dataset.from_tensor_slices((dict(data_df), label_df))\n",
    "        if shuffle:\n",
    "            ds = ds.shuffle(1000)\n",
    "        ds = ds.batch(batch_size).repeat(num_epochs)\n",
    "        return ds\n",
    "    \n",
    "    return input_function"
   ]
  },
  {
   "cell_type": "code",
   "execution_count": 5,
   "metadata": {},
   "outputs": [],
   "source": [
    "np.random.seed(1)\n",
    "train = data.sample(frac=0.8).copy()\n",
    "y_train = train['MEDV']\n",
    "train.drop('MEDV', axis=1, inplace=True)\n",
    "\n",
    "test = data.loc[~data.index.isin(train.index)].copy()\n",
    "y_test = test['MEDV']\n",
    "test.drop('MEDV', axis=1, inplace=True)\n",
    "\n",
    "train_input_fn = make_input_fn(train, y_train, num_epochs=1400)\n",
    "test_input_fn = make_input_fn(test, y_test, num_epochs=1, shuffle=False)"
   ]
  },
  {
   "cell_type": "code",
   "execution_count": 6,
   "metadata": {},
   "outputs": [
    {
     "name": "stdout",
     "output_type": "stream",
     "text": [
      "INFO:tensorflow:Using default config.\n",
      "WARNING:tensorflow:Using temporary folder as model directory: C:\\Users\\Luca\\AppData\\Local\\Temp\\tmpeshynh7n\n",
      "INFO:tensorflow:Using config: {'_model_dir': 'C:\\\\Users\\\\Luca\\\\AppData\\\\Local\\\\Temp\\\\tmpeshynh7n', '_tf_random_seed': None, '_save_summary_steps': 100, '_save_checkpoints_steps': None, '_save_checkpoints_secs': 600, '_session_config': allow_soft_placement: true\n",
      "graph_options {\n",
      "  rewrite_options {\n",
      "    meta_optimizer_iterations: ONE\n",
      "  }\n",
      "}\n",
      ", '_keep_checkpoint_max': 5, '_keep_checkpoint_every_n_hours': 10000, '_log_step_count_steps': 100, '_train_distribute': None, '_device_fn': None, '_protocol': None, '_eval_distribute': None, '_experimental_distribute': None, '_experimental_max_worker_delay_secs': None, '_session_creation_timeout_secs': 7200, '_service': None, '_cluster_spec': <tensorflow.python.training.server_lib.ClusterSpec object at 0x00000000096C5C88>, '_task_type': 'worker', '_task_id': 0, '_global_id_in_cluster': 0, '_master': '', '_evaluation_master': '', '_is_chief': True, '_num_ps_replicas': 0, '_num_worker_replicas': 1}\n",
      "WARNING:tensorflow:From C:\\Users\\Luca\\anaconda3\\lib\\site-packages\\tensorflow_core\\python\\ops\\resource_variable_ops.py:1630: calling BaseResourceVariable.__init__ (from tensorflow.python.ops.resource_variable_ops) with constraint is deprecated and will be removed in a future version.\n",
      "Instructions for updating:\n",
      "If using Keras pass *_constraint arguments to layers.\n",
      "WARNING:tensorflow:From C:\\Users\\Luca\\anaconda3\\lib\\site-packages\\tensorflow_core\\python\\training\\training_util.py:236: Variable.initialized_value (from tensorflow.python.ops.variables) is deprecated and will be removed in a future version.\n",
      "Instructions for updating:\n",
      "Use Variable.read_value. Variables in 2.X are initialized automatically both in eager and graph (inside tf.defun) contexts.\n",
      "INFO:tensorflow:Calling model_fn.\n",
      "WARNING:tensorflow:Layer linear/linear_model is casting an input tensor from dtype float64 to the layer's dtype of float32, which is new behavior in TensorFlow 2.  The layer has dtype float32 because it's dtype defaults to floatx.\n",
      "\n",
      "If you intended to run this layer in float32, you can safely ignore this warning. If in doubt, this warning is likely only an issue if you are porting a TensorFlow 1.X model to TensorFlow 2.\n",
      "\n",
      "To change all layers to have dtype float64 by default, call `tf.keras.backend.set_floatx('float64')`. To change just this layer, pass dtype='float64' to the layer constructor. If you are the author of this layer, you can disable autocasting by passing autocast=False to the base Layer constructor.\n",
      "\n",
      "WARNING:tensorflow:From C:\\Users\\Luca\\anaconda3\\lib\\site-packages\\tensorflow_core\\python\\feature_column\\feature_column_v2.py:518: Layer.add_variable (from tensorflow.python.keras.engine.base_layer) is deprecated and will be removed in a future version.\n",
      "Instructions for updating:\n",
      "Please use `layer.add_weight` method instead.\n",
      "WARNING:tensorflow:From C:\\Users\\Luca\\anaconda3\\lib\\site-packages\\tensorflow_estimator\\python\\estimator\\canned\\linear.py:308: to_float (from tensorflow.python.ops.math_ops) is deprecated and will be removed in a future version.\n",
      "Instructions for updating:\n",
      "Use `tf.cast` instead.\n",
      "WARNING:tensorflow:From C:\\Users\\Luca\\anaconda3\\lib\\site-packages\\tensorflow_core\\python\\keras\\optimizer_v2\\ftrl.py:143: calling Constant.__init__ (from tensorflow.python.ops.init_ops) with dtype is deprecated and will be removed in a future version.\n",
      "Instructions for updating:\n",
      "Call initializer instance with the dtype argument instead of passing it to the constructor\n",
      "INFO:tensorflow:Done calling model_fn.\n",
      "INFO:tensorflow:Create CheckpointSaverHook.\n",
      "INFO:tensorflow:Graph was finalized.\n",
      "INFO:tensorflow:Running local_init_op.\n",
      "INFO:tensorflow:Done running local_init_op.\n",
      "INFO:tensorflow:Saving checkpoints for 0 into C:\\Users\\Luca\\AppData\\Local\\Temp\\tmpeshynh7n\\model.ckpt.\n",
      "INFO:tensorflow:loss = 594.7135, step = 0\n",
      "INFO:tensorflow:global_step/sec: 159.735\n",
      "INFO:tensorflow:loss = 62.425026, step = 100 (0.628 sec)\n",
      "INFO:tensorflow:global_step/sec: 222.21\n",
      "INFO:tensorflow:loss = 48.0308, step = 200 (0.451 sec)\n",
      "INFO:tensorflow:global_step/sec: 217.852\n",
      "INFO:tensorflow:loss = 46.24185, step = 300 (0.459 sec)\n",
      "INFO:tensorflow:global_step/sec: 237.516\n",
      "INFO:tensorflow:loss = 39.700283, step = 400 (0.420 sec)\n",
      "INFO:tensorflow:global_step/sec: 217.852\n",
      "INFO:tensorflow:loss = 44.7106, step = 500 (0.459 sec)\n",
      "INFO:tensorflow:global_step/sec: 219.768\n",
      "INFO:tensorflow:loss = 43.7983, step = 600 (0.455 sec)\n",
      "INFO:tensorflow:global_step/sec: 227.777\n",
      "INFO:tensorflow:loss = 40.843845, step = 700 (0.439 sec)\n",
      "INFO:tensorflow:global_step/sec: 225.212\n",
      "INFO:tensorflow:loss = 36.085625, step = 800 (0.445 sec)\n",
      "INFO:tensorflow:global_step/sec: 208.321\n",
      "INFO:tensorflow:loss = 41.63841, step = 900 (0.480 sec)\n",
      "INFO:tensorflow:global_step/sec: 223.701\n",
      "INFO:tensorflow:loss = 40.66098, step = 1000 (0.447 sec)\n",
      "INFO:tensorflow:global_step/sec: 210.072\n",
      "INFO:tensorflow:loss = 36.411976, step = 1100 (0.476 sec)\n",
      "INFO:tensorflow:global_step/sec: 212.754\n",
      "INFO:tensorflow:loss = 34.26167, step = 1200 (0.469 sec)\n",
      "INFO:tensorflow:global_step/sec: 213.207\n",
      "INFO:tensorflow:loss = 38.029175, step = 1300 (0.469 sec)\n",
      "INFO:tensorflow:global_step/sec: 222.209\n",
      "INFO:tensorflow:loss = 36.778305, step = 1400 (0.451 sec)\n",
      "INFO:tensorflow:global_step/sec: 214.58\n",
      "INFO:tensorflow:loss = 33.92546, step = 1500 (0.466 sec)\n",
      "INFO:tensorflow:global_step/sec: 206.6\n",
      "INFO:tensorflow:loss = 35.47548, step = 1600 (0.485 sec)\n",
      "INFO:tensorflow:global_step/sec: 217.853\n",
      "INFO:tensorflow:loss = 31.79789, step = 1700 (0.457 sec)\n",
      "INFO:tensorflow:global_step/sec: 207.888\n",
      "INFO:tensorflow:loss = 33.421616, step = 1800 (0.482 sec)\n",
      "INFO:tensorflow:global_step/sec: 206.6\n",
      "INFO:tensorflow:loss = 32.49462, step = 1900 (0.483 sec)\n",
      "INFO:tensorflow:global_step/sec: 200.389\n",
      "INFO:tensorflow:loss = 30.594555, step = 2000 (0.499 sec)\n",
      "INFO:tensorflow:global_step/sec: 217.379\n",
      "INFO:tensorflow:loss = 30.111332, step = 2100 (0.461 sec)\n",
      "INFO:tensorflow:global_step/sec: 207.457\n",
      "INFO:tensorflow:loss = 28.53602, step = 2200 (0.482 sec)\n",
      "INFO:tensorflow:global_step/sec: 224.202\n",
      "INFO:tensorflow:loss = 32.695107, step = 2300 (0.445 sec)\n",
      "INFO:tensorflow:global_step/sec: 207.457\n",
      "INFO:tensorflow:loss = 28.214361, step = 2400 (0.483 sec)\n",
      "INFO:tensorflow:global_step/sec: 226.231\n",
      "INFO:tensorflow:loss = 35.397537, step = 2500 (0.442 sec)\n",
      "INFO:tensorflow:global_step/sec: 215.505\n",
      "INFO:tensorflow:loss = 36.713516, step = 2600 (0.463 sec)\n",
      "INFO:tensorflow:global_step/sec: 198.008\n",
      "INFO:tensorflow:loss = 35.570976, step = 2700 (0.516 sec)\n",
      "INFO:tensorflow:Saving checkpoints for 2800 into C:\\Users\\Luca\\AppData\\Local\\Temp\\tmpeshynh7n\\model.ckpt.\n",
      "INFO:tensorflow:Loss for final step: 33.980713.\n",
      "INFO:tensorflow:Calling model_fn.\n",
      "WARNING:tensorflow:Layer linear/linear_model is casting an input tensor from dtype float64 to the layer's dtype of float32, which is new behavior in TensorFlow 2.  The layer has dtype float32 because it's dtype defaults to floatx.\n",
      "\n",
      "If you intended to run this layer in float32, you can safely ignore this warning. If in doubt, this warning is likely only an issue if you are porting a TensorFlow 1.X model to TensorFlow 2.\n",
      "\n",
      "To change all layers to have dtype float64 by default, call `tf.keras.backend.set_floatx('float64')`. To change just this layer, pass dtype='float64' to the layer constructor. If you are the author of this layer, you can disable autocasting by passing autocast=False to the base Layer constructor.\n",
      "\n",
      "INFO:tensorflow:Done calling model_fn.\n",
      "INFO:tensorflow:Starting evaluation at 2020-05-10T18:16:14Z\n",
      "INFO:tensorflow:Graph was finalized.\n",
      "INFO:tensorflow:Restoring parameters from C:\\Users\\Luca\\AppData\\Local\\Temp\\tmpeshynh7n\\model.ckpt-2800\n",
      "INFO:tensorflow:Running local_init_op.\n",
      "INFO:tensorflow:Done running local_init_op.\n",
      "INFO:tensorflow:Finished evaluation at 2020-05-10-18:16:14\n",
      "INFO:tensorflow:Saving dict for global step 2800: average_loss = 32.703922, global_step = 2800, label/mean = 22.048517, loss = 32.703922, prediction/mean = 21.6143\n",
      "INFO:tensorflow:Saving 'checkpoint_path' summary for global step 2800: C:\\Users\\Luca\\AppData\\Local\\Temp\\tmpeshynh7n\\model.ckpt-2800\n",
      "{'average_loss': 32.703922, 'label/mean': 22.048517, 'loss': 32.703922, 'prediction/mean': 21.6143, 'global_step': 2800}\n"
     ]
    }
   ],
   "source": [
    "linear_est = tf.estimator.LinearRegressor(feature_columns=feature_columns)\n",
    "linear_est.train(train_input_fn)\n",
    "result = linear_est.evaluate(test_input_fn)\n",
    "\n",
    "print(result)"
   ]
  },
  {
   "cell_type": "markdown",
   "metadata": {},
   "source": [
    "### Interactions"
   ]
  },
  {
   "cell_type": "code",
   "execution_count": 7,
   "metadata": {},
   "outputs": [
    {
     "name": "stdout",
     "output_type": "stream",
     "text": [
      "INFO:tensorflow:Using default config.\n",
      "WARNING:tensorflow:Using temporary folder as model directory: C:\\Users\\Luca\\AppData\\Local\\Temp\\tmpa6q623pm\n",
      "INFO:tensorflow:Using config: {'_model_dir': 'C:\\\\Users\\\\Luca\\\\AppData\\\\Local\\\\Temp\\\\tmpa6q623pm', '_tf_random_seed': None, '_save_summary_steps': 100, '_save_checkpoints_steps': None, '_save_checkpoints_secs': 600, '_session_config': allow_soft_placement: true\n",
      "graph_options {\n",
      "  rewrite_options {\n",
      "    meta_optimizer_iterations: ONE\n",
      "  }\n",
      "}\n",
      ", '_keep_checkpoint_max': 5, '_keep_checkpoint_every_n_hours': 10000, '_log_step_count_steps': 100, '_train_distribute': None, '_device_fn': None, '_protocol': None, '_eval_distribute': None, '_experimental_distribute': None, '_experimental_max_worker_delay_secs': None, '_session_creation_timeout_secs': 7200, '_service': None, '_cluster_spec': <tensorflow.python.training.server_lib.ClusterSpec object at 0x000000000E4013C8>, '_task_type': 'worker', '_task_id': 0, '_global_id_in_cluster': 0, '_master': '', '_evaluation_master': '', '_is_chief': True, '_num_ps_replicas': 0, '_num_worker_replicas': 1}\n",
      "INFO:tensorflow:Calling model_fn.\n",
      "WARNING:tensorflow:Layer linear/linear_model is casting an input tensor from dtype float64 to the layer's dtype of float32, which is new behavior in TensorFlow 2.  The layer has dtype float32 because it's dtype defaults to floatx.\n",
      "\n",
      "If you intended to run this layer in float32, you can safely ignore this warning. If in doubt, this warning is likely only an issue if you are porting a TensorFlow 1.X model to TensorFlow 2.\n",
      "\n",
      "To change all layers to have dtype float64 by default, call `tf.keras.backend.set_floatx('float64')`. To change just this layer, pass dtype='float64' to the layer constructor. If you are the author of this layer, you can disable autocasting by passing autocast=False to the base Layer constructor.\n",
      "\n",
      "INFO:tensorflow:Done calling model_fn.\n",
      "INFO:tensorflow:Create CheckpointSaverHook.\n",
      "INFO:tensorflow:Graph was finalized.\n",
      "INFO:tensorflow:Running local_init_op.\n",
      "INFO:tensorflow:Done running local_init_op.\n",
      "INFO:tensorflow:Saving checkpoints for 0 into C:\\Users\\Luca\\AppData\\Local\\Temp\\tmpa6q623pm\\model.ckpt.\n",
      "INFO:tensorflow:loss = 614.52466, step = 0\n",
      "INFO:tensorflow:global_step/sec: 96.3336\n",
      "INFO:tensorflow:loss = 48.39805, step = 100 (1.040 sec)\n",
      "INFO:tensorflow:global_step/sec: 163.925\n",
      "INFO:tensorflow:loss = 39.394073, step = 200 (0.610 sec)\n",
      "INFO:tensorflow:global_step/sec: 176.357\n",
      "INFO:tensorflow:loss = 34.609962, step = 300 (0.567 sec)\n",
      "INFO:tensorflow:global_step/sec: 164.464\n",
      "INFO:tensorflow:loss = 26.975624, step = 400 (0.609 sec)\n",
      "INFO:tensorflow:global_step/sec: 177.61\n",
      "INFO:tensorflow:loss = 23.246368, step = 500 (0.562 sec)\n",
      "INFO:tensorflow:global_step/sec: 182.471\n",
      "INFO:tensorflow:loss = 20.960693, step = 600 (0.547 sec)\n",
      "INFO:tensorflow:global_step/sec: 181.478\n",
      "INFO:tensorflow:loss = 21.204247, step = 700 (0.551 sec)\n",
      "INFO:tensorflow:global_step/sec: 176.981\n",
      "INFO:tensorflow:loss = 22.500622, step = 800 (0.565 sec)\n",
      "INFO:tensorflow:global_step/sec: 178.561\n",
      "INFO:tensorflow:loss = 19.209751, step = 900 (0.561 sec)\n",
      "INFO:tensorflow:global_step/sec: 166.935\n",
      "INFO:tensorflow:loss = 17.69202, step = 1000 (0.599 sec)\n",
      "INFO:tensorflow:global_step/sec: 172.107\n",
      "INFO:tensorflow:loss = 15.816969, step = 1100 (0.582 sec)\n",
      "INFO:tensorflow:global_step/sec: 173.3\n",
      "INFO:tensorflow:loss = 15.340376, step = 1200 (0.576 sec)\n",
      "INFO:tensorflow:global_step/sec: 182.139\n",
      "INFO:tensorflow:loss = 19.320974, step = 1300 (0.549 sec)\n",
      "INFO:tensorflow:global_step/sec: 183.476\n",
      "INFO:tensorflow:loss = 14.342702, step = 1400 (0.546 sec)\n",
      "INFO:tensorflow:global_step/sec: 172.702\n",
      "INFO:tensorflow:loss = 15.237423, step = 1500 (0.578 sec)\n",
      "INFO:tensorflow:global_step/sec: 167.495\n",
      "INFO:tensorflow:loss = 15.959911, step = 1600 (0.596 sec)\n",
      "INFO:tensorflow:global_step/sec: 173.903\n",
      "INFO:tensorflow:loss = 16.428438, step = 1700 (0.575 sec)\n",
      "INFO:tensorflow:global_step/sec: 165.828\n",
      "INFO:tensorflow:loss = 13.587841, step = 1800 (0.604 sec)\n",
      "INFO:tensorflow:global_step/sec: 176.981\n",
      "INFO:tensorflow:loss = 13.609143, step = 1900 (0.565 sec)\n",
      "INFO:tensorflow:global_step/sec: 170.348\n",
      "INFO:tensorflow:loss = 12.290166, step = 2000 (0.587 sec)\n",
      "INFO:tensorflow:global_step/sec: 172.702\n",
      "INFO:tensorflow:loss = 14.83407, step = 2100 (0.578 sec)\n",
      "INFO:tensorflow:global_step/sec: 172.702\n",
      "INFO:tensorflow:loss = 12.499582, step = 2200 (0.580 sec)\n",
      "INFO:tensorflow:global_step/sec: 169.77\n",
      "INFO:tensorflow:loss = 14.411418, step = 2300 (0.588 sec)\n",
      "INFO:tensorflow:global_step/sec: 128.362\n",
      "INFO:tensorflow:loss = 13.646066, step = 2400 (0.781 sec)\n",
      "INFO:tensorflow:global_step/sec: 123.45\n",
      "INFO:tensorflow:loss = 12.686634, step = 2500 (0.809 sec)\n",
      "INFO:tensorflow:global_step/sec: 145.552\n",
      "INFO:tensorflow:loss = 12.371477, step = 2600 (0.688 sec)\n",
      "INFO:tensorflow:global_step/sec: 160.247\n",
      "INFO:tensorflow:loss = 15.654862, step = 2700 (0.623 sec)\n",
      "INFO:tensorflow:Saving checkpoints for 2800 into C:\\Users\\Luca\\AppData\\Local\\Temp\\tmpa6q623pm\\model.ckpt.\n",
      "INFO:tensorflow:Loss for final step: 11.780736.\n",
      "INFO:tensorflow:Calling model_fn.\n",
      "WARNING:tensorflow:Layer linear/linear_model is casting an input tensor from dtype float64 to the layer's dtype of float32, which is new behavior in TensorFlow 2.  The layer has dtype float32 because it's dtype defaults to floatx.\n",
      "\n",
      "If you intended to run this layer in float32, you can safely ignore this warning. If in doubt, this warning is likely only an issue if you are porting a TensorFlow 1.X model to TensorFlow 2.\n",
      "\n",
      "To change all layers to have dtype float64 by default, call `tf.keras.backend.set_floatx('float64')`. To change just this layer, pass dtype='float64' to the layer constructor. If you are the author of this layer, you can disable autocasting by passing autocast=False to the base Layer constructor.\n",
      "\n",
      "INFO:tensorflow:Done calling model_fn.\n",
      "INFO:tensorflow:Starting evaluation at 2020-05-10T18:16:41Z\n",
      "INFO:tensorflow:Graph was finalized.\n",
      "INFO:tensorflow:Restoring parameters from C:\\Users\\Luca\\AppData\\Local\\Temp\\tmpa6q623pm\\model.ckpt-2800\n",
      "INFO:tensorflow:Running local_init_op.\n",
      "INFO:tensorflow:Done running local_init_op.\n",
      "INFO:tensorflow:Finished evaluation at 2020-05-10-18:16:43\n",
      "INFO:tensorflow:Saving dict for global step 2800: average_loss = 25.982307, global_step = 2800, label/mean = 22.048517, loss = 25.982307, prediction/mean = 21.123726\n",
      "INFO:tensorflow:Saving 'checkpoint_path' summary for global step 2800: C:\\Users\\Luca\\AppData\\Local\\Temp\\tmpa6q623pm\\model.ckpt-2800\n",
      "{'average_loss': 25.982307, 'label/mean': 22.048517, 'loss': 25.982307, 'prediction/mean': 21.123726, 'global_step': 2800}\n"
     ]
    }
   ],
   "source": [
    "rm_x_lstat = tf.feature_column.crossed_column(['RM', 'LSTAT'], hash_bucket_size=100)\n",
    "rm_x_tax = tf.feature_column.crossed_column(['RM', 'TAX'], hash_bucket_size=100)\n",
    "rm_x_rad = tf.feature_column.crossed_column(['RM', 'RAD'], hash_bucket_size=100)\n",
    "\n",
    "derived_feature_columns = [rm_x_lstat, rm_x_tax, rm_x_rad]\n",
    "linear_est = tf.estimator.LinearRegressor(feature_columns=feature_columns+derived_feature_columns)\n",
    "linear_est.train(train_input_fn)\n",
    "result = linear_est.evaluate(test_input_fn)\n",
    "\n",
    "print(result)"
   ]
  },
  {
   "cell_type": "code",
   "execution_count": 8,
   "metadata": {},
   "outputs": [
    {
     "name": "stdout",
     "output_type": "stream",
     "text": [
      "INFO:tensorflow:Calling model_fn.\n",
      "WARNING:tensorflow:Layer linear/linear_model is casting an input tensor from dtype float64 to the layer's dtype of float32, which is new behavior in TensorFlow 2.  The layer has dtype float32 because it's dtype defaults to floatx.\n",
      "\n",
      "If you intended to run this layer in float32, you can safely ignore this warning. If in doubt, this warning is likely only an issue if you are porting a TensorFlow 1.X model to TensorFlow 2.\n",
      "\n",
      "To change all layers to have dtype float64 by default, call `tf.keras.backend.set_floatx('float64')`. To change just this layer, pass dtype='float64' to the layer constructor. If you are the author of this layer, you can disable autocasting by passing autocast=False to the base Layer constructor.\n",
      "\n",
      "INFO:tensorflow:Done calling model_fn.\n",
      "INFO:tensorflow:Graph was finalized.\n",
      "INFO:tensorflow:Restoring parameters from C:\\Users\\Luca\\AppData\\Local\\Temp\\tmpa6q623pm\\model.ckpt-2800\n",
      "INFO:tensorflow:Running local_init_op.\n",
      "INFO:tensorflow:Done running local_init_op.\n"
     ]
    }
   ],
   "source": [
    "pred_dicts = list(linear_est.predict(test_input_fn))\n",
    "y_pred=np.array([pred['predictions'] for pred in pred_dicts])"
   ]
  },
  {
   "cell_type": "markdown",
   "metadata": {},
   "source": [
    "### Keras to estimator version"
   ]
  },
  {
   "cell_type": "code",
   "execution_count": 28,
   "metadata": {},
   "outputs": [],
   "source": [
    "import tensorflow.keras as keras"
   ]
  },
  {
   "cell_type": "code",
   "execution_count": 29,
   "metadata": {},
   "outputs": [],
   "source": [
    "categorical_cols = ['CHAS', 'RAD']\n",
    "numeric_cols = ['CRIM', 'ZN', 'INDUS',  'NOX', 'RM', 'AGE', 'DIS', 'TAX', 'PTRATIO', 'B', 'LSTAT']\n",
    "\n",
    "def define_feature_columns(data_df, categorical_cols, numeric_cols):\n",
    "    feature_columns = []\n",
    "    feature_layer_inputs = {}\n",
    "    \n",
    "    for feature_name in categorical_cols:\n",
    "        vocabulary = data_df[feature_name].unique()\n",
    "        cat = tf.feature_column.categorical_column_with_vocabulary_list(feature_name, vocabulary)\n",
    "        cat_one_hot = tf.feature_column.indicator_column(cat)\n",
    "        feature_columns.append(cat_one_hot)\n",
    "        feature_layer_inputs[feature_name] = tf.keras.Input(shape=(1,), name=feature_name, dtype=tf.int32)\n",
    "\n",
    "    for feature_name in numeric_cols:\n",
    "        feature_columns.append(tf.feature_column.numeric_column(feature_name, dtype=tf.float32))\n",
    "        feature_layer_inputs[feature_name] = tf.keras.Input(shape=(1,), name=feature_name)\n",
    "    \n",
    "    return feature_columns, feature_layer_inputs\n",
    "\n",
    "feature_columns, feature_layer_inputs = define_feature_columns(data, categorical_cols, numeric_cols)"
   ]
  },
  {
   "cell_type": "code",
   "execution_count": 30,
   "metadata": {},
   "outputs": [],
   "source": [
    "feature_layer = keras.layers.DenseFeatures(feature_columns)\n",
    "feature_layer_outputs = feature_layer(feature_layer_inputs)\n",
    "norm = keras.layers.BatchNormalization()(feature_layer_outputs)\n",
    "outputs = keras.layers.Dense(1, kernel_initializer='normal', activation='linear')(norm)\n",
    "\n",
    "model = keras.Model(inputs=[v for v in feature_layer_inputs.values()], outputs=outputs)\n",
    "optimizer = keras.optimizers.Ftrl(learning_rate=0.02)\n",
    "model.compile(optimizer=optimizer, loss='mean_squared_error')"
   ]
  },
  {
   "cell_type": "code",
   "execution_count": 31,
   "metadata": {},
   "outputs": [],
   "source": [
    "rm_x_lstat = tf.feature_column.crossed_column(['RM', 'LSTAT'], hash_bucket_size=100)\n",
    "rm_x_tax = tf.feature_column.crossed_column(['RM', 'TAX'], hash_bucket_size=100)\n",
    "rm_x_rad = tf.feature_column.crossed_column(['RM', 'RAD'], hash_bucket_size=100)\n",
    "\n",
    "derived_feature_columns = [rm_x_lstat, rm_x_tax, rm_x_rad]\n",
    "feature_columns += derived_feature_columns"
   ]
  },
  {
   "cell_type": "code",
   "execution_count": 32,
   "metadata": {},
   "outputs": [
    {
     "name": "stdout",
     "output_type": "stream",
     "text": [
      "INFO:tensorflow:Using default config.\n",
      "INFO:tensorflow:Using the Keras model provided.\n",
      "INFO:tensorflow:Using config: {'_model_dir': 'C:\\\\Users\\\\Luca\\\\AppData\\\\Local\\\\Temp\\\\tmp5ltd5ghq', '_tf_random_seed': None, '_save_summary_steps': 100, '_save_checkpoints_steps': None, '_save_checkpoints_secs': 600, '_session_config': allow_soft_placement: true\n",
      "graph_options {\n",
      "  rewrite_options {\n",
      "    meta_optimizer_iterations: ONE\n",
      "  }\n",
      "}\n",
      ", '_keep_checkpoint_max': 5, '_keep_checkpoint_every_n_hours': 10000, '_log_step_count_steps': 100, '_train_distribute': None, '_device_fn': None, '_protocol': None, '_eval_distribute': None, '_experimental_distribute': None, '_experimental_max_worker_delay_secs': None, '_session_creation_timeout_secs': 7200, '_service': None, '_cluster_spec': <tensorflow.python.training.server_lib.ClusterSpec object at 0x000000001147D588>, '_task_type': 'worker', '_task_id': 0, '_global_id_in_cluster': 0, '_master': '', '_evaluation_master': '', '_is_chief': True, '_num_ps_replicas': 0, '_num_worker_replicas': 1}\n"
     ]
    }
   ],
   "source": [
    "import tempfile\n",
    "model_dir = tempfile.mkdtemp()\n",
    "keras_estimator = tf.keras.estimator.model_to_estimator(\n",
    "    keras_model=model, model_dir=model_dir)"
   ]
  },
  {
   "cell_type": "code",
   "execution_count": 33,
   "metadata": {},
   "outputs": [],
   "source": [
    "train_input_fn = make_input_fn(train, y_train, num_epochs=1400)\n",
    "test_input_fn = make_input_fn(test, y_test, num_epochs=1, shuffle=False)"
   ]
  },
  {
   "cell_type": "code",
   "execution_count": 34,
   "metadata": {},
   "outputs": [
    {
     "name": "stdout",
     "output_type": "stream",
     "text": [
      "INFO:tensorflow:Calling model_fn.\n",
      "INFO:tensorflow:Done calling model_fn.\n",
      "INFO:tensorflow:Warm-starting with WarmStartSettings: WarmStartSettings(ckpt_to_initialize_from='C:\\\\Users\\\\Luca\\\\AppData\\\\Local\\\\Temp\\\\tmp5ltd5ghq\\\\keras\\\\keras_model.ckpt', vars_to_warm_start='.*', var_name_to_vocab_info={}, var_name_to_prev_var_name={})\n",
      "INFO:tensorflow:Warm-starting from: C:\\Users\\Luca\\AppData\\Local\\Temp\\tmp5ltd5ghq\\keras\\keras_model.ckpt\n",
      "INFO:tensorflow:Warm-starting variables only in TRAINABLE_VARIABLES.\n",
      "INFO:tensorflow:Warm-started 4 variables.\n",
      "INFO:tensorflow:Create CheckpointSaverHook.\n",
      "INFO:tensorflow:Graph was finalized.\n",
      "INFO:tensorflow:Running local_init_op.\n",
      "INFO:tensorflow:Done running local_init_op.\n",
      "INFO:tensorflow:Saving checkpoints for 0 into C:\\Users\\Luca\\AppData\\Local\\Temp\\tmp5ltd5ghq\\model.ckpt.\n",
      "INFO:tensorflow:loss = 593.66284, step = 0\n",
      "INFO:tensorflow:global_step/sec: 211.404\n",
      "INFO:tensorflow:loss = 337.19202, step = 100 (0.474 sec)\n",
      "INFO:tensorflow:global_step/sec: 258.383\n",
      "INFO:tensorflow:loss = 179.45709, step = 200 (0.387 sec)\n",
      "INFO:tensorflow:global_step/sec: 249.362\n",
      "INFO:tensorflow:loss = 106.57881, step = 300 (0.401 sec)\n",
      "INFO:tensorflow:global_step/sec: 234.179\n",
      "INFO:tensorflow:loss = 60.61744, step = 400 (0.427 sec)\n",
      "INFO:tensorflow:global_step/sec: 221.717\n",
      "INFO:tensorflow:loss = 40.687523, step = 500 (0.482 sec)\n",
      "INFO:tensorflow:global_step/sec: 204.07\n",
      "INFO:tensorflow:loss = 32.96805, step = 600 (0.459 sec)\n",
      "INFO:tensorflow:global_step/sec: 243.888\n",
      "INFO:tensorflow:loss = 31.205866, step = 700 (0.410 sec)\n",
      "INFO:tensorflow:global_step/sec: 238.082\n",
      "INFO:tensorflow:loss = 38.378223, step = 800 (0.420 sec)\n",
      "INFO:tensorflow:global_step/sec: 237.516\n",
      "INFO:tensorflow:loss = 34.79571, step = 900 (0.422 sec)\n",
      "INFO:tensorflow:global_step/sec: 233.087\n",
      "INFO:tensorflow:loss = 29.323133, step = 1000 (0.429 sec)\n",
      "INFO:tensorflow:global_step/sec: 226.744\n",
      "INFO:tensorflow:loss = 32.432198, step = 1100 (0.441 sec)\n",
      "INFO:tensorflow:global_step/sec: 245.686\n",
      "INFO:tensorflow:loss = 27.735888, step = 1200 (0.406 sec)\n",
      "INFO:tensorflow:global_step/sec: 222.209\n",
      "INFO:tensorflow:loss = 31.460545, step = 1300 (0.451 sec)\n",
      "INFO:tensorflow:global_step/sec: 235.281\n",
      "INFO:tensorflow:loss = 26.429169, step = 1400 (0.425 sec)\n",
      "INFO:tensorflow:global_step/sec: 239.221\n",
      "INFO:tensorflow:loss = 30.403793, step = 1500 (0.419 sec)\n",
      "INFO:tensorflow:global_step/sec: 235.281\n",
      "INFO:tensorflow:loss = 29.40489, step = 1600 (0.424 sec)\n",
      "INFO:tensorflow:global_step/sec: 225.721\n",
      "INFO:tensorflow:loss = 30.443344, step = 1700 (0.443 sec)\n",
      "INFO:tensorflow:global_step/sec: 225.721\n",
      "INFO:tensorflow:loss = 29.06473, step = 1800 (0.442 sec)\n",
      "INFO:tensorflow:global_step/sec: 215.041\n",
      "INFO:tensorflow:loss = 24.029789, step = 1900 (0.466 sec)\n",
      "INFO:tensorflow:global_step/sec: 195.301\n",
      "INFO:tensorflow:loss = 25.914589, step = 2000 (0.512 sec)\n",
      "INFO:tensorflow:global_step/sec: 218.806\n",
      "INFO:tensorflow:loss = 20.974014, step = 2100 (0.458 sec)\n",
      "INFO:tensorflow:global_step/sec: 230.402\n",
      "INFO:tensorflow:loss = 20.19437, step = 2200 (0.432 sec)\n",
      "INFO:tensorflow:global_step/sec: 218.328\n",
      "INFO:tensorflow:loss = 22.804953, step = 2300 (0.459 sec)\n",
      "INFO:tensorflow:global_step/sec: 225.721\n",
      "INFO:tensorflow:loss = 24.97015, step = 2400 (0.444 sec)\n",
      "INFO:tensorflow:global_step/sec: 221.226\n",
      "INFO:tensorflow:loss = 25.996502, step = 2500 (0.451 sec)\n",
      "INFO:tensorflow:global_step/sec: 221.717\n",
      "INFO:tensorflow:loss = 28.946178, step = 2600 (0.450 sec)\n",
      "INFO:tensorflow:global_step/sec: 215.505\n",
      "INFO:tensorflow:loss = 24.525555, step = 2700 (0.464 sec)\n",
      "INFO:tensorflow:Saving checkpoints for 2800 into C:\\Users\\Luca\\AppData\\Local\\Temp\\tmp5ltd5ghq\\model.ckpt.\n",
      "INFO:tensorflow:Loss for final step: 17.240694.\n",
      "INFO:tensorflow:Calling model_fn.\n",
      "INFO:tensorflow:Done calling model_fn.\n",
      "INFO:tensorflow:Starting evaluation at 2020-05-10T18:19:22Z\n",
      "INFO:tensorflow:Graph was finalized.\n",
      "INFO:tensorflow:Restoring parameters from C:\\Users\\Luca\\AppData\\Local\\Temp\\tmp5ltd5ghq\\model.ckpt-2800\n",
      "INFO:tensorflow:Running local_init_op.\n",
      "INFO:tensorflow:Done running local_init_op.\n",
      "INFO:tensorflow:Finished evaluation at 2020-05-10-18:19:23\n",
      "INFO:tensorflow:Saving dict for global step 2800: global_step = 2800, loss = 25.914488\n",
      "INFO:tensorflow:Saving 'checkpoint_path' summary for global step 2800: C:\\Users\\Luca\\AppData\\Local\\Temp\\tmp5ltd5ghq\\model.ckpt-2800\n",
      "{'loss': 25.914488, 'global_step': 2800}\n"
     ]
    }
   ],
   "source": [
    "keras_estimator.train(train_input_fn)\n",
    "result = keras_estimator.evaluate(test_input_fn)\n",
    "\n",
    "print(result)"
   ]
  },
  {
   "cell_type": "markdown",
   "metadata": {},
   "source": [
    "## Understanding loss functions in linear regression"
   ]
  },
  {
   "cell_type": "code",
   "execution_count": null,
   "metadata": {},
   "outputs": [],
   "source": []
  },
  {
   "cell_type": "code",
   "execution_count": null,
   "metadata": {},
   "outputs": [],
   "source": []
  },
  {
   "cell_type": "markdown",
   "metadata": {},
   "source": [
    "## Implementing lasso and ridge regression"
   ]
  },
  {
   "cell_type": "code",
   "execution_count": null,
   "metadata": {},
   "outputs": [],
   "source": []
  },
  {
   "cell_type": "code",
   "execution_count": null,
   "metadata": {},
   "outputs": [],
   "source": []
  },
  {
   "cell_type": "markdown",
   "metadata": {},
   "source": [
    "## Implementing elastic net regression"
   ]
  },
  {
   "cell_type": "code",
   "execution_count": null,
   "metadata": {},
   "outputs": [],
   "source": []
  },
  {
   "cell_type": "code",
   "execution_count": null,
   "metadata": {},
   "outputs": [],
   "source": []
  },
  {
   "cell_type": "markdown",
   "metadata": {},
   "source": [
    "## Implementing logistic regression"
   ]
  },
  {
   "cell_type": "code",
   "execution_count": null,
   "metadata": {},
   "outputs": [],
   "source": []
  },
  {
   "cell_type": "code",
   "execution_count": null,
   "metadata": {},
   "outputs": [],
   "source": []
  },
  {
   "cell_type": "markdown",
   "metadata": {},
   "source": [
    "## Resorting to non-linear regression"
   ]
  },
  {
   "cell_type": "code",
   "execution_count": null,
   "metadata": {},
   "outputs": [],
   "source": []
  },
  {
   "cell_type": "code",
   "execution_count": null,
   "metadata": {},
   "outputs": [],
   "source": []
  },
  {
   "cell_type": "markdown",
   "metadata": {},
   "source": [
    "## Preparing Wide & Deep Learning for Recommender Systems "
   ]
  },
  {
   "cell_type": "code",
   "execution_count": null,
   "metadata": {},
   "outputs": [],
   "source": []
  },
  {
   "cell_type": "code",
   "execution_count": null,
   "metadata": {},
   "outputs": [],
   "source": []
  }
 ],
 "metadata": {
  "kernelspec": {
   "display_name": "Python 3",
   "language": "python",
   "name": "python3"
  },
  "language_info": {
   "codemirror_mode": {
    "name": "ipython",
    "version": 3
   },
   "file_extension": ".py",
   "mimetype": "text/x-python",
   "name": "python",
   "nbconvert_exporter": "python",
   "pygments_lexer": "ipython3",
   "version": "3.7.6"
  }
 },
 "nbformat": 4,
 "nbformat_minor": 4
}
