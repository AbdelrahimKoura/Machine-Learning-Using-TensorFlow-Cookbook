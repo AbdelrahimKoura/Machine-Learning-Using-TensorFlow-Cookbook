{
 "cells": [
  {
   "cell_type": "code",
   "execution_count": 1,
   "metadata": {
    "_cell_guid": "b1076dfc-b9ad-4769-8c92-a6c4dae69d19",
    "_uuid": "8f2839f25d086af736a60e9eeb907d3b93b6e0e5",
    "execution": {
     "iopub.execute_input": "2020-11-03T10:54:41.624704Z",
     "iopub.status.busy": "2020-11-03T10:54:41.623781Z",
     "iopub.status.idle": "2020-11-03T10:54:53.837827Z",
     "shell.execute_reply": "2020-11-03T10:54:53.836935Z"
    },
    "papermill": {
     "duration": 12.236497,
     "end_time": "2020-11-03T10:54:53.837984",
     "exception": false,
     "start_time": "2020-11-03T10:54:41.601487",
     "status": "completed"
    },
    "tags": []
   },
   "outputs": [
    {
     "name": "stdout",
     "output_type": "stream",
     "text": [
      "Collecting tf-agents\r\n",
      "  Downloading tf_agents-0.6.0-py3-none-any.whl (1.1 MB)\r\n",
      "\u001b[K     |████████████████████████████████| 1.1 MB 582 kB/s \r\n",
      "\u001b[?25hRequirement already satisfied: absl-py>=0.6.1 in /opt/conda/lib/python3.7/site-packages (from tf-agents) (0.10.0)\r\n",
      "Collecting gin-config>=0.3.0\r\n",
      "  Downloading gin_config-0.3.0-py3-none-any.whl (44 kB)\r\n",
      "\u001b[K     |████████████████████████████████| 44 kB 1.3 MB/s \r\n",
      "\u001b[?25hRequirement already satisfied: numpy>=1.13.3 in /opt/conda/lib/python3.7/site-packages (from tf-agents) (1.18.5)\r\n",
      "Requirement already satisfied: six>=1.10.0 in /opt/conda/lib/python3.7/site-packages (from tf-agents) (1.14.0)\r\n",
      "Requirement already satisfied: tensorflow-probability>=0.11.0 in /opt/conda/lib/python3.7/site-packages (from tf-agents) (0.11.1)\r\n",
      "Requirement already satisfied: protobuf>=3.11.3 in /opt/conda/lib/python3.7/site-packages (from tf-agents) (3.13.0)\r\n",
      "Requirement already satisfied: wrapt>=1.11.1 in /opt/conda/lib/python3.7/site-packages (from tf-agents) (1.11.2)\r\n",
      "Requirement already satisfied: cloudpickle==1.3 in /opt/conda/lib/python3.7/site-packages (from tf-agents) (1.3.0)\r\n",
      "Requirement already satisfied: decorator in /opt/conda/lib/python3.7/site-packages (from tensorflow-probability>=0.11.0->tf-agents) (4.4.2)\r\n",
      "Requirement already satisfied: gast>=0.3.2 in /opt/conda/lib/python3.7/site-packages (from tensorflow-probability>=0.11.0->tf-agents) (0.3.3)\r\n",
      "Requirement already satisfied: dm-tree in /opt/conda/lib/python3.7/site-packages (from tensorflow-probability>=0.11.0->tf-agents) (0.1.5)\r\n",
      "Requirement already satisfied: setuptools in /opt/conda/lib/python3.7/site-packages (from protobuf>=3.11.3->tf-agents) (46.1.3.post20200325)\r\n",
      "Installing collected packages: gin-config, tf-agents\r\n",
      "Successfully installed gin-config-0.3.0 tf-agents-0.6.0\r\n"
     ]
    }
   ],
   "source": [
    "!pip install --user tf-agents"
   ]
  },
  {
   "cell_type": "code",
   "execution_count": 2,
   "metadata": {
    "execution": {
     "iopub.execute_input": "2020-11-03T10:54:53.899867Z",
     "iopub.status.busy": "2020-11-03T10:54:53.898985Z",
     "iopub.status.idle": "2020-11-03T10:55:00.915655Z",
     "shell.execute_reply": "2020-11-03T10:55:00.914789Z"
    },
    "papermill": {
     "duration": 7.051842,
     "end_time": "2020-11-03T10:55:00.915794",
     "exception": false,
     "start_time": "2020-11-03T10:54:53.863952",
     "status": "completed"
    },
    "tags": []
   },
   "outputs": [],
   "source": [
    "import tensorflow as tf\n",
    "import numpy as np\n",
    "from tf_agents.environments import py_environment, tf_environment, tf_py_environment, utils, wrappers, suite_gym\n",
    "from tf_agents.specs import array_spec\n",
    "from tf_agents.trajectories import trajectory,time_step as ts\n",
    "\n",
    "from tf_agents.agents.dqn import dqn_agent\n",
    "from tf_agents.networks import q_network\n",
    "from tf_agents.drivers import dynamic_step_driver\n",
    "from tf_agents.metrics import tf_metrics,  py_metrics\n",
    "# from tf_agents import metric_utils\n",
    "from tf_agents.policies import random_tf_policy\n",
    "from tf_agents.replay_buffers import tf_uniform_replay_buffer\n",
    "from tf_agents.utils import common\n",
    "from tf_agents.drivers import py_driver, dynamic_episode_driver\n",
    "from tf_agents.utils import common\n",
    "\n",
    "import matplotlib.pyplot as plt\n"
   ]
  },
  {
   "cell_type": "markdown",
   "metadata": {
    "papermill": {
     "duration": 0.024753,
     "end_time": "2020-11-03T10:55:00.968834",
     "exception": false,
     "start_time": "2020-11-03T10:55:00.944081",
     "status": "completed"
    },
    "tags": []
   },
   "source": [
    "# Functions"
   ]
  },
  {
   "cell_type": "code",
   "execution_count": 3,
   "metadata": {
    "_cell_guid": "79c7e3d0-c299-4dcb-8224-4455121ee9b0",
    "_uuid": "d629ff2d2480ee46fbb7e2d37f6b5fab8052498a",
    "execution": {
     "iopub.execute_input": "2020-11-03T10:55:01.046422Z",
     "iopub.status.busy": "2020-11-03T10:55:01.045609Z",
     "iopub.status.idle": "2020-11-03T10:55:01.049136Z",
     "shell.execute_reply": "2020-11-03T10:55:01.048384Z"
    },
    "papermill": {
     "duration": 0.055229,
     "end_time": "2020-11-03T10:55:01.049264",
     "exception": false,
     "start_time": "2020-11-03T10:55:00.994035",
     "status": "completed"
    },
    "tags": []
   },
   "outputs": [],
   "source": [
    "class GridWorldEnv(py_environment.PyEnvironment):\n",
    "\n",
    "    def __init__(self):\n",
    "        self._action_spec = array_spec.BoundedArraySpec(\n",
    "            shape=(), dtype=np.int32, minimum=0, maximum=3, name='action')\n",
    "        self._observation_spec = array_spec.BoundedArraySpec(\n",
    "            shape=(4,), dtype=np.int32, minimum=[0,0,0,0],maximum=[5,5,5,5], name='observation')\n",
    "        self._state=[0,0,5,5] #represent the (row, col, frow, fcol) of the player and the finish\n",
    "        self._episode_ended = False\n",
    "\n",
    "    def action_spec(self):\n",
    "        return self._action_spec\n",
    "\n",
    "    def observation_spec(self):\n",
    "        return self._observation_spec\n",
    "\n",
    "    def _reset(self):\n",
    "        self._state=[0,0,5,5]\n",
    "        self._episode_ended = False\n",
    "        return ts.restart(np.array(self._state, dtype=np.int32))\n",
    "\n",
    "    def _step(self, action):\n",
    "\n",
    "        if self._episode_ended:\n",
    "            return self.reset()\n",
    "\n",
    "        self.move(action)\n",
    "\n",
    "        if self.game_over():\n",
    "            self._episode_ended = True\n",
    "\n",
    "        if self._episode_ended:\n",
    "            if self.game_over():\n",
    "                reward = 100\n",
    "            else:\n",
    "                reward = 0\n",
    "            return ts.termination(np.array(self._state, dtype=np.int32), reward)\n",
    "        else:\n",
    "            return ts.transition(\n",
    "                np.array(self._state, dtype=np.int32), reward=0, discount=0.9)\n",
    "\n",
    "    def move(self, action):\n",
    "        row, col, frow, fcol = self._state[0],self._state[1],self._state[2],self._state[3]\n",
    "        if action == 0: #down\n",
    "            if row - 1 >= 0:\n",
    "                self._state[0] -= 1\n",
    "        if action == 1: #up\n",
    "            if row + 1 < 6:\n",
    "                self._state[0] += 1\n",
    "        if action == 2: #left\n",
    "            if col - 1 >= 0:\n",
    "                self._state[1] -= 1\n",
    "        if action == 3: #right\n",
    "            if col + 1  < 6:\n",
    "                self._state[1] += 1\n",
    "\n",
    "    def game_over(self):\n",
    "        row, col, frow, fcol = self._state[0],self._state[1],self._state[2],self._state[3]\n",
    "        return row==frow and col==fcol\n",
    "\n"
   ]
  },
  {
   "cell_type": "code",
   "execution_count": 4,
   "metadata": {
    "execution": {
     "iopub.execute_input": "2020-11-03T10:55:01.109085Z",
     "iopub.status.busy": "2020-11-03T10:55:01.108304Z",
     "iopub.status.idle": "2020-11-03T10:55:01.110971Z",
     "shell.execute_reply": "2020-11-03T10:55:01.111520Z"
    },
    "papermill": {
     "duration": 0.037058,
     "end_time": "2020-11-03T10:55:01.111682",
     "exception": false,
     "start_time": "2020-11-03T10:55:01.074624",
     "status": "completed"
    },
    "tags": []
   },
   "outputs": [],
   "source": [
    "def compute_avg_return(environment, policy, num_episodes=10):\n",
    "\n",
    "    total_return = 0.0\n",
    "    for _ in range(num_episodes):\n",
    "\n",
    "        time_step = environment.reset()\n",
    "        episode_return = 0.0\n",
    "\n",
    "        while not time_step.is_last():\n",
    "            action_step = policy.action(time_step)\n",
    "            time_step = environment.step(action_step.action)\n",
    "            episode_return += time_step.reward\n",
    "            total_return += episode_return\n",
    "\n",
    "    avg_return = total_return / num_episodes\n",
    "    return avg_return.numpy()[0]"
   ]
  },
  {
   "cell_type": "code",
   "execution_count": 5,
   "metadata": {
    "execution": {
     "iopub.execute_input": "2020-11-03T10:55:01.170240Z",
     "iopub.status.busy": "2020-11-03T10:55:01.169469Z",
     "iopub.status.idle": "2020-11-03T10:55:01.172040Z",
     "shell.execute_reply": "2020-11-03T10:55:01.172610Z"
    },
    "papermill": {
     "duration": 0.035474,
     "end_time": "2020-11-03T10:55:01.172769",
     "exception": false,
     "start_time": "2020-11-03T10:55:01.137295",
     "status": "completed"
    },
    "tags": []
   },
   "outputs": [],
   "source": [
    "def collect_step(environment, policy):\n",
    "    time_step = environment.current_time_step()\n",
    "    action_step = policy.action(time_step)\n",
    "    next_time_step = environment.step(action_step.action)\n",
    "    traj = trajectory.from_transition(time_step, action_step, next_time_step)\n",
    "\n",
    "    # Add trajectory to the replay buffer\n",
    "    replay_buffer.add_batch(traj)"
   ]
  },
  {
   "cell_type": "markdown",
   "metadata": {
    "papermill": {
     "duration": 0.025171,
     "end_time": "2020-11-03T10:55:01.223638",
     "exception": false,
     "start_time": "2020-11-03T10:55:01.198467",
     "status": "completed"
    },
    "tags": []
   },
   "source": [
    "# Model"
   ]
  },
  {
   "cell_type": "code",
   "execution_count": 6,
   "metadata": {
    "execution": {
     "iopub.execute_input": "2020-11-03T10:55:01.282785Z",
     "iopub.status.busy": "2020-11-03T10:55:01.282053Z",
     "iopub.status.idle": "2020-11-03T10:55:01.285379Z",
     "shell.execute_reply": "2020-11-03T10:55:01.284780Z"
    },
    "papermill": {
     "duration": 0.036012,
     "end_time": "2020-11-03T10:55:01.285509",
     "exception": false,
     "start_time": "2020-11-03T10:55:01.249497",
     "status": "completed"
    },
    "tags": []
   },
   "outputs": [],
   "source": [
    "# parameter settings\n",
    "\n",
    "num_iterations = 10000  # @param\n",
    "\n",
    "initial_collect_steps = 1000  # @param\n",
    "collect_steps_per_iteration = 1  # @param\n",
    "replay_buffer_capacity = 100000  # @param\n",
    "\n",
    "fc_layer_params = (100,)\n",
    "\n",
    "batch_size = 128  # @param\n",
    "learning_rate = 1e-5  # @param\n",
    "log_interval = 200  # @param\n",
    "\n",
    "num_eval_episodes = 2  # @param\n",
    "eval_interval = 1000  # @param"
   ]
  },
  {
   "cell_type": "code",
   "execution_count": 7,
   "metadata": {
    "execution": {
     "iopub.execute_input": "2020-11-03T10:55:01.344694Z",
     "iopub.status.busy": "2020-11-03T10:55:01.343919Z",
     "iopub.status.idle": "2020-11-03T10:55:01.346663Z",
     "shell.execute_reply": "2020-11-03T10:55:01.347204Z"
    },
    "papermill": {
     "duration": 0.036036,
     "end_time": "2020-11-03T10:55:01.347365",
     "exception": false,
     "start_time": "2020-11-03T10:55:01.311329",
     "status": "completed"
    },
    "tags": []
   },
   "outputs": [],
   "source": [
    "train_py_env = wrappers.TimeLimit(GridWorldEnv(), duration=100)\n",
    "eval_py_env = wrappers.TimeLimit(GridWorldEnv(), duration=100)\n",
    "\n"
   ]
  },
  {
   "cell_type": "code",
   "execution_count": 8,
   "metadata": {
    "execution": {
     "iopub.execute_input": "2020-11-03T10:55:01.409910Z",
     "iopub.status.busy": "2020-11-03T10:55:01.408836Z",
     "iopub.status.idle": "2020-11-03T10:55:01.417362Z",
     "shell.execute_reply": "2020-11-03T10:55:01.416606Z"
    },
    "papermill": {
     "duration": 0.044062,
     "end_time": "2020-11-03T10:55:01.417488",
     "exception": false,
     "start_time": "2020-11-03T10:55:01.373426",
     "status": "completed"
    },
    "tags": []
   },
   "outputs": [],
   "source": [
    "train_env = tf_py_environment.TFPyEnvironment(train_py_env)\n",
    "eval_env = tf_py_environment.TFPyEnvironment(eval_py_env)"
   ]
  },
  {
   "cell_type": "code",
   "execution_count": 9,
   "metadata": {
    "execution": {
     "iopub.execute_input": "2020-11-03T10:55:01.477806Z",
     "iopub.status.busy": "2020-11-03T10:55:01.476826Z",
     "iopub.status.idle": "2020-11-03T10:55:01.544487Z",
     "shell.execute_reply": "2020-11-03T10:55:01.543697Z"
    },
    "papermill": {
     "duration": 0.100868,
     "end_time": "2020-11-03T10:55:01.544614",
     "exception": false,
     "start_time": "2020-11-03T10:55:01.443746",
     "status": "completed"
    },
    "tags": []
   },
   "outputs": [],
   "source": [
    "q_net = q_network.QNetwork(\n",
    "        train_env.observation_spec(),\n",
    "        train_env.action_spec(),\n",
    "        fc_layer_params=fc_layer_params)\n",
    "\n",
    "optimizer = tf.compat.v1.train.AdamOptimizer(learning_rate=learning_rate)\n",
    "\n",
    "\n",
    "train_step_counter = tf.compat.v2.Variable(0)\n",
    "\n"
   ]
  },
  {
   "cell_type": "code",
   "execution_count": 10,
   "metadata": {
    "execution": {
     "iopub.execute_input": "2020-11-03T10:55:01.605307Z",
     "iopub.status.busy": "2020-11-03T10:55:01.604450Z",
     "iopub.status.idle": "2020-11-03T10:55:01.689853Z",
     "shell.execute_reply": "2020-11-03T10:55:01.689194Z"
    },
    "papermill": {
     "duration": 0.118679,
     "end_time": "2020-11-03T10:55:01.689980",
     "exception": false,
     "start_time": "2020-11-03T10:55:01.571301",
     "status": "completed"
    },
    "tags": []
   },
   "outputs": [],
   "source": [
    "\n",
    "tf_agent = dqn_agent.DqnAgent(\n",
    "        train_env.time_step_spec(),\n",
    "        train_env.action_spec(),\n",
    "        q_network=q_net,\n",
    "        optimizer=optimizer,\n",
    "        td_errors_loss_fn = common.element_wise_squared_loss,\n",
    "        train_step_counter=train_step_counter)\n",
    "\n",
    "tf_agent.initialize()\n"
   ]
  },
  {
   "cell_type": "code",
   "execution_count": 11,
   "metadata": {
    "execution": {
     "iopub.execute_input": "2020-11-03T10:55:01.748785Z",
     "iopub.status.busy": "2020-11-03T10:55:01.747986Z",
     "iopub.status.idle": "2020-11-03T10:55:01.751152Z",
     "shell.execute_reply": "2020-11-03T10:55:01.750393Z"
    },
    "papermill": {
     "duration": 0.034643,
     "end_time": "2020-11-03T10:55:01.751282",
     "exception": false,
     "start_time": "2020-11-03T10:55:01.716639",
     "status": "completed"
    },
    "tags": []
   },
   "outputs": [],
   "source": [
    "\n",
    "eval_policy = tf_agent.policy\n",
    "collect_policy = tf_agent.collect_policy\n"
   ]
  },
  {
   "cell_type": "code",
   "execution_count": 12,
   "metadata": {
    "execution": {
     "iopub.execute_input": "2020-11-03T10:55:01.813293Z",
     "iopub.status.busy": "2020-11-03T10:55:01.812311Z",
     "iopub.status.idle": "2020-11-03T10:55:01.842227Z",
     "shell.execute_reply": "2020-11-03T10:55:01.841570Z"
    },
    "papermill": {
     "duration": 0.064201,
     "end_time": "2020-11-03T10:55:01.842355",
     "exception": false,
     "start_time": "2020-11-03T10:55:01.778154",
     "status": "completed"
    },
    "tags": []
   },
   "outputs": [
    {
     "name": "stdout",
     "output_type": "stream",
     "text": [
      "Batch Size: 1\n"
     ]
    }
   ],
   "source": [
    "replay_buffer = tf_uniform_replay_buffer.TFUniformReplayBuffer(\n",
    "        data_spec=tf_agent.collect_data_spec,\n",
    "        batch_size=train_env.batch_size,\n",
    "        max_length=replay_buffer_capacity)\n",
    "\n",
    "print(\"Batch Size: {}\".format(train_env.batch_size))\n",
    "\n",
    "replay_observer = [replay_buffer.add_batch]\n",
    "\n",
    "train_metrics = [\n",
    "            tf_metrics.NumberOfEpisodes(),\n",
    "            tf_metrics.EnvironmentSteps(),\n",
    "            tf_metrics.AverageReturnMetric(),\n",
    "            tf_metrics.AverageEpisodeLengthMetric(),\n",
    "]\n"
   ]
  },
  {
   "cell_type": "code",
   "execution_count": 13,
   "metadata": {
    "execution": {
     "iopub.execute_input": "2020-11-03T10:55:01.903399Z",
     "iopub.status.busy": "2020-11-03T10:55:01.902623Z",
     "iopub.status.idle": "2020-11-03T10:55:03.405136Z",
     "shell.execute_reply": "2020-11-03T10:55:03.404461Z"
    },
    "papermill": {
     "duration": 1.535752,
     "end_time": "2020-11-03T10:55:03.405271",
     "exception": false,
     "start_time": "2020-11-03T10:55:01.869519",
     "status": "completed"
    },
    "tags": []
   },
   "outputs": [],
   "source": [
    "dataset = replay_buffer.as_dataset(\n",
    "            num_parallel_calls=3,\n",
    "            sample_batch_size=batch_size,\n",
    "    num_steps=2).prefetch(3)"
   ]
  },
  {
   "cell_type": "code",
   "execution_count": 14,
   "metadata": {
    "execution": {
     "iopub.execute_input": "2020-11-03T10:55:03.467553Z",
     "iopub.status.busy": "2020-11-03T10:55:03.466742Z",
     "iopub.status.idle": "2020-11-03T10:55:03.603688Z",
     "shell.execute_reply": "2020-11-03T10:55:03.602805Z"
    },
    "papermill": {
     "duration": 0.170939,
     "end_time": "2020-11-03T10:55:03.603830",
     "exception": false,
     "start_time": "2020-11-03T10:55:03.432891",
     "status": "completed"
    },
    "tags": []
   },
   "outputs": [],
   "source": [
    "driver = dynamic_step_driver.DynamicStepDriver(\n",
    "            train_env,\n",
    "            collect_policy,\n",
    "            observers=replay_observer + train_metrics,\n",
    "    num_steps=1)\n",
    "\n",
    "iterator = iter(dataset)"
   ]
  },
  {
   "cell_type": "code",
   "execution_count": 15,
   "metadata": {
    "execution": {
     "iopub.execute_input": "2020-11-03T10:55:03.669586Z",
     "iopub.status.busy": "2020-11-03T10:55:03.668722Z",
     "iopub.status.idle": "2020-11-03T10:55:16.033520Z",
     "shell.execute_reply": "2020-11-03T10:55:16.032708Z"
    },
    "papermill": {
     "duration": 12.40114,
     "end_time": "2020-11-03T10:55:16.033650",
     "exception": false,
     "start_time": "2020-11-03T10:55:03.632510",
     "status": "completed"
    },
    "tags": []
   },
   "outputs": [
    {
     "name": "stdout",
     "output_type": "stream",
     "text": [
      "0.0\n"
     ]
    }
   ],
   "source": [
    "print(compute_avg_return(eval_env, tf_agent.policy, num_eval_episodes))\n",
    "\n",
    "tf_agent.train = common.function(tf_agent.train)\n",
    "tf_agent.train_step_counter.assign(0)\n",
    "\n",
    "final_time_step, policy_state = driver.run()\n",
    "\n",
    "for i in range(1000):\n",
    "    final_time_step, _ = driver.run(final_time_step, policy_state)\n"
   ]
  },
  {
   "cell_type": "code",
   "execution_count": 16,
   "metadata": {
    "execution": {
     "iopub.execute_input": "2020-11-03T10:55:16.102687Z",
     "iopub.status.busy": "2020-11-03T10:55:16.101886Z",
     "iopub.status.idle": "2020-11-03T10:57:30.166632Z",
     "shell.execute_reply": "2020-11-03T10:57:30.165598Z"
    },
    "papermill": {
     "duration": 134.104846,
     "end_time": "2020-11-03T10:57:30.166794",
     "exception": false,
     "start_time": "2020-11-03T10:55:16.061948",
     "status": "completed"
    },
    "tags": []
   },
   "outputs": [
    {
     "name": "stdout",
     "output_type": "stream",
     "text": [
      "step = 200: loss = 0.27092617750167847\n",
      "Average episode length: 96.5999984741211\n",
      "step = 400: loss = 0.08925052732229233\n",
      "Average episode length: 96.5999984741211\n",
      "step = 600: loss = 0.04888586699962616\n",
      "Average episode length: 96.5999984741211\n",
      "step = 800: loss = 0.04527277499437332\n",
      "Average episode length: 96.5999984741211\n",
      "step = 1000: loss = 0.04451741278171539\n",
      "Average episode length: 97.5999984741211\n",
      "step = 1000: Average Return = 0.0\n",
      "step = 1200: loss = 0.02019939199090004\n",
      "Average episode length: 97.5999984741211\n",
      "step = 1400: loss = 0.02462056837975979\n",
      "Average episode length: 97.5999984741211\n",
      "step = 1600: loss = 0.013112186454236507\n",
      "Average episode length: 97.5999984741211\n",
      "step = 1800: loss = 0.004257255233824253\n",
      "Average episode length: 97.5999984741211\n",
      "step = 2000: loss = 78.85380554199219\n",
      "Average episode length: 100.0\n",
      "step = 2000: Average Return = 0.0\n",
      "step = 2200: loss = 0.010012316517531872\n",
      "Average episode length: 100.0\n",
      "step = 2400: loss = 0.009675763547420502\n",
      "Average episode length: 100.0\n",
      "step = 2600: loss = 0.00445540901273489\n",
      "Average episode length: 100.0\n",
      "step = 2800: loss = 0.0006154756410978734\n",
      "Average episode length: 100.0\n",
      "step = 3000: loss = 0.0006071663810871542\n",
      "Average episode length: 100.0\n",
      "step = 3000: Average Return = 0.0\n",
      "step = 3200: loss = 0.00048768744454719126\n",
      "Average episode length: 100.0\n",
      "step = 3400: loss = 0.0008040713728405535\n",
      "Average episode length: 100.0\n",
      "step = 3600: loss = 0.0011219604639336467\n",
      "Average episode length: 15.5\n",
      "step = 3800: loss = 0.0015959730371832848\n",
      "Average episode length: 21.100000381469727\n",
      "step = 4000: loss = 0.00331686669960618\n",
      "Average episode length: 15.0\n",
      "step = 4000: Average Return = 0.0\n",
      "step = 4200: loss = 0.004921638406813145\n",
      "Average episode length: 28.5\n",
      "step = 4400: loss = 0.006217632908374071\n",
      "Average episode length: 42.79999923706055\n",
      "step = 4600: loss = 0.013434585183858871\n",
      "Average episode length: 47.5\n",
      "step = 4800: loss = 72.96858978271484\n",
      "Average episode length: 21.600000381469727\n",
      "step = 5000: loss = 0.019927656278014183\n",
      "Average episode length: 35.79999923706055\n",
      "step = 5000: Average Return = 0.0\n",
      "step = 5200: loss = 287.6135559082031\n",
      "Average episode length: 10.600000381469727\n",
      "step = 5400: loss = 71.3343734741211\n",
      "Average episode length: 10.899999618530273\n",
      "step = 5600: loss = 70.38380432128906\n",
      "Average episode length: 16.700000762939453\n",
      "step = 5800: loss = 139.31442260742188\n",
      "Average episode length: 13.0\n",
      "step = 6000: loss = 275.22509765625\n",
      "Average episode length: 12.0\n",
      "step = 6000: Average Return = 100.0\n",
      "step = 6200: loss = 0.06812063604593277\n",
      "Average episode length: 10.300000190734863\n",
      "step = 6400: loss = 134.13427734375\n",
      "Average episode length: 11.300000190734863\n",
      "step = 6600: loss = 198.64151000976562\n",
      "Average episode length: 10.300000190734863\n",
      "step = 6800: loss = 195.831298828125\n",
      "Average episode length: 10.600000381469727\n",
      "step = 7000: loss = 192.66615295410156\n",
      "Average episode length: 10.399999618530273\n",
      "step = 7000: Average Return = 100.0\n",
      "step = 7200: loss = 316.92718505859375\n",
      "Average episode length: 11.199999809265137\n",
      "step = 7400: loss = 312.76080322265625\n",
      "Average episode length: 11.5\n",
      "step = 7600: loss = 307.5213317871094\n",
      "Average episode length: 10.199999809265137\n",
      "step = 7800: loss = 303.2580871582031\n",
      "Average episode length: 10.800000190734863\n",
      "step = 8000: loss = 59.68406295776367\n",
      "Average episode length: 10.300000190734863\n",
      "step = 8000: Average Return = 100.0\n",
      "step = 8200: loss = 294.6773376464844\n",
      "Average episode length: 10.800000190734863\n",
      "step = 8400: loss = 115.95023345947266\n",
      "Average episode length: 11.300000190734863\n",
      "step = 8600: loss = 114.30360412597656\n",
      "Average episode length: 10.399999618530273\n",
      "step = 8800: loss = 224.2491455078125\n",
      "Average episode length: 10.300000190734863\n",
      "step = 9000: loss = 275.708984375\n",
      "Average episode length: 12.300000190734863\n",
      "step = 9000: Average Return = 100.0\n",
      "step = 9200: loss = 272.62353515625\n",
      "Average episode length: 10.600000381469727\n",
      "step = 9400: loss = 106.75830078125\n",
      "Average episode length: 11.600000381469727\n",
      "step = 9600: loss = 472.19989013671875\n",
      "Average episode length: 10.5\n",
      "step = 9800: loss = 258.9896545410156\n",
      "Average episode length: 10.100000381469727\n",
      "step = 10000: loss = 153.01318359375\n",
      "Average episode length: 10.300000190734863\n",
      "step = 10000: Average Return = 100.0\n"
     ]
    }
   ],
   "source": [
    "episode_len = []\n",
    "step_len = []\n",
    "for i in range(num_iterations):\n",
    "    final_time_step, _ = driver.run(final_time_step, policy_state)\n",
    "\n",
    "    experience, _ = next(iterator)\n",
    "    train_loss = tf_agent.train(experience=experience)\n",
    "    step = tf_agent.train_step_counter.numpy()\n",
    "\n",
    "    if step % log_interval == 0:\n",
    "        print('step = {0}: loss = {1}'.format(step, train_loss.loss))\n",
    "        episode_len.append(train_metrics[3].result().numpy())\n",
    "        step_len.append(step)\n",
    "        print('Average episode length: {}'.format(train_metrics[3].result().numpy()))\n",
    "\n",
    "    if step % eval_interval == 0:\n",
    "        avg_return = compute_avg_return(eval_env, tf_agent.policy, num_eval_episodes)\n",
    "        print('step = {0}: Average Return = {1}'.format(step, avg_return))"
   ]
  },
  {
   "cell_type": "code",
   "execution_count": 17,
   "metadata": {
    "execution": {
     "iopub.execute_input": "2020-11-03T10:57:30.274369Z",
     "iopub.status.busy": "2020-11-03T10:57:30.273585Z",
     "iopub.status.idle": "2020-11-03T10:57:30.475088Z",
     "shell.execute_reply": "2020-11-03T10:57:30.475692Z"
    },
    "papermill": {
     "duration": 0.258356,
     "end_time": "2020-11-03T10:57:30.475850",
     "exception": false,
     "start_time": "2020-11-03T10:57:30.217494",
     "status": "completed"
    },
    "tags": []
   },
   "outputs": [
    {
     "data": {
      "image/png": "[encoded data removed]",
      "text/plain": [
       "<Figure size 432x288 with 1 Axes>"
      ]
     },
     "metadata": {
      "needs_background": "light"
     },
     "output_type": "display_data"
    }
   ],
   "source": [
    "plt.plot(step_len, episode_len)\n",
    "plt.xlabel('Episodes')\n",
    "plt.ylabel('Average Episode Length (Steps)')\n",
    "plt.show()"
   ]
  }
 ],
 "metadata": {
  "kernelspec": {
   "display_name": "Python 3",
   "language": "python",
   "name": "python3"
  },
  "language_info": {
   "codemirror_mode": {
    "name": "ipython",
    "version": 3
   },
   "file_extension": ".py",
   "mimetype": "text/x-python",
   "name": "python",
   "nbconvert_exporter": "python",
   "pygments_lexer": "ipython3",
   "version": "3.7.6"
  },
  "papermill": {
   "duration": 173.542855,
   "end_time": "2020-11-03T10:57:30.636382",
   "environment_variables": {},
   "exception": null,
   "input_path": "__notebook__.ipynb",
   "output_path": "__notebook__.ipynb",
   "parameters": {},
   "start_time": "2020-11-03T10:54:37.093527",
   "version": "2.1.0"
  }
 },
 "nbformat": 4,
 "nbformat_minor": 4
}
