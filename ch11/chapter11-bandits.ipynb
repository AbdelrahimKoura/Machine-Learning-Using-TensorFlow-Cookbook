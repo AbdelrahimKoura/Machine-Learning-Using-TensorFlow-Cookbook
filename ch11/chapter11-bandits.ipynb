{
 "cells": [
  {
   "cell_type": "code",
   "execution_count": 1,
   "metadata": {
    "execution": {
     "iopub.execute_input": "2020-11-16T00:47:38.283794Z",
     "iopub.status.busy": "2020-11-16T00:47:38.283197Z",
     "iopub.status.idle": "2020-11-16T00:47:49.223263Z",
     "shell.execute_reply": "2020-11-16T00:47:49.222617Z"
    },
    "id": "KEHR2Ui-lo8O",
    "papermill": {
     "duration": 10.957996,
     "end_time": "2020-11-16T00:47:49.223409",
     "exception": false,
     "start_time": "2020-11-16T00:47:38.265413",
     "status": "completed"
    },
    "tags": []
   },
   "outputs": [
    {
     "name": "stdout",
     "output_type": "stream",
     "text": [
      "Collecting tf-agents\r\n",
      "  Downloading tf_agents-0.6.0-py3-none-any.whl (1.1 MB)\r\n",
      "\u001b[K     |████████████████████████████████| 1.1 MB 912 kB/s \r\n",
      "\u001b[?25hRequirement already satisfied: absl-py>=0.6.1 in /opt/conda/lib/python3.7/site-packages (from tf-agents) (0.11.0)\r\n",
      "Requirement already satisfied: numpy>=1.13.3 in /opt/conda/lib/python3.7/site-packages (from tf-agents) (1.18.5)\r\n",
      "Requirement already satisfied: protobuf>=3.11.3 in /opt/conda/lib/python3.7/site-packages (from tf-agents) (3.13.0)\r\n",
      "Requirement already satisfied: cloudpickle==1.3 in /opt/conda/lib/python3.7/site-packages (from tf-agents) (1.3.0)\r\n",
      "Collecting gin-config>=0.3.0\r\n",
      "  Downloading gin_config-0.3.0-py3-none-any.whl (44 kB)\r\n",
      "\u001b[K     |████████████████████████████████| 44 kB 1.2 MB/s \r\n",
      "\u001b[?25hRequirement already satisfied: six>=1.10.0 in /opt/conda/lib/python3.7/site-packages (from tf-agents) (1.14.0)\r\n",
      "Requirement already satisfied: wrapt>=1.11.1 in /opt/conda/lib/python3.7/site-packages (from tf-agents) (1.11.2)\r\n",
      "Requirement already satisfied: tensorflow-probability>=0.11.0 in /opt/conda/lib/python3.7/site-packages (from tf-agents) (0.11.1)\r\n",
      "Requirement already satisfied: setuptools in /opt/conda/lib/python3.7/site-packages (from protobuf>=3.11.3->tf-agents) (46.1.3.post20200325)\r\n",
      "Requirement already satisfied: decorator in /opt/conda/lib/python3.7/site-packages (from tensorflow-probability>=0.11.0->tf-agents) (4.4.2)\r\n",
      "Requirement already satisfied: dm-tree in /opt/conda/lib/python3.7/site-packages (from tensorflow-probability>=0.11.0->tf-agents) (0.1.5)\r\n",
      "Requirement already satisfied: gast>=0.3.2 in /opt/conda/lib/python3.7/site-packages (from tensorflow-probability>=0.11.0->tf-agents) (0.3.3)\r\n",
      "Installing collected packages: gin-config, tf-agents\r\n",
      "Successfully installed gin-config-0.3.0 tf-agents-0.6.0\r\n"
     ]
    }
   ],
   "source": [
    "!pip install tf-agents"
   ]
  },
  {
   "cell_type": "code",
   "execution_count": 2,
   "metadata": {
    "execution": {
     "iopub.execute_input": "2020-11-16T00:47:49.265630Z",
     "iopub.status.busy": "2020-11-16T00:47:49.264894Z",
     "iopub.status.idle": "2020-11-16T00:47:56.573407Z",
     "shell.execute_reply": "2020-11-16T00:47:56.572512Z"
    },
    "id": "3oCS94Z83Jo2",
    "papermill": {
     "duration": 7.333144,
     "end_time": "2020-11-16T00:47:56.573609",
     "exception": false,
     "start_time": "2020-11-16T00:47:49.240465",
     "status": "completed"
    },
    "tags": []
   },
   "outputs": [],
   "source": [
    "import abc\n",
    "import numpy as np\n",
    "import tensorflow as tf\n",
    "\n",
    "from tf_agents.agents import tf_agent\n",
    "from tf_agents.drivers import driver\n",
    "from tf_agents.environments import py_environment\n",
    "from tf_agents.environments import tf_environment\n",
    "from tf_agents.environments import tf_py_environment\n",
    "from tf_agents.policies import tf_policy\n",
    "from tf_agents.specs import array_spec\n",
    "from tf_agents.specs import tensor_spec\n",
    "from tf_agents.trajectories import time_step as ts\n",
    "from tf_agents.trajectories import trajectory\n",
    "from tf_agents.trajectories import policy_step\n",
    "tf.compat.v1.reset_default_graph()\n",
    "tf.compat.v1.enable_resource_variables()\n",
    "tf.compat.v1.enable_v2_behavior()\n",
    "nest = tf.compat.v2.nest\n",
    "\n",
    "from tf_agents.bandits.agents import lin_ucb_agent\n",
    "from tf_agents.bandits.environments import stationary_stochastic_py_environment as sspe\n",
    "from tf_agents.bandits.metrics import tf_metrics\n",
    "from tf_agents.drivers import dynamic_step_driver\n",
    "from tf_agents.replay_buffers import tf_uniform_replay_buffer\n",
    "\n",
    "import matplotlib.pyplot as plt"
   ]
  },
  {
   "cell_type": "code",
   "execution_count": 3,
   "metadata": {
    "execution": {
     "iopub.execute_input": "2020-11-16T00:47:56.618995Z",
     "iopub.status.busy": "2020-11-16T00:47:56.618047Z",
     "iopub.status.idle": "2020-11-16T00:47:56.621388Z",
     "shell.execute_reply": "2020-11-16T00:47:56.620751Z"
    },
    "papermill": {
     "duration": 0.023685,
     "end_time": "2020-11-16T00:47:56.621497",
     "exception": false,
     "start_time": "2020-11-16T00:47:56.597812",
     "status": "completed"
    },
    "tags": []
   },
   "outputs": [],
   "source": [
    "# settings\n",
    "\n",
    "batch_size = 2"
   ]
  },
  {
   "cell_type": "markdown",
   "metadata": {
    "papermill": {
     "duration": 0.015765,
     "end_time": "2020-11-16T00:47:56.653321",
     "exception": false,
     "start_time": "2020-11-16T00:47:56.637556",
     "status": "completed"
    },
    "tags": []
   },
   "source": [
    "# Functions"
   ]
  },
  {
   "cell_type": "code",
   "execution_count": 4,
   "metadata": {
    "execution": {
     "iopub.execute_input": "2020-11-16T00:47:56.692107Z",
     "iopub.status.busy": "2020-11-16T00:47:56.691241Z",
     "iopub.status.idle": "2020-11-16T00:47:56.694270Z",
     "shell.execute_reply": "2020-11-16T00:47:56.693752Z"
    },
    "papermill": {
     "duration": 0.024473,
     "end_time": "2020-11-16T00:47:56.694387",
     "exception": false,
     "start_time": "2020-11-16T00:47:56.669914",
     "status": "completed"
    },
    "tags": []
   },
   "outputs": [],
   "source": [
    "batch_size = 5 # @param\n",
    "\n",
    "\n",
    "def context_sampling_fn(batch_size):\n",
    "\n",
    "  def _context_sampling_fn():\n",
    "    return np.random.randint(0, 2, [batch_size, 2]).astype(np.float32)\n",
    "  return _context_sampling_fn"
   ]
  },
  {
   "cell_type": "code",
   "execution_count": 5,
   "metadata": {
    "execution": {
     "iopub.execute_input": "2020-11-16T00:47:56.733721Z",
     "iopub.status.busy": "2020-11-16T00:47:56.732968Z",
     "iopub.status.idle": "2020-11-16T00:47:56.735888Z",
     "shell.execute_reply": "2020-11-16T00:47:56.735386Z"
    },
    "id": "oEnXUwd-nZKl",
    "papermill": {
     "duration": 0.02541,
     "end_time": "2020-11-16T00:47:56.735994",
     "exception": false,
     "start_time": "2020-11-16T00:47:56.710584",
     "status": "completed"
    },
    "tags": []
   },
   "outputs": [],
   "source": [
    "class CalculateReward(object):\n",
    "    \n",
    "    \"\"\"A class that acts as linear reward function when called.\"\"\"\n",
    "    def __init__(self, theta, sigma):\n",
    "        self.theta = theta\n",
    "        self.sigma = sigma\n",
    "    def __call__(self, x):\n",
    "        mu = np.dot(x, self.theta)\n",
    "        #return np.random.normal(mu, self.sigma)\n",
    "        return (mu > 0) + 0\n"
   ]
  },
  {
   "cell_type": "code",
   "execution_count": 6,
   "metadata": {
    "execution": {
     "iopub.execute_input": "2020-11-16T00:47:56.775873Z",
     "iopub.status.busy": "2020-11-16T00:47:56.774928Z",
     "iopub.status.idle": "2020-11-16T00:47:56.778406Z",
     "shell.execute_reply": "2020-11-16T00:47:56.777716Z"
    },
    "papermill": {
     "duration": 0.025987,
     "end_time": "2020-11-16T00:47:56.778521",
     "exception": false,
     "start_time": "2020-11-16T00:47:56.752534",
     "status": "completed"
    },
    "tags": []
   },
   "outputs": [],
   "source": [
    "arm0_param = [2, -1]\n",
    "arm1_param = [1, -1] \n",
    "arm2_param = [-1, 1] \n",
    "arm3_param = [ 0, 0] \n",
    "\n",
    "\n",
    "arm0_reward_fn = CalculateReward(arm0_param, 1)\n",
    "arm1_reward_fn = CalculateReward(arm1_param, 1)\n",
    "arm2_reward_fn = CalculateReward(arm2_param, 1)\n",
    "arm3_reward_fn = CalculateReward(arm3_param, 1)\n"
   ]
  },
  {
   "cell_type": "code",
   "execution_count": 7,
   "metadata": {
    "execution": {
     "iopub.execute_input": "2020-11-16T00:47:56.818920Z",
     "iopub.status.busy": "2020-11-16T00:47:56.817934Z",
     "iopub.status.idle": "2020-11-16T00:47:56.820872Z",
     "shell.execute_reply": "2020-11-16T00:47:56.820286Z"
    },
    "papermill": {
     "duration": 0.026022,
     "end_time": "2020-11-16T00:47:56.820977",
     "exception": false,
     "start_time": "2020-11-16T00:47:56.794955",
     "status": "completed"
    },
    "tags": []
   },
   "outputs": [],
   "source": [
    "def compute_optimal_reward(observation):\n",
    "    expected_reward_for_arms = [\n",
    "      tf.linalg.matvec(observation, tf.cast(arm0_param, dtype=tf.float32)),\n",
    "      tf.linalg.matvec(observation, tf.cast(arm1_param, dtype=tf.float32)),\n",
    "      tf.linalg.matvec(observation, tf.cast(arm2_param, dtype=tf.float32)),\n",
    "      tf.linalg.matvec(observation, tf.cast(arm3_param, dtype=tf.float32))\n",
    "    ]\n",
    "    optimal_action_reward = tf.reduce_max(expected_reward_for_arms, axis=0)\n",
    "    \n",
    "    return optimal_action_reward"
   ]
  },
  {
   "cell_type": "markdown",
   "metadata": {
    "id": "37oy70dUmmie",
    "papermill": {
     "duration": 0.016174,
     "end_time": "2020-11-16T00:47:56.853688",
     "exception": false,
     "start_time": "2020-11-16T00:47:56.837514",
     "status": "completed"
    },
    "tags": []
   },
   "source": [
    "## Stationary Stochastic Environment with Linear Payoff Functions"
   ]
  },
  {
   "cell_type": "markdown",
   "metadata": {
    "id": "euPPd8x1m7iG",
    "papermill": {
     "duration": 0.016268,
     "end_time": "2020-11-16T00:47:56.886494",
     "exception": false,
     "start_time": "2020-11-16T00:47:56.870226",
     "status": "completed"
    },
    "tags": []
   },
   "source": [
    "The environment used in this example is the [StationaryStochasticPyEnvironment](https://github.com/tensorflow/agents/blob/master/tf_agents/bandits/environments/stationary_stochastic_py_environment.py). This environment takes as parameter a (usually noisy) function for giving observations (context), and for every arm takes an (also noisy) function that computes the reward based on the given observation. In our example, we sample the context uniformly from a d-dimensional cube, and the reward functions are linear functions of the context, plus some Gaussian noise."
   ]
  },
  {
   "cell_type": "code",
   "execution_count": 8,
   "metadata": {
    "execution": {
     "iopub.execute_input": "2020-11-16T00:47:56.926509Z",
     "iopub.status.busy": "2020-11-16T00:47:56.925782Z",
     "iopub.status.idle": "2020-11-16T00:47:56.934361Z",
     "shell.execute_reply": "2020-11-16T00:47:56.933703Z"
    },
    "id": "gVa0hmQrpe6w",
    "papermill": {
     "duration": 0.031226,
     "end_time": "2020-11-16T00:47:56.934474",
     "exception": false,
     "start_time": "2020-11-16T00:47:56.903248",
     "status": "completed"
    },
    "tags": []
   },
   "outputs": [],
   "source": [
    "\n",
    "environment = tf_py_environment.TFPyEnvironment(\n",
    "    sspe.StationaryStochasticPyEnvironment(\n",
    "        context_sampling_fn(batch_size),\n",
    "        [arm0_reward_fn, arm1_reward_fn, arm2_reward_fn, arm3_reward_fn],\n",
    "        batch_size=batch_size))\n"
   ]
  },
  {
   "cell_type": "markdown",
   "metadata": {
    "id": "haID-SPgsLyY",
    "papermill": {
     "duration": 0.016571,
     "end_time": "2020-11-16T00:47:56.967877",
     "exception": false,
     "start_time": "2020-11-16T00:47:56.951306",
     "status": "completed"
    },
    "tags": []
   },
   "source": [
    "## The LinUCB Agent"
   ]
  },
  {
   "cell_type": "markdown",
   "metadata": {
    "id": "298-1Q0bsQmR",
    "papermill": {
     "duration": 0.016397,
     "end_time": "2020-11-16T00:47:57.000957",
     "exception": false,
     "start_time": "2020-11-16T00:47:56.984560",
     "status": "completed"
    },
    "tags": []
   },
   "source": [
    "The agent below implements the [LinUCB](http://rob.schapire.net/papers/www10.pdf) algorithm."
   ]
  },
  {
   "cell_type": "code",
   "execution_count": 9,
   "metadata": {
    "execution": {
     "iopub.execute_input": "2020-11-16T00:47:57.045513Z",
     "iopub.status.busy": "2020-11-16T00:47:57.044787Z",
     "iopub.status.idle": "2020-11-16T00:47:57.130749Z",
     "shell.execute_reply": "2020-11-16T00:47:57.130037Z"
    },
    "id": "p4XmGgIusj-K",
    "papermill": {
     "duration": 0.112294,
     "end_time": "2020-11-16T00:47:57.130871",
     "exception": false,
     "start_time": "2020-11-16T00:47:57.018577",
     "status": "completed"
    },
    "tags": []
   },
   "outputs": [],
   "source": [
    "observation_spec = tensor_spec.TensorSpec([2], tf.float32)\n",
    "time_step_spec = ts.time_step_spec(observation_spec)\n",
    "action_spec = tensor_spec.BoundedTensorSpec(\n",
    "    dtype=tf.int32, shape=(), minimum=0, maximum=2)\n",
    "\n",
    "agent = lin_ucb_agent.LinearUCBAgent(time_step_spec=time_step_spec,\n",
    "                                     action_spec=action_spec)"
   ]
  },
  {
   "cell_type": "markdown",
   "metadata": {
    "id": "Eua_aC7Rt78G",
    "papermill": {
     "duration": 0.017025,
     "end_time": "2020-11-16T00:47:57.164980",
     "exception": false,
     "start_time": "2020-11-16T00:47:57.147955",
     "status": "completed"
    },
    "tags": []
   },
   "source": [
    "## Regret Metric"
   ]
  },
  {
   "cell_type": "markdown",
   "metadata": {
    "id": "FBJDiJvEt-xC",
    "papermill": {
     "duration": 0.017006,
     "end_time": "2020-11-16T00:47:57.199369",
     "exception": false,
     "start_time": "2020-11-16T00:47:57.182363",
     "status": "completed"
    },
    "tags": []
   },
   "source": [
    "Bandits' most important metric is *regret*, calculated as the difference between the reward collected by the agent and the expected reward of an oracle policy that has access to the reward functions of the environment. The [RegretMetric](https://github.com/tensorflow/agents/blob/master/tf_agents/bandits/metrics/tf_metrics.py) thus needs a *baseline_reward_fn* function that calculates the best achievable expected reward given an observation. For our example, we need to take the maximum of the no-noise equivalents of the reward functions that we already defined for the environment."
   ]
  },
  {
   "cell_type": "code",
   "execution_count": 10,
   "metadata": {
    "execution": {
     "iopub.execute_input": "2020-11-16T00:47:57.239540Z",
     "iopub.status.busy": "2020-11-16T00:47:57.238843Z",
     "iopub.status.idle": "2020-11-16T00:47:57.242814Z",
     "shell.execute_reply": "2020-11-16T00:47:57.242179Z"
    },
    "id": "cX7MiFhNu3_L",
    "papermill": {
     "duration": 0.026436,
     "end_time": "2020-11-16T00:47:57.242923",
     "exception": false,
     "start_time": "2020-11-16T00:47:57.216487",
     "status": "completed"
    },
    "tags": []
   },
   "outputs": [],
   "source": [
    "regret_metric = tf_metrics.RegretMetric(compute_optimal_reward)"
   ]
  },
  {
   "cell_type": "markdown",
   "metadata": {
    "id": "YRWz-Qeb13JC",
    "papermill": {
     "duration": 0.016739,
     "end_time": "2020-11-16T00:47:57.276770",
     "exception": false,
     "start_time": "2020-11-16T00:47:57.260031",
     "status": "completed"
    },
    "tags": []
   },
   "source": [
    "## Training"
   ]
  },
  {
   "cell_type": "markdown",
   "metadata": {
    "id": "khdKjTs516Pg",
    "papermill": {
     "duration": 0.020541,
     "end_time": "2020-11-16T00:47:57.322447",
     "exception": false,
     "start_time": "2020-11-16T00:47:57.301906",
     "status": "completed"
    },
    "tags": []
   },
   "source": [
    "Now we put together all the components that we introduced above: the environment, the policy, and the agent. We run the policy on the environment and output training data with the help of a *driver*, and train the agent on the data.\n",
    "\n",
    "Note that there are two parameters that together specify the number of steps taken. `num_iterations` specifies how many times we run the trainer loop, while the driver will take `steps_per_loop` steps per iteration. The main reason behind keeping both of these parameters is that some operations are done per iteration, while some are done by the driver in every step. For example, the agent's `train` function is only called once per iteration. The trade-off here is that if we train more often then our policy is \"fresher\", on the other hand, training in bigger batches might be more time efficient."
   ]
  },
  {
   "cell_type": "code",
   "execution_count": 11,
   "metadata": {
    "execution": {
     "iopub.execute_input": "2020-11-16T00:47:57.365119Z",
     "iopub.status.busy": "2020-11-16T00:47:57.364453Z",
     "iopub.status.idle": "2020-11-16T00:47:59.752036Z",
     "shell.execute_reply": "2020-11-16T00:47:59.752822Z"
    },
    "id": "4Ggn45g62DWx",
    "papermill": {
     "duration": 2.413599,
     "end_time": "2020-11-16T00:47:59.752983",
     "exception": false,
     "start_time": "2020-11-16T00:47:57.339384",
     "status": "completed"
    },
    "tags": []
   },
   "outputs": [
    {
     "data": {
      "text/plain": [
       "Text(0.5, 0, 'Number of Iterations')"
      ]
     },
     "execution_count": 11,
     "metadata": {},
     "output_type": "execute_result"
    },
    {
     "data": {
      "image/png": "[encoded data removed]",
      "text/plain": [
       "<Figure size 432x288 with 1 Axes>"
      ]
     },
     "metadata": {
      "needs_background": "light"
     },
     "output_type": "display_data"
    }
   ],
   "source": [
    "num_iterations = 100 # @param\n",
    "steps_per_loop = 1 # @param\n",
    "\n",
    "replay_buffer = tf_uniform_replay_buffer.TFUniformReplayBuffer(\n",
    "    data_spec=agent.policy.trajectory_spec,\n",
    "    batch_size=batch_size,\n",
    "    max_length=steps_per_loop)\n",
    "\n",
    "observers = [replay_buffer.add_batch, regret_metric]\n",
    "\n",
    "driver = dynamic_step_driver.DynamicStepDriver(\n",
    "    env=environment,\n",
    "    policy=agent.collect_policy,\n",
    "    num_steps=steps_per_loop * batch_size,\n",
    "    observers=observers)\n",
    "\n",
    "regret_values = []\n",
    "\n",
    "for _ in range(num_iterations):\n",
    "    driver.run()\n",
    "    loss_info = agent.train(replay_buffer.gather_all())\n",
    "    replay_buffer.clear()\n",
    "    regret_values.append(regret_metric.result())\n",
    "\n",
    "plt.plot(regret_values)\n",
    "plt.ylabel('Average Regret')\n",
    "plt.xlabel('Number of Iterations')"
   ]
  }
 ],
 "metadata": {
  "kernelspec": {
   "display_name": "Python 3",
   "language": "python",
   "name": "python3"
  },
  "language_info": {
   "codemirror_mode": {
    "name": "ipython",
    "version": 3
   },
   "file_extension": ".py",
   "mimetype": "text/x-python",
   "name": "python",
   "nbconvert_exporter": "python",
   "pygments_lexer": "ipython3",
   "version": "3.7.6"
  },
  "papermill": {
   "duration": 26.140155,
   "end_time": "2020-11-16T00:47:59.883943",
   "environment_variables": {},
   "exception": null,
   "input_path": "__notebook__.ipynb",
   "output_path": "__notebook__.ipynb",
   "parameters": {},
   "start_time": "2020-11-16T00:47:33.743788",
   "version": "2.1.0"
  }
 },
 "nbformat": 4,
 "nbformat_minor": 4
}
