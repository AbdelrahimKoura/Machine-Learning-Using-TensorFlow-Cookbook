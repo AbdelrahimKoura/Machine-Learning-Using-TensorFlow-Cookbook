{
 "cells": [
  {
   "cell_type": "markdown",
   "metadata": {},
   "source": [
    "# The TensorFlow way"
   ]
  },
  {
   "cell_type": "code",
   "execution_count": 1,
   "metadata": {},
   "outputs": [
    {
     "name": "stdout",
     "output_type": "stream",
     "text": [
      "2.1.0\n"
     ]
    }
   ],
   "source": [
    "import tensorflow as tf\n",
    "print(tf.__version__)"
   ]
  },
  {
   "cell_type": "markdown",
   "metadata": {},
   "source": [
    "## Recipe 1: Operations in a computational graph"
   ]
  },
  {
   "cell_type": "code",
   "execution_count": 2,
   "metadata": {},
   "outputs": [
    {
     "name": "stdout",
     "output_type": "stream",
     "text": [
      "3.0\n",
      "9.0\n",
      "15.0\n",
      "21.0\n",
      "27.0\n"
     ]
    }
   ],
   "source": [
    "import numpy as np \n",
    "x_vals = np.array([1., 3., 5., 7., 9.])\n",
    "x_data = tf.Variable(x_vals, dtype=tf.float32)\n",
    "m_const = tf.constant(3.)\n",
    "operation = tf.multiply(x_data, m_const)\n",
    "for result in operation:\n",
    "    print(result.numpy())"
   ]
  },
  {
   "cell_type": "markdown",
   "metadata": {},
   "source": [
    "## Recipe 2: Layering nested operations"
   ]
  },
  {
   "cell_type": "code",
   "execution_count": 3,
   "metadata": {},
   "outputs": [],
   "source": [
    "import numpy as np \n",
    "my_array = np.array([[1., 3., 5., 7., 9.], \n",
    "                     [-2., 0., 2., 4., 6.], \n",
    "                     [-6., -3., 0., 3., 6.]]) \n",
    "x_vals = np.array([my_array, my_array + 1]) \n",
    "x_data = tf.Variable(x_vals, dtype=tf.float32) "
   ]
  },
  {
   "cell_type": "code",
   "execution_count": 4,
   "metadata": {},
   "outputs": [],
   "source": [
    "m1 = tf.constant([[1.], [0.], [-1.], [2.], [4.]]) \n",
    "m2 = tf.constant([[2.]]) \n",
    "a1 = tf.constant([[10.]]) "
   ]
  },
  {
   "cell_type": "code",
   "execution_count": 5,
   "metadata": {},
   "outputs": [],
   "source": [
    "def prod1(a, b):\n",
    "    return tf.matmul(a, b)\n",
    "\n",
    "def prod2(a, b):\n",
    "    return tf.matmul(a, b) \n",
    "\n",
    "def add1(a, b):\n",
    "    return tf.add(a, b)"
   ]
  },
  {
   "cell_type": "code",
   "execution_count": 6,
   "metadata": {},
   "outputs": [
    {
     "name": "stdout",
     "output_type": "stream",
     "text": [
      "[[[102.]\n",
      "  [ 66.]\n",
      "  [ 58.]]\n",
      "\n",
      " [[114.]\n",
      "  [ 78.]\n",
      "  [ 70.]]]\n"
     ]
    }
   ],
   "source": [
    "result = add1(prod2(prod1(x_data, m1), m2), a1)\n",
    "print(result.numpy())"
   ]
  },
  {
   "cell_type": "code",
   "execution_count": 7,
   "metadata": {},
   "outputs": [
    {
     "name": "stdout",
     "output_type": "stream",
     "text": [
      "[[[102.]\n",
      "  [ 66.]\n",
      "  [ 58.]]\n",
      "\n",
      " [[114.]\n",
      "  [ 78.]\n",
      "  [ 70.]]]\n"
     ]
    }
   ],
   "source": [
    "class Operations():  \n",
    "    def __init__(self, a):\n",
    "        self.result = a\n",
    "    def apply(self, func, b):\n",
    "        self.result = func(self.result, b)\n",
    "        return self\n",
    "        \n",
    "operation = (Operations(a=x_data)\n",
    "             .apply(prod1, b=m1)\n",
    "             .apply(prod2, b=m2)\n",
    "             .apply(add1, b=a1))\n",
    "\n",
    "print(operation.result.numpy())"
   ]
  },
  {
   "cell_type": "code",
   "execution_count": 8,
   "metadata": {},
   "outputs": [
    {
     "data": {
      "text/plain": [
       "<tf.Variable 'UnreadVariable' shape=(None, 5) dtype=float32, numpy=\n",
       "array([[-0.49064884,  1.5854808 , -0.48412526,  0.529724  , -1.9356607 ],\n",
       "       [-0.10888588,  0.6427689 , -0.39801282, -2.0490596 , -0.3290038 ],\n",
       "       [-0.6064022 , -1.0445235 ,  0.99659276, -1.2113512 , -0.7134128 ],\n",
       "       [-0.8914672 , -0.9983895 , -0.69238764,  0.301262  ,  1.3808763 ],\n",
       "       [ 0.689694  ,  0.10973665, -1.6349661 ,  1.2353624 ,  0.92520213],\n",
       "       [ 1.4275634 ,  1.1289065 ,  1.1697044 , -1.1902597 , -0.43475133],\n",
       "       [ 0.74462193, -0.95711976, -0.9109171 , -0.3551312 ,  0.39289233],\n",
       "       [-0.04545735, -0.18926524,  2.1708632 , -0.21195933, -0.84519786],\n",
       "       [-1.6303022 , -0.68441844,  0.7470786 , -3.502721  ,  1.0648485 ],\n",
       "       [ 1.8621829 , -1.9822499 ,  0.43865147,  1.3832663 , -0.32650405]],\n",
       "      dtype=float32)>"
      ]
     },
     "execution_count": 8,
     "metadata": {},
     "output_type": "execute_result"
    }
   ],
   "source": [
    "v = tf.Variable(initial_value=tf.random.normal(shape=(1, 5)),\n",
    "                shape=tf.TensorShape((None, 5)))\n",
    "\n",
    "v.assign(tf.random.normal(shape=(10, 5)))"
   ]
  },
  {
   "cell_type": "markdown",
   "metadata": {},
   "source": [
    "## Recipe 3: Working with multiple layers"
   ]
  },
  {
   "cell_type": "code",
   "execution_count": 9,
   "metadata": {},
   "outputs": [],
   "source": [
    "import tensorflow as tf \n",
    "import numpy as np "
   ]
  },
  {
   "cell_type": "code",
   "execution_count": 10,
   "metadata": {},
   "outputs": [],
   "source": [
    "batch_size = [1]\n",
    "x_shape = [4, 4, 1]\n",
    "x_data = tf.random.uniform(shape=batch_size + x_shape)"
   ]
  },
  {
   "cell_type": "code",
   "execution_count": 11,
   "metadata": {},
   "outputs": [],
   "source": [
    "def mov_avg_layer(x):\n",
    "    my_filter = tf.constant(0.25, shape=[2, 2, 1, 1]) \n",
    "    my_strides = [1, 2, 2, 1] \n",
    "    layer = tf.nn.conv2d(x, my_filter, my_strides, \n",
    "                         padding='SAME', name='Moving_Avg_Window')\n",
    "    return layer"
   ]
  },
  {
   "cell_type": "code",
   "execution_count": 12,
   "metadata": {},
   "outputs": [],
   "source": [
    "def custom_layer(input_matrix): \n",
    "        input_matrix_sqeezed = tf.squeeze(input_matrix) \n",
    "        A = tf.constant([[1., 2.], [-1., 3.]]) \n",
    "        b = tf.constant(1., shape=[2, 2]) \n",
    "        temp1 = tf.matmul(A, input_matrix_sqeezed) \n",
    "        temp = tf.add(temp1, b) # Ax + b \n",
    "        return tf.sigmoid(temp) "
   ]
  },
  {
   "cell_type": "code",
   "execution_count": 13,
   "metadata": {},
   "outputs": [],
   "source": [
    "first_layer = mov_avg_layer(x_data) \n",
    "second_layer = custom_layer(first_layer)"
   ]
  },
  {
   "cell_type": "code",
   "execution_count": 14,
   "metadata": {},
   "outputs": [
    {
     "name": "stdout",
     "output_type": "stream",
     "text": [
      "tf.Tensor(\n",
      "[[0.9562894  0.9011374 ]\n",
      " [0.91472375 0.80579144]], shape=(2, 2), dtype=float32)\n"
     ]
    }
   ],
   "source": [
    "print(second_layer)"
   ]
  },
  {
   "cell_type": "markdown",
   "metadata": {},
   "source": [
    "## Recipe 4: Implementing loss functions"
   ]
  },
  {
   "cell_type": "code",
   "execution_count": 15,
   "metadata": {},
   "outputs": [],
   "source": [
    "import matplotlib.pyplot as plt"
   ]
  },
  {
   "cell_type": "code",
   "execution_count": 16,
   "metadata": {},
   "outputs": [],
   "source": [
    "def l2(y_true, y_pred):\n",
    "    return tf.square(y_true - y_pred) "
   ]
  },
  {
   "cell_type": "code",
   "execution_count": 17,
   "metadata": {},
   "outputs": [],
   "source": [
    "def l1(y_true, y_pred):\n",
    "    return tf.abs(y_true - y_pred)"
   ]
  },
  {
   "cell_type": "code",
   "execution_count": 18,
   "metadata": {},
   "outputs": [],
   "source": [
    "def phuber1(y_true, y_pred):\n",
    "    delta1 = tf.constant(0.25) \n",
    "    return tf.multiply(tf.square(delta1), tf.sqrt(1. +  \n",
    "                            tf.square((y_true - y_pred)/delta1)) - 1.) \n",
    "\n",
    "def phuber2(y_true, y_pred):\n",
    "    delta2 = tf.constant(5.) \n",
    "    return tf.multiply(tf.square(delta2), tf.sqrt(1. +  \n",
    "                            tf.square((y_true - y_pred)/delta2)) - 1.) "
   ]
  },
  {
   "cell_type": "code",
   "execution_count": 19,
   "metadata": {},
   "outputs": [],
   "source": [
    "def hinge(y_true, y_pred):\n",
    "    return tf.maximum(0., 1. - tf.multiply(y_true, y_pred))"
   ]
  },
  {
   "cell_type": "code",
   "execution_count": 20,
   "metadata": {},
   "outputs": [],
   "source": [
    "def xentropy(y_true, y_pred):\n",
    "    return - tf.multiply(y_true, tf.math.log(y_pred)) - tf.multiply((1. - y_true), tf.math.log(1. - y_pred)) "
   ]
  },
  {
   "cell_type": "code",
   "execution_count": 21,
   "metadata": {},
   "outputs": [],
   "source": [
    "def xentropy_sigmoid(y_true, y_pred):\n",
    "    return tf.nn.sigmoid_cross_entropy_with_logits(labels=y_true, logits=y_pred) "
   ]
  },
  {
   "cell_type": "code",
   "execution_count": 22,
   "metadata": {},
   "outputs": [],
   "source": [
    "def xentropy_weighted(y_true, y_pred):\n",
    "    weight = tf.constant(0.5) \n",
    "    return tf.nn.weighted_cross_entropy_with_logits(labels=y_true,\n",
    "                                                    logits=y_pred,  \n",
    "                                                    pos_weight=weight)"
   ]
  },
  {
   "cell_type": "code",
   "execution_count": 23,
   "metadata": {},
   "outputs": [
    {
     "name": "stdout",
     "output_type": "stream",
     "text": [
      "tf.Tensor([1.1601256], shape=(1,), dtype=float32)\n"
     ]
    }
   ],
   "source": [
    "def softmax_xentropy(y_true, y_pred):\n",
    "    return tf.nn.softmax_cross_entropy_with_logits(labels=y_true, logits=y_pred)\n",
    "    \n",
    "unscaled_logits = tf.constant([[1., -3., 10.]]) \n",
    "target_dist = tf.constant([[0.1, 0.02, 0.88]])\n",
    "print(softmax_xentropy(y_true=target_dist, y_pred=unscaled_logits))"
   ]
  },
  {
   "cell_type": "code",
   "execution_count": 24,
   "metadata": {},
   "outputs": [
    {
     "name": "stdout",
     "output_type": "stream",
     "text": [
      "tf.Tensor([0.00012564], shape=(1,), dtype=float32)\n"
     ]
    }
   ],
   "source": [
    "def sparse_xentropy(y_true, y_pred):\n",
    "    return tf.nn.sparse_softmax_cross_entropy_with_logits(labels=y_true,\n",
    "                                                          logits=y_pred) \n",
    "\n",
    "unscaled_logits = tf.constant([[1., -3., 10.]]) \n",
    "sparse_target_dist = tf.constant([2]) \n",
    "print(sparse_xentropy(y_true=sparse_target_dist, y_pred=unscaled_logits))"
   ]
  },
  {
   "cell_type": "code",
   "execution_count": 25,
   "metadata": {},
   "outputs": [
    {
     "data": {
      "image/png": "[encoded data removed]",
      "text/plain": [
       "<Figure size 432x288 with 1 Axes>"
      ]
     },
     "metadata": {
      "needs_background": "light"
     },
     "output_type": "display_data"
    }
   ],
   "source": [
    "x_vals = tf.linspace(-1., 1., 500) \n",
    "target = tf.constant(0.) \n",
    "\n",
    "funcs = [(l2, 'b-', 'L2 Loss'),\n",
    "         (l1, 'r--', 'L1 Loss'),\n",
    "         (phuber1, 'k-.', 'P-Huber Loss (0.25)'),\n",
    "         (phuber2, 'g:', 'P-Huber Loss (5.0)')]\n",
    "\n",
    "for func, line_type, func_name in funcs:\n",
    "    plt.plot(x_vals, func(y_true=target, y_pred=x_vals), \n",
    "             line_type, label=func_name)\n",
    "\n",
    "plt.ylim(-0.2, 0.4) \n",
    "plt.legend(loc='lower right', prop={'size': 11}) \n",
    "plt.show()"
   ]
  },
  {
   "cell_type": "code",
   "execution_count": 26,
   "metadata": {},
   "outputs": [
    {
     "data": {
      "image/png": "[encoded data removed]",
      "text/plain": [
       "<Figure size 432x288 with 1 Axes>"
      ]
     },
     "metadata": {
      "needs_background": "light"
     },
     "output_type": "display_data"
    }
   ],
   "source": [
    "x_vals = tf.linspace(-3., 5., 500)  \n",
    "target = tf.fill([500,], 1.)\n",
    "\n",
    "funcs = [(hinge, 'b-', 'Hinge Loss'),\n",
    "         (xentropy, 'r--', 'Cross Entropy Loss'),\n",
    "         (xentropy_sigmoid, 'k-.', 'Cross Entropy Sigmoid Loss'),\n",
    "         (xentropy_weighted, 'g:', 'Weighted Cross Enropy Loss (x0.5)')]\n",
    "\n",
    "for func, line_type, func_name in funcs:\n",
    "    plt.plot(x_vals, func(y_true=target, y_pred=x_vals), \n",
    "             line_type, label=func_name)\n",
    "plt.ylim(-1.5, 3) \n",
    "plt.legend(loc='lower right', prop={'size': 11}) \n",
    "plt.show()"
   ]
  },
  {
   "cell_type": "markdown",
   "metadata": {},
   "source": [
    "## Recipe 5: Implementing backpropagation"
   ]
  },
  {
   "cell_type": "code",
   "execution_count": 27,
   "metadata": {},
   "outputs": [],
   "source": [
    "import numpy as np \n",
    "import tensorflow as tf "
   ]
  },
  {
   "cell_type": "code",
   "execution_count": 28,
   "metadata": {},
   "outputs": [],
   "source": [
    "np.random.seed(0)\n",
    "x_vals = np.random.normal(1, 0.1, 100).astype(np.float32) \n",
    "y_vals = (x_vals * (np.random.normal(1, 0.05, 100) - 0.5)).astype(np.float32)"
   ]
  },
  {
   "cell_type": "code",
   "execution_count": 29,
   "metadata": {},
   "outputs": [
    {
     "data": {
      "image/png": "[encoded data removed]",
      "text/plain": [
       "<Figure size 432x288 with 1 Axes>"
      ]
     },
     "metadata": {
      "needs_background": "light"
     },
     "output_type": "display_data"
    }
   ],
   "source": [
    "plt.scatter(x_vals, y_vals)\n",
    "plt.show()"
   ]
  },
  {
   "cell_type": "code",
   "execution_count": 30,
   "metadata": {},
   "outputs": [],
   "source": [
    "def my_output(X, weights, biases):\n",
    "    return tf.add(tf.multiply(X, weights), biases)"
   ]
  },
  {
   "cell_type": "code",
   "execution_count": 31,
   "metadata": {},
   "outputs": [],
   "source": [
    "def loss_func(y_true, y_pred):\n",
    "    return tf.reduce_mean(tf.square(y_pred - y_true))"
   ]
  },
  {
   "cell_type": "code",
   "execution_count": 32,
   "metadata": {},
   "outputs": [],
   "source": [
    "my_opt = tf.optimizers.SGD(learning_rate=0.02)"
   ]
  },
  {
   "cell_type": "code",
   "execution_count": 33,
   "metadata": {},
   "outputs": [
    {
     "name": "stdout",
     "output_type": "stream",
     "text": [
      "Step # 25 Weights: [-0.58009654] Biases: [0.91217995]\n",
      "Loss = 0.13842473924160004\n",
      "Step # 50 Weights: [-0.5050226] Biases: [0.9813489]\n",
      "Loss = 0.006441587582230568\n",
      "Step # 75 Weights: [-0.4791306] Biases: [0.9942327]\n",
      "Loss = 0.01728087291121483\n",
      "Step # 100 Weights: [-0.4777394] Biases: [0.9807473]\n",
      "Loss = 0.05371852591633797\n"
     ]
    }
   ],
   "source": [
    "tf.random.set_seed(1)\n",
    "np.random.seed(0)\n",
    "weights = tf.Variable(tf.random.normal(shape=[1])) \n",
    "biases = tf.Variable(tf.random.normal(shape=[1])) \n",
    "history = list()\n",
    "\n",
    "for i in range(100): \n",
    "    rand_index = np.random.choice(100) \n",
    "    rand_x = [x_vals[rand_index]] \n",
    "    rand_y = [y_vals[rand_index]]\n",
    "    with tf.GradientTape() as tape:\n",
    "        predictions = my_output(rand_x, weights, biases)\n",
    "        loss = loss_func(rand_y, predictions)\n",
    "    history.append(loss.numpy())\n",
    "    gradients = tape.gradient(loss, [weights, biases])\n",
    "    my_opt.apply_gradients(zip(gradients, [weights, biases]))\n",
    "    if (i + 1) % 25 == 0: \n",
    "        print(f'Step # {i+1} Weights: {weights.numpy()} Biases: {biases.numpy()}')\n",
    "        print(f'Loss = {loss.numpy()}')\n"
   ]
  },
  {
   "cell_type": "code",
   "execution_count": 34,
   "metadata": {},
   "outputs": [
    {
     "data": {
      "image/png": "[encoded data removed]",
      "text/plain": [
       "<Figure size 432x288 with 1 Axes>"
      ]
     },
     "metadata": {
      "needs_background": "light"
     },
     "output_type": "display_data"
    }
   ],
   "source": [
    "plt.plot(history)\n",
    "plt.xlabel('iterations')\n",
    "plt.ylabel('loss')\n",
    "plt.show()"
   ]
  },
  {
   "cell_type": "code",
   "execution_count": 35,
   "metadata": {},
   "outputs": [],
   "source": [
    "np.random.seed(0)\n",
    "x_vals = np.concatenate((np.random.normal(-3, 1, 50), \n",
    "                         np.random.normal(3, 1, 50))).astype(np.float32) \n",
    "y_vals = np.concatenate((np.repeat(0., 50), np.repeat(1., 50))).astype(np.float32) "
   ]
  },
  {
   "cell_type": "code",
   "execution_count": 36,
   "metadata": {},
   "outputs": [
    {
     "data": {
      "image/png": "[encoded data removed]",
      "text/plain": [
       "<Figure size 432x288 with 1 Axes>"
      ]
     },
     "metadata": {
      "needs_background": "light"
     },
     "output_type": "display_data"
    }
   ],
   "source": [
    "plt.hist(x_vals[y_vals==1], color='b')\n",
    "plt.hist(x_vals[y_vals==0], color='r')\n",
    "plt.show()"
   ]
  },
  {
   "cell_type": "code",
   "execution_count": 37,
   "metadata": {},
   "outputs": [],
   "source": [
    "def loss_func(y_true, y_pred):\n",
    "    return tf.reduce_mean(\n",
    "        tf.nn.sigmoid_cross_entropy_with_logits(labels=y_true, \n",
    "                                                logits=y_pred))"
   ]
  },
  {
   "cell_type": "code",
   "execution_count": 38,
   "metadata": {},
   "outputs": [
    {
     "name": "stdout",
     "output_type": "stream",
     "text": [
      "Step # 25 Weights: [-0.0180419] Biases: [0.44081178]\n",
      "Loss = 0.5967270135879517\n",
      "Step # 50 Weights: [0.49321094] Biases: [0.3773208]\n",
      "Loss = 0.3199256658554077\n",
      "Step # 75 Weights: [0.7071932] Biases: [0.32154968]\n",
      "Loss = 0.03642747551202774\n",
      "Step # 100 Weights: [0.8395616] Biases: [0.30409008]\n",
      "Loss = 0.028119442984461784\n"
     ]
    }
   ],
   "source": [
    "tf.random.set_seed(1)\n",
    "np.random.seed(0)\n",
    "weights = tf.Variable(tf.random.normal(shape=[1])) \n",
    "biases = tf.Variable(tf.random.normal(shape=[1])) \n",
    "history = list()\n",
    "\n",
    "\n",
    "for i in range(100):    \n",
    "    rand_index = np.random.choice(100) \n",
    "    rand_x = [x_vals[rand_index]] \n",
    "    rand_y = [y_vals[rand_index]]\n",
    "    with tf.GradientTape() as tape:\n",
    "        predictions = my_output(rand_x, weights, biases)\n",
    "        loss = loss_func(rand_y, predictions)\n",
    "    history.append(loss.numpy())\n",
    "    gradients = tape.gradient(loss, [weights, biases])\n",
    "    my_opt.apply_gradients(zip(gradients, [weights, biases]))\n",
    "    if (i + 1) % 25 == 0: \n",
    "        print(f'Step # {i+1} Weights: {weights.numpy()} Biases: {biases.numpy()}')\n",
    "        print(f'Loss = {loss.numpy()}')"
   ]
  },
  {
   "cell_type": "code",
   "execution_count": 39,
   "metadata": {},
   "outputs": [
    {
     "data": {
      "image/png": "[encoded data removed]",
      "text/plain": [
       "<Figure size 432x288 with 1 Axes>"
      ]
     },
     "metadata": {
      "needs_background": "light"
     },
     "output_type": "display_data"
    }
   ],
   "source": [
    "plt.plot(history)\n",
    "plt.xlabel('iterations')\n",
    "plt.ylabel('loss')\n",
    "plt.show()"
   ]
  },
  {
   "cell_type": "markdown",
   "metadata": {},
   "source": [
    "## Recipe 6: Working with batch and stochastic training"
   ]
  },
  {
   "cell_type": "code",
   "execution_count": 40,
   "metadata": {},
   "outputs": [],
   "source": [
    "batch_size = 20"
   ]
  },
  {
   "cell_type": "code",
   "execution_count": 41,
   "metadata": {},
   "outputs": [],
   "source": [
    "np.random.seed(0)\n",
    "x_vals = np.random.normal(1, 0.1, 100).astype(np.float32) \n",
    "y_vals = (x_vals * (np.random.normal(1, 0.05, 100) - 0.5)).astype(np.float32)"
   ]
  },
  {
   "cell_type": "code",
   "execution_count": 42,
   "metadata": {},
   "outputs": [],
   "source": [
    "def loss_func(y_true, y_pred):\n",
    "    return tf.reduce_mean(tf.square(y_pred - y_true))"
   ]
  },
  {
   "cell_type": "code",
   "execution_count": 43,
   "metadata": {},
   "outputs": [
    {
     "name": "stdout",
     "output_type": "stream",
     "text": [
      "Step # 25 Weights: [-0.55588484] Biases: [0.93091]\n",
      "Loss = 0.058969467878341675\n",
      "Step # 50 Weights: [-0.48791304] Biases: [0.9865343]\n",
      "Loss = 0.01628759130835533\n"
     ]
    }
   ],
   "source": [
    "tf.random.set_seed(1)\n",
    "np.random.seed(0)\n",
    "weights = tf.Variable(tf.random.normal(shape=[1])) \n",
    "biases = tf.Variable(tf.random.normal(shape=[1])) \n",
    "history_batch = list()\n",
    "\n",
    "for i in range(50):    \n",
    "    rand_index = np.random.choice(100, size=batch_size) \n",
    "    rand_x = [x_vals[rand_index]] \n",
    "    rand_y = [y_vals[rand_index]]\n",
    "    with tf.GradientTape() as tape:\n",
    "        predictions = my_output(rand_x, weights, biases)\n",
    "        loss = loss_func(rand_y, predictions)\n",
    "    history_batch.append(loss.numpy())\n",
    "    gradients = tape.gradient(loss, [weights, biases])\n",
    "    my_opt.apply_gradients(zip(gradients, [weights, biases]))\n",
    "    if (i + 1) % 25 == 0: \n",
    "        print(f'Step # {i+1} Weights: {weights.numpy()} Biases: {biases.numpy()}')\n",
    "        print(f'Loss = {loss.numpy()}')"
   ]
  },
  {
   "cell_type": "code",
   "execution_count": 44,
   "metadata": {},
   "outputs": [
    {
     "name": "stdout",
     "output_type": "stream",
     "text": [
      "Step # 25 Weights: [-0.58009654] Biases: [0.91217995]\n",
      "Loss = 0.13842473924160004\n",
      "Step # 50 Weights: [-0.5050226] Biases: [0.9813489]\n",
      "Loss = 0.006441587582230568\n"
     ]
    }
   ],
   "source": [
    "tf.random.set_seed(1)\n",
    "np.random.seed(0)\n",
    "weights = tf.Variable(tf.random.normal(shape=[1])) \n",
    "biases = tf.Variable(tf.random.normal(shape=[1])) \n",
    "history_stochastic = list()\n",
    "\n",
    "for i in range(50):    \n",
    "    rand_index = np.random.choice(100, size=1) \n",
    "    rand_x = [x_vals[rand_index]] \n",
    "    rand_y = [y_vals[rand_index]]\n",
    "    with tf.GradientTape() as tape:\n",
    "        predictions = my_output(rand_x, weights, biases)\n",
    "        loss = loss_func(rand_y, predictions)\n",
    "    history_stochastic.append(loss.numpy())\n",
    "    gradients = tape.gradient(loss, [weights, biases])\n",
    "    my_opt.apply_gradients(zip(gradients, [weights, biases]))\n",
    "    if (i + 1) % 25 == 0: \n",
    "        print(f'Step # {i+1} Weights: {weights.numpy()} Biases: {biases.numpy()}')\n",
    "        print(f'Loss = {loss.numpy()}')"
   ]
  },
  {
   "cell_type": "code",
   "execution_count": 45,
   "metadata": {},
   "outputs": [
    {
     "data": {
      "image/png": "[encoded data removed]",
      "text/plain": [
       "<Figure size 432x288 with 1 Axes>"
      ]
     },
     "metadata": {
      "needs_background": "light"
     },
     "output_type": "display_data"
    }
   ],
   "source": [
    "plt.plot(history_stochastic, 'b-', label='Stochastic Loss') \n",
    "plt.plot(history_batch, 'r--', label='Batch Loss') \n",
    "plt.legend(loc='upper right', prop={'size': 11}) \n",
    "plt.show() "
   ]
  },
  {
   "cell_type": "markdown",
   "metadata": {},
   "source": [
    "## Recipe 7: Combining everything together"
   ]
  },
  {
   "cell_type": "code",
   "execution_count": 46,
   "metadata": {},
   "outputs": [],
   "source": [
    "import tensorflow_datasets as tfds\n",
    "iris = tfds.load('iris', split='train[:90%]', as_supervised=True)\n",
    "iris_test = tfds.load('iris', split='train[90%:]', as_supervised=True)"
   ]
  },
  {
   "cell_type": "code",
   "execution_count": 47,
   "metadata": {},
   "outputs": [],
   "source": [
    "batch_size = 20"
   ]
  },
  {
   "cell_type": "code",
   "execution_count": 48,
   "metadata": {},
   "outputs": [],
   "source": [
    "def iris2d(features, label):\n",
    "    return features[2:], tf.cast((label == 0), dtype=tf.float32)\n",
    "\n",
    "train_generator = (iris\n",
    "                   .map(iris2d)\n",
    "                   .shuffle(buffer_size=100)\n",
    "                   .batch(batch_size)\n",
    "                  )\n",
    "\n",
    "test_generator = iris_test.map(iris2d).batch(1)"
   ]
  },
  {
   "cell_type": "code",
   "execution_count": 49,
   "metadata": {},
   "outputs": [],
   "source": [
    "def linear_model(X, A, b):\n",
    "    my_output = tf.add(tf.matmul(X, A), b) \n",
    "    return tf.squeeze(my_output)"
   ]
  },
  {
   "cell_type": "code",
   "execution_count": 50,
   "metadata": {},
   "outputs": [],
   "source": [
    "def xentropy(y_true, y_pred):\n",
    "    return tf.reduce_mean(\n",
    "        tf.nn.sigmoid_cross_entropy_with_logits(labels=y_true, logits=y_pred))"
   ]
  },
  {
   "cell_type": "code",
   "execution_count": 51,
   "metadata": {},
   "outputs": [],
   "source": [
    "my_opt = tf.optimizers.SGD(learning_rate=0.02)"
   ]
  },
  {
   "cell_type": "code",
   "execution_count": 52,
   "metadata": {},
   "outputs": [
    {
     "name": "stdout",
     "output_type": "stream",
     "text": [
      "Step # 30 Weights: [[-1.1206311  1.2985772]] Biases: [1.0116111]\n",
      "Loss = 0.4503694772720337\n",
      "Step # 60 Weights: [[-1.1845942  1.078174 ]] Biases: [1.5116861]\n",
      "Loss = 0.2655593752861023\n",
      "Step # 90 Weights: [[-1.2435986  0.8919205]] Biases: [1.9333057]\n",
      "Loss = 0.23168331384658813\n",
      "Step # 120 Weights: [[-1.3032022   0.73274297]] Biases: [2.288856]\n",
      "Loss = 0.20858512818813324\n",
      "Step # 150 Weights: [[-1.3522184   0.59674555]] Biases: [2.598111]\n",
      "Loss = 0.17041867971420288\n",
      "Step # 180 Weights: [[-1.4021969  0.4764488]] Biases: [2.8675659]\n",
      "Loss = 0.16567659378051758\n",
      "Step # 210 Weights: [[-1.4451694   0.37053958]] Biases: [3.1074162]\n",
      "Loss = 0.1580955982208252\n",
      "Step # 240 Weights: [[-1.4871405  0.2752318]] Biases: [3.3213842]\n",
      "Loss = 0.09357322007417679\n",
      "Step # 270 Weights: [[-1.5251722   0.18946362]] Biases: [3.5148227]\n",
      "Loss = 0.14454668760299683\n",
      "Step # 300 Weights: [[-1.5611029   0.11102282]] Biases: [3.6908474]\n",
      "Loss = 0.10326375812292099\n"
     ]
    }
   ],
   "source": [
    "tf.random.set_seed(1)\n",
    "\n",
    "np.random.seed(0)\n",
    "A = tf.Variable(tf.random.normal(shape=[2, 1])) \n",
    "b = tf.Variable(tf.random.normal(shape=[1]))\n",
    "history = list()\n",
    "\n",
    "for i in range(300):\n",
    "    iteration_loss = list()\n",
    "    for features, label in train_generator:\n",
    "        with tf.GradientTape() as tape:\n",
    "            predictions = linear_model(features, A, b)\n",
    "            loss = xentropy(label, predictions)\n",
    "        iteration_loss.append(loss.numpy())\n",
    "        gradients = tape.gradient(loss, [A, b])\n",
    "        my_opt.apply_gradients(zip(gradients, [A, b]))\n",
    "    history.append(np.mean(iteration_loss))\n",
    "    if (i + 1) % 30 == 0:\n",
    "        print(f'Step # {i+1} Weights: {A.numpy().T} Biases: {b.numpy()}')\n",
    "        print(f'Loss = {loss.numpy()}')"
   ]
  },
  {
   "cell_type": "code",
   "execution_count": 53,
   "metadata": {},
   "outputs": [
    {
     "data": {
      "image/png": "[encoded data removed]",
      "text/plain": [
       "<Figure size 432x288 with 1 Axes>"
      ]
     },
     "metadata": {
      "needs_background": "light"
     },
     "output_type": "display_data"
    }
   ],
   "source": [
    "plt.plot(history)\n",
    "plt.xlabel('iterations')\n",
    "plt.ylabel('loss')\n",
    "plt.show()"
   ]
  },
  {
   "cell_type": "code",
   "execution_count": 56,
   "metadata": {},
   "outputs": [
    {
     "name": "stdout",
     "output_type": "stream",
     "text": [
      "test cross-entropy is 0.10227929800748825\n"
     ]
    }
   ],
   "source": [
    "predictions = list()\n",
    "labels = list()\n",
    "for features, label in test_generator:\n",
    "    predictions.append(linear_model(features, A, b).numpy())\n",
    "    labels.append(label.numpy()[0])\n",
    "    \n",
    "test_loss = xentropy(np.array(labels), np.array(predictions)).numpy()\n",
    "print(f\"test cross-entropy is {test_loss}\")"
   ]
  },
  {
   "cell_type": "code",
   "execution_count": 55,
   "metadata": {},
   "outputs": [
    {
     "data": {
      "image/png": "[encoded data removed]",
      "text/plain": [
       "<Figure size 432x288 with 1 Axes>"
      ]
     },
     "metadata": {
      "needs_background": "light"
     },
     "output_type": "display_data"
    }
   ],
   "source": [
    "coefficients = np.ravel(A.numpy())\n",
    "intercept = b.numpy()\n",
    "\n",
    "# Plotting batches of examples\n",
    "for j, (features, label) in enumerate(train_generator):\n",
    "    setosa_mask = label.numpy() == 1\n",
    "    setosa = features.numpy()[setosa_mask]\n",
    "    non_setosa = features.numpy()[~setosa_mask]\n",
    "    plt.scatter(setosa[:,0], setosa[:,1], c='red', label='setosa')\n",
    "    plt.scatter(non_setosa[:,0], non_setosa[:,1], c='blue', label='Non-setosa')\n",
    "    if j==0:\n",
    "        plt.legend(loc='lower right')\n",
    "\n",
    "# Computing and plotting the decision function\n",
    "a = -coefficients[0] / coefficients[1]\n",
    "xx = np.linspace(plt.xlim()[0], plt.xlim()[1], num=10000)\n",
    "yy = a * xx - intercept / coefficients[1]\n",
    "on_the_plot = (yy > plt.ylim()[0]) & (yy < plt.ylim()[1])\n",
    "plt.plot(xx[on_the_plot], yy[on_the_plot], 'k--')\n",
    "\n",
    "plt.xlabel('Petal Length') \n",
    "plt.ylabel('Petal Width') \n",
    "plt.show()"
   ]
  }
 ],
 "metadata": {
  "kernelspec": {
   "display_name": "Python 3",
   "language": "python",
   "name": "python3"
  },
  "language_info": {
   "codemirror_mode": {
    "name": "ipython",
    "version": 3
   },
   "file_extension": ".py",
   "mimetype": "text/x-python",
   "name": "python",
   "nbconvert_exporter": "python",
   "pygments_lexer": "ipython3",
   "version": "3.7.6"
  }
 },
 "nbformat": 4,
 "nbformat_minor": 2
}
