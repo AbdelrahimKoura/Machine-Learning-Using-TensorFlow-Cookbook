{
 "cells": [
  {
   "cell_type": "markdown",
   "metadata": {},
   "source": [
    "# Combining Gates and Activation Functions\n",
    "\n",
    "\n",
    "This function shows how to implement various gates with activation functions in TensorFlow.\n",
    "\n",
    "This function is an extension of the prior gates, but with various activation functions.\n"
   ]
  },
  {
   "cell_type": "code",
   "execution_count": null,
   "metadata": {},
   "outputs": [
    {
     "name": "stderr",
     "output_type": "stream",
     "text": [
      "\n",
      "Bad key \"text.kerning_factor\" on line 4 in\n",
      "/Users/alexia/anaconda2/envs/tf2/lib/python3.7/site-packages/matplotlib/mpl-data/stylelib/_classic_test_patch.mplstyle.\n",
      "You probably need to get an updated matplotlibrc file from\n",
      "http://github.com/matplotlib/matplotlib/blob/master/matplotlibrc.template\n",
      "or from the matplotlib source distribution\n"
     ]
    }
   ],
   "source": [
    "import tensorflow as tf\n",
    "import numpy as np\n",
    "import matplotlib.pyplot as plt"
   ]
  },
  {
   "cell_type": "code",
   "execution_count": null,
   "metadata": {},
   "outputs": [],
   "source": [
    "\n",
    "tf.random.set_seed(5)\n",
    "np.random.seed(42)\n",
    "\n",
    "# Initialize variables\n",
    "batch_size = 50\n",
    "\n",
    "x = np.random.normal(2, 0.1, 500)\n",
    "x_data = tf.keras.Input(shape=(1,))\n",
    "\n",
    "a1 = tf.Variable(tf.random.normal(shape=[1,1], seed=5))\n",
    "b1 = tf.Variable(tf.random.uniform(shape=[1,1], seed=5))\n",
    "a2 = tf.Variable(tf.random.normal(shape=[1,1], seed=5))\n",
    "b2 = tf.Variable(tf.random.uniform(shape=[1,1], seed=5))"
   ]
  },
  {
   "cell_type": "markdown",
   "metadata": {},
   "source": [
    "\n",
    "## Create a nested gate: $f(x) = sigmoid(a1 * x + b1)$\n",
    "\n",
    "```\n",
    "  a1 --\n",
    "      |\n",
    "      |-- (multiply)--\n",
    "      |               |\n",
    "  x --                |-- (add) --> (sigmoid) -->output\n",
    "                      |\n",
    "                  b1 --\n",
    "```"
   ]
  },
  {
   "cell_type": "code",
   "execution_count": null,
   "metadata": {},
   "outputs": [],
   "source": [
    "class MyCustomGateSigmoid(tf.keras.layers.Layer):\n",
    " \n",
    " def __init__(self, units, a1, b1):\n",
    "   super(MyCustomGateSigmoid, self).__init__()\n",
    "   self.units = units\n",
    "   self.a1 = a1\n",
    "   self.b1 = b1\n",
    "\n",
    " # Compute f(x) = sigmoid(a1 * x + b1)\n",
    " def call(self, inputs):\n",
    "   return tf.math.sigmoid(inputs * self.a1 + self.b1)\n",
    "\n",
    "# Add a layer which computes f(x) = sigmoid(a1 * x + b1)\n",
    "my_custom_gate_sigmoid = MyCustomGateSigmoid(units=1, a1=a1, b1=b1)\n",
    "output_sigmoid = my_custom_gate_sigmoid(x_data)\n",
    "\n",
    "# Build the model\n",
    "model_sigmoid = tf.keras.Model(inputs=x_data, outputs=output_sigmoid, name=\"gate_sigmoid\")"
   ]
  },
  {
   "cell_type": "markdown",
   "metadata": {},
   "source": [
    "\n",
    "## Create a nested gate: $f(x) = relu(a2 * x + b2)$\n",
    "\n",
    "```\n",
    "  a2 --\n",
    "      |\n",
    "      |-- (multiply)--\n",
    "      |               |\n",
    "  x --                |-- (add) --> (relu) -->output\n",
    "                      |\n",
    "                  b2 --\n",
    "```"
   ]
  },
  {
   "cell_type": "code",
   "execution_count": null,
   "metadata": {},
   "outputs": [],
   "source": [
    "\n",
    "class MyCustomGateRelu(tf.keras.layers.Layer):\n",
    " \n",
    " def __init__(self, units, a2, b2):\n",
    "   super(MyCustomGateRelu, self).__init__()\n",
    "   self.units = units\n",
    "   self.a2 = a2\n",
    "   self.b2 = b2\n",
    "\n",
    " # Compute f(x) = relu(a2 * x + b2)\n",
    " def call(self, inputs):\n",
    "   return tf.nn.relu(inputs * self.a2 + self.b2)\n",
    "\n",
    "# Add a layer which computes f(x) = relu(a2 * x + b2)\n",
    "my_custom_gate_relu = MyCustomGateRelu(units=1, a2=a2, b2=b2)\n",
    "outputs_relu = my_custom_gate_relu(x_data)\n",
    "\n",
    "# Build the model\n",
    "model_relu = tf.keras.Model(inputs=x_data, outputs=outputs_relu, name=\"gate_relu\")\n",
    "\n"
   ]
  },
  {
   "cell_type": "markdown",
   "metadata": {},
   "source": [
    "## Train the two gates with relu and sigmoid activation functions & Compare the results"
   ]
  },
  {
   "cell_type": "code",
   "execution_count": null,
   "metadata": {},
   "outputs": [
    {
     "name": "stdout",
     "output_type": "stream",
     "text": [
      "\n",
      " Optimizing Sigmoid AND Relu Output to 0.75\n",
      "WARNING:tensorflow:Layer my_custom_gate_sigmoid is casting an input tensor from dtype float64 to the layer's dtype of float32, which is new behavior in TensorFlow 2.  The layer has dtype float32 because it's dtype defaults to floatx.\n",
      "\n",
      "If you intended to run this layer in float32, you can safely ignore this warning. If in doubt, this warning is likely only an issue if you are porting a TensorFlow 1.X model to TensorFlow 2.\n",
      "\n",
      "To change all layers to have dtype float64 by default, call `tf.keras.backend.set_floatx('float64')`. To change just this layer, pass dtype='float64' to the layer constructor. If you are the author of this layer, you can disable autocasting by passing autocast=False to the base Layer constructor.\n",
      "\n",
      "WARNING:tensorflow:Layer my_custom_gate_relu is casting an input tensor from dtype float64 to the layer's dtype of float32, which is new behavior in TensorFlow 2.  The layer has dtype float32 because it's dtype defaults to floatx.\n",
      "\n",
      "If you intended to run this layer in float32, you can safely ignore this warning. If in doubt, this warning is likely only an issue if you are porting a TensorFlow 1.X model to TensorFlow 2.\n",
      "\n",
      "To change all layers to have dtype float64 by default, call `tf.keras.backend.set_floatx('float64')`. To change just this layer, pass dtype='float64' to the layer constructor. If you are the author of this layer, you can disable autocasting by passing autocast=False to the base Layer constructor.\n",
      "\n",
      "sigmoid = 0.053502936 relu = 0.41717994\n",
      "sigmoid = 0.06592579 relu = 0.74954367\n",
      "sigmoid = 0.07885077 relu = 0.7502562\n",
      "sigmoid = 0.10079076 relu = 0.75001615\n",
      "sigmoid = 0.13066591 relu = 0.74857485\n",
      "sigmoid = 0.18301637 relu = 0.7482997\n",
      "sigmoid = 0.26148313 relu = 0.7496901\n",
      "sigmoid = 0.36430547 relu = 0.75106066\n",
      "sigmoid = 0.46104255 relu = 0.74935675\n",
      "sigmoid = 0.5375254 relu = 0.7483227\n"
     ]
    }
   ],
   "source": [
    "# Optimizer\n",
    "optimizer=tf.keras.optimizers.SGD(0.01)\n",
    "\n",
    "# Run loop across gate\n",
    "print('\\n Optimizing Sigmoid AND Relu Output to 0.75')\n",
    "loss_vec_sigmoid = []\n",
    "loss_vec_relu = []\n",
    "\n",
    "activation_sigmoid = []\n",
    "activation_relu = []\n",
    "\n",
    "for i in range(500):\n",
    "    \n",
    "    rand_indices = np.random.choice(len(x), size=batch_size)\n",
    "    x_vals = np.transpose([x[rand_indices]])\n",
    "    # Open a GradientTape.\n",
    "    with tf.GradientTape(persistent=True) as tape:\n",
    "   \n",
    "        # Forward pass.\n",
    "        output_sigmoid = model_sigmoid(x_vals)\n",
    "        output_relu = model_relu(x_vals)\n",
    "        \n",
    "        # Loss value as the difference as the difference between\n",
    "        # the output and a target value, 0.75.\n",
    "        loss_sigmoid = tf.reduce_mean(tf.square(tf.subtract(output_sigmoid, 0.75)))\n",
    "        loss_vec_sigmoid.append(loss_sigmoid)\n",
    "        loss_relu = tf.reduce_mean(tf.square(tf.subtract(output_relu, 0.75)))\n",
    "        loss_vec_relu.append(loss_relu)\n",
    "        \n",
    "        \n",
    "    # Get gradients of loss_sigmoid with reference to the variable \"a1\" and \"b1\" to adjust.\n",
    "    gradients_a1 = tape.gradient(loss_sigmoid, my_custom_gate_sigmoid.a1)\n",
    "    gradients_b1 = tape.gradient(loss_sigmoid , my_custom_gate_sigmoid.b1)\n",
    "    \n",
    "    # Get gradients of loss_relu with reference to the variable \"a2\" and \"b2\" to adjust.\n",
    "    gradients_a2 = tape.gradient(loss_relu, my_custom_gate_relu.a2)\n",
    "    gradients_b2 = tape.gradient(loss_relu , my_custom_gate_relu.b2)\n",
    "    \n",
    "    # Update the variable \"a1\" and \"b1\" of the model.\n",
    "    optimizer.apply_gradients(zip([gradients_a1, gradients_b1], [my_custom_gate_sigmoid.a1, my_custom_gate_sigmoid.b1]))\n",
    "    \n",
    "    # Update the variable \"a2\" and \"b2\" of the model.\n",
    "    optimizer.apply_gradients(zip([gradients_a2, gradients_b2], [my_custom_gate_relu.a2, my_custom_gate_relu.b2]))\n",
    "    \n",
    "    output_sigmoid = model_sigmoid(x_vals)\n",
    "    output_relu = model_relu(x_vals)\n",
    "    \n",
    "    activation_sigmoid.append(np.mean(output_sigmoid))\n",
    "    activation_relu.append(np.mean(output_relu))\n",
    "    \n",
    "    if i%50==0:\n",
    "        print('sigmoid = ' + str(np.mean(output_sigmoid)) + ' relu = ' + str(np.mean(output_relu)))"
   ]
  },
  {
   "cell_type": "markdown",
   "metadata": {},
   "source": [
    "## Plot the loss"
   ]
  },
  {
   "cell_type": "code",
   "execution_count": null,
   "metadata": {},
   "outputs": [
    {
     "data": {
      "image/png": "[encoded data removed]",
      "text/plain": [
       "<Figure size 432x288 with 1 Axes>"
      ]
     },
     "metadata": {
      "needs_background": "light"
     },
     "output_type": "display_data"
    },
    {
     "data": {
      "image/png": "[encoded data removed]",
      "text/plain": [
       "<Figure size 432x288 with 1 Axes>"
      ]
     },
     "metadata": {
      "needs_background": "light"
     },
     "output_type": "display_data"
    }
   ],
   "source": [
    "plt.plot(activation_sigmoid, 'k-', label='Sigmoid Activation') \n",
    "plt.plot(activation_relu, 'r--', label='Relu Activation') \n",
    "plt.ylim([0, 1.0]) \n",
    "plt.title('Activation Outputs') \n",
    "plt.xlabel('Generation') \n",
    "plt.ylabel('Outputs') \n",
    "plt.legend(loc='upper right') \n",
    "plt.show() \n",
    "plt.plot(loss_vec_sigmoid, 'k-', label='Sigmoid Loss') \n",
    "plt.plot(loss_vec_relu, 'r--', label='Relu Loss') \n",
    "plt.ylim([0, 1.0]) \n",
    "plt.title('Loss per Generation') \n",
    "plt.xlabel('Generation') \n",
    "plt.ylabel('Loss') \n",
    "plt.legend(loc='upper right') \n",
    "plt.show() \n"
   ]
  },
  {
   "cell_type": "code",
   "execution_count": null,
   "metadata": {},
   "outputs": [],
   "source": []
  }
 ],
 "metadata": {
  "kernelspec": {
   "display_name": "tf2",
   "language": "python",
   "name": "tf2"
  },
  "language_info": {
   "codemirror_mode": {
    "name": "ipython",
    "version": 3
   },
   "file_extension": ".py",
   "mimetype": "text/x-python",
   "name": "python",
   "nbconvert_exporter": "python",
   "pygments_lexer": "ipython3",
   "version": "3.7.7"
  }
 },
 "nbformat": 4,
 "nbformat_minor": 4
}
