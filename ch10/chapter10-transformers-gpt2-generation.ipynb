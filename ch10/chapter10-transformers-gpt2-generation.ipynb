{
 "cells": [
  {
   "cell_type": "code",
   "execution_count": 1,
   "metadata": {
    "execution": {
     "iopub.execute_input": "2020-10-28T13:26:47.145247Z",
     "iopub.status.busy": "2020-10-28T13:26:47.144468Z",
     "iopub.status.idle": "2020-10-28T13:31:05.003283Z",
     "shell.execute_reply": "2020-10-28T13:31:05.004716Z"
    },
    "papermill": {
     "duration": 257.884694,
     "end_time": "2020-10-28T13:31:05.004977",
     "exception": false,
     "start_time": "2020-10-28T13:26:47.120283",
     "status": "completed"
    },
    "tags": []
   },
   "outputs": [
    {
     "name": "stderr",
     "output_type": "stream",
     "text": [
      "\u001b[34m\u001b[1mwandb\u001b[0m: \u001b[33mWARNING\u001b[0m W&B installed but not logged in.  Run `wandb login` or set the WANDB_API_KEY env variable.\n"
     ]
    },
    {
     "data": {
      "application/vnd.jupyter.widget-view+json": {
       "model_id": "394ea00eeceb400983e8d6b6cf333e7c",
       "version_major": 2,
       "version_minor": 0
      },
      "text/plain": [
       "HBox(children=(FloatProgress(value=0.0, description='Downloading', max=1042301.0, style=ProgressStyle(descript…"
      ]
     },
     "metadata": {},
     "output_type": "display_data"
    },
    {
     "name": "stdout",
     "output_type": "stream",
     "text": [
      "\n"
     ]
    },
    {
     "data": {
      "application/vnd.jupyter.widget-view+json": {
       "model_id": "91414ac3c6fa4c7fa5afa1d105a7d703",
       "version_major": 2,
       "version_minor": 0
      },
      "text/plain": [
       "HBox(children=(FloatProgress(value=0.0, description='Downloading', max=456318.0, style=ProgressStyle(descripti…"
      ]
     },
     "metadata": {},
     "output_type": "display_data"
    },
    {
     "name": "stdout",
     "output_type": "stream",
     "text": [
      "\n"
     ]
    },
    {
     "data": {
      "application/vnd.jupyter.widget-view+json": {
       "model_id": "b05092f87db345f393d66b5e32711e59",
       "version_major": 2,
       "version_minor": 0
      },
      "text/plain": [
       "HBox(children=(FloatProgress(value=0.0, description='Downloading', max=764.0, style=ProgressStyle(description_…"
      ]
     },
     "metadata": {},
     "output_type": "display_data"
    },
    {
     "name": "stdout",
     "output_type": "stream",
     "text": [
      "\n"
     ]
    },
    {
     "data": {
      "application/vnd.jupyter.widget-view+json": {
       "model_id": "89402a460c61420a9513a97f2c24b0b9",
       "version_major": 2,
       "version_minor": 0
      },
      "text/plain": [
       "HBox(children=(FloatProgress(value=0.0, description='Downloading', max=3096618024.0, style=ProgressStyle(descr…"
      ]
     },
     "metadata": {},
     "output_type": "display_data"
    },
    {
     "name": "stdout",
     "output_type": "stream",
     "text": [
      "\n"
     ]
    }
   ],
   "source": [
    "#get deep learning basics\n",
    "import tensorflow as tf\n",
    "\n",
    "\n",
    "\n",
    "from transformers import TFGPT2LMHeadModel, GPT2Tokenizer\n",
    "tokenizer = GPT2Tokenizer.from_pretrained(\"gpt2-large\")\n",
    "GPT2 = TFGPT2LMHeadModel.from_pretrained(\"gpt2-large\", pad_token_id=tokenizer.eos_token_id)\n"
   ]
  },
  {
   "cell_type": "code",
   "execution_count": 2,
   "metadata": {
    "execution": {
     "iopub.execute_input": "2020-10-28T13:31:05.083800Z",
     "iopub.status.busy": "2020-10-28T13:31:05.082779Z",
     "iopub.status.idle": "2020-10-28T13:31:05.085379Z",
     "shell.execute_reply": "2020-10-28T13:31:05.084640Z"
    },
    "papermill": {
     "duration": 0.044888,
     "end_time": "2020-10-28T13:31:05.085531",
     "exception": false,
     "start_time": "2020-10-28T13:31:05.040643",
     "status": "completed"
    },
    "tags": []
   },
   "outputs": [],
   "source": [
    "# settings\n",
    "\n",
    "#for reproducability\n",
    "SEED = 34\n",
    "tf.random.set_seed(SEED)\n",
    "\n",
    "#maximum number of words in output text\n",
    "MAX_LEN = 70"
   ]
  },
  {
   "cell_type": "markdown",
   "metadata": {
    "papermill": {
     "duration": 0.028874,
     "end_time": "2020-10-28T13:31:05.144573",
     "exception": false,
     "start_time": "2020-10-28T13:31:05.115699",
     "status": "completed"
    },
    "tags": []
   },
   "source": [
    "# Different Decoding Methods\n",
    "\n",
    "\n",
    "## Greedy search\n",
    "\n",
    "\n",
    "With greedy search, the word with the highest probability is predicted as the next word in the sequence."
   ]
  },
  {
   "cell_type": "code",
   "execution_count": 3,
   "metadata": {
    "execution": {
     "iopub.execute_input": "2020-10-28T13:31:05.210445Z",
     "iopub.status.busy": "2020-10-28T13:31:05.209515Z",
     "iopub.status.idle": "2020-10-28T13:31:05.211914Z",
     "shell.execute_reply": "2020-10-28T13:31:05.211205Z"
    },
    "papermill": {
     "duration": 0.038132,
     "end_time": "2020-10-28T13:31:05.212033",
     "exception": false,
     "start_time": "2020-10-28T13:31:05.173901",
     "status": "completed"
    },
    "tags": []
   },
   "outputs": [],
   "source": [
    "input_sequence = \"I don't know about you, but there's only one thing I want to do after a long day of work\"\n",
    "\n",
    "input_sequence = \"There are times when I am really tired of people, but I feel lonely too.\"\n"
   ]
  },
  {
   "cell_type": "code",
   "execution_count": 4,
   "metadata": {
    "execution": {
     "iopub.execute_input": "2020-10-28T13:31:05.284070Z",
     "iopub.status.busy": "2020-10-28T13:31:05.281215Z",
     "iopub.status.idle": "2020-10-28T13:31:21.735926Z",
     "shell.execute_reply": "2020-10-28T13:31:21.736447Z"
    },
    "papermill": {
     "duration": 16.494393,
     "end_time": "2020-10-28T13:31:21.736584",
     "exception": false,
     "start_time": "2020-10-28T13:31:05.242191",
     "status": "completed"
    },
    "tags": []
   },
   "outputs": [
    {
     "name": "stdout",
     "output_type": "stream",
     "text": [
      "Output:\n",
      "----------------------------------------------------------------------------------------------------\n",
      "There are times when I am really tired of people, but I feel lonely too. I feel like I'm alone in the world. I feel like I'm alone in my own body. I feel like I'm alone in my own mind. I feel like I'm alone in my own heart. I feel like I'm alone in my own mind\n"
     ]
    }
   ],
   "source": [
    "# encode context the generation is conditioned on\n",
    "input_ids = tokenizer.encode(input_sequence, return_tensors='tf')\n",
    "\n",
    "# generate text until the output length (which includes the context length) reaches 50\n",
    "greedy_output = GPT2.generate(input_ids, max_length = MAX_LEN)\n",
    "\n",
    "print(\"Output:\\n\" + 100 * '-')\n",
    "print(tokenizer.decode(greedy_output[0], skip_special_tokens = True))"
   ]
  },
  {
   "cell_type": "markdown",
   "metadata": {
    "papermill": {
     "duration": 0.020637,
     "end_time": "2020-10-28T13:31:21.778961",
     "exception": false,
     "start_time": "2020-10-28T13:31:21.758324",
     "status": "completed"
    },
    "tags": []
   },
   "source": [
    "As you can see, the results leave some space for improvement: the model starts repeating itself, because the high probability words mask the less likely ones so the cannot explore more diverse combinations.\n",
    "\n",
    "A simple remedy is beam search: we keep track of the alternative variants, so that more comparisons are possible.\n"
   ]
  },
  {
   "cell_type": "code",
   "execution_count": 5,
   "metadata": {
    "execution": {
     "iopub.execute_input": "2020-10-28T13:31:21.829362Z",
     "iopub.status.busy": "2020-10-28T13:31:21.828678Z",
     "iopub.status.idle": "2020-10-28T13:31:40.080606Z",
     "shell.execute_reply": "2020-10-28T13:31:40.079419Z"
    },
    "papermill": {
     "duration": 18.280338,
     "end_time": "2020-10-28T13:31:40.080728",
     "exception": false,
     "start_time": "2020-10-28T13:31:21.800390",
     "status": "completed"
    },
    "tags": []
   },
   "outputs": [
    {
     "name": "stdout",
     "output_type": "stream",
     "text": [
      "\n",
      "Output:\n",
      "----------------------------------------------------------------------------------------------------\n",
      "0: There are times when I am really tired of people, but I feel lonely too. I don't know what to do with myself.\"\n",
      "\n",
      "\"I feel like I can't do anything right now,\" she said. \"I'm so tired.\"\n",
      "1: There are times when I am really tired of people, but I feel lonely too. I don't know what to do with myself.\"\n",
      "\n",
      "\"I feel like I can't do anything right now,\" she says. \"I'm so tired.\"\n",
      "2: There are times when I am really tired of people, but I feel lonely too. I don't know what to do with myself.\"\n",
      "\n",
      "\"I feel like I can't do anything right now,\" she says. \"I'm not sure what I'm supposed to be doing with my life.\"\n",
      "3: There are times when I am really tired of people, but I feel lonely too. I don't know what to do with myself.\"\n",
      "\n",
      "\"I feel like I can't do anything right now,\" she says. \"I'm not sure what I'm supposed to be doing.\"\n",
      "4: There are times when I am really tired of people, but I feel lonely too. I don't know what to do with myself.\"\n",
      "\n",
      "\"I feel like I can't do anything right now,\" she says. \"I'm not sure what I should do.\"\n"
     ]
    }
   ],
   "source": [
    "# set return_num_sequences > 1\n",
    "beam_outputs = GPT2.generate(\n",
    "    input_ids, \n",
    "    max_length = MAX_LEN, \n",
    "    num_beams = 5, \n",
    "    no_repeat_ngram_size = 2, \n",
    "    num_return_sequences = 5, \n",
    "    early_stopping = True\n",
    ")\n",
    "\n",
    "print('')\n",
    "print(\"Output:\\n\" + 100 * '-')\n",
    "\n",
    "# now we have 3 output sequences\n",
    "for i, beam_output in enumerate(beam_outputs):\n",
    "      print(\"{}: {}\".format(i, tokenizer.decode(beam_output, skip_special_tokens=True)))"
   ]
  },
  {
   "cell_type": "markdown",
   "metadata": {
    "papermill": {
     "duration": 0.022736,
     "end_time": "2020-10-28T13:31:40.126452",
     "exception": false,
     "start_time": "2020-10-28T13:31:40.103716",
     "status": "completed"
    },
    "tags": []
   },
   "source": [
    "This is definitely more diverse - the message is the same, but at least the formulations look a little different from a style point of view. \n",
    "\n",
    "Next, we can explore sampling - indeterministic decoding. Instead of following a strict path to find the end text with the highest probability, we instead randomly pick the next word by its conditional probability distribution. This approach risks producing incoherent ramblings, so we make us of the `temperature` parameter which affects the probability mass distribution.\n"
   ]
  },
  {
   "cell_type": "code",
   "execution_count": 6,
   "metadata": {
    "execution": {
     "iopub.execute_input": "2020-10-28T13:31:40.178950Z",
     "iopub.status.busy": "2020-10-28T13:31:40.177955Z",
     "iopub.status.idle": "2020-10-28T13:31:55.015089Z",
     "shell.execute_reply": "2020-10-28T13:31:55.016023Z"
    },
    "papermill": {
     "duration": 14.867042,
     "end_time": "2020-10-28T13:31:55.016178",
     "exception": false,
     "start_time": "2020-10-28T13:31:40.149136",
     "status": "completed"
    },
    "tags": []
   },
   "outputs": [
    {
     "name": "stdout",
     "output_type": "stream",
     "text": [
      "Output:\n",
      "----------------------------------------------------------------------------------------------------\n",
      "There are times when I am really tired of people, but I feel lonely too. I feel like I'm alone in my own world. I feel like I'm alone in my own life. I feel like I'm alone in my own mind. I feel like I'm alone in my own heart. I feel like I'm alone in my own\n"
     ]
    }
   ],
   "source": [
    "# use temperature to decrease the sensitivity to low probability candidates\n",
    "sample_output = GPT2.generate(\n",
    "                             input_ids, \n",
    "                             do_sample = True, \n",
    "                             max_length = MAX_LEN, \n",
    "                             top_k = 0, \n",
    "                             temperature = 0.2\n",
    ")\n",
    "\n",
    "print(\"Output:\\n\" + 100 * '-')\n",
    "print(tokenizer.decode(sample_output[0], skip_special_tokens = True))"
   ]
  },
  {
   "cell_type": "code",
   "execution_count": 7,
   "metadata": {
    "execution": {
     "iopub.execute_input": "2020-10-28T13:31:55.067820Z",
     "iopub.status.busy": "2020-10-28T13:31:55.066973Z",
     "iopub.status.idle": "2020-10-28T13:32:09.567068Z",
     "shell.execute_reply": "2020-10-28T13:32:09.567914Z"
    },
    "papermill": {
     "duration": 14.529683,
     "end_time": "2020-10-28T13:32:09.568158",
     "exception": false,
     "start_time": "2020-10-28T13:31:55.038475",
     "status": "completed"
    },
    "tags": []
   },
   "outputs": [
    {
     "name": "stdout",
     "output_type": "stream",
     "text": [
      "Output:\n",
      "----------------------------------------------------------------------------------------------------\n",
      "There are times when I am really tired of people, but I feel lonely too. I find it strange how the people around me seem to be always so nice. The only time I feel lonely is when I'm on the road. I can't be alone with my thoughts.\n",
      "\n",
      "What are some of your favourite things to do in the area\n"
     ]
    }
   ],
   "source": [
    "# use temperature to decrease the sensitivity to low probability candidates\n",
    "sample_output = GPT2.generate(\n",
    "                             input_ids, \n",
    "                             do_sample = True, \n",
    "                             max_length = MAX_LEN, \n",
    "                             top_k = 0, \n",
    "                             temperature = 0.8\n",
    ")\n",
    "\n",
    "print(\"Output:\\n\" + 100 * '-')\n",
    "print(tokenizer.decode(sample_output[0], skip_special_tokens = True))"
   ]
  },
  {
   "cell_type": "markdown",
   "metadata": {
    "papermill": {
     "duration": 0.057349,
     "end_time": "2020-10-28T13:32:09.667462",
     "exception": false,
     "start_time": "2020-10-28T13:32:09.610113",
     "status": "completed"
    },
    "tags": []
   },
   "source": [
    "This is getting more interesting, although feels a bit like a train of thought - which is perhaps to be expected, given the content of our prompt. Let's explore some more manners of tuning the output.\n",
    "\n",
    "\n",
    "In **Top-K sampling**, the top k most likely next words are selected and the entire probability mass is shifted to these k words. So instead of increasing the chances of high probability words occuring and decreasing the chances of low probabillity words, we just remove low probability words all together"
   ]
  },
  {
   "cell_type": "code",
   "execution_count": 8,
   "metadata": {
    "execution": {
     "iopub.execute_input": "2020-10-28T13:32:09.782629Z",
     "iopub.status.busy": "2020-10-28T13:32:09.781564Z",
     "iopub.status.idle": "2020-10-28T13:32:25.899714Z",
     "shell.execute_reply": "2020-10-28T13:32:25.900217Z"
    },
    "papermill": {
     "duration": 16.190063,
     "end_time": "2020-10-28T13:32:25.900352",
     "exception": false,
     "start_time": "2020-10-28T13:32:09.710289",
     "status": "completed"
    },
    "tags": []
   },
   "outputs": [
    {
     "name": "stdout",
     "output_type": "stream",
     "text": [
      "Output:\n",
      "----------------------------------------------------------------------------------------------------\n",
      "There are times when I am really tired of people, but I feel lonely too. I go to a place where you can feel comfortable. It's a place where you can relax. But if you're so tired of going along with the rules, maybe I won't go. You know what? Maybe if I don't go, you won't ...\n"
     ]
    }
   ],
   "source": [
    "#sample from only top_k most likely words\n",
    "sample_output = GPT2.generate(\n",
    "                             input_ids, \n",
    "                             do_sample = True, \n",
    "                             max_length = MAX_LEN, \n",
    "                             top_k = 50\n",
    ")\n",
    "\n",
    "print(\"Output:\\n\" + 100 * '-')\n",
    "print(tokenizer.decode(sample_output[0], skip_special_tokens = True), '...')"
   ]
  },
  {
   "cell_type": "markdown",
   "metadata": {
    "papermill": {
     "duration": 0.023291,
     "end_time": "2020-10-28T13:32:25.947057",
     "exception": false,
     "start_time": "2020-10-28T13:32:25.923766",
     "status": "completed"
    },
    "tags": []
   },
   "source": [
    "This seems like a step in the right direction. Can we do better?"
   ]
  },
  {
   "cell_type": "markdown",
   "metadata": {
    "papermill": {
     "duration": 0.022802,
     "end_time": "2020-10-28T13:32:25.993469",
     "exception": false,
     "start_time": "2020-10-28T13:32:25.970667",
     "status": "completed"
    },
    "tags": []
   },
   "source": [
    "**Top-P sampling** (also known as nucleus sampling) is similar to Top-K, but instead of choosing the top k most likely wordsm we choose the smallest set of words whose total probability is larger than p, and then the entire probability mass is shifted to the words in this set**\n",
    "\n",
    "**The main difference here is that with Top-K sampling, the size of the set of words is static (obviously) whereas in Top-P sampling, the size of the set can change. To use this sampling method, we just set `top_k = 0` and choose a value `top_p`"
   ]
  },
  {
   "cell_type": "code",
   "execution_count": 9,
   "metadata": {
    "execution": {
     "iopub.execute_input": "2020-10-28T13:32:26.046370Z",
     "iopub.status.busy": "2020-10-28T13:32:26.045362Z",
     "iopub.status.idle": "2020-10-28T13:32:34.453086Z",
     "shell.execute_reply": "2020-10-28T13:32:34.453619Z"
    },
    "papermill": {
     "duration": 8.437317,
     "end_time": "2020-10-28T13:32:34.453758",
     "exception": false,
     "start_time": "2020-10-28T13:32:26.016441",
     "status": "completed"
    },
    "tags": []
   },
   "outputs": [
    {
     "name": "stdout",
     "output_type": "stream",
     "text": [
      "Output:\n",
      "----------------------------------------------------------------------------------------------------\n",
      "There are times when I am really tired of people, but I feel lonely too. I feel like I should just be standing there, just sitting there. I know I'm not a danger to anybody. I just feel alone.\" ...\n"
     ]
    }
   ],
   "source": [
    "#sample only from 80% most likely words\n",
    "sample_output = GPT2.generate(\n",
    "                             input_ids, \n",
    "                             do_sample = True, \n",
    "                             max_length = MAX_LEN, \n",
    "                             top_p = 0.8, \n",
    "                             top_k = 0\n",
    ")\n",
    "\n",
    "print(\"Output:\\n\" + 100 * '-')\n",
    "print(tokenizer.decode(sample_output[0], skip_special_tokens = True), '...')"
   ]
  },
  {
   "cell_type": "markdown",
   "metadata": {
    "papermill": {
     "duration": 0.024903,
     "end_time": "2020-10-28T13:32:34.505073",
     "exception": false,
     "start_time": "2020-10-28T13:32:34.480170",
     "status": "completed"
    },
    "tags": []
   },
   "source": [
    "We can combine both approaches:"
   ]
  },
  {
   "cell_type": "code",
   "execution_count": 10,
   "metadata": {
    "execution": {
     "iopub.execute_input": "2020-10-28T13:32:34.562750Z",
     "iopub.status.busy": "2020-10-28T13:32:34.561824Z",
     "iopub.status.idle": "2020-10-28T13:33:13.809898Z",
     "shell.execute_reply": "2020-10-28T13:33:13.810851Z"
    },
    "papermill": {
     "duration": 39.281107,
     "end_time": "2020-10-28T13:33:13.811060",
     "exception": false,
     "start_time": "2020-10-28T13:32:34.529953",
     "status": "completed"
    },
    "tags": []
   },
   "outputs": [
    {
     "name": "stdout",
     "output_type": "stream",
     "text": [
      "Output:\n",
      "----------------------------------------------------------------------------------------------------\n",
      "0: There are times when I am really tired of people, but I feel lonely too. I don't feel like I am being respected by my own country, which is why I am trying to change the government.\"\n",
      "\n",
      "In a recent video posted to YouTube, Mr. Jaleel, dressed in a suit and tie, talks about his life in Pakistan and his frustration at his treatment by the country's law enforcement agencies. He also describes how he met a young woman from California who helped him organize the protest in Washington.\n",
      "\n",
      "\"She was a journalist who worked with a television channel in Pakistan,\" Mr. Jaleel says in the video. \"She came to my home one day,...\n",
      "\n",
      "1: There are times when I am really tired of people, but I feel lonely too. It's not that I don't like to be around other people, but it's just something I have to face sometimes.\n",
      "\n",
      "What is your favorite thing to eat?\n",
      "\n",
      "The most favorite thing I have eaten is chicken and waffles. But I love rice, soups, and even noodles. I also like to eat bread, but I like it a little bit less.\n",
      "\n",
      "What is your ideal day of eating?\n",
      "\n",
      "It varies every day. Sometimes I want to eat at home, because I'm in a house with my family. But then sometimes I just have to have some sort...\n",
      "\n",
      "2: There are times when I am really tired of people, but I feel lonely too. I think that there is something in my heart that is trying to be a better person, but I don't know what that is.\"\n",
      "\n",
      "So what can be done?\n",
      "\n",
      "\"I want people to take the time to think about this,\" says Jorja, who lives in a small town outside of Boston.\n",
      "\n",
      "She has been thinking a lot about her depression. She wants to make a documentary about it, and she wants to start a blog about it.\n",
      "\n",
      "\"I want to make a video to be a support system for people who are going through the same thing I was going through...\n",
      "\n",
      "3: There are times when I am really tired of people, but I feel lonely too.\n",
      "\n",
      "I want to be able to take good care of myself. I am going to be a very good person, even if I am lonely.\n",
      "\n",
      "So, if it's lonely, then I will be happy. I will be a person who will be able to have good care of myself.\n",
      "\n",
      "I have made this wish.\n",
      "\n",
      "What is my hope? What is my goal? I want to do my best to be able to meet it, but…\n",
      "\n",
      "\"Yuu, what are you saying, Yuu?\"\n",
      "\n",
      "\"Uwa, what is it?\"\n",
      "\n",
      "I...\n",
      "\n",
      "4: There are times when I am really tired of people, but I feel lonely too. The only person I really love is my family. It's just that I'm not alone.\"\n",
      "\n",
      "-Juan, 24, a student\n",
      "\n",
      "A study from the European Economic Area, a free trade area between the EU and Iceland, showed that there are 2.3 million EU citizens living in Iceland. Another survey in 2014 showed that 1.3 million people in Iceland were employed.\n",
      "\n",
      "The government is committed to making Iceland a country where everyone can live and work.\n",
      "\n",
      "\"We are here to help, not to steal,\" said one of the people who drove up in a Volkswagen.\n",
      "...\n",
      "\n"
     ]
    }
   ],
   "source": [
    "#combine both sampling techniques\n",
    "sample_outputs = GPT2.generate(\n",
    "                              input_ids,\n",
    "                              do_sample = True, \n",
    "                              max_length = 2*MAX_LEN,                              #to test how long we can generate and it be coherent\n",
    "                              #temperature = .7,\n",
    "                              top_k = 50, \n",
    "                              top_p = 0.85, \n",
    "                              num_return_sequences = 5\n",
    ")\n",
    "\n",
    "print(\"Output:\\n\" + 100 * '-')\n",
    "for i, sample_output in enumerate(sample_outputs):\n",
    "    print(\"{}: {}...\".format(i, tokenizer.decode(sample_output, skip_special_tokens = True)))\n",
    "    print('')"
   ]
  },
  {
   "cell_type": "markdown",
   "metadata": {
    "papermill": {
     "duration": 0.027458,
     "end_time": "2020-10-28T13:33:13.870132",
     "exception": false,
     "start_time": "2020-10-28T13:33:13.842674",
     "status": "completed"
    },
    "tags": []
   },
   "source": [
    "Clearly the more sophisticated methods settings can give us pretty impressive results. Let's explore this avenue more - we use the prompts  taken from OpenAI's GPT2 website, where they feed them to their full sized GPT2 model."
   ]
  },
  {
   "cell_type": "code",
   "execution_count": 11,
   "metadata": {
    "execution": {
     "iopub.execute_input": "2020-10-28T13:33:13.934606Z",
     "iopub.status.busy": "2020-10-28T13:33:13.932351Z",
     "iopub.status.idle": "2020-10-28T13:33:13.935251Z",
     "shell.execute_reply": "2020-10-28T13:33:13.936295Z"
    },
    "papermill": {
     "duration": 0.037897,
     "end_time": "2020-10-28T13:33:13.936502",
     "exception": false,
     "start_time": "2020-10-28T13:33:13.898605",
     "status": "completed"
    },
    "tags": []
   },
   "outputs": [],
   "source": [
    "MAX_LEN = 500"
   ]
  },
  {
   "cell_type": "code",
   "execution_count": 12,
   "metadata": {
    "execution": {
     "iopub.execute_input": "2020-10-28T13:33:14.001772Z",
     "iopub.status.busy": "2020-10-28T13:33:13.998167Z",
     "iopub.status.idle": "2020-10-28T13:35:27.664370Z",
     "shell.execute_reply": "2020-10-28T13:35:27.665148Z"
    },
    "papermill": {
     "duration": 133.70138,
     "end_time": "2020-10-28T13:35:27.665356",
     "exception": false,
     "start_time": "2020-10-28T13:33:13.963976",
     "status": "completed"
    },
    "tags": []
   },
   "outputs": [
    {
     "name": "stdout",
     "output_type": "stream",
     "text": [
      "Output:\n",
      "----------------------------------------------------------------------------------------------------\n",
      "0: In a shocking finding, scientist discovered a herd of unicorns living in a remote, previously unexplored valley, in the Andes Mountains. Even more surprising to the researchers was the fact that the unicorns spoke perfect English.\n",
      "\n",
      "This is the first time a herd of unicorns have been discovered in the Andes Mountains, a vast region stretching from the Himalayas to the Andes River in Bolivia.\n",
      "\n",
      "According to the BBC, the unicorns were spotted by a small group of researchers on a private expedition, but they were the only ones that came across the bizarre creatures.\n",
      "\n",
      "It was later learned that these were not the wild unicorns that were spotted in the wild in recent years, but rather a domesticated variety of the species.\n",
      "\n",
      "Although they do not speak English, they do carry their own unique language, according to the researchers, who have named it \"Ungla.\"\n",
      "\n",
      "The herd of unicorns, which was discovered by a small group of researchers, is the first of its kind discovered in the Andes Mountains. It is thought that the herd of wild unicorns were introduced to the area hundreds of years ago by a local rancher who was attempting to make a profit from the animals.\n",
      "\n",
      "Although they do not speak English, they do carry their own unique language, according to the researchers, who have named it \"Ungla.\"\n",
      "\n",
      "The researchers claim that the unicorns have only been sighted in the Andes Mountains, where they can be seen throughout the mountains of South America.\n",
      "\n",
      "While the unicorns do not speak English, they do carry their own unique language, according to the researchers, who have named it \"Ungla.\"\n",
      "\n",
      "Ungla is a highly intelligent, cooperative species with a high level of social and cognitive complexity, and is capable of displaying sophisticated behaviors.\n",
      "\n",
      "They are a particularly unique species, because they are capable of surviving in extreme conditions for long periods of time and without being fed or watered.\n",
      "\n",
      "The team believes that the species was probably domesticated in the Andes Mountains, where it could not survive in its natural habitat.\n",
      "\n",
      "\"We can see from the genetics that the animals were probably domesticated in the Andes Mountains where they could not survive in their natural habitat and with water and food sources,\" said Professor David Catt, from the University of Cambridge, who led the study.\n",
      "\n",
      "\"So these were animals that would have been...\n",
      "\n"
     ]
    }
   ],
   "source": [
    "prompt1 = 'In a shocking finding, scientist discovered a herd of unicorns living in a remote, previously unexplored valley, in the Andes Mountains. Even more surprising to the researchers was the fact that the unicorns spoke perfect English.'\n",
    "\n",
    "input_ids = tokenizer.encode(prompt1, return_tensors='tf')\n",
    "\n",
    "sample_outputs = GPT2.generate(\n",
    "                              input_ids,\n",
    "                              do_sample = True, \n",
    "                              max_length = MAX_LEN,                              #to test how long we can generate and it be coherent\n",
    "                              #temperature = .8,\n",
    "                              top_k = 50, \n",
    "                              top_p = 0.85 \n",
    "                              #num_return_sequences = 5\n",
    ")\n",
    "\n",
    "print(\"Output:\\n\" + 100 * '-')\n",
    "for i, sample_output in enumerate(sample_outputs):\n",
    "    print(\"{}: {}...\".format(i, tokenizer.decode(sample_output, skip_special_tokens = True)))\n",
    "    print('')"
   ]
  },
  {
   "cell_type": "markdown",
   "metadata": {
    "papermill": {
     "duration": 0.02527,
     "end_time": "2020-10-28T13:35:27.718996",
     "exception": false,
     "start_time": "2020-10-28T13:35:27.693726",
     "status": "completed"
    },
    "tags": []
   },
   "source": [
    "For comparison, this is the output from a complete model:\n",
    "\n",
    "Output:\n",
    "----------------------------------------------------------------------------------------------------\n",
    "0: In a shocking finding, scientist discovered a herd of unicorns living in a remote, previously unexplored valley, in the Andes Mountains. Even more surprising to the researchers was the fact that the unicorns spoke perfect English.\n",
    "\n",
    "\"This is not only a scientific finding; it is also a very important finding because it will enable us to further study the phenomenon,\" said Dr. Jorge Llamas, from the National Institute of Anthropology and History (INAH) in Colombia, in a statement.\n",
    "\n",
    "\"We have previously found that humans have used human voices to communicate with the animals. In this case, the animals are communicating with us. In other words, this is a breakthrough in the field of animal communication,\" added Llamas..."
   ]
  },
  {
   "cell_type": "markdown",
   "metadata": {
    "papermill": {
     "duration": 0.025116,
     "end_time": "2020-10-28T13:35:27.769257",
     "exception": false,
     "start_time": "2020-10-28T13:35:27.744141",
     "status": "completed"
    },
    "tags": []
   },
   "source": [
    "In another example, it seems like the trepidations of the model authors were justified: GPT-2 can in fact generate fake news stories?"
   ]
  },
  {
   "cell_type": "code",
   "execution_count": 13,
   "metadata": {
    "execution": {
     "iopub.execute_input": "2020-10-28T13:35:27.828066Z",
     "iopub.status.busy": "2020-10-28T13:35:27.825955Z",
     "iopub.status.idle": "2020-10-28T13:37:42.904601Z",
     "shell.execute_reply": "2020-10-28T13:37:42.905394Z"
    },
    "papermill": {
     "duration": 135.111583,
     "end_time": "2020-10-28T13:37:42.905620",
     "exception": false,
     "start_time": "2020-10-28T13:35:27.794037",
     "status": "completed"
    },
    "tags": []
   },
   "outputs": [
    {
     "name": "stdout",
     "output_type": "stream",
     "text": [
      "Output:\n",
      "----------------------------------------------------------------------------------------------------\n",
      "0: Miley Cyrus was caught shoplifting from Abercrombie and Fitch on Hollywood Boulevard today. In a video captured by one of her friends, the singer is seen grabbing her bag, but then quickly realizing the merchandise she has to leave is too expensive to be worth a $1.99 purchase.\n",
      "\n",
      "The video has already gone viral, and while the celebrity is certainly guilty of breaking the law (even if she can't be accused of stealing for a second time), there's one aspect of the situation that should make the most sense. It's just like the shopping situation in the movie The Fast and the Furious, where Michael Corleone is caught in possession of counterfeit designer clothing.\n",
      "\n",
      "This time around, though, the situation involves Cyrus. It's not a copy, per se. It's actually a replica, a pair of a black and white Nike Air Force 1s, a colorway she wore in her music video.\n",
      "\n",
      "It seems that the actress is caught by a friend who had gotten her a pair of those sneakers when she was in school, so this is no surprise to her. After all, there was a video of her stealing from her own store back in 2012, when she was a freshman at New York University.\n",
      "\n",
      "It's not that there's anything wrong with the product. If the merchandise is in good shape, that's all that matters. But there are a few things that should come to mind when it comes to these shoes.\n",
      "\n",
      "For one, the fabric is incredibly thin. The fabric is so thin that the upper actually makes the shoes look like they're made of leather. There's even a thin layer of plastic between the upper and the shoe.\n",
      "\n",
      "Secondly, the material isn't even a shoe. It's just a piece of leather. It's not actually a leather shoe at all, even though it's made of the same material as the other items on the show. It's just a piece of leather. And it's not the kind of leather that would actually hold up in a fight.\n",
      "\n",
      "This is something that should be familiar to anyone who's ever shopped at the store. If you go into the store looking for a pair of new Nike Air Force 1s, and the salesperson is just selling you a piece of leather, you're going to get disappointed. That's the nature of these shoes.\n",
      "\n",
      "In addition to the aforementioned \"stolen\" footwear, Miley Cyrus...\n",
      "\n"
     ]
    }
   ],
   "source": [
    "prompt2 = 'Miley Cyrus was caught shoplifting from Abercrombie and Fitch on Hollywood Boulevard today.'\n",
    "\n",
    "input_ids = tokenizer.encode(prompt2, return_tensors='tf')\n",
    "\n",
    "sample_outputs = GPT2.generate(\n",
    "                              input_ids,\n",
    "                              do_sample = True, \n",
    "                              max_length = MAX_LEN,                              #to test how long we can generate and it be coherent\n",
    "                              #temperature = .8,\n",
    "                              top_k = 50, \n",
    "                              top_p = 0.85\n",
    "                              #num_return_sequences = 5\n",
    ")\n",
    "\n",
    "print(\"Output:\\n\" + 100 * '-')\n",
    "for i, sample_output in enumerate(sample_outputs):\n",
    "    print(\"{}: {}...\".format(i, tokenizer.decode(sample_output, skip_special_tokens = True)))\n",
    "    print('')"
   ]
  },
  {
   "cell_type": "markdown",
   "metadata": {
    "papermill": {
     "duration": 0.025908,
     "end_time": "2020-10-28T13:37:42.959788",
     "exception": false,
     "start_time": "2020-10-28T13:37:42.933880",
     "status": "completed"
    },
    "tags": []
   },
   "source": [
    "Output:\n",
    "----------------------------------------------------------------------------------------------------\n",
    "0: Miley Cyrus was caught shoplifting from Abercrombie and Fitch on Hollywood Boulevard today. The star was spotted trying on three dresses before attempting to walk out of the store.\n",
    "\n",
    "\n",
    "Abercrombie is one of a number of stores the star has frequented.\n",
    "\n",
    "\n",
    "The singer was spotted walking into Abercrombie & Fitch in West Hollywood just after noon this afternoon before leaving the store.\n",
    "\n",
    "\n",
    "The star is currently in the middle of a tour of Australia and New Zealand for her X Factor appearance on February 28....\n"
   ]
  },
  {
   "cell_type": "markdown",
   "metadata": {
    "papermill": {
     "duration": 0.026319,
     "end_time": "2020-10-28T13:37:43.012550",
     "exception": false,
     "start_time": "2020-10-28T13:37:42.986231",
     "status": "completed"
    },
    "tags": []
   },
   "source": [
    "What about riffing off literature classics like Tolkien?\n",
    "\n"
   ]
  },
  {
   "cell_type": "code",
   "execution_count": 14,
   "metadata": {
    "execution": {
     "iopub.execute_input": "2020-10-28T13:37:43.070373Z",
     "iopub.status.busy": "2020-10-28T13:37:43.068370Z",
     "iopub.status.idle": "2020-10-28T13:37:43.073187Z",
     "shell.execute_reply": "2020-10-28T13:37:43.072697Z"
    },
    "papermill": {
     "duration": 0.034698,
     "end_time": "2020-10-28T13:37:43.073315",
     "exception": false,
     "start_time": "2020-10-28T13:37:43.038617",
     "status": "completed"
    },
    "tags": []
   },
   "outputs": [],
   "source": [
    "prompt3 = 'Legolas and Gimli advanced on the orcs, raising their weapons with a harrowing war cry'\n",
    "\n",
    "input_ids = tokenizer.encode(prompt3, return_tensors='tf')"
   ]
  },
  {
   "cell_type": "code",
   "execution_count": 15,
   "metadata": {
    "execution": {
     "iopub.execute_input": "2020-10-28T13:37:43.135263Z",
     "iopub.status.busy": "2020-10-28T13:37:43.134295Z",
     "iopub.status.idle": "2020-10-28T13:39:59.969515Z",
     "shell.execute_reply": "2020-10-28T13:39:59.970238Z"
    },
    "papermill": {
     "duration": 136.870654,
     "end_time": "2020-10-28T13:39:59.970490",
     "exception": false,
     "start_time": "2020-10-28T13:37:43.099836",
     "status": "completed"
    },
    "tags": []
   },
   "outputs": [
    {
     "name": "stdout",
     "output_type": "stream",
     "text": [
      "Output:\n",
      "----------------------------------------------------------------------------------------------------\n",
      "0: Legolas and Gimli advanced on the orcs, raising their weapons with a harrowing war cry, and they roared their battle cries as they charged the orcs with their spears and arrows. They reached the front of the line, where the enemy were gathered, and they fell upon them with a hail of fire and arrows, slaying many orcs and wounding others. The battle raged on for a long time, and eventually the two sides met and fought for a long time more. The orcs fell and the two armies were victorious. The orcs were killed and the two armies were victorious.\n",
      "\n",
      "The two armies fought one last time in battle. Gimli slew many of the orcs and led his men to safety. They went to the city and took it. When they returned, Sauron's servants were waiting to kill them. The two armies fought again, and the battle raged on for a long time more. Gimli slew many of the orcs and led his men to safety. They went to the city and took it. When they returned, Sauron's servants were waiting to kill them. The two armies fought again, and the battle raged on for a long time more. Gimli slew many of the orcs and led his men to safety. They went to the city and took it. When they returned, Sauron's servants were waiting to kill them. The two armies fought again, and the battle raged on for a long time more. Gimli slew many of the orcs and led his men to safety. They went to the city and took it. When they returned, Sauron's servants were waiting to kill them. The two armies fought again, and the battle raged on for a long time more. Gimli slew many of the orcs and led his men to safety. They went to the city and took it. When they returned, Sauron's servants were waiting to kill them. The two armies fought again, and the battle raged on for a long time more. Gimli slew many of the orcs and led his men to safety. They went to the city and took it. When they returned, Sauron's servants were waiting to kill them. The two armies fought again, and the battle raged on for a long time more. Gimli slew many of the orcs and led his men to safety. They went to the city and took it. When they returned, Sauron's servants were waiting to kill them. The two armies fought again, and the battle raged on for a...\n",
      "\n"
     ]
    }
   ],
   "source": [
    "sample_outputs = GPT2.generate(\n",
    "                              input_ids,\n",
    "                              do_sample = True, \n",
    "                              max_length = MAX_LEN,                              #to test how long we can generate and it be coherent\n",
    "                              #temperature = .8,\n",
    "                              top_k = 50, \n",
    "                              top_p = 0.85 \n",
    "                              #num_return_sequences = 5\n",
    ")\n",
    "\n",
    "print(\"Output:\\n\" + 100 * '-')\n",
    "for i, sample_output in enumerate(sample_outputs):\n",
    "    print(\"{}: {}...\".format(i, tokenizer.decode(sample_output, skip_special_tokens = True)))\n",
    "    print('')"
   ]
  },
  {
   "cell_type": "markdown",
   "metadata": {
    "papermill": {
     "duration": 0.02779,
     "end_time": "2020-10-28T13:40:00.025731",
     "exception": false,
     "start_time": "2020-10-28T13:39:59.997941",
     "status": "completed"
    },
    "tags": []
   },
   "source": [
    "Output:\n",
    "----------------------------------------------------------------------------------------------------\n",
    "0: Legolas and Gimli advanced on the orcs, raising their weapons with a harrowing war cry.\n",
    "\n",
    "Then the orcs made their move.\n",
    "\n",
    "The Great Orc Warband advanced at the sound of battle. They wore their weapons proudly on their chests, and they looked down upon their foes.\n",
    "\n",
    "In the distance, the orcs could be heard shouting their orders in a low voice.\n",
    "\n",
    "But the battle was not yet over. The orcs' axes and hammers slammed into the enemy ranks as though they were an army of ten thousand warriors, and their axes made the orcs bleed.\n",
    "\n",
    "In the midst of the carnage, the Elven leader Aragorn cried out: \"Come, brave. Let us fight the orcs!\"\n",
    "\n",
    "..."
   ]
  }
 ],
 "metadata": {
  "kernelspec": {
   "display_name": "Python 3",
   "language": "python",
   "name": "python3"
  },
  "language_info": {
   "codemirror_mode": {
    "name": "ipython",
    "version": 3
   },
   "file_extension": ".py",
   "mimetype": "text/x-python",
   "name": "python",
   "nbconvert_exporter": "python",
   "pygments_lexer": "ipython3",
   "version": "3.7.6"
  },
  "papermill": {
   "duration": 799.058989,
   "end_time": "2020-10-28T13:40:02.027031",
   "environment_variables": {},
   "exception": null,
   "input_path": "__notebook__.ipynb",
   "output_path": "__notebook__.ipynb",
   "parameters": {},
   "start_time": "2020-10-28T13:26:42.968042",
   "version": "2.1.0"
  },
  "widgets": {
   "application/vnd.jupyter.widget-state+json": {
    "state": {
     "0dfb78b4544543edac20a93c9fa2bc09": {
      "model_module": "@jupyter-widgets/controls",
      "model_module_version": "1.5.0",
      "model_name": "DescriptionStyleModel",
      "state": {
       "_model_module": "@jupyter-widgets/controls",
       "_model_module_version": "1.5.0",
       "_model_name": "DescriptionStyleModel",
       "_view_count": null,
       "_view_module": "@jupyter-widgets/base",
       "_view_module_version": "1.2.0",
       "_view_name": "StyleView",
       "description_width": ""
      }
     },
     "0f64f178b432444f9087df9f85b3f430": {
      "model_module": "@jupyter-widgets/controls",
      "model_module_version": "1.5.0",
      "model_name": "DescriptionStyleModel",
      "state": {
       "_model_module": "@jupyter-widgets/controls",
       "_model_module_version": "1.5.0",
       "_model_name": "DescriptionStyleModel",
       "_view_count": null,
       "_view_module": "@jupyter-widgets/base",
       "_view_module_version": "1.2.0",
       "_view_name": "StyleView",
       "description_width": ""
      }
     },
     "12136cb6d62a4602802c8b7d7a3e0fff": {
      "model_module": "@jupyter-widgets/controls",
      "model_module_version": "1.5.0",
      "model_name": "HTMLModel",
      "state": {
       "_dom_classes": [],
       "_model_module": "@jupyter-widgets/controls",
       "_model_module_version": "1.5.0",
       "_model_name": "HTMLModel",
       "_view_count": null,
       "_view_module": "@jupyter-widgets/controls",
       "_view_module_version": "1.5.0",
       "_view_name": "HTMLView",
       "description": "",
       "description_tooltip": null,
       "layout": "IPY_MODEL_953667ef22b3460eb49fd07fe0c31bda",
       "placeholder": "​",
       "style": "IPY_MODEL_efd11be55e8a48f19f2e3de7da99aff6",
       "value": " 3.10G/3.10G [03:52&lt;00:00, 13.3MB/s]"
      }
     },
     "19bf24abd2eb4bbc9e59ac473f63f15d": {
      "model_module": "@jupyter-widgets/base",
      "model_module_version": "1.2.0",
      "model_name": "LayoutModel",
      "state": {
       "_model_module": "@jupyter-widgets/base",
       "_model_module_version": "1.2.0",
       "_model_name": "LayoutModel",
       "_view_count": null,
       "_view_module": "@jupyter-widgets/base",
       "_view_module_version": "1.2.0",
       "_view_name": "LayoutView",
       "align_content": null,
       "align_items": null,
       "align_self": null,
       "border": null,
       "bottom": null,
       "display": null,
       "flex": null,
       "flex_flow": null,
       "grid_area": null,
       "grid_auto_columns": null,
       "grid_auto_flow": null,
       "grid_auto_rows": null,
       "grid_column": null,
       "grid_gap": null,
       "grid_row": null,
       "grid_template_areas": null,
       "grid_template_columns": null,
       "grid_template_rows": null,
       "height": null,
       "justify_content": null,
       "justify_items": null,
       "left": null,
       "margin": null,
       "max_height": null,
       "max_width": null,
       "min_height": null,
       "min_width": null,
       "object_fit": null,
       "object_position": null,
       "order": null,
       "overflow": null,
       "overflow_x": null,
       "overflow_y": null,
       "padding": null,
       "right": null,
       "top": null,
       "visibility": null,
       "width": null
      }
     },
     "1a90c900c9c94983afc5d5d202fe1c31": {
      "model_module": "@jupyter-widgets/controls",
      "model_module_version": "1.5.0",
      "model_name": "HTMLModel",
      "state": {
       "_dom_classes": [],
       "_model_module": "@jupyter-widgets/controls",
       "_model_module_version": "1.5.0",
       "_model_name": "HTMLModel",
       "_view_count": null,
       "_view_module": "@jupyter-widgets/controls",
       "_view_module_version": "1.5.0",
       "_view_name": "HTMLView",
       "description": "",
       "description_tooltip": null,
       "layout": "IPY_MODEL_ab77904fa9454a9eaf2bc31678ff2c05",
       "placeholder": "​",
       "style": "IPY_MODEL_db26ce9777c54df2959bd465821b76c5",
       "value": " 1.04M/1.04M [00:00&lt;00:00, 1.51MB/s]"
      }
     },
     "2008e0edf06a4c82a792b4a3133268a2": {
      "model_module": "@jupyter-widgets/base",
      "model_module_version": "1.2.0",
      "model_name": "LayoutModel",
      "state": {
       "_model_module": "@jupyter-widgets/base",
       "_model_module_version": "1.2.0",
       "_model_name": "LayoutModel",
       "_view_count": null,
       "_view_module": "@jupyter-widgets/base",
       "_view_module_version": "1.2.0",
       "_view_name": "LayoutView",
       "align_content": null,
       "align_items": null,
       "align_self": null,
       "border": null,
       "bottom": null,
       "display": null,
       "flex": null,
       "flex_flow": null,
       "grid_area": null,
       "grid_auto_columns": null,
       "grid_auto_flow": null,
       "grid_auto_rows": null,
       "grid_column": null,
       "grid_gap": null,
       "grid_row": null,
       "grid_template_areas": null,
       "grid_template_columns": null,
       "grid_template_rows": null,
       "height": null,
       "justify_content": null,
       "justify_items": null,
       "left": null,
       "margin": null,
       "max_height": null,
       "max_width": null,
       "min_height": null,
       "min_width": null,
       "object_fit": null,
       "object_position": null,
       "order": null,
       "overflow": null,
       "overflow_x": null,
       "overflow_y": null,
       "padding": null,
       "right": null,
       "top": null,
       "visibility": null,
       "width": null
      }
     },
     "26a8ef5d8a134b19bfa1294afce95f4f": {
      "model_module": "@jupyter-widgets/controls",
      "model_module_version": "1.5.0",
      "model_name": "ProgressStyleModel",
      "state": {
       "_model_module": "@jupyter-widgets/controls",
       "_model_module_version": "1.5.0",
       "_model_name": "ProgressStyleModel",
       "_view_count": null,
       "_view_module": "@jupyter-widgets/base",
       "_view_module_version": "1.2.0",
       "_view_name": "StyleView",
       "bar_color": null,
       "description_width": "initial"
      }
     },
     "394ea00eeceb400983e8d6b6cf333e7c": {
      "model_module": "@jupyter-widgets/controls",
      "model_module_version": "1.5.0",
      "model_name": "HBoxModel",
      "state": {
       "_dom_classes": [],
       "_model_module": "@jupyter-widgets/controls",
       "_model_module_version": "1.5.0",
       "_model_name": "HBoxModel",
       "_view_count": null,
       "_view_module": "@jupyter-widgets/controls",
       "_view_module_version": "1.5.0",
       "_view_name": "HBoxView",
       "box_style": "",
       "children": [
        "IPY_MODEL_ed3006f40e52447d991fb96793b0b9d2",
        "IPY_MODEL_1a90c900c9c94983afc5d5d202fe1c31"
       ],
       "layout": "IPY_MODEL_580d8b0d691449e1b2004119fbbd1c62"
      }
     },
     "3c1d08adb9f8425f994bf778424e1730": {
      "model_module": "@jupyter-widgets/controls",
      "model_module_version": "1.5.0",
      "model_name": "HTMLModel",
      "state": {
       "_dom_classes": [],
       "_model_module": "@jupyter-widgets/controls",
       "_model_module_version": "1.5.0",
       "_model_name": "HTMLModel",
       "_view_count": null,
       "_view_module": "@jupyter-widgets/controls",
       "_view_module_version": "1.5.0",
       "_view_name": "HTMLView",
       "description": "",
       "description_tooltip": null,
       "layout": "IPY_MODEL_e607bbaad301471d850005faab8ffbcd",
       "placeholder": "​",
       "style": "IPY_MODEL_0f64f178b432444f9087df9f85b3f430",
       "value": " 764/764 [03:53&lt;00:00, 3.27B/s]"
      }
     },
     "43f19f28f61a404995b6e321d26ab0fe": {
      "model_module": "@jupyter-widgets/controls",
      "model_module_version": "1.5.0",
      "model_name": "HTMLModel",
      "state": {
       "_dom_classes": [],
       "_model_module": "@jupyter-widgets/controls",
       "_model_module_version": "1.5.0",
       "_model_name": "HTMLModel",
       "_view_count": null,
       "_view_module": "@jupyter-widgets/controls",
       "_view_module_version": "1.5.0",
       "_view_name": "HTMLView",
       "description": "",
       "description_tooltip": null,
       "layout": "IPY_MODEL_ca01e9f2cae747f58e15c142742547e3",
       "placeholder": "​",
       "style": "IPY_MODEL_0dfb78b4544543edac20a93c9fa2bc09",
       "value": " 456k/456k [00:00&lt;00:00, 1.17MB/s]"
      }
     },
     "4d05efccefb94e06b31aa86db2fccc68": {
      "model_module": "@jupyter-widgets/controls",
      "model_module_version": "1.5.0",
      "model_name": "FloatProgressModel",
      "state": {
       "_dom_classes": [],
       "_model_module": "@jupyter-widgets/controls",
       "_model_module_version": "1.5.0",
       "_model_name": "FloatProgressModel",
       "_view_count": null,
       "_view_module": "@jupyter-widgets/controls",
       "_view_module_version": "1.5.0",
       "_view_name": "ProgressView",
       "bar_style": "success",
       "description": "Downloading: 100%",
       "description_tooltip": null,
       "layout": "IPY_MODEL_f38f8568209545d5ac295ac41947a907",
       "max": 456318.0,
       "min": 0.0,
       "orientation": "horizontal",
       "style": "IPY_MODEL_9c63ff6536e84f83bb0509831711073a",
       "value": 456318.0
      }
     },
     "580d8b0d691449e1b2004119fbbd1c62": {
      "model_module": "@jupyter-widgets/base",
      "model_module_version": "1.2.0",
      "model_name": "LayoutModel",
      "state": {
       "_model_module": "@jupyter-widgets/base",
       "_model_module_version": "1.2.0",
       "_model_name": "LayoutModel",
       "_view_count": null,
       "_view_module": "@jupyter-widgets/base",
       "_view_module_version": "1.2.0",
       "_view_name": "LayoutView",
       "align_content": null,
       "align_items": null,
       "align_self": null,
       "border": null,
       "bottom": null,
       "display": null,
       "flex": null,
       "flex_flow": null,
       "grid_area": null,
       "grid_auto_columns": null,
       "grid_auto_flow": null,
       "grid_auto_rows": null,
       "grid_column": null,
       "grid_gap": null,
       "grid_row": null,
       "grid_template_areas": null,
       "grid_template_columns": null,
       "grid_template_rows": null,
       "height": null,
       "justify_content": null,
       "justify_items": null,
       "left": null,
       "margin": null,
       "max_height": null,
       "max_width": null,
       "min_height": null,
       "min_width": null,
       "object_fit": null,
       "object_position": null,
       "order": null,
       "overflow": null,
       "overflow_x": null,
       "overflow_y": null,
       "padding": null,
       "right": null,
       "top": null,
       "visibility": null,
       "width": null
      }
     },
     "70e7e908db9b46cdbba0212d9780c994": {
      "model_module": "@jupyter-widgets/controls",
      "model_module_version": "1.5.0",
      "model_name": "ProgressStyleModel",
      "state": {
       "_model_module": "@jupyter-widgets/controls",
       "_model_module_version": "1.5.0",
       "_model_name": "ProgressStyleModel",
       "_view_count": null,
       "_view_module": "@jupyter-widgets/base",
       "_view_module_version": "1.2.0",
       "_view_name": "StyleView",
       "bar_color": null,
       "description_width": "initial"
      }
     },
     "89402a460c61420a9513a97f2c24b0b9": {
      "model_module": "@jupyter-widgets/controls",
      "model_module_version": "1.5.0",
      "model_name": "HBoxModel",
      "state": {
       "_dom_classes": [],
       "_model_module": "@jupyter-widgets/controls",
       "_model_module_version": "1.5.0",
       "_model_name": "HBoxModel",
       "_view_count": null,
       "_view_module": "@jupyter-widgets/controls",
       "_view_module_version": "1.5.0",
       "_view_name": "HBoxView",
       "box_style": "",
       "children": [
        "IPY_MODEL_933e92a61e5c4ef5ad2a0fef7d8c68d7",
        "IPY_MODEL_12136cb6d62a4602802c8b7d7a3e0fff"
       ],
       "layout": "IPY_MODEL_f1b13712ba824a88912f60b1171b1623"
      }
     },
     "8d31755762154ca98ce9afca8d747dfd": {
      "model_module": "@jupyter-widgets/controls",
      "model_module_version": "1.5.0",
      "model_name": "FloatProgressModel",
      "state": {
       "_dom_classes": [],
       "_model_module": "@jupyter-widgets/controls",
       "_model_module_version": "1.5.0",
       "_model_name": "FloatProgressModel",
       "_view_count": null,
       "_view_module": "@jupyter-widgets/controls",
       "_view_module_version": "1.5.0",
       "_view_name": "ProgressView",
       "bar_style": "success",
       "description": "Downloading: 100%",
       "description_tooltip": null,
       "layout": "IPY_MODEL_966497b39c474b12b5e518ccc6cdd777",
       "max": 764.0,
       "min": 0.0,
       "orientation": "horizontal",
       "style": "IPY_MODEL_70e7e908db9b46cdbba0212d9780c994",
       "value": 764.0
      }
     },
     "905a8f3c8493466b8e9380c0dfe4edbc": {
      "model_module": "@jupyter-widgets/base",
      "model_module_version": "1.2.0",
      "model_name": "LayoutModel",
      "state": {
       "_model_module": "@jupyter-widgets/base",
       "_model_module_version": "1.2.0",
       "_model_name": "LayoutModel",
       "_view_count": null,
       "_view_module": "@jupyter-widgets/base",
       "_view_module_version": "1.2.0",
       "_view_name": "LayoutView",
       "align_content": null,
       "align_items": null,
       "align_self": null,
       "border": null,
       "bottom": null,
       "display": null,
       "flex": null,
       "flex_flow": null,
       "grid_area": null,
       "grid_auto_columns": null,
       "grid_auto_flow": null,
       "grid_auto_rows": null,
       "grid_column": null,
       "grid_gap": null,
       "grid_row": null,
       "grid_template_areas": null,
       "grid_template_columns": null,
       "grid_template_rows": null,
       "height": null,
       "justify_content": null,
       "justify_items": null,
       "left": null,
       "margin": null,
       "max_height": null,
       "max_width": null,
       "min_height": null,
       "min_width": null,
       "object_fit": null,
       "object_position": null,
       "order": null,
       "overflow": null,
       "overflow_x": null,
       "overflow_y": null,
       "padding": null,
       "right": null,
       "top": null,
       "visibility": null,
       "width": null
      }
     },
     "91414ac3c6fa4c7fa5afa1d105a7d703": {
      "model_module": "@jupyter-widgets/controls",
      "model_module_version": "1.5.0",
      "model_name": "HBoxModel",
      "state": {
       "_dom_classes": [],
       "_model_module": "@jupyter-widgets/controls",
       "_model_module_version": "1.5.0",
       "_model_name": "HBoxModel",
       "_view_count": null,
       "_view_module": "@jupyter-widgets/controls",
       "_view_module_version": "1.5.0",
       "_view_name": "HBoxView",
       "box_style": "",
       "children": [
        "IPY_MODEL_4d05efccefb94e06b31aa86db2fccc68",
        "IPY_MODEL_43f19f28f61a404995b6e321d26ab0fe"
       ],
       "layout": "IPY_MODEL_dd7558d31d8f4a6db50b3305478e7318"
      }
     },
     "933e92a61e5c4ef5ad2a0fef7d8c68d7": {
      "model_module": "@jupyter-widgets/controls",
      "model_module_version": "1.5.0",
      "model_name": "FloatProgressModel",
      "state": {
       "_dom_classes": [],
       "_model_module": "@jupyter-widgets/controls",
       "_model_module_version": "1.5.0",
       "_model_name": "FloatProgressModel",
       "_view_count": null,
       "_view_module": "@jupyter-widgets/controls",
       "_view_module_version": "1.5.0",
       "_view_name": "ProgressView",
       "bar_style": "success",
       "description": "Downloading: 100%",
       "description_tooltip": null,
       "layout": "IPY_MODEL_2008e0edf06a4c82a792b4a3133268a2",
       "max": 3096618024.0,
       "min": 0.0,
       "orientation": "horizontal",
       "style": "IPY_MODEL_26a8ef5d8a134b19bfa1294afce95f4f",
       "value": 3096618024.0
      }
     },
     "953667ef22b3460eb49fd07fe0c31bda": {
      "model_module": "@jupyter-widgets/base",
      "model_module_version": "1.2.0",
      "model_name": "LayoutModel",
      "state": {
       "_model_module": "@jupyter-widgets/base",
       "_model_module_version": "1.2.0",
       "_model_name": "LayoutModel",
       "_view_count": null,
       "_view_module": "@jupyter-widgets/base",
       "_view_module_version": "1.2.0",
       "_view_name": "LayoutView",
       "align_content": null,
       "align_items": null,
       "align_self": null,
       "border": null,
       "bottom": null,
       "display": null,
       "flex": null,
       "flex_flow": null,
       "grid_area": null,
       "grid_auto_columns": null,
       "grid_auto_flow": null,
       "grid_auto_rows": null,
       "grid_column": null,
       "grid_gap": null,
       "grid_row": null,
       "grid_template_areas": null,
       "grid_template_columns": null,
       "grid_template_rows": null,
       "height": null,
       "justify_content": null,
       "justify_items": null,
       "left": null,
       "margin": null,
       "max_height": null,
       "max_width": null,
       "min_height": null,
       "min_width": null,
       "object_fit": null,
       "object_position": null,
       "order": null,
       "overflow": null,
       "overflow_x": null,
       "overflow_y": null,
       "padding": null,
       "right": null,
       "top": null,
       "visibility": null,
       "width": null
      }
     },
     "966497b39c474b12b5e518ccc6cdd777": {
      "model_module": "@jupyter-widgets/base",
      "model_module_version": "1.2.0",
      "model_name": "LayoutModel",
      "state": {
       "_model_module": "@jupyter-widgets/base",
       "_model_module_version": "1.2.0",
       "_model_name": "LayoutModel",
       "_view_count": null,
       "_view_module": "@jupyter-widgets/base",
       "_view_module_version": "1.2.0",
       "_view_name": "LayoutView",
       "align_content": null,
       "align_items": null,
       "align_self": null,
       "border": null,
       "bottom": null,
       "display": null,
       "flex": null,
       "flex_flow": null,
       "grid_area": null,
       "grid_auto_columns": null,
       "grid_auto_flow": null,
       "grid_auto_rows": null,
       "grid_column": null,
       "grid_gap": null,
       "grid_row": null,
       "grid_template_areas": null,
       "grid_template_columns": null,
       "grid_template_rows": null,
       "height": null,
       "justify_content": null,
       "justify_items": null,
       "left": null,
       "margin": null,
       "max_height": null,
       "max_width": null,
       "min_height": null,
       "min_width": null,
       "object_fit": null,
       "object_position": null,
       "order": null,
       "overflow": null,
       "overflow_x": null,
       "overflow_y": null,
       "padding": null,
       "right": null,
       "top": null,
       "visibility": null,
       "width": null
      }
     },
     "9c63ff6536e84f83bb0509831711073a": {
      "model_module": "@jupyter-widgets/controls",
      "model_module_version": "1.5.0",
      "model_name": "ProgressStyleModel",
      "state": {
       "_model_module": "@jupyter-widgets/controls",
       "_model_module_version": "1.5.0",
       "_model_name": "ProgressStyleModel",
       "_view_count": null,
       "_view_module": "@jupyter-widgets/base",
       "_view_module_version": "1.2.0",
       "_view_name": "StyleView",
       "bar_color": null,
       "description_width": "initial"
      }
     },
     "ab77904fa9454a9eaf2bc31678ff2c05": {
      "model_module": "@jupyter-widgets/base",
      "model_module_version": "1.2.0",
      "model_name": "LayoutModel",
      "state": {
       "_model_module": "@jupyter-widgets/base",
       "_model_module_version": "1.2.0",
       "_model_name": "LayoutModel",
       "_view_count": null,
       "_view_module": "@jupyter-widgets/base",
       "_view_module_version": "1.2.0",
       "_view_name": "LayoutView",
       "align_content": null,
       "align_items": null,
       "align_self": null,
       "border": null,
       "bottom": null,
       "display": null,
       "flex": null,
       "flex_flow": null,
       "grid_area": null,
       "grid_auto_columns": null,
       "grid_auto_flow": null,
       "grid_auto_rows": null,
       "grid_column": null,
       "grid_gap": null,
       "grid_row": null,
       "grid_template_areas": null,
       "grid_template_columns": null,
       "grid_template_rows": null,
       "height": null,
       "justify_content": null,
       "justify_items": null,
       "left": null,
       "margin": null,
       "max_height": null,
       "max_width": null,
       "min_height": null,
       "min_width": null,
       "object_fit": null,
       "object_position": null,
       "order": null,
       "overflow": null,
       "overflow_x": null,
       "overflow_y": null,
       "padding": null,
       "right": null,
       "top": null,
       "visibility": null,
       "width": null
      }
     },
     "b05092f87db345f393d66b5e32711e59": {
      "model_module": "@jupyter-widgets/controls",
      "model_module_version": "1.5.0",
      "model_name": "HBoxModel",
      "state": {
       "_dom_classes": [],
       "_model_module": "@jupyter-widgets/controls",
       "_model_module_version": "1.5.0",
       "_model_name": "HBoxModel",
       "_view_count": null,
       "_view_module": "@jupyter-widgets/controls",
       "_view_module_version": "1.5.0",
       "_view_name": "HBoxView",
       "box_style": "",
       "children": [
        "IPY_MODEL_8d31755762154ca98ce9afca8d747dfd",
        "IPY_MODEL_3c1d08adb9f8425f994bf778424e1730"
       ],
       "layout": "IPY_MODEL_905a8f3c8493466b8e9380c0dfe4edbc"
      }
     },
     "c9a8762184414200b942fd68203aa08b": {
      "model_module": "@jupyter-widgets/controls",
      "model_module_version": "1.5.0",
      "model_name": "ProgressStyleModel",
      "state": {
       "_model_module": "@jupyter-widgets/controls",
       "_model_module_version": "1.5.0",
       "_model_name": "ProgressStyleModel",
       "_view_count": null,
       "_view_module": "@jupyter-widgets/base",
       "_view_module_version": "1.2.0",
       "_view_name": "StyleView",
       "bar_color": null,
       "description_width": "initial"
      }
     },
     "ca01e9f2cae747f58e15c142742547e3": {
      "model_module": "@jupyter-widgets/base",
      "model_module_version": "1.2.0",
      "model_name": "LayoutModel",
      "state": {
       "_model_module": "@jupyter-widgets/base",
       "_model_module_version": "1.2.0",
       "_model_name": "LayoutModel",
       "_view_count": null,
       "_view_module": "@jupyter-widgets/base",
       "_view_module_version": "1.2.0",
       "_view_name": "LayoutView",
       "align_content": null,
       "align_items": null,
       "align_self": null,
       "border": null,
       "bottom": null,
       "display": null,
       "flex": null,
       "flex_flow": null,
       "grid_area": null,
       "grid_auto_columns": null,
       "grid_auto_flow": null,
       "grid_auto_rows": null,
       "grid_column": null,
       "grid_gap": null,
       "grid_row": null,
       "grid_template_areas": null,
       "grid_template_columns": null,
       "grid_template_rows": null,
       "height": null,
       "justify_content": null,
       "justify_items": null,
       "left": null,
       "margin": null,
       "max_height": null,
       "max_width": null,
       "min_height": null,
       "min_width": null,
       "object_fit": null,
       "object_position": null,
       "order": null,
       "overflow": null,
       "overflow_x": null,
       "overflow_y": null,
       "padding": null,
       "right": null,
       "top": null,
       "visibility": null,
       "width": null
      }
     },
     "db26ce9777c54df2959bd465821b76c5": {
      "model_module": "@jupyter-widgets/controls",
      "model_module_version": "1.5.0",
      "model_name": "DescriptionStyleModel",
      "state": {
       "_model_module": "@jupyter-widgets/controls",
       "_model_module_version": "1.5.0",
       "_model_name": "DescriptionStyleModel",
       "_view_count": null,
       "_view_module": "@jupyter-widgets/base",
       "_view_module_version": "1.2.0",
       "_view_name": "StyleView",
       "description_width": ""
      }
     },
     "dd7558d31d8f4a6db50b3305478e7318": {
      "model_module": "@jupyter-widgets/base",
      "model_module_version": "1.2.0",
      "model_name": "LayoutModel",
      "state": {
       "_model_module": "@jupyter-widgets/base",
       "_model_module_version": "1.2.0",
       "_model_name": "LayoutModel",
       "_view_count": null,
       "_view_module": "@jupyter-widgets/base",
       "_view_module_version": "1.2.0",
       "_view_name": "LayoutView",
       "align_content": null,
       "align_items": null,
       "align_self": null,
       "border": null,
       "bottom": null,
       "display": null,
       "flex": null,
       "flex_flow": null,
       "grid_area": null,
       "grid_auto_columns": null,
       "grid_auto_flow": null,
       "grid_auto_rows": null,
       "grid_column": null,
       "grid_gap": null,
       "grid_row": null,
       "grid_template_areas": null,
       "grid_template_columns": null,
       "grid_template_rows": null,
       "height": null,
       "justify_content": null,
       "justify_items": null,
       "left": null,
       "margin": null,
       "max_height": null,
       "max_width": null,
       "min_height": null,
       "min_width": null,
       "object_fit": null,
       "object_position": null,
       "order": null,
       "overflow": null,
       "overflow_x": null,
       "overflow_y": null,
       "padding": null,
       "right": null,
       "top": null,
       "visibility": null,
       "width": null
      }
     },
     "e607bbaad301471d850005faab8ffbcd": {
      "model_module": "@jupyter-widgets/base",
      "model_module_version": "1.2.0",
      "model_name": "LayoutModel",
      "state": {
       "_model_module": "@jupyter-widgets/base",
       "_model_module_version": "1.2.0",
       "_model_name": "LayoutModel",
       "_view_count": null,
       "_view_module": "@jupyter-widgets/base",
       "_view_module_version": "1.2.0",
       "_view_name": "LayoutView",
       "align_content": null,
       "align_items": null,
       "align_self": null,
       "border": null,
       "bottom": null,
       "display": null,
       "flex": null,
       "flex_flow": null,
       "grid_area": null,
       "grid_auto_columns": null,
       "grid_auto_flow": null,
       "grid_auto_rows": null,
       "grid_column": null,
       "grid_gap": null,
       "grid_row": null,
       "grid_template_areas": null,
       "grid_template_columns": null,
       "grid_template_rows": null,
       "height": null,
       "justify_content": null,
       "justify_items": null,
       "left": null,
       "margin": null,
       "max_height": null,
       "max_width": null,
       "min_height": null,
       "min_width": null,
       "object_fit": null,
       "object_position": null,
       "order": null,
       "overflow": null,
       "overflow_x": null,
       "overflow_y": null,
       "padding": null,
       "right": null,
       "top": null,
       "visibility": null,
       "width": null
      }
     },
     "ed3006f40e52447d991fb96793b0b9d2": {
      "model_module": "@jupyter-widgets/controls",
      "model_module_version": "1.5.0",
      "model_name": "FloatProgressModel",
      "state": {
       "_dom_classes": [],
       "_model_module": "@jupyter-widgets/controls",
       "_model_module_version": "1.5.0",
       "_model_name": "FloatProgressModel",
       "_view_count": null,
       "_view_module": "@jupyter-widgets/controls",
       "_view_module_version": "1.5.0",
       "_view_name": "ProgressView",
       "bar_style": "success",
       "description": "Downloading: 100%",
       "description_tooltip": null,
       "layout": "IPY_MODEL_19bf24abd2eb4bbc9e59ac473f63f15d",
       "max": 1042301.0,
       "min": 0.0,
       "orientation": "horizontal",
       "style": "IPY_MODEL_c9a8762184414200b942fd68203aa08b",
       "value": 1042301.0
      }
     },
     "efd11be55e8a48f19f2e3de7da99aff6": {
      "model_module": "@jupyter-widgets/controls",
      "model_module_version": "1.5.0",
      "model_name": "DescriptionStyleModel",
      "state": {
       "_model_module": "@jupyter-widgets/controls",
       "_model_module_version": "1.5.0",
       "_model_name": "DescriptionStyleModel",
       "_view_count": null,
       "_view_module": "@jupyter-widgets/base",
       "_view_module_version": "1.2.0",
       "_view_name": "StyleView",
       "description_width": ""
      }
     },
     "f1b13712ba824a88912f60b1171b1623": {
      "model_module": "@jupyter-widgets/base",
      "model_module_version": "1.2.0",
      "model_name": "LayoutModel",
      "state": {
       "_model_module": "@jupyter-widgets/base",
       "_model_module_version": "1.2.0",
       "_model_name": "LayoutModel",
       "_view_count": null,
       "_view_module": "@jupyter-widgets/base",
       "_view_module_version": "1.2.0",
       "_view_name": "LayoutView",
       "align_content": null,
       "align_items": null,
       "align_self": null,
       "border": null,
       "bottom": null,
       "display": null,
       "flex": null,
       "flex_flow": null,
       "grid_area": null,
       "grid_auto_columns": null,
       "grid_auto_flow": null,
       "grid_auto_rows": null,
       "grid_column": null,
       "grid_gap": null,
       "grid_row": null,
       "grid_template_areas": null,
       "grid_template_columns": null,
       "grid_template_rows": null,
       "height": null,
       "justify_content": null,
       "justify_items": null,
       "left": null,
       "margin": null,
       "max_height": null,
       "max_width": null,
       "min_height": null,
       "min_width": null,
       "object_fit": null,
       "object_position": null,
       "order": null,
       "overflow": null,
       "overflow_x": null,
       "overflow_y": null,
       "padding": null,
       "right": null,
       "top": null,
       "visibility": null,
       "width": null
      }
     },
     "f38f8568209545d5ac295ac41947a907": {
      "model_module": "@jupyter-widgets/base",
      "model_module_version": "1.2.0",
      "model_name": "LayoutModel",
      "state": {
       "_model_module": "@jupyter-widgets/base",
       "_model_module_version": "1.2.0",
       "_model_name": "LayoutModel",
       "_view_count": null,
       "_view_module": "@jupyter-widgets/base",
       "_view_module_version": "1.2.0",
       "_view_name": "LayoutView",
       "align_content": null,
       "align_items": null,
       "align_self": null,
       "border": null,
       "bottom": null,
       "display": null,
       "flex": null,
       "flex_flow": null,
       "grid_area": null,
       "grid_auto_columns": null,
       "grid_auto_flow": null,
       "grid_auto_rows": null,
       "grid_column": null,
       "grid_gap": null,
       "grid_row": null,
       "grid_template_areas": null,
       "grid_template_columns": null,
       "grid_template_rows": null,
       "height": null,
       "justify_content": null,
       "justify_items": null,
       "left": null,
       "margin": null,
       "max_height": null,
       "max_width": null,
       "min_height": null,
       "min_width": null,
       "object_fit": null,
       "object_position": null,
       "order": null,
       "overflow": null,
       "overflow_x": null,
       "overflow_y": null,
       "padding": null,
       "right": null,
       "top": null,
       "visibility": null,
       "width": null
      }
     }
    },
    "version_major": 2,
    "version_minor": 0
   }
  }
 },
 "nbformat": 4,
 "nbformat_minor": 4
}
