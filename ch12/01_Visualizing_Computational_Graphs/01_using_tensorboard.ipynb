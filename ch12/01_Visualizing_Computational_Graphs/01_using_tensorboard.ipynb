{
 "cells": [
  {
   "cell_type": "markdown",
   "metadata": {
    "colab_type": "text",
    "id": "cuBY4N9aauen"
   },
   "source": [
    "# Using Tensorboard\n",
    "-----------------------------\n",
    "\n",
    "Neural networks are often criticized because it's difficult to understand how they learn. </br>\n",
    "TensorBoard is a powerful visualization tool that allows to open the black box and go inside the model.\n",
    "\n",
    "We'll illustrate the various uses of Tensorboard in this script.\n",
    " 1. Visualize scalars, distributions, images and histograms\n",
    " 2. Visualize TensorFlow model\n",
    "\n",
    "We start by loading the necessary libraries!"
   ]
  },
  {
   "cell_type": "code",
   "execution_count": null,
   "metadata": {
    "colab": {},
    "colab_type": "code",
    "executionInfo": {
     "elapsed": 2584,
     "status": "ok",
     "timestamp": 1601103010785,
     "user": {
      "displayName": "Alexia Audevart",
      "photoUrl": "https://lh3.googleusercontent.com/a-/AOh14Ggwako-F982wqMhMKBGTSz7xNQvuu4pmC79syucvA=s64",
      "userId": "09723170522858788865"
     },
     "user_tz": -120
    },
    "id": "a4BR1z7Haueo"
   },
   "outputs": [],
   "source": [
    "import tensorflow as tf\n",
    "import numpy as np\n",
    "import datetime"
   ]
  },
  {
   "cell_type": "markdown",
   "metadata": {
    "colab_type": "text",
    "id": "ss7rBM3Wauer"
   },
   "source": [
    "## Build MNIST Model\n",
    "To illustrate the various ways we can use TensorBoard, we will reimplement the `MNIST` model from `The Introductory CNN Model` in `Chapter 8, Convolutional Neural Network`."
   ]
  },
  {
   "cell_type": "code",
   "execution_count": null,
   "metadata": {
    "colab": {
     "base_uri": "https://localhost:8080/",
     "height": 53
    },
    "colab_type": "code",
    "executionInfo": {
     "elapsed": 3997,
     "status": "ok",
     "timestamp": 1601103012205,
     "user": {
      "displayName": "Alexia Audevart",
      "photoUrl": "https://lh3.googleusercontent.com/a-/AOh14Ggwako-F982wqMhMKBGTSz7xNQvuu4pmC79syucvA=s64",
      "userId": "09723170522858788865"
     },
     "user_tz": -120
    },
    "id": "PkHclYjwauer",
    "outputId": "b56961b8-fb68-4f81-b287-c4df32874901"
   },
   "outputs": [],
   "source": [
    "(x_train, y_train), (x_test, y_test) = tf.keras.datasets.mnist.load_data()\n",
    "\n",
    "x_train = x_train.reshape(-1, 28, 28, 1)\n",
    "x_test = x_test.reshape(-1, 28, 28, 1)\n",
    "\n",
    "# Padding the images by 2 pixels since in the paper input images were 32x32\n",
    "x_train = np.pad(x_train, ((0,0),(2,2),(2,2),(0,0)), 'constant')\n",
    "x_test = np.pad(x_test, ((0,0),(2,2),(2,2),(0,0)), 'constant')\n",
    "\n",
    "# Normalize\n",
    "x_train = x_train / 255\n",
    "x_test = x_test/ 255\n",
    "\n",
    "# Set model parameters\n",
    "image_width = x_train[0].shape[0]\n",
    "image_height = x_train[0].shape[1]\n",
    "num_channels = 1 # grayscale = 1 channel\n",
    "\n",
    "# Training and Test data variables\n",
    "batch_size = 100\n",
    "evaluation_size = 500\n",
    "generations = 300\n",
    "eval_every = 5\n",
    "\n",
    "# Set for reproducible results\n",
    "seed = 98\n",
    "np.random.seed(seed)\n",
    "tf.random.set_seed(seed)\n",
    "\n",
    "# Declare the model\n",
    "input_data = tf.keras.Input(dtype=tf.float32, shape=(image_width,image_height, num_channels), name=\"INPUT\")\n",
    "\n",
    "# First Conv-ReLU-MaxPool Layer\n",
    "conv1 = tf.keras.layers.Conv2D(filters=6,\n",
    "                               kernel_size=5,\n",
    "                               padding='VALID',\n",
    "                               activation=\"relu\",\n",
    "                               name=\"C1\")(input_data)\n",
    "\n",
    "max_pool1 = tf.keras.layers.MaxPool2D(pool_size=2,\n",
    "                                      strides=2, \n",
    "                                      padding='SAME',\n",
    "                                      name=\"S1\")(conv1)\n",
    "\n",
    "# Second Conv-ReLU-MaxPool Layer\n",
    "conv2 = tf.keras.layers.Conv2D(filters=16,\n",
    "                               kernel_size=5,\n",
    "                               padding='VALID',\n",
    "                               strides=1,\n",
    "                               activation=\"relu\",\n",
    "                               name=\"C3\")(max_pool1)\n",
    "\n",
    "max_pool2 = tf.keras.layers.MaxPool2D(pool_size=2,\n",
    "                                      strides=2, \n",
    "                                      padding='SAME',\n",
    "                                      name=\"S4\")(conv2)\n",
    "\n",
    "# Flatten Layer\n",
    "flatten = tf.keras.layers.Flatten(name=\"FLATTEN\")(max_pool2)\n",
    "\n",
    "\n",
    "# First Fully Connected Layer\n",
    "fully_connected1 = tf.keras.layers.Dense(units=120,\n",
    "                                         activation=\"relu\",\n",
    "                                         name=\"F5\")(flatten)\n",
    "\n",
    "# Second Fully Connected Layer\n",
    "fully_connected2 = tf.keras.layers.Dense(units=84,\n",
    "                                         activation=\"relu\",\n",
    "                                         name=\"F6\")(fully_connected1)\n",
    "\n",
    "# Final Fully Connected Layer\n",
    "final_model_output = tf.keras.layers.Dense(units=10,\n",
    "                                           activation=\"softmax\",\n",
    "                                           name=\"OUTPUT\"\n",
    "                                           )(fully_connected2)\n",
    "    \n",
    "\n",
    "model = tf.keras.Model(inputs= input_data, outputs=final_model_output)"
   ]
  },
  {
   "cell_type": "markdown",
   "metadata": {
    "colab_type": "text",
    "id": "GsQLNGNQaueu"
   },
   "source": [
    "Next, we will compile the model with the sparse categorical cross-entropy loss and the ADAM optimizer.\n",
    "Then, we'll display the summary"
   ]
  },
  {
   "cell_type": "code",
   "execution_count": null,
   "metadata": {
    "colab": {},
    "colab_type": "code",
    "executionInfo": {
     "elapsed": 3996,
     "status": "ok",
     "timestamp": 1601103012206,
     "user": {
      "displayName": "Alexia Audevart",
      "photoUrl": "https://lh3.googleusercontent.com/a-/AOh14Ggwako-F982wqMhMKBGTSz7xNQvuu4pmC79syucvA=s64",
      "userId": "09723170522858788865"
     },
     "user_tz": -120
    },
    "id": "KhMHUZi7aueu"
   },
   "outputs": [],
   "source": [
    "model.compile(\n",
    "    optimizer=\"adam\", \n",
    "    loss=\"sparse_categorical_crossentropy\",\n",
    "    metrics=[\"accuracy\"]\n",
    ")"
   ]
  },
  {
   "cell_type": "code",
   "execution_count": null,
   "metadata": {
    "colab": {
     "base_uri": "https://localhost:8080/",
     "height": 485
    },
    "colab_type": "code",
    "executionInfo": {
     "elapsed": 476,
     "status": "ok",
     "timestamp": 1601103118658,
     "user": {
      "displayName": "Alexia Audevart",
      "photoUrl": "https://lh3.googleusercontent.com/a-/AOh14Ggwako-F982wqMhMKBGTSz7xNQvuu4pmC79syucvA=s64",
      "userId": "09723170522858788865"
     },
     "user_tz": -120
    },
    "id": "Ug68Q9wRauex",
    "outputId": "084e899e-84b3-43ef-c91f-622dca6d5dc2"
   },
   "outputs": [],
   "source": [
    "model.summary()"
   ]
  },
  {
   "cell_type": "markdown",
   "metadata": {
    "colab_type": "text",
    "id": "EaY8p0wAaue0"
   },
   "source": [
    "## Add TensorBoard Callback & Fit the model\n",
    "\n",
    "We will create a timestamped subdirectory for each runs."
   ]
  },
  {
   "cell_type": "code",
   "execution_count": null,
   "metadata": {
    "colab": {},
    "colab_type": "code",
    "executionInfo": {
     "elapsed": 540,
     "status": "ok",
     "timestamp": 1601103120266,
     "user": {
      "displayName": "Alexia Audevart",
      "photoUrl": "https://lh3.googleusercontent.com/a-/AOh14Ggwako-F982wqMhMKBGTSz7xNQvuu4pmC79syucvA=s64",
      "userId": "09723170522858788865"
     },
     "user_tz": -120
    },
    "id": "DOFGJsdNaue0"
   },
   "outputs": [],
   "source": [
    "log_dir=\"logs/experiment\" + datetime.datetime.now().strftime(\"%Y%m%d-%H%M%S\")"
   ]
  },
  {
   "cell_type": "markdown",
   "metadata": {
    "colab_type": "text",
    "id": "lSBNaKMiaue2"
   },
   "source": [
    "Next, we will instantiate a TensorBoard callback and pass it to the fit method. All logs during the training phase will be stored in this directory and can be able to view instantly in TensorBoard."
   ]
  },
  {
   "cell_type": "code",
   "execution_count": null,
   "metadata": {
    "colab": {
     "base_uri": "https://localhost:8080/",
     "height": 289
    },
    "colab_type": "code",
    "executionInfo": {
     "elapsed": 203610,
     "status": "ok",
     "timestamp": 1601103325170,
     "user": {
      "displayName": "Alexia Audevart",
      "photoUrl": "https://lh3.googleusercontent.com/a-/AOh14Ggwako-F982wqMhMKBGTSz7xNQvuu4pmC79syucvA=s64",
      "userId": "09723170522858788865"
     },
     "user_tz": -120
    },
    "id": "jWStwrXoaue3",
    "outputId": "fc8d67ed-b00f-4b05-e35b-95af3c0b82d4"
   },
   "outputs": [],
   "source": [
    "tensorboard_callback = tf.keras.callbacks.TensorBoard(log_dir=log_dir, \n",
    "                                                      write_images=True,\n",
    "                                                      histogram_freq=1 )\n",
    "\n",
    "model.fit(x=x_train, \n",
    "          y=y_train, \n",
    "          epochs=5,\n",
    "          validation_data=(x_test, y_test), \n",
    "          callbacks=[tensorboard_callback])"
   ]
  },
  {
   "cell_type": "markdown",
   "metadata": {
    "colab_type": "text",
    "id": "jSECLsu-aue5"
   },
   "source": [
    "## Start TensorBoard\n",
    "\n",
    "We then start the Tensorboard application by running the command:\n",
    "\n",
    "`$ tensorboard --logdir=\"logs\"`\n",
    "\n",
    "Then we navigate our browser to the following link:\n",
    "\n",
    "`http://127.0.0.0:6006`\n",
    "\n",
    "We can specify a different port if needed by passing for example a `--port 6007` command (for running on port 6007).\n",
    "\n",
    "We can also start TensorBoard within the notebook through the `%tensorboard --logdir=\"logs\"` command line \n",
    "\n",
    "> Note that TensorBoard will be viewable _*as*_ your program is running."
   ]
  },
  {
   "cell_type": "markdown",
   "metadata": {
    "colab_type": "text",
    "id": "H1ZzQz77aue6"
   },
   "source": [
    "## Visualize scalars, distributions, images and histograms\n",
    "We can quickly and easily visualize and compare metrics of several experiments during the model training through the TensorBoard's scalars view. By default, TensorBoard writes the metrics and losses every epoch. We can update this frequency by batch using the following argument \n",
    "`update_freq='batch'`. \n",
    "\n",
    "We can also visualize model weights as image with the argument `write_images=True` or display bias and weights with histograms (computation every epoch) using `histogram_freq=1 `.\n"
   ]
  },
  {
   "cell_type": "markdown",
   "metadata": {
    "colab_type": "text",
    "id": "B-RF2_24aue6"
   },
   "source": [
    "Here the screenshot of the scalars view:\n",
    "\n",
    "![scalars view](../images/01_tensorboard_scalars.png)"
   ]
  },
  {
   "cell_type": "markdown",
   "metadata": {
    "colab_type": "text",
    "id": "38mJ6ttOaue7"
   },
   "source": [
    "Here we show how to visualize weights and bias with a histogram summary.\n",
    "\n",
    "![histogram view](../images/01_tensorboard_histograms.png)"
   ]
  },
  {
   "cell_type": "markdown",
   "metadata": {
    "colab_type": "text",
    "id": "cvYGQtg4aue7"
   },
   "source": [
    "## Visualize TensorFlow model\n",
    "The TensorFlow's Graphs dashboard shows the model using different views. \n",
    "\n",
    "This dashboard allows to visualize the op-level graph but also the conceptual graph that displays only the Keras model without extra edges to other computation nodes.\n",
    "\n",
    "These views allow to quickly examinate and compare our intended design and how TensorFlow understands the model structure.\n",
    "\n",
    "Here we show how to visualize the op-level graph.\n",
    "\n",
    "![op-level graph view](../images/01_tensorboard_graph.png)"
   ]
  },
  {
   "cell_type": "markdown",
   "metadata": {
    "colab_type": "text",
    "id": "kIB8wVRcaue8"
   },
   "source": [
    "## Use file writer\n",
    "\n",
    "Create a FileWriter for the timestamped log directory and write the top ten images. "
   ]
  },
  {
   "cell_type": "code",
   "execution_count": null,
   "metadata": {
    "colab": {},
    "colab_type": "code",
    "executionInfo": {
     "elapsed": 169507,
     "status": "ok",
     "timestamp": 1601103325174,
     "user": {
      "displayName": "Alexia Audevart",
      "photoUrl": "https://lh3.googleusercontent.com/a-/AOh14Ggwako-F982wqMhMKBGTSz7xNQvuu4pmC79syucvA=s64",
      "userId": "09723170522858788865"
     },
     "user_tz": -120
    },
    "id": "jP4pvxk7aue8"
   },
   "outputs": [],
   "source": [
    "\n",
    "file_writer = tf.summary.create_file_writer(log_dir)\n",
    "\n",
    "with file_writer.as_default():\n",
    "    # Reshape the images and write the image summary\n",
    "    images = np.reshape(x_train[0:10], (-1, 32, 32, 1))\n",
    "    tf.summary.image(\"10 training data examples\", images, max_outputs=10, step=0)"
   ]
  },
  {
   "cell_type": "markdown",
   "metadata": {
    "colab_type": "text",
    "id": "YsNlrmd7aue-"
   },
   "source": [
    "Here we show how to visualize the top ten images.\n",
    "\n",
    "![image graph view](../images/01_tensorboard_image.png)\n"
   ]
  }
 ],
 "metadata": {
  "colab": {
   "name": "01_using_tensorboard.ipynb",
   "provenance": []
  },
  "kernelspec": {
   "display_name": "Python 3",
   "language": "python",
   "name": "python3"
  },
  "language_info": {
   "codemirror_mode": {
    "name": "ipython",
    "version": 3
   },
   "file_extension": ".py",
   "mimetype": "text/x-python",
   "name": "python",
   "nbconvert_exporter": "python",
   "pygments_lexer": "ipython3",
   "version": "3.7.4"
  }
 },
 "nbformat": 4,
 "nbformat_minor": 4
}
