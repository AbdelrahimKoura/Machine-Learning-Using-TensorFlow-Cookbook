{
 "cells": [
  {
   "cell_type": "markdown",
   "metadata": {
    "colab_type": "text",
    "id": "KItfUAGxRzZx"
   },
   "source": [
    "# Parallelizing TensorFlow with Mirrored Strategy\n",
    "\n",
    "We will show how to use TensorFlow Distributed API"
   ]
  },
  {
   "cell_type": "code",
   "execution_count": null,
   "metadata": {
    "colab": {},
    "colab_type": "code",
    "executionInfo": {
     "elapsed": 2868,
     "status": "ok",
     "timestamp": 1601104203658,
     "user": {
      "displayName": "Alexia Audevart",
      "photoUrl": "https://lh3.googleusercontent.com/a-/AOh14Ggwako-F982wqMhMKBGTSz7xNQvuu4pmC79syucvA=s64",
      "userId": "09723170522858788865"
     },
     "user_tz": -120
    },
    "id": "ReNFcbMcRzZy"
   },
   "outputs": [],
   "source": [
    "import tensorflow as tf\n",
    "import tensorflow_datasets as tfds"
   ]
  },
  {
   "cell_type": "markdown",
   "metadata": {
    "colab_type": "text",
    "id": "hKtzSUYlWfku"
   },
   "source": [
    "We will create two virtual GPUs"
   ]
  },
  {
   "cell_type": "code",
   "execution_count": null,
   "metadata": {
    "colab": {},
    "colab_type": "code",
    "executionInfo": {
     "elapsed": 4234,
     "status": "ok",
     "timestamp": 1601104205028,
     "user": {
      "displayName": "Alexia Audevart",
      "photoUrl": "https://lh3.googleusercontent.com/a-/AOh14Ggwako-F982wqMhMKBGTSz7xNQvuu4pmC79syucvA=s64",
      "userId": "09723170522858788865"
     },
     "user_tz": -120
    },
    "id": "KMT_ulnFRzZ1"
   },
   "outputs": [],
   "source": [
    "# Create two virtual GPUs\n",
    "gpu_devices = tf.config.list_physical_devices('GPU')\n",
    "if gpu_devices:\n",
    "    try:\n",
    "        tf.config.experimental.set_virtual_device_configuration(gpu_devices[0],\n",
    "                                                   [tf.config.experimental.VirtualDeviceConfiguration(memory_limit=1024),\n",
    "                                                    tf.config.experimental.VirtualDeviceConfiguration(memory_limit=1024) ])\n",
    "    except RuntimeError as e:\n",
    "        # Memory growth cannot be modified after GPU has been initialized\n",
    "        print(e)"
   ]
  },
  {
   "cell_type": "markdown",
   "metadata": {
    "colab_type": "text",
    "id": "1_4Qe4j6pM93"
   },
   "source": [
    "Next, we will load the MNIST dataset via the `tensorflow_datasets` API."
   ]
  },
  {
   "cell_type": "code",
   "execution_count": null,
   "metadata": {
    "colab": {
     "base_uri": "https://localhost:8080/",
     "height": 211,
     "referenced_widgets": [
      "23b97c9cd41e4b92b571c7a3547e373c",
      "f6e0f1091af043548de0b55203aa4ac5",
      "b531948290e0427d8249c410ec8a2db2",
      "52238e0518364cf2adf113bb24a91e68",
      "42294c4dee554001a5878572d85f7343",
      "6ca3b4d177084271aab1437bd4d88eca",
      "d4982937522d47508a0055971927d075",
      "5e57b7c347b74fd097924786f170b3df"
     ]
    },
    "colab_type": "code",
    "executionInfo": {
     "elapsed": 9817,
     "status": "ok",
     "timestamp": 1601104210613,
     "user": {
      "displayName": "Alexia Audevart",
      "photoUrl": "https://lh3.googleusercontent.com/a-/AOh14Ggwako-F982wqMhMKBGTSz7xNQvuu4pmC79syucvA=s64",
      "userId": "09723170522858788865"
     },
     "user_tz": -120
    },
    "id": "paguPXOPRzZ6",
    "outputId": "26b871fc-20d3-4242-8de3-c4c32101f175"
   },
   "outputs": [],
   "source": [
    "datasets, info = tfds.load('mnist', with_info=True, as_supervised=True)\n",
    "mnist_train, mnist_test = datasets['train'], datasets['test']"
   ]
  },
  {
   "cell_type": "markdown",
   "metadata": {
    "colab_type": "text",
    "id": "9zk1S2q-pgzM"
   },
   "source": [
    "Then, we will prepare the data. "
   ]
  },
  {
   "cell_type": "code",
   "execution_count": null,
   "metadata": {
    "colab": {},
    "colab_type": "code",
    "executionInfo": {
     "elapsed": 9816,
     "status": "ok",
     "timestamp": 1601104210614,
     "user": {
      "displayName": "Alexia Audevart",
      "photoUrl": "https://lh3.googleusercontent.com/a-/AOh14Ggwako-F982wqMhMKBGTSz7xNQvuu4pmC79syucvA=s64",
      "userId": "09723170522858788865"
     },
     "user_tz": -120
    },
    "id": "zm0yCf2iRzZ8"
   },
   "outputs": [],
   "source": [
    "def normalize_img(image, label):\n",
    "  \"\"\"Normalizes images: `uint8` -> `float32`.\"\"\"\n",
    "  return tf.cast(image, tf.float32) / 255., label\n",
    "\n",
    "mnist_train = mnist_train.map(\n",
    "    normalize_img, num_parallel_calls=tf.data.experimental.AUTOTUNE)\n",
    "mnist_train = mnist_train.cache()\n",
    "mnist_train = mnist_train.shuffle(info.splits['train'].num_examples)\n",
    "mnist_train = mnist_train.prefetch(tf.data.experimental.AUTOTUNE)\n",
    "\n",
    "\n",
    "mnist_test = mnist_test.map(\n",
    "    normalize_img, num_parallel_calls=tf.data.experimental.AUTOTUNE)\n",
    "mnist_test = mnist_test.cache()\n",
    "mnist_test = mnist_test.prefetch(tf.data.experimental.AUTOTUNE)"
   ]
  },
  {
   "cell_type": "markdown",
   "metadata": {
    "colab_type": "text",
    "id": "hOFsrnUTRzaB"
   },
   "source": [
    "We are now ready to apply a mirrored strategy. The goal of this strategy is to replicate the model across all GPUs on the same machine.\n",
    "Each model is trained on different batches of data and a synchronous training strategy is applied. "
   ]
  },
  {
   "cell_type": "code",
   "execution_count": null,
   "metadata": {
    "colab": {
     "base_uri": "https://localhost:8080/",
     "height": 89
    },
    "colab_type": "code",
    "executionInfo": {
     "elapsed": 9794,
     "status": "ok",
     "timestamp": 1601104210615,
     "user": {
      "displayName": "Alexia Audevart",
      "photoUrl": "https://lh3.googleusercontent.com/a-/AOh14Ggwako-F982wqMhMKBGTSz7xNQvuu4pmC79syucvA=s64",
      "userId": "09723170522858788865"
     },
     "user_tz": -120
    },
    "id": "pBm-OtpARzaB",
    "outputId": "038fa280-6603-46dd-bdfa-0c5a5e140b23"
   },
   "outputs": [],
   "source": [
    "mirrored_strategy = tf.distribute.MirroredStrategy()"
   ]
  },
  {
   "cell_type": "markdown",
   "metadata": {
    "colab_type": "text",
    "id": "qixn64lUq60_"
   },
   "source": [
    "We check that we have two devices corresponding to the two virtual GPUs created at the beginning of this recipe."
   ]
  },
  {
   "cell_type": "code",
   "execution_count": null,
   "metadata": {
    "colab": {
     "base_uri": "https://localhost:8080/",
     "height": 35
    },
    "colab_type": "code",
    "executionInfo": {
     "elapsed": 9787,
     "status": "ok",
     "timestamp": 1601104210615,
     "user": {
      "displayName": "Alexia Audevart",
      "photoUrl": "https://lh3.googleusercontent.com/a-/AOh14Ggwako-F982wqMhMKBGTSz7xNQvuu4pmC79syucvA=s64",
      "userId": "09723170522858788865"
     },
     "user_tz": -120
    },
    "id": "H_hL_Nh-R7ys",
    "outputId": "f688a8dd-46e3-40e8-a20f-ebe115fa298d"
   },
   "outputs": [],
   "source": [
    "print('Number of devices: {}'.format(mirrored_strategy.num_replicas_in_sync))"
   ]
  },
  {
   "cell_type": "markdown",
   "metadata": {
    "colab_type": "text",
    "id": "V58jdE6PrkPa"
   },
   "source": [
    "We'll define the batch size"
   ]
  },
  {
   "cell_type": "code",
   "execution_count": null,
   "metadata": {
    "colab": {},
    "colab_type": "code",
    "executionInfo": {
     "elapsed": 10087,
     "status": "ok",
     "timestamp": 1601104210917,
     "user": {
      "displayName": "Alexia Audevart",
      "photoUrl": "https://lh3.googleusercontent.com/a-/AOh14Ggwako-F982wqMhMKBGTSz7xNQvuu4pmC79syucvA=s64",
      "userId": "09723170522858788865"
     },
     "user_tz": -120
    },
    "id": "4AitsRrCWFGI"
   },
   "outputs": [],
   "source": [
    "BATCH_SIZE_PER_REPLICA = 128\n",
    "BATCH_SIZE = BATCH_SIZE_PER_REPLICA * mirrored_strategy.num_replicas_in_sync\n",
    "\n",
    "mnist_train = mnist_train.batch(BATCH_SIZE)\n",
    "mnist_test = mnist_test.batch(BATCH_SIZE)"
   ]
  },
  {
   "cell_type": "markdown",
   "metadata": {
    "colab_type": "text",
    "id": "9kSzsZ44sCAH"
   },
   "source": [
    "We'll define and compile our model using the mirrored strategy.\n"
   ]
  },
  {
   "cell_type": "code",
   "execution_count": null,
   "metadata": {
    "colab": {},
    "colab_type": "code",
    "executionInfo": {
     "elapsed": 10085,
     "status": "ok",
     "timestamp": 1601104210918,
     "user": {
      "displayName": "Alexia Audevart",
      "photoUrl": "https://lh3.googleusercontent.com/a-/AOh14Ggwako-F982wqMhMKBGTSz7xNQvuu4pmC79syucvA=s64",
      "userId": "09723170522858788865"
     },
     "user_tz": -120
    },
    "id": "iHg3UbiwRzaG"
   },
   "outputs": [],
   "source": [
    "with mirrored_strategy.scope():\n",
    "    model = tf.keras.Sequential()\n",
    "    model.add(tf.keras.layers.Flatten(name=\"FLATTEN\"))\n",
    "    model.add(tf.keras.layers.Dense(units=128 , activation=\"relu\", name=\"D1\"))\n",
    "    model.add(tf.keras.layers.Dense(units=64 , activation=\"relu\", name=\"D2\"))\n",
    "    model.add(tf.keras.layers.Dense(units=10, activation=\"softmax\", name=\"OUTPUT\"))\n",
    "    \n",
    "    model.compile(\n",
    "        optimizer=\"sgd\", \n",
    "        loss=\"sparse_categorical_crossentropy\",\n",
    "        metrics=[\"accuracy\"]\n",
    "    )\n"
   ]
  },
  {
   "cell_type": "code",
   "execution_count": null,
   "metadata": {
    "colab": {
     "base_uri": "https://localhost:8080/",
     "height": 1000
    },
    "colab_type": "code",
    "id": "e1yVd5BrTSPO",
    "outputId": "c79aef2b-8daf-426a-b265-585fd4d79328"
   },
   "outputs": [],
   "source": [
    "model.fit(mnist_train, \n",
    "          epochs=10,\n",
    "          validation_data= mnist_test\n",
    "          )"
   ]
  }
 ],
 "metadata": {
  "accelerator": "GPU",
  "colab": {
   "name": "05_parallelizing_tensorflow.ipynb",
   "provenance": []
  },
  "kernelspec": {
   "display_name": "Python 3",
   "language": "python",
   "name": "python3"
  },
  "language_info": {
   "codemirror_mode": {
    "name": "ipython",
    "version": 3
   },
   "file_extension": ".py",
   "mimetype": "text/x-python",
   "name": "python",
   "nbconvert_exporter": "python",
   "pygments_lexer": "ipython3",
   "version": "3.7.4"
  },
  "widgets": {
   "application/vnd.jupyter.widget-state+json": {
    "23b97c9cd41e4b92b571c7a3547e373c": {
     "model_module": "@jupyter-widgets/controls",
     "model_name": "HBoxModel",
     "state": {
      "_dom_classes": [],
      "_model_module": "@jupyter-widgets/controls",
      "_model_module_version": "1.5.0",
      "_model_name": "HBoxModel",
      "_view_count": null,
      "_view_module": "@jupyter-widgets/controls",
      "_view_module_version": "1.5.0",
      "_view_name": "HBoxView",
      "box_style": "",
      "children": [
       "IPY_MODEL_b531948290e0427d8249c410ec8a2db2",
       "IPY_MODEL_52238e0518364cf2adf113bb24a91e68"
      ],
      "layout": "IPY_MODEL_f6e0f1091af043548de0b55203aa4ac5"
     }
    },
    "42294c4dee554001a5878572d85f7343": {
     "model_module": "@jupyter-widgets/controls",
     "model_name": "ProgressStyleModel",
     "state": {
      "_model_module": "@jupyter-widgets/controls",
      "_model_module_version": "1.5.0",
      "_model_name": "ProgressStyleModel",
      "_view_count": null,
      "_view_module": "@jupyter-widgets/base",
      "_view_module_version": "1.2.0",
      "_view_name": "StyleView",
      "bar_color": null,
      "description_width": "initial"
     }
    },
    "52238e0518364cf2adf113bb24a91e68": {
     "model_module": "@jupyter-widgets/controls",
     "model_name": "HTMLModel",
     "state": {
      "_dom_classes": [],
      "_model_module": "@jupyter-widgets/controls",
      "_model_module_version": "1.5.0",
      "_model_name": "HTMLModel",
      "_view_count": null,
      "_view_module": "@jupyter-widgets/controls",
      "_view_module_version": "1.5.0",
      "_view_name": "HTMLView",
      "description": "",
      "description_tooltip": null,
      "layout": "IPY_MODEL_5e57b7c347b74fd097924786f170b3df",
      "placeholder": "​",
      "style": "IPY_MODEL_d4982937522d47508a0055971927d075",
      "value": " 4/4 [00:04&lt;00:00,  1.21s/ file]"
     }
    },
    "5e57b7c347b74fd097924786f170b3df": {
     "model_module": "@jupyter-widgets/base",
     "model_name": "LayoutModel",
     "state": {
      "_model_module": "@jupyter-widgets/base",
      "_model_module_version": "1.2.0",
      "_model_name": "LayoutModel",
      "_view_count": null,
      "_view_module": "@jupyter-widgets/base",
      "_view_module_version": "1.2.0",
      "_view_name": "LayoutView",
      "align_content": null,
      "align_items": null,
      "align_self": null,
      "border": null,
      "bottom": null,
      "display": null,
      "flex": null,
      "flex_flow": null,
      "grid_area": null,
      "grid_auto_columns": null,
      "grid_auto_flow": null,
      "grid_auto_rows": null,
      "grid_column": null,
      "grid_gap": null,
      "grid_row": null,
      "grid_template_areas": null,
      "grid_template_columns": null,
      "grid_template_rows": null,
      "height": null,
      "justify_content": null,
      "justify_items": null,
      "left": null,
      "margin": null,
      "max_height": null,
      "max_width": null,
      "min_height": null,
      "min_width": null,
      "object_fit": null,
      "object_position": null,
      "order": null,
      "overflow": null,
      "overflow_x": null,
      "overflow_y": null,
      "padding": null,
      "right": null,
      "top": null,
      "visibility": null,
      "width": null
     }
    },
    "6ca3b4d177084271aab1437bd4d88eca": {
     "model_module": "@jupyter-widgets/base",
     "model_name": "LayoutModel",
     "state": {
      "_model_module": "@jupyter-widgets/base",
      "_model_module_version": "1.2.0",
      "_model_name": "LayoutModel",
      "_view_count": null,
      "_view_module": "@jupyter-widgets/base",
      "_view_module_version": "1.2.0",
      "_view_name": "LayoutView",
      "align_content": null,
      "align_items": null,
      "align_self": null,
      "border": null,
      "bottom": null,
      "display": null,
      "flex": null,
      "flex_flow": null,
      "grid_area": null,
      "grid_auto_columns": null,
      "grid_auto_flow": null,
      "grid_auto_rows": null,
      "grid_column": null,
      "grid_gap": null,
      "grid_row": null,
      "grid_template_areas": null,
      "grid_template_columns": null,
      "grid_template_rows": null,
      "height": null,
      "justify_content": null,
      "justify_items": null,
      "left": null,
      "margin": null,
      "max_height": null,
      "max_width": null,
      "min_height": null,
      "min_width": null,
      "object_fit": null,
      "object_position": null,
      "order": null,
      "overflow": null,
      "overflow_x": null,
      "overflow_y": null,
      "padding": null,
      "right": null,
      "top": null,
      "visibility": null,
      "width": null
     }
    },
    "b531948290e0427d8249c410ec8a2db2": {
     "model_module": "@jupyter-widgets/controls",
     "model_name": "FloatProgressModel",
     "state": {
      "_dom_classes": [],
      "_model_module": "@jupyter-widgets/controls",
      "_model_module_version": "1.5.0",
      "_model_name": "FloatProgressModel",
      "_view_count": null,
      "_view_module": "@jupyter-widgets/controls",
      "_view_module_version": "1.5.0",
      "_view_name": "ProgressView",
      "bar_style": "success",
      "description": "Dl Completed...: 100%",
      "description_tooltip": null,
      "layout": "IPY_MODEL_6ca3b4d177084271aab1437bd4d88eca",
      "max": 4,
      "min": 0,
      "orientation": "horizontal",
      "style": "IPY_MODEL_42294c4dee554001a5878572d85f7343",
      "value": 4
     }
    },
    "d4982937522d47508a0055971927d075": {
     "model_module": "@jupyter-widgets/controls",
     "model_name": "DescriptionStyleModel",
     "state": {
      "_model_module": "@jupyter-widgets/controls",
      "_model_module_version": "1.5.0",
      "_model_name": "DescriptionStyleModel",
      "_view_count": null,
      "_view_module": "@jupyter-widgets/base",
      "_view_module_version": "1.2.0",
      "_view_name": "StyleView",
      "description_width": ""
     }
    },
    "f6e0f1091af043548de0b55203aa4ac5": {
     "model_module": "@jupyter-widgets/base",
     "model_name": "LayoutModel",
     "state": {
      "_model_module": "@jupyter-widgets/base",
      "_model_module_version": "1.2.0",
      "_model_name": "LayoutModel",
      "_view_count": null,
      "_view_module": "@jupyter-widgets/base",
      "_view_module_version": "1.2.0",
      "_view_name": "LayoutView",
      "align_content": null,
      "align_items": null,
      "align_self": null,
      "border": null,
      "bottom": null,
      "display": null,
      "flex": null,
      "flex_flow": null,
      "grid_area": null,
      "grid_auto_columns": null,
      "grid_auto_flow": null,
      "grid_auto_rows": null,
      "grid_column": null,
      "grid_gap": null,
      "grid_row": null,
      "grid_template_areas": null,
      "grid_template_columns": null,
      "grid_template_rows": null,
      "height": null,
      "justify_content": null,
      "justify_items": null,
      "left": null,
      "margin": null,
      "max_height": null,
      "max_width": null,
      "min_height": null,
      "min_width": null,
      "object_fit": null,
      "object_position": null,
      "order": null,
      "overflow": null,
      "overflow_x": null,
      "overflow_y": null,
      "padding": null,
      "right": null,
      "top": null,
      "visibility": null,
      "width": null
     }
    }
   }
  }
 },
 "nbformat": 4,
 "nbformat_minor": 4
}
