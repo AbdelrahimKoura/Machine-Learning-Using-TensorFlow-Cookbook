{
 "cells": [
  {
   "cell_type": "markdown",
   "metadata": {
    "colab_type": "text",
    "id": "CfjQHIfmapOJ"
   },
   "source": [
    "# Manage Hyperparameter Tuning with TensorBoard's HParams \n",
    "-----------------------------\n",
    "\n",
    "Tuning hyperparameters in Machine Learning project could be a real pain. The process is iterative and can take a long time to test all the hyperparameters combination.\n",
    "But fortunately, HParams, a TensorBoard plugin come to the rescue. It allows to test and find the better combination of hyperparameters.\n",
    "\n",
    "We start by loading the necessary libraries"
   ]
  },
  {
   "cell_type": "code",
   "execution_count": null,
   "metadata": {
    "colab": {},
    "colab_type": "code",
    "executionInfo": {
     "elapsed": 2033,
     "status": "ok",
     "timestamp": 1601103568199,
     "user": {
      "displayName": "Alexia Audevart",
      "photoUrl": "https://lh3.googleusercontent.com/a-/AOh14Ggwako-F982wqMhMKBGTSz7xNQvuu4pmC79syucvA=s64",
      "userId": "09723170522858788865"
     },
     "user_tz": -120
    },
    "id": "j-RN2EtcapOK"
   },
   "outputs": [],
   "source": [
    "import tensorflow as tf\n",
    "from tensorboard.plugins.hparams import api as hp\n",
    "import numpy as np\n",
    "import datetime"
   ]
  },
  {
   "cell_type": "markdown",
   "metadata": {
    "colab_type": "text",
    "id": "Hcxk-DWaapON"
   },
   "source": [
    "## Load and Prepare MNIST dataset\n"
   ]
  },
  {
   "cell_type": "code",
   "execution_count": null,
   "metadata": {
    "colab": {
     "base_uri": "https://localhost:8080/",
     "height": 53
    },
    "colab_type": "code",
    "executionInfo": {
     "elapsed": 2836,
     "status": "ok",
     "timestamp": 1601103569010,
     "user": {
      "displayName": "Alexia Audevart",
      "photoUrl": "https://lh3.googleusercontent.com/a-/AOh14Ggwako-F982wqMhMKBGTSz7xNQvuu4pmC79syucvA=s64",
      "userId": "09723170522858788865"
     },
     "user_tz": -120
    },
    "id": "xNoO10_1apOO",
    "outputId": "d9f2131d-a37c-40c3-c11a-13864cc83c91"
   },
   "outputs": [],
   "source": [
    "(x_train, y_train), (x_test, y_test) = tf.keras.datasets.mnist.load_data()\n",
    "\n",
    "# Normalize\n",
    "x_train = x_train / 255\n",
    "x_test = x_test/ 255"
   ]
  },
  {
   "cell_type": "markdown",
   "metadata": {
    "colab_type": "text",
    "id": "0sAZ6on-apOQ"
   },
   "source": [
    "## Hyperparameters"
   ]
  },
  {
   "cell_type": "code",
   "execution_count": null,
   "metadata": {
    "colab": {},
    "colab_type": "code",
    "executionInfo": {
     "elapsed": 2829,
     "status": "ok",
     "timestamp": 1601103569012,
     "user": {
      "displayName": "Alexia Audevart",
      "photoUrl": "https://lh3.googleusercontent.com/a-/AOh14Ggwako-F982wqMhMKBGTSz7xNQvuu4pmC79syucvA=s64",
      "userId": "09723170522858788865"
     },
     "user_tz": -120
    },
    "id": "r3ZLNn7-apOR"
   },
   "outputs": [],
   "source": [
    "HP_ARCHITECTURE_NN = hp.HParam('archi_nn', hp.Discrete(['128,64','256,128']))\n",
    "HP_DROPOUT = hp.HParam('dropout', hp.RealInterval(0.0, 0.1))\n",
    "HP_OPTIMIZER = hp.HParam('optimizer', hp.Discrete(['adam', 'sgd']))"
   ]
  },
  {
   "cell_type": "markdown",
   "metadata": {
    "colab_type": "text",
    "id": "2Xe_Guq2apOT"
   },
   "source": [
    "## Build the model\n",
    "We will use a simple sequential model on the `MNIST` dataset and we will configure the HParams callback."
   ]
  },
  {
   "cell_type": "code",
   "execution_count": null,
   "metadata": {
    "colab": {},
    "colab_type": "code",
    "executionInfo": {
     "elapsed": 2824,
     "status": "ok",
     "timestamp": 1601103569013,
     "user": {
      "displayName": "Alexia Audevart",
      "photoUrl": "https://lh3.googleusercontent.com/a-/AOh14Ggwako-F982wqMhMKBGTSz7xNQvuu4pmC79syucvA=s64",
      "userId": "09723170522858788865"
     },
     "user_tz": -120
    },
    "id": "ecKMXKg8apOT"
   },
   "outputs": [],
   "source": [
    "def train_model(hparams, experiment_run_log_dir):\n",
    "    \n",
    "    nb_units = list(map(int, hparams[HP_ARCHITECTURE_NN].split(\",\")))\n",
    "    \n",
    "    model = tf.keras.models.Sequential()\n",
    "    model.add(tf.keras.layers.Flatten(name=\"FLATTEN\"))\n",
    "    model.add(tf.keras.layers.Dense(units=nb_units[0] , activation=\"relu\", name=\"D1\"))\n",
    "    model.add(tf.keras.layers.Dropout(hparams[HP_DROPOUT], name=\"DROP_OUT\"))\n",
    "    model.add(tf.keras.layers.Dense(units=nb_units[1] , activation=\"relu\", name=\"D2\"))\n",
    "    model.add(tf.keras.layers.Dense(units=10, activation=\"softmax\", name=\"OUTPUT\"))\n",
    "    \n",
    "    model.compile(\n",
    "        optimizer=hparams[HP_OPTIMIZER], \n",
    "        loss=\"sparse_categorical_crossentropy\",\n",
    "        metrics=[\"accuracy\"]\n",
    "    )\n",
    "    \n",
    "    tensorboard_callback = tf.keras.callbacks.TensorBoard(log_dir=experiment_run_log_dir)\n",
    "    hparams_callback = hp.KerasCallback(experiment_run_log_dir, hparams)\n",
    "    \n",
    "    model.fit(x=x_train, \n",
    "              y=y_train, \n",
    "              epochs=5,\n",
    "              validation_data=(x_test, y_test),\n",
    "              callbacks=[tensorboard_callback, hparams_callback]\n",
    "             ) "
   ]
  },
  {
   "cell_type": "markdown",
   "metadata": {
    "colab_type": "text",
    "id": "JKSn-NWQapOV"
   },
   "source": [
    "Next, We will iterate on all the hyperparameters."
   ]
  },
  {
   "cell_type": "code",
   "execution_count": null,
   "metadata": {
    "colab": {
     "base_uri": "https://localhost:8080/",
     "height": 432
    },
    "colab_type": "code",
    "executionInfo": {
     "elapsed": 4384,
     "status": "error",
     "timestamp": 1601103609691,
     "user": {
      "displayName": "Alexia Audevart",
      "photoUrl": "https://lh3.googleusercontent.com/a-/AOh14Ggwako-F982wqMhMKBGTSz7xNQvuu4pmC79syucvA=s64",
      "userId": "09723170522858788865"
     },
     "user_tz": -120
    },
    "id": "L5lR7jPXapOW",
    "outputId": "c96b24bf-3899-48df-d036-012017e85834"
   },
   "outputs": [],
   "source": [
    "for archi_nn in HP_ARCHITECTURE_NN.domain.values:\n",
    "    for optimizer in HP_OPTIMIZER.domain.values:\n",
    "        for dropout_rate in (HP_DROPOUT.domain.min_value, HP_DROPOUT.domain.max_value):\n",
    "            hparams = {\n",
    "                HP_ARCHITECTURE_NN : archi_nn, \n",
    "                HP_OPTIMIZER: optimizer,\n",
    "                HP_DROPOUT : dropout_rate\n",
    "            }\n",
    "            \n",
    "            experiment_run_log_dir=\"logs/experiment-\" + datetime.datetime.now().strftime(\"%Y%m%d-%H%M%S\")\n",
    "            \n",
    "            train_model(hparams, experiment_run_log_dir)"
   ]
  },
  {
   "cell_type": "markdown",
   "metadata": {
    "colab_type": "text",
    "id": "yWweU7k8apOZ"
   },
   "source": [
    "## Start TensorBoard\n",
    "\n",
    "We then start the Tensorboard application by running the command:\n",
    "\n",
    "`$ tensorboard --logdir=\"logs\"`\n",
    "\n",
    "Then we navigate our browser to the folling link:\n",
    "\n",
    "`http://127.0.0.0:6006`\n",
    "\n",
    "Note that we can specify a different port if needed by passing for example a `--port 6007` command (for running on port 6007.\n",
    "\n",
    "\n",
    "We can also start TensorBoard within the notebook through the `%tensorboard --logdir=\"logs\"` command line \n",
    "\n",
    "> Note that Tensorboard will be viewable _*as*_ your program is running."
   ]
  },
  {
   "cell_type": "markdown",
   "metadata": {
    "colab_type": "text",
    "id": "-L3bGe4zapOZ"
   },
   "source": [
    "## Visualize the result in the HParams dashboard\n",
    "We can visualize the results (hyperparameters and metrics) for each run on the table view.<br>\n",
    "Note that filters and sorts can be applied on the left pane if needed."
   ]
  },
  {
   "cell_type": "markdown",
   "metadata": {
    "colab_type": "text",
    "id": "mGwuN-lxapOa"
   },
   "source": [
    "Here the screenshot of the table view:\n",
    "\n",
    "![scalars view](../images/02_tensorboard_hparams_table.png)"
   ]
  },
  {
   "cell_type": "markdown",
   "metadata": {
    "colab_type": "text",
    "id": "7g8pfPFCapOa"
   },
   "source": [
    "On the parallel coordinates view, each axis represents a hyperparameter or a metric and each run is represented by a line. <br>\n",
    "This visualization allows to identify quickly the better hyperparameters combination.\n",
    "Here we show how to visualize a vector of parameters with a histogram summary.\n",
    "\n",
    "![histogram view](../images/02_tensorboard_hparams_coord.png)"
   ]
  },
  {
   "cell_type": "code",
   "execution_count": null,
   "metadata": {
    "colab": {},
    "colab_type": "code",
    "executionInfo": {
     "elapsed": 38080,
     "status": "aborted",
     "timestamp": 1601103604284,
     "user": {
      "displayName": "Alexia Audevart",
      "photoUrl": "https://lh3.googleusercontent.com/a-/AOh14Ggwako-F982wqMhMKBGTSz7xNQvuu4pmC79syucvA=s64",
      "userId": "09723170522858788865"
     },
     "user_tz": -120
    },
    "id": "_A9rCTlbapOb"
   },
   "outputs": [],
   "source": []
  }
 ],
 "metadata": {
  "accelerator": "GPU",
  "colab": {
   "name": "02_Hyperparameter_tuning_with_HParams.ipynb",
   "provenance": []
  },
  "kernelspec": {
   "display_name": "Python 3",
   "language": "python",
   "name": "python3"
  },
  "language_info": {
   "codemirror_mode": {
    "name": "ipython",
    "version": 3
   },
   "file_extension": ".py",
   "mimetype": "text/x-python",
   "name": "python",
   "nbconvert_exporter": "python",
   "pygments_lexer": "ipython3",
   "version": "3.7.4"
  }
 },
 "nbformat": 4,
 "nbformat_minor": 4
}
