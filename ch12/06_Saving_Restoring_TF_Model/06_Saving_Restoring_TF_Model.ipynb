{
 "cells": [
  {
   "cell_type": "markdown",
   "metadata": {
    "id": "d1y_QQbCQOiZ"
   },
   "source": [
    "# Saving and restoring a TensorFlow model\n",
    "\n",
    "We start by loading the necessary libraries."
   ]
  },
  {
   "cell_type": "code",
   "execution_count": null,
   "metadata": {
    "id": "GDbv2ObtQOib"
   },
   "outputs": [],
   "source": [
    "import tensorflow as tf"
   ]
  },
  {
   "cell_type": "markdown",
   "metadata": {
    "id": "DNjUAPjdQOie"
   },
   "source": [
    "Then, we’ll build a MNIST model using the Keras Sequential API."
   ]
  },
  {
   "cell_type": "code",
   "execution_count": null,
   "metadata": {
    "id": "i8e0atM5QOif",
    "outputId": "b4cfdcb3-125b-4874-df3e-299d7de6b8e3"
   },
   "outputs": [],
   "source": [
    "(x_train, y_train), (x_test, y_test) = tf.keras.datasets.mnist.load_data()\n",
    "\n",
    "# Normalize\n",
    "x_train = x_train / 255\n",
    "x_test = x_test/ 255\n",
    "\n",
    "model = tf.keras.Sequential()\n",
    "model.add(tf.keras.layers.Flatten(name=\"FLATTEN\"))\n",
    "model.add(tf.keras.layers.Dense(units=128 , activation=\"relu\", name=\"D1\"))\n",
    "model.add(tf.keras.layers.Dense(units=64 , activation=\"relu\", name=\"D2\"))\n",
    "model.add(tf.keras.layers.Dense(units=10, activation=\"softmax\", name=\"OUTPUT\"))\n",
    "    \n",
    "model.compile(optimizer=\"sgd\", \n",
    "              loss=\"sparse_categorical_crossentropy\",\n",
    "              metrics=[\"accuracy\"]\n",
    "             )\n",
    "\n",
    "model.fit(x=x_train, \n",
    "          y=y_train, \n",
    "          epochs=5,\n",
    "          validation_data=(x_test, y_test)\n",
    "         ) "
   ]
  },
  {
   "cell_type": "markdown",
   "metadata": {
    "id": "ACtX0msHQOij"
   },
   "source": [
    "## Save and restore an entire model as SavedModel format\n",
    "\n",
    "The SavedModel is the recommended format for save an entire model to disk."
   ]
  },
  {
   "cell_type": "code",
   "execution_count": null,
   "metadata": {
    "id": "B8ieDgFTQOij",
    "outputId": "9aeaf6a0-98d3-4fb9-ae26-cf51e8bb83ae"
   },
   "outputs": [],
   "source": [
    "model.save(\"SavedModel\")"
   ]
  },
  {
   "cell_type": "code",
   "execution_count": null,
   "metadata": {
    "id": "LY3rgSU1QOil"
   },
   "outputs": [],
   "source": [
    "model2 = tf.keras.models.load_model(\"SavedModel\")"
   ]
  },
  {
   "cell_type": "markdown",
   "metadata": {
    "id": "CtOoiDkqQOio"
   },
   "source": [
    "## Save and restore an entire model as Keras H5 format\n",
    "\n",
    "We can either passing a filename that ends in `.h5` or adding the `save_format=\"h5\"` argument."
   ]
  },
  {
   "cell_type": "code",
   "execution_count": null,
   "metadata": {
    "id": "Bpa0IxzDQOio"
   },
   "outputs": [],
   "source": [
    "model.save(\"SavedModel.h5\")"
   ]
  },
  {
   "cell_type": "code",
   "execution_count": null,
   "metadata": {
    "id": "CufRJurkQOiq"
   },
   "outputs": [],
   "source": [
    "model.save(\"model_save\", save_format=\"h5\")"
   ]
  },
  {
   "cell_type": "markdown",
   "metadata": {
    "id": "patsL-mMQOit"
   },
   "source": [
    "## Save and restore weights a TensorFlow Checkpoint\n",
    "\n",
    "We can also use a `ModelCheckpoint` callback in order to save an entire model or just the weights into a checkpoint structure.\n",
    "This callback is added to the callback argument in the `fit` method.\n",
    "\n",
    "The model weights will be stored every epoch."
   ]
  },
  {
   "cell_type": "code",
   "execution_count": null,
   "metadata": {
    "id": "6cVSSvYFQOit"
   },
   "outputs": [],
   "source": [
    "checkpoint_callback = tf.keras.callbacks.ModelCheckpoint(filepath=\"./checkpoint\",\n",
    "                                                         save_weights_only=True,\n",
    "                                                         save_freq='epoch')"
   ]
  },
  {
   "cell_type": "code",
   "execution_count": null,
   "metadata": {
    "id": "nQDlRIKLQOiv",
    "outputId": "d57e2413-1c7e-40d4-e820-99165acdd8d4"
   },
   "outputs": [],
   "source": [
    "\n",
    "model.fit(x=x_train, \n",
    "          y=y_train, \n",
    "          epochs=5,\n",
    "          validation_data=(x_test, y_test),\n",
    "          callbacks=[checkpoint_callback]\n",
    "         ) "
   ]
  },
  {
   "cell_type": "code",
   "execution_count": null,
   "metadata": {
    "id": "gRh_nF1mQOiy"
   },
   "outputs": [],
   "source": [
    "model.load_weights(\"./checkpoint\")"
   ]
  },
  {
   "cell_type": "code",
   "execution_count": null,
   "metadata": {},
   "outputs": [],
   "source": []
  }
 ],
 "metadata": {
  "colab": {
   "name": "06_Saving_Restoring_TF_Model.ipynb",
   "provenance": []
  },
  "kernelspec": {
   "display_name": "Python 3",
   "language": "python",
   "name": "python3"
  },
  "language_info": {
   "codemirror_mode": {
    "name": "ipython",
    "version": 3
   },
   "file_extension": ".py",
   "mimetype": "text/x-python",
   "name": "python",
   "nbconvert_exporter": "python",
   "pygments_lexer": "ipython3",
   "version": "3.7.4"
  }
 },
 "nbformat": 4,
 "nbformat_minor": 4
}
