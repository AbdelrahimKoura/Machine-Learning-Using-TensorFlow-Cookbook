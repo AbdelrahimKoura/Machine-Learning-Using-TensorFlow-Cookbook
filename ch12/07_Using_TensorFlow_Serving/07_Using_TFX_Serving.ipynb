{
 "cells": [
  {
   "cell_type": "markdown",
   "metadata": {},
   "source": [
    "# Using TensorFlow Extended for serving the model\n",
    "\n",
    "We start by loading the necessary libraries."
   ]
  },
  {
   "cell_type": "code",
   "execution_count": null,
   "metadata": {},
   "outputs": [],
   "source": [
    "import tensorflow as tf\n",
    "import numpy as np\n",
    "import requests\n",
    "import matplotlib.pyplot as plt\n",
    "import json"
   ]
  },
  {
   "cell_type": "markdown",
   "metadata": {},
   "source": [
    "## Build a model\n",
    "We’ll build a MNIST model using the Keras Sequential API."
   ]
  },
  {
   "cell_type": "code",
   "execution_count": null,
   "metadata": {},
   "outputs": [],
   "source": [
    "(x_train, y_train), (x_test, y_test) = tf.keras.datasets.mnist.load_data()\n",
    "\n",
    "# Normalize\n",
    "x_train = x_train / 255\n",
    "x_test = x_test/ 255\n",
    "\n",
    "model = tf.keras.Sequential()\n",
    "model.add(tf.keras.layers.Flatten(name=\"FLATTEN\"))\n",
    "model.add(tf.keras.layers.Dense(units=128 , activation=\"relu\", name=\"D1\"))\n",
    "model.add(tf.keras.layers.Dense(units=64 , activation=\"relu\", name=\"D2\"))\n",
    "model.add(tf.keras.layers.Dense(units=10, activation=\"softmax\", name=\"OUTPUT\"))\n",
    "    \n",
    "model.compile(optimizer=\"sgd\", \n",
    "              loss=\"sparse_categorical_crossentropy\",\n",
    "              metrics=[\"accuracy\"]\n",
    "             )\n",
    "\n",
    "model.fit(x=x_train, \n",
    "          y=y_train, \n",
    "          epochs=5,\n",
    "          validation_data=(x_test, y_test)\n",
    "         ) "
   ]
  },
  {
   "cell_type": "markdown",
   "metadata": {},
   "source": [
    "## Save the entire model as SavedModel format\n",
    "\n",
    "Then, we will save our model as SavedModel format and create a directory for each version of our model."
   ]
  },
  {
   "cell_type": "code",
   "execution_count": null,
   "metadata": {},
   "outputs": [],
   "source": [
    "# Build a model directory\n",
    "!mkdir \"my_mnist_model\"\n",
    "\n",
    "# Build a directory with the version 1\n",
    "!mkdir \"my_mnist_model/1\""
   ]
  },
  {
   "cell_type": "code",
   "execution_count": null,
   "metadata": {},
   "outputs": [],
   "source": [
    "# Save the model\n",
    "model.save(\"my_mnist_model/1\")"
   ]
  },
  {
   "cell_type": "markdown",
   "metadata": {},
   "source": [
    "## Download the TensorFlow Serving docker image\n",
    "\n",
    "We'll install TensorFlow Serving by using Docker.\n",
    "\n",
    "We encourage reader to visit the official Docker documentation to get Docker installation instructions if needed.\n",
    "\n",
    "The first step is to pull the latest TensorFlow Serving docker image."
   ]
  },
  {
   "cell_type": "code",
   "execution_count": null,
   "metadata": {},
   "outputs": [],
   "source": [
    "!docker pull tensorflow/serving"
   ]
  },
  {
   "cell_type": "markdown",
   "metadata": {},
   "source": [
    "Now, we'll start a Docker container :\n",
    "- publish the REST API port 8501 to our host's port 8501\n",
    "- take the previous model `my_mnist_model`\n",
    "- bound it to the model base path `/models/my_mnist_model`\n",
    "- fill in the environment variable MODEL_NAME with `my_mnist_model`.\n",
    "\n",
    "\n",
    "_Note that this commands should be executed from the command line bash prompt!_\n",
    "\n",
    "`docker run -p 8501:8501 \\\n",
    "  --mount type=bind,source=\"$(pwd)/my_mnist_model/\",target=/models/my_mnist_model \\\n",
    "  -e MODEL_NAME=my_mnist_model -t tensorflow/serving`\n"
   ]
  },
  {
   "cell_type": "markdown",
   "metadata": {},
   "source": [
    "## Display the images to predict"
   ]
  },
  {
   "cell_type": "code",
   "execution_count": null,
   "metadata": {},
   "outputs": [],
   "source": [
    "num_rows = 4\n",
    "num_cols = 3\n",
    "plt.figure(figsize=(2*2*num_cols, 2*num_rows))\n",
    "for row in range(num_rows):\n",
    "    for col in range(num_cols):\n",
    "        index = num_cols * row + col\n",
    "        image = x_test[index]\n",
    "        true_label = y_test[index]\n",
    "        plt.subplot(num_rows, 2*num_cols, 2*index+1)\n",
    "        plt.imshow(image.reshape(28,28), cmap=\"binary\")\n",
    "        plt.axis('off')\n",
    "        plt.title('\\n\\n It is a {}'.format(y_test[index]), fontdict={'size': 16})\n",
    "plt.tight_layout()\n",
    "plt.show()"
   ]
  },
  {
   "cell_type": "markdown",
   "metadata": {},
   "source": [
    "## Send POST predict requests to our TensorFlow Serving\n",
    "\n",
    "We'll send POST predict requests to our server and pass the five images.\n",
    "\n",
    "The server will return for each image ten probabilities corresponding to the probability for each digit between 0 and 9. "
   ]
  },
  {
   "cell_type": "code",
   "execution_count": null,
   "metadata": {},
   "outputs": [],
   "source": [
    "json_request = '{{ \"instances\" : {} }}'.format(x_test[0:12].tolist())\n",
    "resp = requests.post('http://localhost:8501/v1/models/my_mnist_model:predict', data=json_request, headers = {\"content-type\": \"application/json\"})\n",
    "print('response.status_code: {}'.format(resp.status_code))     \n",
    "print('response.content: {}'.format(resp.content))\n",
    "predictions = json.loads(resp.text)['predictions']"
   ]
  },
  {
   "cell_type": "markdown",
   "metadata": {},
   "source": [
    "Then, we will display the results."
   ]
  },
  {
   "cell_type": "code",
   "execution_count": null,
   "metadata": {},
   "outputs": [],
   "source": [
    "num_rows = 4\n",
    "num_cols = 3\n",
    "plt.figure(figsize=(2*2*num_cols, 2*num_rows))\n",
    "for row in range(num_rows):\n",
    "    for col in range(num_cols):\n",
    "        index = num_cols * row + col\n",
    "        image = x_test[index]\n",
    "        predicted_label = np.argmax(predictions[index])\n",
    "        true_label = y_test[index]\n",
    "        plt.subplot(num_rows, 2*num_cols, 2*index+1)\n",
    "        plt.imshow(image.reshape(28,28), cmap=\"binary\")\n",
    "        plt.axis('off')\n",
    "        if predicted_label == true_label:\n",
    "            color = 'blue'\n",
    "        else:\n",
    "            color = 'red'\n",
    "        plt.title('\\n\\n The model predicts a {} \\n and it is a {}'.format(predicted_label, true_label), fontdict={'size': 16}, color=color)\n",
    "plt.tight_layout()\n",
    "plt.show()"
   ]
  },
  {
   "cell_type": "code",
   "execution_count": null,
   "metadata": {},
   "outputs": [],
   "source": []
  }
 ],
 "metadata": {
  "kernelspec": {
   "display_name": "Python 3",
   "language": "python",
   "name": "python3"
  },
  "language_info": {
   "codemirror_mode": {
    "name": "ipython",
    "version": 3
   },
   "file_extension": ".py",
   "mimetype": "text/x-python",
   "name": "python",
   "nbconvert_exporter": "python",
   "pygments_lexer": "ipython3",
   "version": "3.7.4"
  }
 },
 "nbformat": 4,
 "nbformat_minor": 4
}
