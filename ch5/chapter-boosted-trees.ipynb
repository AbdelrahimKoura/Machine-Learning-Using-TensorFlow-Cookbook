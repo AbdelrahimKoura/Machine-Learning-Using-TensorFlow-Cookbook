{
 "cells": [
  {
   "cell_type": "code",
   "execution_count": 1,
   "metadata": {
    "execution": {
     "iopub.execute_input": "2021-01-12T00:26:24.977079Z",
     "iopub.status.busy": "2021-01-12T00:26:24.976240Z",
     "iopub.status.idle": "2021-01-12T00:26:31.273716Z",
     "shell.execute_reply": "2021-01-12T00:26:31.274739Z"
    },
    "papermill": {
     "duration": 6.325786,
     "end_time": "2021-01-12T00:26:31.274996",
     "exception": false,
     "start_time": "2021-01-12T00:26:24.949210",
     "status": "completed"
    },
    "tags": []
   },
   "outputs": [],
   "source": [
    "import tensorflow as tf\n",
    "import numpy as np\n",
    "import pandas as pd\n",
    "from IPython.display import clear_output\n",
    "from matplotlib import pyplot as plt\n",
    "\n",
    "import matplotlib.pyplot as plt\n",
    "import seaborn as sns\n",
    "sns_colors = sns.color_palette('colorblind')\n",
    "\n",
    "from numpy.random import uniform, seed\n",
    "from scipy.interpolate import griddata\n",
    "\n",
    "from matplotlib.font_manager import FontProperties\n",
    "from sklearn.metrics import roc_curve"
   ]
  },
  {
   "cell_type": "code",
   "execution_count": 2,
   "metadata": {
    "execution": {
     "iopub.execute_input": "2021-01-12T00:26:31.341619Z",
     "iopub.status.busy": "2021-01-12T00:26:31.340693Z",
     "iopub.status.idle": "2021-01-12T00:26:31.343072Z",
     "shell.execute_reply": "2021-01-12T00:26:31.342380Z"
    },
    "papermill": {
     "duration": 0.039202,
     "end_time": "2021-01-12T00:26:31.343206",
     "exception": false,
     "start_time": "2021-01-12T00:26:31.304004",
     "status": "completed"
    },
    "tags": []
   },
   "outputs": [],
   "source": [
    "inchpad = 0.4"
   ]
  },
  {
   "cell_type": "markdown",
   "metadata": {
    "papermill": {
     "duration": 0.028672,
     "end_time": "2021-01-12T00:26:31.400976",
     "exception": false,
     "start_time": "2021-01-12T00:26:31.372304",
     "status": "completed"
    },
    "tags": []
   },
   "source": [
    "# Prediction with BoostedTrees classifier"
   ]
  },
  {
   "cell_type": "code",
   "execution_count": null,
   "metadata": {
    "papermill": {
     "duration": 0.028423,
     "end_time": "2021-01-12T00:26:31.457576",
     "exception": false,
     "start_time": "2021-01-12T00:26:31.429153",
     "status": "completed"
    },
    "tags": []
   },
   "outputs": [],
   "source": []
  },
  {
   "cell_type": "markdown",
   "metadata": {
    "papermill": {
     "duration": 0.029129,
     "end_time": "2021-01-12T00:26:31.515891",
     "exception": false,
     "start_time": "2021-01-12T00:26:31.486762",
     "status": "completed"
    },
    "tags": []
   },
   "source": [
    "Boilerplate code for plotting"
   ]
  },
  {
   "cell_type": "code",
   "execution_count": 3,
   "metadata": {
    "execution": {
     "iopub.execute_input": "2021-01-12T00:26:31.587759Z",
     "iopub.status.busy": "2021-01-12T00:26:31.586860Z",
     "iopub.status.idle": "2021-01-12T00:26:31.595970Z",
     "shell.execute_reply": "2021-01-12T00:26:31.597015Z"
    },
    "papermill": {
     "duration": 0.053368,
     "end_time": "2021-01-12T00:26:31.597189",
     "exception": false,
     "start_time": "2021-01-12T00:26:31.543821",
     "status": "completed"
    },
    "tags": []
   },
   "outputs": [],
   "source": [
    "\n",
    "def _get_color(value):\n",
    "    \"\"\"To make positive DFCs plot green, negative DFCs plot red.\"\"\"\n",
    "    green, red = sns.color_palette()[2:4]\n",
    "    if value >= 0: return green\n",
    "    return red\n",
    "\n",
    "def _add_feature_values(feature_values, ax):\n",
    "    \"\"\"Display feature's values on left of plot.\"\"\"\n",
    "    x_coord = ax.get_xlim()[0]\n",
    "    OFFSET = 0.15\n",
    "    for y_coord, (feat_name, feat_val) in enumerate(feature_values.items()):\n",
    "        t = plt.text(x_coord, y_coord - OFFSET, '{}'.format(feat_val), size=12)\n",
    "        t.set_bbox(dict(facecolor='white', alpha=0.5))\n",
    "    from matplotlib.font_manager import FontProperties\n",
    "    font = FontProperties()\n",
    "    font.set_weight('bold')\n",
    "    t = plt.text(x_coord, y_coord + 1 - OFFSET, 'feature\\nvalue',\n",
    "    fontproperties=font, size=12)\n",
    "\n",
    "def plot_example(example):\n",
    "  TOP_N = 8 # View top 8 features.\n",
    "  sorted_ix = example.abs().sort_values()[-TOP_N:].index  # Sort by magnitude.\n",
    "  example = example[sorted_ix]\n",
    "  colors = example.map(_get_color).tolist()\n",
    "  ax = example.to_frame().plot(kind='barh',\n",
    "                          color=[colors],\n",
    "                          legend=None,\n",
    "                          alpha=0.75,\n",
    "                          figsize=(10,6))\n",
    "  ax.grid(False, axis='y')\n",
    "  ax.set_yticklabels(ax.get_yticklabels(), size=14)\n",
    "\n",
    "  # Add feature values.\n",
    "  _add_feature_values(xvalid.iloc[ID][sorted_ix], ax)\n",
    "  return ax"
   ]
  },
  {
   "cell_type": "code",
   "execution_count": 4,
   "metadata": {
    "execution": {
     "iopub.execute_input": "2021-01-12T00:26:31.667608Z",
     "iopub.status.busy": "2021-01-12T00:26:31.666682Z",
     "iopub.status.idle": "2021-01-12T00:26:31.671483Z",
     "shell.execute_reply": "2021-01-12T00:26:31.672959Z"
    },
    "papermill": {
     "duration": 0.047192,
     "end_time": "2021-01-12T00:26:31.673144",
     "exception": false,
     "start_time": "2021-01-12T00:26:31.625952",
     "status": "completed"
    },
    "tags": []
   },
   "outputs": [],
   "source": [
    "def permutation_importances(est, X_eval, y_eval, metric, features):\n",
    "    \"\"\"Column by column, shuffle values and observe effect on eval set.\n",
    "\n",
    "    source: http://explained.ai/rf-importance/index.html\n",
    "    A similar approach can be done during training. See \"Drop-column importance\"\n",
    "    in the above article.\"\"\"\n",
    "    baseline = metric(est, X_eval, y_eval)\n",
    "    imp = []\n",
    "    for col in features:\n",
    "        save = X_eval[col].copy()\n",
    "        X_eval[col] = np.random.permutation(X_eval[col])\n",
    "        m = metric(est, X_eval, y_eval)\n",
    "        X_eval[col] = save\n",
    "        imp.append(baseline - m)\n",
    "    return np.array(imp)\n",
    "\n",
    "def accuracy_metric(est, X, y):\n",
    "    \"\"\"TensorFlow estimator accuracy.\"\"\"\n",
    "    eval_input_fn = make_input_fn(X,\n",
    "                                  y=y,\n",
    "                                  shuffle=False,\n",
    "                                  n_epochs=1)\n",
    "    return est.evaluate(input_fn=eval_input_fn)['accuracy']\n",
    "\n"
   ]
  },
  {
   "cell_type": "markdown",
   "metadata": {
    "papermill": {
     "duration": 0.028501,
     "end_time": "2021-01-12T00:26:31.730241",
     "exception": false,
     "start_time": "2021-01-12T00:26:31.701740",
     "status": "completed"
    },
    "tags": []
   },
   "source": [
    "We load the hotel cancellations data available from: \n",
    "https://www.kaggle.com/jessemostipak/hotel-booking-demand"
   ]
  },
  {
   "cell_type": "code",
   "execution_count": 5,
   "metadata": {
    "execution": {
     "iopub.execute_input": "2021-01-12T00:26:31.797231Z",
     "iopub.status.busy": "2021-01-12T00:26:31.796342Z",
     "iopub.status.idle": "2021-01-12T00:26:32.386984Z",
     "shell.execute_reply": "2021-01-12T00:26:32.386394Z"
    },
    "papermill": {
     "duration": 0.628412,
     "end_time": "2021-01-12T00:26:32.387124",
     "exception": false,
     "start_time": "2021-01-12T00:26:31.758712",
     "status": "completed"
    },
    "tags": []
   },
   "outputs": [
    {
     "data": {
      "text/html": [
       "<div>\n",
       "<style scoped>\n",
       "    .dataframe tbody tr th:only-of-type {\n",
       "        vertical-align: middle;\n",
       "    }\n",
       "\n",
       "    .dataframe tbody tr th {\n",
       "        vertical-align: top;\n",
       "    }\n",
       "\n",
       "    .dataframe thead th {\n",
       "        text-align: right;\n",
       "    }\n",
       "</style>\n",
       "<table border=\"1\" class=\"dataframe\">\n",
       "  <thead>\n",
       "    <tr style=\"text-align: right;\">\n",
       "      <th></th>\n",
       "      <th>hotel</th>\n",
       "      <th>is_canceled</th>\n",
       "      <th>lead_time</th>\n",
       "      <th>arrival_date_year</th>\n",
       "      <th>arrival_date_month</th>\n",
       "      <th>arrival_date_week_number</th>\n",
       "      <th>arrival_date_day_of_month</th>\n",
       "      <th>stays_in_weekend_nights</th>\n",
       "      <th>stays_in_week_nights</th>\n",
       "      <th>adults</th>\n",
       "      <th>...</th>\n",
       "      <th>deposit_type</th>\n",
       "      <th>agent</th>\n",
       "      <th>company</th>\n",
       "      <th>days_in_waiting_list</th>\n",
       "      <th>customer_type</th>\n",
       "      <th>adr</th>\n",
       "      <th>required_car_parking_spaces</th>\n",
       "      <th>total_of_special_requests</th>\n",
       "      <th>reservation_status</th>\n",
       "      <th>reservation_status_date</th>\n",
       "    </tr>\n",
       "  </thead>\n",
       "  <tbody>\n",
       "    <tr>\n",
       "      <th>0</th>\n",
       "      <td>Resort Hotel</td>\n",
       "      <td>0</td>\n",
       "      <td>342</td>\n",
       "      <td>2015</td>\n",
       "      <td>July</td>\n",
       "      <td>27</td>\n",
       "      <td>1</td>\n",
       "      <td>0</td>\n",
       "      <td>0</td>\n",
       "      <td>2</td>\n",
       "      <td>...</td>\n",
       "      <td>No Deposit</td>\n",
       "      <td>NaN</td>\n",
       "      <td>NaN</td>\n",
       "      <td>0</td>\n",
       "      <td>Transient</td>\n",
       "      <td>0.0</td>\n",
       "      <td>0</td>\n",
       "      <td>0</td>\n",
       "      <td>Check-Out</td>\n",
       "      <td>2015-07-01</td>\n",
       "    </tr>\n",
       "    <tr>\n",
       "      <th>1</th>\n",
       "      <td>Resort Hotel</td>\n",
       "      <td>0</td>\n",
       "      <td>737</td>\n",
       "      <td>2015</td>\n",
       "      <td>July</td>\n",
       "      <td>27</td>\n",
       "      <td>1</td>\n",
       "      <td>0</td>\n",
       "      <td>0</td>\n",
       "      <td>2</td>\n",
       "      <td>...</td>\n",
       "      <td>No Deposit</td>\n",
       "      <td>NaN</td>\n",
       "      <td>NaN</td>\n",
       "      <td>0</td>\n",
       "      <td>Transient</td>\n",
       "      <td>0.0</td>\n",
       "      <td>0</td>\n",
       "      <td>0</td>\n",
       "      <td>Check-Out</td>\n",
       "      <td>2015-07-01</td>\n",
       "    </tr>\n",
       "    <tr>\n",
       "      <th>2</th>\n",
       "      <td>Resort Hotel</td>\n",
       "      <td>0</td>\n",
       "      <td>7</td>\n",
       "      <td>2015</td>\n",
       "      <td>July</td>\n",
       "      <td>27</td>\n",
       "      <td>1</td>\n",
       "      <td>0</td>\n",
       "      <td>1</td>\n",
       "      <td>1</td>\n",
       "      <td>...</td>\n",
       "      <td>No Deposit</td>\n",
       "      <td>NaN</td>\n",
       "      <td>NaN</td>\n",
       "      <td>0</td>\n",
       "      <td>Transient</td>\n",
       "      <td>75.0</td>\n",
       "      <td>0</td>\n",
       "      <td>0</td>\n",
       "      <td>Check-Out</td>\n",
       "      <td>2015-07-02</td>\n",
       "    </tr>\n",
       "  </tbody>\n",
       "</table>\n",
       "<p>3 rows × 32 columns</p>\n",
       "</div>"
      ],
      "text/plain": [
       "          hotel  is_canceled  lead_time  arrival_date_year arrival_date_month  \\\n",
       "0  Resort Hotel            0        342               2015               July   \n",
       "1  Resort Hotel            0        737               2015               July   \n",
       "2  Resort Hotel            0          7               2015               July   \n",
       "\n",
       "   arrival_date_week_number  arrival_date_day_of_month  \\\n",
       "0                        27                          1   \n",
       "1                        27                          1   \n",
       "2                        27                          1   \n",
       "\n",
       "   stays_in_weekend_nights  stays_in_week_nights  adults  ...  deposit_type  \\\n",
       "0                        0                     0       2  ...    No Deposit   \n",
       "1                        0                     0       2  ...    No Deposit   \n",
       "2                        0                     1       1  ...    No Deposit   \n",
       "\n",
       "   agent company days_in_waiting_list customer_type   adr  \\\n",
       "0    NaN     NaN                    0     Transient   0.0   \n",
       "1    NaN     NaN                    0     Transient   0.0   \n",
       "2    NaN     NaN                    0     Transient  75.0   \n",
       "\n",
       "   required_car_parking_spaces  total_of_special_requests  reservation_status  \\\n",
       "0                            0                          0           Check-Out   \n",
       "1                            0                          0           Check-Out   \n",
       "2                            0                          0           Check-Out   \n",
       "\n",
       "  reservation_status_date  \n",
       "0              2015-07-01  \n",
       "1              2015-07-01  \n",
       "2              2015-07-02  \n",
       "\n",
       "[3 rows x 32 columns]"
      ]
     },
     "execution_count": 5,
     "metadata": {},
     "output_type": "execute_result"
    }
   ],
   "source": [
    "xtrain = pd.read_csv('../input/hotel-booking-demand/hotel_bookings.csv')\n",
    "xtrain.head(3)"
   ]
  },
  {
   "cell_type": "code",
   "execution_count": 6,
   "metadata": {
    "execution": {
     "iopub.execute_input": "2021-01-12T00:26:32.461129Z",
     "iopub.status.busy": "2021-01-12T00:26:32.460150Z",
     "iopub.status.idle": "2021-01-12T00:26:32.464974Z",
     "shell.execute_reply": "2021-01-12T00:26:32.464431Z"
    },
    "papermill": {
     "duration": 0.051844,
     "end_time": "2021-01-12T00:26:32.465078",
     "exception": false,
     "start_time": "2021-01-12T00:26:32.413234",
     "status": "completed"
    },
    "tags": []
   },
   "outputs": [
    {
     "data": {
      "text/html": [
       "<div>\n",
       "<style scoped>\n",
       "    .dataframe tbody tr th:only-of-type {\n",
       "        vertical-align: middle;\n",
       "    }\n",
       "\n",
       "    .dataframe tbody tr th {\n",
       "        vertical-align: top;\n",
       "    }\n",
       "\n",
       "    .dataframe thead th {\n",
       "        text-align: right;\n",
       "    }\n",
       "</style>\n",
       "<table border=\"1\" class=\"dataframe\">\n",
       "  <thead>\n",
       "    <tr style=\"text-align: right;\">\n",
       "      <th></th>\n",
       "      <th>hotel</th>\n",
       "      <th>is_canceled</th>\n",
       "      <th>lead_time</th>\n",
       "      <th>arrival_date_year</th>\n",
       "      <th>arrival_date_month</th>\n",
       "      <th>arrival_date_week_number</th>\n",
       "      <th>arrival_date_day_of_month</th>\n",
       "      <th>stays_in_weekend_nights</th>\n",
       "      <th>stays_in_week_nights</th>\n",
       "      <th>adults</th>\n",
       "      <th>...</th>\n",
       "      <th>deposit_type</th>\n",
       "      <th>agent</th>\n",
       "      <th>company</th>\n",
       "      <th>days_in_waiting_list</th>\n",
       "      <th>customer_type</th>\n",
       "      <th>adr</th>\n",
       "      <th>required_car_parking_spaces</th>\n",
       "      <th>total_of_special_requests</th>\n",
       "      <th>reservation_status</th>\n",
       "      <th>reservation_status_date</th>\n",
       "    </tr>\n",
       "  </thead>\n",
       "  <tbody>\n",
       "    <tr>\n",
       "      <th>119387</th>\n",
       "      <td>City Hotel</td>\n",
       "      <td>0</td>\n",
       "      <td>34</td>\n",
       "      <td>2017</td>\n",
       "      <td>August</td>\n",
       "      <td>35</td>\n",
       "      <td>31</td>\n",
       "      <td>2</td>\n",
       "      <td>5</td>\n",
       "      <td>2</td>\n",
       "      <td>...</td>\n",
       "      <td>No Deposit</td>\n",
       "      <td>9.0</td>\n",
       "      <td>NaN</td>\n",
       "      <td>0</td>\n",
       "      <td>Transient</td>\n",
       "      <td>157.71</td>\n",
       "      <td>0</td>\n",
       "      <td>4</td>\n",
       "      <td>Check-Out</td>\n",
       "      <td>2017-09-07</td>\n",
       "    </tr>\n",
       "    <tr>\n",
       "      <th>119388</th>\n",
       "      <td>City Hotel</td>\n",
       "      <td>0</td>\n",
       "      <td>109</td>\n",
       "      <td>2017</td>\n",
       "      <td>August</td>\n",
       "      <td>35</td>\n",
       "      <td>31</td>\n",
       "      <td>2</td>\n",
       "      <td>5</td>\n",
       "      <td>2</td>\n",
       "      <td>...</td>\n",
       "      <td>No Deposit</td>\n",
       "      <td>89.0</td>\n",
       "      <td>NaN</td>\n",
       "      <td>0</td>\n",
       "      <td>Transient</td>\n",
       "      <td>104.40</td>\n",
       "      <td>0</td>\n",
       "      <td>0</td>\n",
       "      <td>Check-Out</td>\n",
       "      <td>2017-09-07</td>\n",
       "    </tr>\n",
       "    <tr>\n",
       "      <th>119389</th>\n",
       "      <td>City Hotel</td>\n",
       "      <td>0</td>\n",
       "      <td>205</td>\n",
       "      <td>2017</td>\n",
       "      <td>August</td>\n",
       "      <td>35</td>\n",
       "      <td>29</td>\n",
       "      <td>2</td>\n",
       "      <td>7</td>\n",
       "      <td>2</td>\n",
       "      <td>...</td>\n",
       "      <td>No Deposit</td>\n",
       "      <td>9.0</td>\n",
       "      <td>NaN</td>\n",
       "      <td>0</td>\n",
       "      <td>Transient</td>\n",
       "      <td>151.20</td>\n",
       "      <td>0</td>\n",
       "      <td>2</td>\n",
       "      <td>Check-Out</td>\n",
       "      <td>2017-09-07</td>\n",
       "    </tr>\n",
       "  </tbody>\n",
       "</table>\n",
       "<p>3 rows × 32 columns</p>\n",
       "</div>"
      ],
      "text/plain": [
       "             hotel  is_canceled  lead_time  arrival_date_year  \\\n",
       "119387  City Hotel            0         34               2017   \n",
       "119388  City Hotel            0        109               2017   \n",
       "119389  City Hotel            0        205               2017   \n",
       "\n",
       "       arrival_date_month  arrival_date_week_number  \\\n",
       "119387             August                        35   \n",
       "119388             August                        35   \n",
       "119389             August                        35   \n",
       "\n",
       "        arrival_date_day_of_month  stays_in_weekend_nights  \\\n",
       "119387                         31                        2   \n",
       "119388                         31                        2   \n",
       "119389                         29                        2   \n",
       "\n",
       "        stays_in_week_nights  adults  ...  deposit_type  agent company  \\\n",
       "119387                     5       2  ...    No Deposit    9.0     NaN   \n",
       "119388                     5       2  ...    No Deposit   89.0     NaN   \n",
       "119389                     7       2  ...    No Deposit    9.0     NaN   \n",
       "\n",
       "       days_in_waiting_list customer_type     adr  \\\n",
       "119387                    0     Transient  157.71   \n",
       "119388                    0     Transient  104.40   \n",
       "119389                    0     Transient  151.20   \n",
       "\n",
       "        required_car_parking_spaces  total_of_special_requests  \\\n",
       "119387                            0                          4   \n",
       "119388                            0                          0   \n",
       "119389                            0                          2   \n",
       "\n",
       "        reservation_status reservation_status_date  \n",
       "119387           Check-Out              2017-09-07  \n",
       "119388           Check-Out              2017-09-07  \n",
       "119389           Check-Out              2017-09-07  \n",
       "\n",
       "[3 rows x 32 columns]"
      ]
     },
     "execution_count": 6,
     "metadata": {},
     "output_type": "execute_result"
    }
   ],
   "source": [
    "xtrain.tail(3)"
   ]
  },
  {
   "cell_type": "markdown",
   "metadata": {
    "papermill": {
     "duration": 0.022927,
     "end_time": "2021-01-12T00:26:32.511185",
     "exception": false,
     "start_time": "2021-01-12T00:26:32.488258",
     "status": "completed"
    },
    "tags": []
   },
   "source": [
    "The dataset has a time dimension, so a natural training / validation split can be on `reservation_status_date`:"
   ]
  },
  {
   "cell_type": "code",
   "execution_count": 7,
   "metadata": {
    "execution": {
     "iopub.execute_input": "2021-01-12T00:26:32.576126Z",
     "iopub.status.busy": "2021-01-12T00:26:32.575483Z",
     "iopub.status.idle": "2021-01-12T00:26:32.626073Z",
     "shell.execute_reply": "2021-01-12T00:26:32.625465Z"
    },
    "papermill": {
     "duration": 0.091704,
     "end_time": "2021-01-12T00:26:32.626195",
     "exception": false,
     "start_time": "2021-01-12T00:26:32.534491",
     "status": "completed"
    },
    "tags": []
   },
   "outputs": [],
   "source": [
    "xvalid = xtrain.loc[xtrain['reservation_status_date'] >= '2017-08-01']\n",
    "xtrain = xtrain.loc[xtrain['reservation_status_date'] < '2017-08-01']"
   ]
  },
  {
   "cell_type": "code",
   "execution_count": 8,
   "metadata": {
    "execution": {
     "iopub.execute_input": "2021-01-12T00:26:32.683242Z",
     "iopub.status.busy": "2021-01-12T00:26:32.677075Z",
     "iopub.status.idle": "2021-01-12T00:26:32.708249Z",
     "shell.execute_reply": "2021-01-12T00:26:32.707569Z"
    },
    "papermill": {
     "duration": 0.06003,
     "end_time": "2021-01-12T00:26:32.708378",
     "exception": false,
     "start_time": "2021-01-12T00:26:32.648348",
     "status": "completed"
    },
    "tags": []
   },
   "outputs": [],
   "source": [
    "ytrain, yvalid = xtrain['is_canceled'], xvalid['is_canceled']\n",
    "xtrain.drop('is_canceled', axis = 1, inplace = True)\n",
    "xvalid.drop('is_canceled', axis = 1, inplace = True)\n"
   ]
  },
  {
   "cell_type": "markdown",
   "metadata": {
    "papermill": {
     "duration": 0.021531,
     "end_time": "2021-01-12T00:26:32.751965",
     "exception": false,
     "start_time": "2021-01-12T00:26:32.730434",
     "status": "completed"
    },
    "tags": []
   },
   "source": [
    "We separate the columns into numerical and categorical ones and encode them in the TF-expected format. We skip some columns that could perhaps improve the model performance, but due to their nature they introduce a risk of leakage:\n",
    "* arrival_date_year \n",
    "* assigned_room_type \n",
    "* booking_changes\n",
    "* reservation_status \n",
    "* country,\n",
    "* days_in_waiting_list\n",
    "\n"
   ]
  },
  {
   "cell_type": "code",
   "execution_count": 9,
   "metadata": {
    "execution": {
     "iopub.execute_input": "2021-01-12T00:26:32.822827Z",
     "iopub.status.busy": "2021-01-12T00:26:32.821944Z",
     "iopub.status.idle": "2021-01-12T00:26:32.825306Z",
     "shell.execute_reply": "2021-01-12T00:26:32.824784Z"
    },
    "papermill": {
     "duration": 0.051177,
     "end_time": "2021-01-12T00:26:32.825409",
     "exception": false,
     "start_time": "2021-01-12T00:26:32.774232",
     "status": "completed"
    },
    "tags": []
   },
   "outputs": [],
   "source": [
    "xtrain.drop(['arrival_date_year','assigned_room_type', 'booking_changes', 'reservation_status',\n",
    "             'country', 'days_in_waiting_list'], axis =1, inplace = True)"
   ]
  },
  {
   "cell_type": "code",
   "execution_count": 10,
   "metadata": {
    "execution": {
     "iopub.execute_input": "2021-01-12T00:26:32.877698Z",
     "iopub.status.busy": "2021-01-12T00:26:32.876960Z",
     "iopub.status.idle": "2021-01-12T00:26:32.880750Z",
     "shell.execute_reply": "2021-01-12T00:26:32.880256Z"
    },
    "papermill": {
     "duration": 0.031248,
     "end_time": "2021-01-12T00:26:32.880848",
     "exception": false,
     "start_time": "2021-01-12T00:26:32.849600",
     "status": "completed"
    },
    "tags": []
   },
   "outputs": [],
   "source": [
    "num_features = [\"lead_time\",\"arrival_date_week_number\",\"arrival_date_day_of_month\",\n",
    "                \"stays_in_weekend_nights\",\"stays_in_week_nights\",\"adults\",\"children\",\n",
    "                \"babies\",\"is_repeated_guest\", \"previous_cancellations\",\n",
    "                \"previous_bookings_not_canceled\",\"agent\",\"company\",\n",
    "                \"required_car_parking_spaces\", \"total_of_special_requests\", \"adr\"]\n",
    "\n",
    "cat_features = [\"hotel\",\"arrival_date_month\",\"meal\",\"market_segment\",\n",
    "                \"distribution_channel\",\"reserved_room_type\",\"deposit_type\",\"customer_type\"]"
   ]
  },
  {
   "cell_type": "code",
   "execution_count": 11,
   "metadata": {
    "execution": {
     "iopub.execute_input": "2021-01-12T00:26:32.940643Z",
     "iopub.status.busy": "2021-01-12T00:26:32.939750Z",
     "iopub.status.idle": "2021-01-12T00:26:33.009377Z",
     "shell.execute_reply": "2021-01-12T00:26:33.008815Z"
    },
    "papermill": {
     "duration": 0.106473,
     "end_time": "2021-01-12T00:26:33.009484",
     "exception": false,
     "start_time": "2021-01-12T00:26:32.903011",
     "status": "completed"
    },
    "tags": []
   },
   "outputs": [],
   "source": [
    "def one_hot_cat_column(feature_name, vocab):\n",
    "    return tf.feature_column.indicator_column(\n",
    "      tf.feature_column.categorical_column_with_vocabulary_list(feature_name,\n",
    "                                                 vocab))\n",
    "feature_columns = []\n",
    "for feature_name in cat_features:\n",
    "    # Need to one-hot encode categorical features.\n",
    "    vocabulary = xtrain[feature_name].unique()\n",
    "    feature_columns.append(one_hot_cat_column(feature_name, vocabulary))\n",
    "\n",
    "for feature_name in num_features:\n",
    "    feature_columns.append(tf.feature_column.numeric_column(feature_name,\n",
    "                                           dtype=tf.float32))"
   ]
  },
  {
   "cell_type": "markdown",
   "metadata": {
    "papermill": {
     "duration": 0.021712,
     "end_time": "2021-01-12T00:26:33.053679",
     "exception": false,
     "start_time": "2021-01-12T00:26:33.031967",
     "status": "completed"
    },
    "tags": []
   },
   "source": [
    "The next required step is creating the input functions for BoostedTrees algorithm: we specify how data will be read into our model for both training and inference. We use the `from_tensor_slices` method in the tf.data API to read in data directly from Pandas. "
   ]
  },
  {
   "cell_type": "code",
   "execution_count": 12,
   "metadata": {
    "execution": {
     "iopub.execute_input": "2021-01-12T00:26:33.109408Z",
     "iopub.status.busy": "2021-01-12T00:26:33.107371Z",
     "iopub.status.idle": "2021-01-12T00:26:33.110063Z",
     "shell.execute_reply": "2021-01-12T00:26:33.110531Z"
    },
    "papermill": {
     "duration": 0.034592,
     "end_time": "2021-01-12T00:26:33.110655",
     "exception": false,
     "start_time": "2021-01-12T00:26:33.076063",
     "status": "completed"
    },
    "tags": []
   },
   "outputs": [],
   "source": [
    "# Use entire batch since this is such a small dataset.\n",
    "NUM_EXAMPLES = len(ytrain)\n",
    "\n",
    "def make_input_fn(X, y, n_epochs=None, shuffle=True):\n",
    "    \n",
    "    def input_fn():\n",
    "        \n",
    "        dataset = tf.data.Dataset.from_tensor_slices((dict(X), y))\n",
    "        if shuffle:\n",
    "            \n",
    "            dataset = dataset.shuffle(NUM_EXAMPLES)\n",
    "        # For training, cycle thru dataset as many times as need (n_epochs=None).\n",
    "        dataset = dataset.repeat(n_epochs)\n",
    "        # In memory training doesn't use batching.\n",
    "        dataset = dataset.batch(NUM_EXAMPLES)\n",
    "        return dataset\n",
    "    return input_fn\n",
    "\n",
    "\n",
    "# Training and evaluation input functions.\n",
    "train_input_fn = make_input_fn(xtrain, ytrain)\n",
    "eval_input_fn = make_input_fn(xvalid, yvalid, shuffle=False, n_epochs=1)"
   ]
  },
  {
   "cell_type": "markdown",
   "metadata": {
    "papermill": {
     "duration": 0.021868,
     "end_time": "2021-01-12T00:26:33.155725",
     "exception": false,
     "start_time": "2021-01-12T00:26:33.133857",
     "status": "completed"
    },
    "tags": []
   },
   "source": [
    "Build the actual BoostedTrees model"
   ]
  },
  {
   "cell_type": "code",
   "execution_count": 13,
   "metadata": {
    "execution": {
     "iopub.execute_input": "2021-01-12T00:26:33.207243Z",
     "iopub.status.busy": "2021-01-12T00:26:33.206576Z",
     "iopub.status.idle": "2021-01-12T00:38:49.777732Z",
     "shell.execute_reply": "2021-01-12T00:38:49.778243Z"
    },
    "papermill": {
     "duration": 736.600631,
     "end_time": "2021-01-12T00:38:49.778392",
     "exception": false,
     "start_time": "2021-01-12T00:26:33.177761",
     "status": "completed"
    },
    "tags": []
   },
   "outputs": [
    {
     "data": {
      "text/html": [
       "<div>\n",
       "<style scoped>\n",
       "    .dataframe tbody tr th:only-of-type {\n",
       "        vertical-align: middle;\n",
       "    }\n",
       "\n",
       "    .dataframe tbody tr th {\n",
       "        vertical-align: top;\n",
       "    }\n",
       "\n",
       "    .dataframe thead th {\n",
       "        text-align: right;\n",
       "    }\n",
       "</style>\n",
       "<table border=\"1\" class=\"dataframe\">\n",
       "  <thead>\n",
       "    <tr style=\"text-align: right;\">\n",
       "      <th></th>\n",
       "      <th>0</th>\n",
       "    </tr>\n",
       "  </thead>\n",
       "  <tbody>\n",
       "    <tr>\n",
       "      <th>accuracy</th>\n",
       "      <td>0.734383</td>\n",
       "    </tr>\n",
       "    <tr>\n",
       "      <th>accuracy_baseline</th>\n",
       "      <td>0.916010</td>\n",
       "    </tr>\n",
       "    <tr>\n",
       "      <th>auc</th>\n",
       "      <td>0.652860</td>\n",
       "    </tr>\n",
       "    <tr>\n",
       "      <th>auc_precision_recall</th>\n",
       "      <td>0.200550</td>\n",
       "    </tr>\n",
       "    <tr>\n",
       "      <th>average_loss</th>\n",
       "      <td>0.533693</td>\n",
       "    </tr>\n",
       "    <tr>\n",
       "      <th>label/mean</th>\n",
       "      <td>0.083990</td>\n",
       "    </tr>\n",
       "    <tr>\n",
       "      <th>loss</th>\n",
       "      <td>0.533693</td>\n",
       "    </tr>\n",
       "    <tr>\n",
       "      <th>precision</th>\n",
       "      <td>0.134249</td>\n",
       "    </tr>\n",
       "    <tr>\n",
       "      <th>prediction/mean</th>\n",
       "      <td>0.357677</td>\n",
       "    </tr>\n",
       "    <tr>\n",
       "      <th>recall</th>\n",
       "      <td>0.396875</td>\n",
       "    </tr>\n",
       "    <tr>\n",
       "      <th>global_step</th>\n",
       "      <td>100.000000</td>\n",
       "    </tr>\n",
       "  </tbody>\n",
       "</table>\n",
       "</div>"
      ],
      "text/plain": [
       "                               0\n",
       "accuracy                0.734383\n",
       "accuracy_baseline       0.916010\n",
       "auc                     0.652860\n",
       "auc_precision_recall    0.200550\n",
       "average_loss            0.533693\n",
       "label/mean              0.083990\n",
       "loss                    0.533693\n",
       "precision               0.134249\n",
       "prediction/mean         0.357677\n",
       "recall                  0.396875\n",
       "global_step           100.000000"
      ]
     },
     "execution_count": 13,
     "metadata": {},
     "output_type": "execute_result"
    }
   ],
   "source": [
    "params = {\n",
    "  'n_trees': 125,\n",
    "  'max_depth': 5,\n",
    "  'n_batches_per_layer': 1,\n",
    "#   'learning_rate': 0.05, \n",
    "#   'l1_regularization': 0.00001, \n",
    "#   'l2_regularization': 0.00001,\n",
    "#    'min_node_weight': 0.01,\n",
    "  # You must enable center_bias = True to get DFCs. This will force the model to\n",
    "  # make an initial prediction before using any features (e.g. use the mean of\n",
    "  # the training labels for regression or log odds for classification when\n",
    "  # using cross entropy loss).\n",
    "  'center_bias': True\n",
    "}\n",
    "\n",
    "\n",
    "est = tf.estimator.BoostedTreesClassifier(feature_columns, **params)\n",
    "# Train model.\n",
    "est.train(train_input_fn, max_steps=100)\n",
    "\n",
    "# Evaluation\n",
    "results = est.evaluate(eval_input_fn)\n",
    "pd.Series(results).to_frame()"
   ]
  },
  {
   "cell_type": "code",
   "execution_count": 14,
   "metadata": {
    "execution": {
     "iopub.execute_input": "2021-01-12T00:38:49.833295Z",
     "iopub.status.busy": "2021-01-12T00:38:49.832592Z",
     "iopub.status.idle": "2021-01-12T00:38:51.042792Z",
     "shell.execute_reply": "2021-01-12T00:38:51.043979Z"
    },
    "papermill": {
     "duration": 1.241413,
     "end_time": "2021-01-12T00:38:51.044167",
     "exception": false,
     "start_time": "2021-01-12T00:38:49.802754",
     "status": "completed"
    },
    "tags": []
   },
   "outputs": [],
   "source": [
    "pred_dicts = list(est.predict(eval_input_fn))\n",
    "probs = pd.Series([pred['probabilities'][1] for pred in pred_dicts])\n"
   ]
  },
  {
   "cell_type": "markdown",
   "metadata": {
    "papermill": {
     "duration": 0.023379,
     "end_time": "2021-01-12T00:38:51.099588",
     "exception": false,
     "start_time": "2021-01-12T00:38:51.076209",
     "status": "completed"
    },
    "tags": []
   },
   "source": [
    "We can evaluate the results at different levels of generality. Let's start with the ROC curve."
   ]
  },
  {
   "cell_type": "code",
   "execution_count": 15,
   "metadata": {
    "execution": {
     "iopub.execute_input": "2021-01-12T00:38:51.155450Z",
     "iopub.status.busy": "2021-01-12T00:38:51.154655Z",
     "iopub.status.idle": "2021-01-12T00:38:51.368355Z",
     "shell.execute_reply": "2021-01-12T00:38:51.367328Z"
    },
    "papermill": {
     "duration": 0.244891,
     "end_time": "2021-01-12T00:38:51.368478",
     "exception": false,
     "start_time": "2021-01-12T00:38:51.123587",
     "status": "completed"
    },
    "tags": []
   },
   "outputs": [
    {
     "data": {
      "image/png": "[encoded data removed]",
      "text/plain": [
       "<Figure size 432x288 with 1 Axes>"
      ]
     },
     "metadata": {
      "needs_background": "light"
     },
     "output_type": "display_data"
    }
   ],
   "source": [
    "fpr, tpr, _ = roc_curve(yvalid, probs)\n",
    "plt.plot(fpr, tpr)\n",
    "plt.title('ROC curve')\n",
    "plt.xlabel('false positive rate')\n",
    "plt.ylabel('true positive rate')\n",
    "plt.xlim(0,); plt.ylim(0,); plt.show()"
   ]
  },
  {
   "cell_type": "markdown",
   "metadata": {
    "papermill": {
     "duration": 0.024968,
     "end_time": "2021-01-12T00:38:51.418353",
     "exception": false,
     "start_time": "2021-01-12T00:38:51.393385",
     "status": "completed"
    },
    "tags": []
   },
   "source": [
    "`Local interpretability` refers to an understanding of a model’s predictions at the individual example level: we will create and visualize per-instance contributions. To distinguish this from feature importances, we refer to these values as directional feature contributions (DFCs)."
   ]
  },
  {
   "cell_type": "code",
   "execution_count": 16,
   "metadata": {
    "execution": {
     "iopub.execute_input": "2021-01-12T00:38:51.477237Z",
     "iopub.status.busy": "2021-01-12T00:38:51.476493Z",
     "iopub.status.idle": "2021-01-12T00:38:53.963924Z",
     "shell.execute_reply": "2021-01-12T00:38:53.963275Z"
    },
    "papermill": {
     "duration": 2.520351,
     "end_time": "2021-01-12T00:38:53.964072",
     "exception": false,
     "start_time": "2021-01-12T00:38:51.443721",
     "status": "completed"
    },
    "tags": []
   },
   "outputs": [
    {
     "data": {
      "text/html": [
       "<div>\n",
       "<style scoped>\n",
       "    .dataframe tbody tr th:only-of-type {\n",
       "        vertical-align: middle;\n",
       "    }\n",
       "\n",
       "    .dataframe tbody tr th {\n",
       "        vertical-align: top;\n",
       "    }\n",
       "\n",
       "    .dataframe thead th {\n",
       "        text-align: right;\n",
       "    }\n",
       "</style>\n",
       "<table border=\"1\" class=\"dataframe\">\n",
       "  <thead>\n",
       "    <tr style=\"text-align: right;\">\n",
       "      <th></th>\n",
       "      <th>count</th>\n",
       "      <th>mean</th>\n",
       "      <th>std</th>\n",
       "      <th>min</th>\n",
       "      <th>25%</th>\n",
       "      <th>50%</th>\n",
       "      <th>75%</th>\n",
       "      <th>max</th>\n",
       "    </tr>\n",
       "  </thead>\n",
       "  <tbody>\n",
       "    <tr>\n",
       "      <th>lead_time</th>\n",
       "      <td>3810.0</td>\n",
       "      <td>-0.000682</td>\n",
       "      <td>0.063035</td>\n",
       "      <td>-0.202496</td>\n",
       "      <td>-0.027492</td>\n",
       "      <td>0.008910</td>\n",
       "      <td>0.040918</td>\n",
       "      <td>0.129666</td>\n",
       "    </tr>\n",
       "    <tr>\n",
       "      <th>arrival_date_week_number</th>\n",
       "      <td>3810.0</td>\n",
       "      <td>0.018455</td>\n",
       "      <td>0.023207</td>\n",
       "      <td>-0.031759</td>\n",
       "      <td>0.004746</td>\n",
       "      <td>0.012216</td>\n",
       "      <td>0.018577</td>\n",
       "      <td>0.144226</td>\n",
       "    </tr>\n",
       "    <tr>\n",
       "      <th>arrival_date_day_of_month</th>\n",
       "      <td>3810.0</td>\n",
       "      <td>0.015650</td>\n",
       "      <td>0.025674</td>\n",
       "      <td>-0.016337</td>\n",
       "      <td>0.001810</td>\n",
       "      <td>0.003945</td>\n",
       "      <td>0.012878</td>\n",
       "      <td>0.094999</td>\n",
       "    </tr>\n",
       "    <tr>\n",
       "      <th>agent</th>\n",
       "      <td>3810.0</td>\n",
       "      <td>0.003016</td>\n",
       "      <td>0.017426</td>\n",
       "      <td>-0.061667</td>\n",
       "      <td>-0.008859</td>\n",
       "      <td>-0.000686</td>\n",
       "      <td>0.013282</td>\n",
       "      <td>0.108473</td>\n",
       "    </tr>\n",
       "    <tr>\n",
       "      <th>market_segment</th>\n",
       "      <td>3810.0</td>\n",
       "      <td>-0.005189</td>\n",
       "      <td>0.041567</td>\n",
       "      <td>-0.193779</td>\n",
       "      <td>-0.043245</td>\n",
       "      <td>0.002045</td>\n",
       "      <td>0.019084</td>\n",
       "      <td>0.116374</td>\n",
       "    </tr>\n",
       "    <tr>\n",
       "      <th>arrival_date_month</th>\n",
       "      <td>3810.0</td>\n",
       "      <td>0.015526</td>\n",
       "      <td>0.014650</td>\n",
       "      <td>-0.034951</td>\n",
       "      <td>0.005684</td>\n",
       "      <td>0.015046</td>\n",
       "      <td>0.030692</td>\n",
       "      <td>0.125894</td>\n",
       "    </tr>\n",
       "    <tr>\n",
       "      <th>previous_cancellations</th>\n",
       "      <td>3810.0</td>\n",
       "      <td>-0.022099</td>\n",
       "      <td>0.019902</td>\n",
       "      <td>-0.072509</td>\n",
       "      <td>-0.033536</td>\n",
       "      <td>-0.026191</td>\n",
       "      <td>-0.007309</td>\n",
       "      <td>0.282636</td>\n",
       "    </tr>\n",
       "    <tr>\n",
       "      <th>adr</th>\n",
       "      <td>3810.0</td>\n",
       "      <td>0.015311</td>\n",
       "      <td>0.019415</td>\n",
       "      <td>-0.041114</td>\n",
       "      <td>0.000939</td>\n",
       "      <td>0.011563</td>\n",
       "      <td>0.025249</td>\n",
       "      <td>0.134645</td>\n",
       "    </tr>\n",
       "    <tr>\n",
       "      <th>deposit_type</th>\n",
       "      <td>3810.0</td>\n",
       "      <td>-0.022877</td>\n",
       "      <td>0.013779</td>\n",
       "      <td>-0.070087</td>\n",
       "      <td>-0.024956</td>\n",
       "      <td>-0.023430</td>\n",
       "      <td>-0.021947</td>\n",
       "      <td>0.152358</td>\n",
       "    </tr>\n",
       "    <tr>\n",
       "      <th>customer_type</th>\n",
       "      <td>3810.0</td>\n",
       "      <td>-0.000542</td>\n",
       "      <td>0.034502</td>\n",
       "      <td>-0.131497</td>\n",
       "      <td>-0.006719</td>\n",
       "      <td>0.006467</td>\n",
       "      <td>0.015470</td>\n",
       "      <td>0.133783</td>\n",
       "    </tr>\n",
       "    <tr>\n",
       "      <th>required_car_parking_spaces</th>\n",
       "      <td>3810.0</td>\n",
       "      <td>-0.015401</td>\n",
       "      <td>0.039202</td>\n",
       "      <td>-0.169435</td>\n",
       "      <td>-0.017191</td>\n",
       "      <td>-0.007734</td>\n",
       "      <td>-0.002289</td>\n",
       "      <td>0.042241</td>\n",
       "    </tr>\n",
       "    <tr>\n",
       "      <th>total_of_special_requests</th>\n",
       "      <td>3810.0</td>\n",
       "      <td>-0.020094</td>\n",
       "      <td>0.051848</td>\n",
       "      <td>-0.102420</td>\n",
       "      <td>-0.055294</td>\n",
       "      <td>-0.029539</td>\n",
       "      <td>-0.003063</td>\n",
       "      <td>0.133312</td>\n",
       "    </tr>\n",
       "    <tr>\n",
       "      <th>adults</th>\n",
       "      <td>3810.0</td>\n",
       "      <td>0.000668</td>\n",
       "      <td>0.005035</td>\n",
       "      <td>-0.022188</td>\n",
       "      <td>-0.001249</td>\n",
       "      <td>0.000000</td>\n",
       "      <td>0.002084</td>\n",
       "      <td>0.063179</td>\n",
       "    </tr>\n",
       "    <tr>\n",
       "      <th>company</th>\n",
       "      <td>3810.0</td>\n",
       "      <td>0.000360</td>\n",
       "      <td>0.002084</td>\n",
       "      <td>-0.009982</td>\n",
       "      <td>0.000218</td>\n",
       "      <td>0.000306</td>\n",
       "      <td>0.000352</td>\n",
       "      <td>0.026174</td>\n",
       "    </tr>\n",
       "    <tr>\n",
       "      <th>meal</th>\n",
       "      <td>3810.0</td>\n",
       "      <td>-0.000214</td>\n",
       "      <td>0.006229</td>\n",
       "      <td>-0.016871</td>\n",
       "      <td>-0.004179</td>\n",
       "      <td>-0.000870</td>\n",
       "      <td>0.000161</td>\n",
       "      <td>0.078298</td>\n",
       "    </tr>\n",
       "    <tr>\n",
       "      <th>previous_bookings_not_canceled</th>\n",
       "      <td>3810.0</td>\n",
       "      <td>-0.001175</td>\n",
       "      <td>0.008829</td>\n",
       "      <td>-0.148906</td>\n",
       "      <td>-0.001526</td>\n",
       "      <td>-0.000223</td>\n",
       "      <td>0.000072</td>\n",
       "      <td>0.103080</td>\n",
       "    </tr>\n",
       "    <tr>\n",
       "      <th>babies</th>\n",
       "      <td>3810.0</td>\n",
       "      <td>0.000000</td>\n",
       "      <td>0.000000</td>\n",
       "      <td>0.000000</td>\n",
       "      <td>0.000000</td>\n",
       "      <td>0.000000</td>\n",
       "      <td>0.000000</td>\n",
       "      <td>0.000000</td>\n",
       "    </tr>\n",
       "    <tr>\n",
       "      <th>children</th>\n",
       "      <td>3810.0</td>\n",
       "      <td>-0.000608</td>\n",
       "      <td>0.003088</td>\n",
       "      <td>-0.014607</td>\n",
       "      <td>0.000000</td>\n",
       "      <td>0.000000</td>\n",
       "      <td>0.000000</td>\n",
       "      <td>0.038156</td>\n",
       "    </tr>\n",
       "    <tr>\n",
       "      <th>distribution_channel</th>\n",
       "      <td>3810.0</td>\n",
       "      <td>-0.001844</td>\n",
       "      <td>0.005740</td>\n",
       "      <td>-0.028605</td>\n",
       "      <td>0.000000</td>\n",
       "      <td>0.000000</td>\n",
       "      <td>0.000000</td>\n",
       "      <td>0.013732</td>\n",
       "    </tr>\n",
       "    <tr>\n",
       "      <th>hotel</th>\n",
       "      <td>3810.0</td>\n",
       "      <td>0.000084</td>\n",
       "      <td>0.001372</td>\n",
       "      <td>-0.002375</td>\n",
       "      <td>0.000000</td>\n",
       "      <td>0.000000</td>\n",
       "      <td>0.000000</td>\n",
       "      <td>0.039420</td>\n",
       "    </tr>\n",
       "    <tr>\n",
       "      <th>is_repeated_guest</th>\n",
       "      <td>3810.0</td>\n",
       "      <td>-0.000321</td>\n",
       "      <td>0.001858</td>\n",
       "      <td>-0.014834</td>\n",
       "      <td>0.000000</td>\n",
       "      <td>0.000000</td>\n",
       "      <td>0.000000</td>\n",
       "      <td>0.027414</td>\n",
       "    </tr>\n",
       "    <tr>\n",
       "      <th>reserved_room_type</th>\n",
       "      <td>3810.0</td>\n",
       "      <td>-0.000783</td>\n",
       "      <td>0.004435</td>\n",
       "      <td>-0.026198</td>\n",
       "      <td>0.000000</td>\n",
       "      <td>0.000000</td>\n",
       "      <td>0.000000</td>\n",
       "      <td>0.144094</td>\n",
       "    </tr>\n",
       "    <tr>\n",
       "      <th>stays_in_week_nights</th>\n",
       "      <td>3810.0</td>\n",
       "      <td>0.000300</td>\n",
       "      <td>0.003829</td>\n",
       "      <td>-0.009759</td>\n",
       "      <td>0.000000</td>\n",
       "      <td>0.000000</td>\n",
       "      <td>0.000000</td>\n",
       "      <td>0.112373</td>\n",
       "    </tr>\n",
       "    <tr>\n",
       "      <th>stays_in_weekend_nights</th>\n",
       "      <td>3810.0</td>\n",
       "      <td>0.000278</td>\n",
       "      <td>0.006260</td>\n",
       "      <td>-0.018538</td>\n",
       "      <td>0.000000</td>\n",
       "      <td>0.000000</td>\n",
       "      <td>0.000000</td>\n",
       "      <td>0.119828</td>\n",
       "    </tr>\n",
       "  </tbody>\n",
       "</table>\n",
       "</div>"
      ],
      "text/plain": [
       "                                 count      mean       std       min  \\\n",
       "lead_time                       3810.0 -0.000682  0.063035 -0.202496   \n",
       "arrival_date_week_number        3810.0  0.018455  0.023207 -0.031759   \n",
       "arrival_date_day_of_month       3810.0  0.015650  0.025674 -0.016337   \n",
       "agent                           3810.0  0.003016  0.017426 -0.061667   \n",
       "market_segment                  3810.0 -0.005189  0.041567 -0.193779   \n",
       "arrival_date_month              3810.0  0.015526  0.014650 -0.034951   \n",
       "previous_cancellations          3810.0 -0.022099  0.019902 -0.072509   \n",
       "adr                             3810.0  0.015311  0.019415 -0.041114   \n",
       "deposit_type                    3810.0 -0.022877  0.013779 -0.070087   \n",
       "customer_type                   3810.0 -0.000542  0.034502 -0.131497   \n",
       "required_car_parking_spaces     3810.0 -0.015401  0.039202 -0.169435   \n",
       "total_of_special_requests       3810.0 -0.020094  0.051848 -0.102420   \n",
       "adults                          3810.0  0.000668  0.005035 -0.022188   \n",
       "company                         3810.0  0.000360  0.002084 -0.009982   \n",
       "meal                            3810.0 -0.000214  0.006229 -0.016871   \n",
       "previous_bookings_not_canceled  3810.0 -0.001175  0.008829 -0.148906   \n",
       "babies                          3810.0  0.000000  0.000000  0.000000   \n",
       "children                        3810.0 -0.000608  0.003088 -0.014607   \n",
       "distribution_channel            3810.0 -0.001844  0.005740 -0.028605   \n",
       "hotel                           3810.0  0.000084  0.001372 -0.002375   \n",
       "is_repeated_guest               3810.0 -0.000321  0.001858 -0.014834   \n",
       "reserved_room_type              3810.0 -0.000783  0.004435 -0.026198   \n",
       "stays_in_week_nights            3810.0  0.000300  0.003829 -0.009759   \n",
       "stays_in_weekend_nights         3810.0  0.000278  0.006260 -0.018538   \n",
       "\n",
       "                                     25%       50%       75%       max  \n",
       "lead_time                      -0.027492  0.008910  0.040918  0.129666  \n",
       "arrival_date_week_number        0.004746  0.012216  0.018577  0.144226  \n",
       "arrival_date_day_of_month       0.001810  0.003945  0.012878  0.094999  \n",
       "agent                          -0.008859 -0.000686  0.013282  0.108473  \n",
       "market_segment                 -0.043245  0.002045  0.019084  0.116374  \n",
       "arrival_date_month              0.005684  0.015046  0.030692  0.125894  \n",
       "previous_cancellations         -0.033536 -0.026191 -0.007309  0.282636  \n",
       "adr                             0.000939  0.011563  0.025249  0.134645  \n",
       "deposit_type                   -0.024956 -0.023430 -0.021947  0.152358  \n",
       "customer_type                  -0.006719  0.006467  0.015470  0.133783  \n",
       "required_car_parking_spaces    -0.017191 -0.007734 -0.002289  0.042241  \n",
       "total_of_special_requests      -0.055294 -0.029539 -0.003063  0.133312  \n",
       "adults                         -0.001249  0.000000  0.002084  0.063179  \n",
       "company                         0.000218  0.000306  0.000352  0.026174  \n",
       "meal                           -0.004179 -0.000870  0.000161  0.078298  \n",
       "previous_bookings_not_canceled -0.001526 -0.000223  0.000072  0.103080  \n",
       "babies                          0.000000  0.000000  0.000000  0.000000  \n",
       "children                        0.000000  0.000000  0.000000  0.038156  \n",
       "distribution_channel            0.000000  0.000000  0.000000  0.013732  \n",
       "hotel                           0.000000  0.000000  0.000000  0.039420  \n",
       "is_repeated_guest               0.000000  0.000000  0.000000  0.027414  \n",
       "reserved_room_type              0.000000  0.000000  0.000000  0.144094  \n",
       "stays_in_week_nights            0.000000  0.000000  0.000000  0.112373  \n",
       "stays_in_weekend_nights         0.000000  0.000000  0.000000  0.119828  "
      ]
     },
     "execution_count": 16,
     "metadata": {},
     "output_type": "execute_result"
    }
   ],
   "source": [
    "pred_dicts = list(est.experimental_predict_with_explanations(eval_input_fn))\n",
    "\n",
    "# Create DFC Pandas dataframe.\n",
    "labels = yvalid.values\n",
    "probs = pd.Series([pred['probabilities'][1] for pred in pred_dicts])\n",
    "df_dfc = pd.DataFrame([pred['dfc'] for pred in pred_dicts])\n",
    "df_dfc.describe().T"
   ]
  },
  {
   "cell_type": "code",
   "execution_count": 17,
   "metadata": {
    "execution": {
     "iopub.execute_input": "2021-01-12T00:38:54.034433Z",
     "iopub.status.busy": "2021-01-12T00:38:54.033675Z",
     "iopub.status.idle": "2021-01-12T00:38:58.146227Z",
     "shell.execute_reply": "2021-01-12T00:38:58.147210Z"
    },
    "papermill": {
     "duration": 4.154767,
     "end_time": "2021-01-12T00:38:58.147447",
     "exception": false,
     "start_time": "2021-01-12T00:38:53.992680",
     "status": "completed"
    },
    "tags": []
   },
   "outputs": [
    {
     "data": {
      "image/png": "[encoded data removed]",
      "text/plain": [
       "<Figure size 720x432 with 1 Axes>"
      ]
     },
     "metadata": {
      "needs_background": "light"
     },
     "output_type": "display_data"
    }
   ],
   "source": [
    "# Plot results.\n",
    "ID = 10\n",
    "example = df_dfc.iloc[ID]  # Choose ith example from evaluation set.\n",
    "TOP_N = 8  # View top 8 features.\n",
    "sorted_ix = example.abs().sort_values()[-TOP_N:].index\n",
    "ax = plot_example(example)\n",
    "ax.set_title('Feature contributions for example {}\\n pred: {:1.2f}; label: {}'.format(ID, probs[ID], labels[ID]))\n",
    "ax.set_xlabel('Contribution to predicted probability', size=14)\n",
    "\n",
    "plt.savefig('B16254_05_04_KB300.png', dpi = 300, bbox_inches = \"tight\")\n",
    "plt.savefig('B16254_05_04_KB450.png', dpi = 450, bbox_inches = \"tight\")\n",
    "plt.savefig('B16254_05_04_KB600.png', dpi = 600, bbox_inches = \"tight\")\n",
    "\n",
    "plt.show()"
   ]
  },
  {
   "cell_type": "markdown",
   "metadata": {
    "papermill": {
     "duration": 0.054204,
     "end_time": "2021-01-12T00:38:58.261277",
     "exception": false,
     "start_time": "2021-01-12T00:38:58.207073",
     "status": "completed"
    },
    "tags": []
   },
   "source": [
    "`Global interpretability` refers to an understanding of the model as a whole: we will retrieve and visualize gain-based feature importances, permutation feature importances and also show aggregated DFCs."
   ]
  },
  {
   "cell_type": "markdown",
   "metadata": {
    "papermill": {
     "duration": 0.042582,
     "end_time": "2021-01-12T00:38:58.350622",
     "exception": false,
     "start_time": "2021-01-12T00:38:58.308040",
     "status": "completed"
    },
    "tags": []
   },
   "source": [
    "\n",
    "\n",
    "Gain-based feature importances using est.experimental_feature_importances\n",
    "Permutation importances\n",
    "Aggregate DFCs using est.experimental_predict_with_explanations\n",
    "Gain-based feature importances measure the loss change when splitting on a particular feature, while permutation feature importances are computed by evaluating model performance on the evaluation set by shuffling each feature one-by-one and attributing the change in model performance to the shuffled feature.\n",
    "\n",
    "In general, permutation feature importance are preferred to gain-based feature importance, though both methods can be unreliable in situations where potential predictor variables vary in their scale of measurement or their number of categories and when features are correlated (source). "
   ]
  },
  {
   "cell_type": "code",
   "execution_count": 18,
   "metadata": {
    "execution": {
     "iopub.execute_input": "2021-01-12T00:38:58.442274Z",
     "iopub.status.busy": "2021-01-12T00:38:58.441380Z",
     "iopub.status.idle": "2021-01-12T00:39:01.590503Z",
     "shell.execute_reply": "2021-01-12T00:39:01.589506Z"
    },
    "papermill": {
     "duration": 3.20029,
     "end_time": "2021-01-12T00:39:01.590624",
     "exception": false,
     "start_time": "2021-01-12T00:38:58.390334",
     "status": "completed"
    },
    "tags": []
   },
   "outputs": [
    {
     "data": {
      "image/png": "[encoded data removed]",
      "text/plain": [
       "<Figure size 720x432 with 1 Axes>"
      ]
     },
     "metadata": {
      "needs_background": "light"
     },
     "output_type": "display_data"
    }
   ],
   "source": [
    "importances = est.experimental_feature_importances(normalize=True)\n",
    "df_imp = pd.Series(importances)\n",
    "\n",
    "# Visualize importances.\n",
    "N = 8\n",
    "ax = (df_imp.iloc[0:N][::-1]\n",
    "    .plot(kind='barh',\n",
    "          color=sns_colors[0],\n",
    "          title='Gain feature importances',\n",
    "          figsize=(10, 6)))\n",
    "ax.grid(False, axis='y')\n",
    "\n",
    "plt.savefig('B16254_05_06_KB300.png', dpi = 300, bbox_inches = \"tight\")\n",
    "plt.savefig('B16254_05_06_KB450.png', dpi = 450, bbox_inches = \"tight\")\n",
    "plt.savefig('B16254_05_06_KB600.png', dpi = 600, bbox_inches = \"tight\")\n"
   ]
  },
  {
   "cell_type": "markdown",
   "metadata": {
    "papermill": {
     "duration": 0.028548,
     "end_time": "2021-01-12T00:39:01.649171",
     "exception": false,
     "start_time": "2021-01-12T00:39:01.620623",
     "status": "completed"
    },
    "tags": []
   },
   "source": [
    "Absolute values of DFCs can be averaged to understand impact at a global level."
   ]
  },
  {
   "cell_type": "code",
   "execution_count": 19,
   "metadata": {
    "execution": {
     "iopub.execute_input": "2021-01-12T00:39:01.716223Z",
     "iopub.status.busy": "2021-01-12T00:39:01.715074Z",
     "iopub.status.idle": "2021-01-12T00:39:04.715339Z",
     "shell.execute_reply": "2021-01-12T00:39:04.714315Z"
    },
    "papermill": {
     "duration": 3.037899,
     "end_time": "2021-01-12T00:39:04.715475",
     "exception": false,
     "start_time": "2021-01-12T00:39:01.677576",
     "status": "completed"
    },
    "tags": []
   },
   "outputs": [
    {
     "data": {
      "image/png": "[encoded data removed]",
      "text/plain": [
       "<Figure size 720x432 with 1 Axes>"
      ]
     },
     "metadata": {
      "needs_background": "light"
     },
     "output_type": "display_data"
    }
   ],
   "source": [
    "# Plot.\n",
    "dfc_mean = df_dfc.abs().mean()\n",
    "N = 8\n",
    "sorted_ix = dfc_mean.abs().sort_values()[-N:].index  # Average and sort by absolute.\n",
    "ax = dfc_mean[sorted_ix].plot(kind='barh',\n",
    "                       color=sns_colors[1],\n",
    "                       title='Mean |directional feature contributions|',\n",
    "                       figsize=(10, 6))\n",
    "ax.grid(False, axis='y')\n",
    "\n",
    "\n",
    "\n",
    "\n",
    "plt.savefig('B16254_05_07_KB300.png', dpi = 300, bbox_inches = \"tight\")\n",
    "plt.savefig('B16254_05_07_KB450.png', dpi = 450, bbox_inches = \"tight\")\n",
    "plt.savefig('B16254_05_07_KB600.png', dpi = 600, bbox_inches = \"tight\")"
   ]
  },
  {
   "cell_type": "code",
   "execution_count": 20,
   "metadata": {
    "execution": {
     "iopub.execute_input": "2021-01-12T00:39:04.789264Z",
     "iopub.status.busy": "2021-01-12T00:39:04.788529Z",
     "iopub.status.idle": "2021-01-12T00:39:57.664198Z",
     "shell.execute_reply": "2021-01-12T00:39:57.664776Z"
    },
    "papermill": {
     "duration": 52.916237,
     "end_time": "2021-01-12T00:39:57.664937",
     "exception": false,
     "start_time": "2021-01-12T00:39:04.748700",
     "status": "completed"
    },
    "tags": []
   },
   "outputs": [
    {
     "data": {
      "image/png": "[encoded data removed]",
      "text/plain": [
       "<Figure size 720x432 with 1 Axes>"
      ]
     },
     "metadata": {
      "needs_background": "light"
     },
     "output_type": "display_data"
    }
   ],
   "source": [
    "features = cat_features + num_features\n",
    "importances = permutation_importances(est, xvalid, yvalid, accuracy_metric,\n",
    "                                      features)\n",
    "df_imp = pd.Series(importances, index=features)\n",
    "\n",
    "sorted_ix = df_imp.abs().sort_values().index\n",
    "ax = df_imp[sorted_ix][-5:].plot(kind='barh', color=sns_colors[2], figsize=(10, 6))\n",
    "ax.grid(False, axis='y')\n",
    "ax.set_title('Permutation feature importance')\n",
    "\n",
    "plt.savefig('B16254_05_05_KB300.png', dpi = 300, bbox_inches = \"tight\")\n",
    "plt.savefig('B16254_05_05_KB450.png', dpi = 450, bbox_inches = \"tight\")\n",
    "plt.savefig('B16254_05_05_KB600.png', dpi = 600, bbox_inches = \"tight\")\n",
    "\n",
    "plt.show()"
   ]
  }
 ],
 "metadata": {
  "kernelspec": {
   "display_name": "Python 3",
   "language": "python",
   "name": "python3"
  },
  "language_info": {
   "codemirror_mode": {
    "name": "ipython",
    "version": 3
   },
   "file_extension": ".py",
   "mimetype": "text/x-python",
   "name": "python",
   "nbconvert_exporter": "python",
   "pygments_lexer": "ipython3",
   "version": "3.7.6"
  },
  "papermill": {
   "duration": 819.072274,
   "end_time": "2021-01-12T00:39:59.748973",
   "environment_variables": {},
   "exception": null,
   "input_path": "__notebook__.ipynb",
   "output_path": "__notebook__.ipynb",
   "parameters": {},
   "start_time": "2021-01-12T00:26:20.676699",
   "version": "2.1.0"
  }
 },
 "nbformat": 4,
 "nbformat_minor": 4
}
