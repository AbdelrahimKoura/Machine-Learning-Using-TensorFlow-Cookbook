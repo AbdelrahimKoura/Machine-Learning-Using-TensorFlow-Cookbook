{
 "cells": [
  {
   "cell_type": "code",
   "execution_count": 1,
   "metadata": {
    "_cell_guid": "b1076dfc-b9ad-4769-8c92-a6c4dae69d19",
    "_uuid": "8f2839f25d086af736a60e9eeb907d3b93b6e0e5",
    "collapsed": true
   },
   "outputs": [
    {
     "name": "stderr",
     "output_type": "stream",
     "text": [
      "Using TensorFlow backend.\n"
     ]
    }
   ],
   "source": [
    "# keras module for building LSTM \n",
    "from keras.preprocessing.sequence import pad_sequences\n",
    "from keras.layers import Embedding, LSTM, Dense\n",
    "from keras.preprocessing.text import Tokenizer\n",
    "from keras.callbacks import EarlyStopping\n",
    "from keras.models import Sequential\n",
    "import keras.utils as ku \n",
    "\n",
    "# set seeds for reproducability\n",
    "from tensorflow import set_random_seed\n",
    "from numpy.random import seed\n",
    "set_random_seed(2)\n",
    "seed(1)\n",
    "\n",
    "import pandas as pd\n",
    "import numpy as np\n",
    "import string, os \n",
    "\n",
    "import warnings\n",
    "warnings.filterwarnings(\"ignore\")\n",
    "warnings.simplefilter(action='ignore', category=FutureWarning)"
   ]
  },
  {
   "cell_type": "markdown",
   "metadata": {},
   "source": [
    "# Functions"
   ]
  },
  {
   "cell_type": "code",
   "execution_count": 2,
   "metadata": {},
   "outputs": [],
   "source": [
    "def clean_text(txt):\n",
    "    txt = \"\".join(v for v in txt if v not in string.punctuation).lower()\n",
    "    txt = txt.encode(\"utf8\").decode(\"ascii\",'ignore')\n",
    "    return txt "
   ]
  },
  {
   "cell_type": "code",
   "execution_count": 3,
   "metadata": {},
   "outputs": [],
   "source": [
    "def get_sequence_of_tokens(corpus):\n",
    "    ## tokenization\n",
    "    tokenizer.fit_on_texts(corpus)\n",
    "    total_words = len(tokenizer.word_index) + 1\n",
    "    \n",
    "    ## convert data to sequence of tokens \n",
    "    input_sequences = []\n",
    "    for line in corpus:\n",
    "        token_list = tokenizer.texts_to_sequences([line])[0]\n",
    "        for i in range(1, len(token_list)):\n",
    "            n_gram_sequence = token_list[:i+1]\n",
    "            input_sequences.append(n_gram_sequence)\n",
    "    return input_sequences, total_words"
   ]
  },
  {
   "cell_type": "code",
   "execution_count": 4,
   "metadata": {},
   "outputs": [],
   "source": [
    "def generate_padded_sequences(input_sequences):\n",
    "    max_sequence_len = max([len(x) for x in input_sequences])\n",
    "    input_sequences = np.array(pad_sequences(input_sequences, maxlen=max_sequence_len, padding='pre'))\n",
    "    \n",
    "    predictors, label = input_sequences[:,:-1],input_sequences[:,-1]\n",
    "    label = ku.to_categorical(label, num_classes=total_words)\n",
    "    return predictors, label, max_sequence_len"
   ]
  },
  {
   "cell_type": "code",
   "execution_count": 5,
   "metadata": {},
   "outputs": [],
   "source": [
    "def generate_text(seed_text, next_words, model, max_sequence_len):\n",
    "    for _ in range(next_words):\n",
    "        token_list = tokenizer.texts_to_sequences([seed_text])[0]\n",
    "        token_list = pad_sequences([token_list], maxlen=max_sequence_len-1, padding='pre')\n",
    "        predicted = model.predict_classes(token_list, verbose=0)\n",
    "        \n",
    "        output_word = \"\"\n",
    "        for word,index in tokenizer.word_index.items():\n",
    "            if index == predicted:\n",
    "                output_word = word\n",
    "                break\n",
    "        seed_text += \" \"+output_word\n",
    "    return seed_text.title()"
   ]
  },
  {
   "cell_type": "code",
   "execution_count": 6,
   "metadata": {},
   "outputs": [],
   "source": [
    "def create_model(max_sequence_len, total_words):\n",
    "    input_len = max_sequence_len - 1\n",
    "    model = Sequential()\n",
    "    \n",
    "    # Add Input Embedding Layer\n",
    "    model.add(Embedding(total_words, 10, input_length=input_len))\n",
    "    \n",
    "    # Add Hidden Layer 1 - LSTM Layer\n",
    "    model.add(LSTM(100))\n",
    "    \n",
    "    # Add Output Layer\n",
    "    model.add(Dense(total_words, activation='softmax'))\n",
    "\n",
    "    model.compile(loss='categorical_crossentropy', optimizer='adam')\n",
    "    \n",
    "    return model"
   ]
  },
  {
   "cell_type": "markdown",
   "metadata": {},
   "source": [
    "# Data"
   ]
  },
  {
   "cell_type": "code",
   "execution_count": 7,
   "metadata": {
    "_cell_guid": "b8ef1429-ff19-4a6c-92d7-af8cc61c55f7",
    "_uuid": "87836e3adbe046dd0db62013491ba62bae93b6be",
    "collapsed": true
   },
   "outputs": [
    {
     "data": {
      "text/plain": [
       "['The Opioid Crisis Foretold',\n",
       " 'The Business Deals That Could Imperil Trump',\n",
       " 'Adapting to American Decline',\n",
       " 'The Republicans’ Big Senate Mess',\n",
       " 'States Are Doing What Scott Pruitt Won’t',\n",
       " 'Fake Pearls, Real Heart',\n",
       " 'Fear Beyond Starbucks',\n",
       " 'Variety: Puns and Anagrams',\n",
       " 'E.P.A. Chief’s Ethics Woes Have Echoes in His Past',\n",
       " 'Where Facebook Rumors Fuel Thirst for Revenge']"
      ]
     },
     "execution_count": 7,
     "metadata": {},
     "output_type": "execute_result"
    }
   ],
   "source": [
    "curr_dir = '../input/'\n",
    "all_headlines = []\n",
    "for filename in os.listdir(curr_dir):\n",
    "    if 'Articles' in filename:\n",
    "        article_df = pd.read_csv(curr_dir + filename)\n",
    "        all_headlines.extend(list(article_df.headline.values))\n",
    "        break\n",
    "\n",
    "all_headlines[:10]"
   ]
  },
  {
   "cell_type": "markdown",
   "metadata": {
    "_cell_guid": "9dbd8bc9-fb61-43b9-b0c4-98bd7f3f8150",
    "_uuid": "fda5d4868631d3618d4d9a9a863541b2faf121c0"
   },
   "source": [
    "\n",
    "In dataset preparation step, we will first perform text cleaning of the data which includes removal of punctuations and lower casing all the words. "
   ]
  },
  {
   "cell_type": "code",
   "execution_count": 8,
   "metadata": {
    "_cell_guid": "b8bf84ed-da11-4f89-a584-9dceea677420",
    "_uuid": "2a07365a27a7ba2f92fc9ba4d05d8e6254a68d8c",
    "collapsed": true
   },
   "outputs": [
    {
     "data": {
      "text/plain": [
       "['the opioid crisis foretold',\n",
       " 'the business deals that could imperil trump',\n",
       " 'adapting to american decline',\n",
       " 'the republicans big senate mess',\n",
       " 'states are doing what scott pruitt wont',\n",
       " 'fake pearls real heart',\n",
       " 'fear beyond starbucks',\n",
       " 'variety puns and anagrams',\n",
       " 'epa chiefs ethics woes have echoes in his past',\n",
       " 'where facebook rumors fuel thirst for revenge']"
      ]
     },
     "execution_count": 8,
     "metadata": {},
     "output_type": "execute_result"
    }
   ],
   "source": [
    "\n",
    "\n",
    "corpus = [clean_text(x) for x in all_headlines]\n",
    "corpus[:10]"
   ]
  },
  {
   "cell_type": "markdown",
   "metadata": {
    "_cell_guid": "9d83cc08-19ba-4b00-9ca6-dcf5ff39c8af",
    "_uuid": "6fd11859fd71aa5c7ce10bdbbd31c8eb6d1b3118"
   },
   "source": [
    "### Generating Sequence of N-gram Tokens\n",
    "\n",
    "Language modelling requires a sequence input data, as given a sequence (of words/tokens) the aim is the predict next word/token.  \n",
    "\n",
    "The next step is Tokenization. Tokenization is a process of extracting tokens (terms / words) from a corpus. Python’s library Keras has inbuilt model for tokenization which can be used to obtain the tokens and their index in the corpus. After this step, every text document in the dataset is converted into sequence of tokens. \n"
   ]
  },
  {
   "cell_type": "code",
   "execution_count": 9,
   "metadata": {
    "_cell_guid": "896543c9-7944-4748-b8ef-ef8cbc2a84f0",
    "_uuid": "9129a8b773feb72eff91aa0025157a173d10c625",
    "collapsed": true
   },
   "outputs": [
    {
     "data": {
      "text/plain": [
       "[[1, 708],\n",
       " [1, 708, 251],\n",
       " [1, 708, 251, 369],\n",
       " [1, 370],\n",
       " [1, 370, 709],\n",
       " [1, 370, 709, 29],\n",
       " [1, 370, 709, 29, 136],\n",
       " [1, 370, 709, 29, 136, 710],\n",
       " [1, 370, 709, 29, 136, 710, 10],\n",
       " [711, 5]]"
      ]
     },
     "execution_count": 9,
     "metadata": {},
     "output_type": "execute_result"
    }
   ],
   "source": [
    "tokenizer = Tokenizer()\n",
    "\n",
    "\n",
    "inp_sequences, total_words = get_sequence_of_tokens(corpus)\n",
    "inp_sequences[:10]"
   ]
  },
  {
   "cell_type": "markdown",
   "metadata": {
    "_cell_guid": "a22c88f5-f2a3-457c-835b-63341e657e3f",
    "_uuid": "f22aa5e0c04620ca5034ab9389322eee543060c6"
   },
   "source": [
    "In the above output [30, 507], [30, 507, 11], [30, 507, 11, 1] and so on represents the ngram phrases generated from the input data. where every integer corresponds to the index of a particular word in the complete vocabulary of words present in the text. For example\n",
    "\n",
    "**Headline:** i stand  with the shedevils  \n",
    "**Ngrams:** | **Sequence of Tokens**\n",
    "\n",
    "<table>\n",
    "<tr><td>Ngram </td><td> Sequence of Tokens</td></tr>\n",
    "<tr> <td>i stand </td><td> [30, 507] </td></tr>\n",
    "<tr> <td>i stand with </td><td> [30, 507, 11] </td></tr>\n",
    "<tr> <td>i stand with the </td><td> [30, 507, 11, 1] </td></tr>\n",
    "<tr> <td>i stand with the shedevils </td><td> [30, 507, 11, 1, 975] </td></tr>\n",
    "</table>\n",
    "\n",
    "\n",
    "\n",
    "### Padding the Sequences and obtain Variables : Predictors and Target\n",
    "\n",
    "Now that we have generated a data-set which contains sequence of tokens, it is possible that different sequences have different lengths. Before starting training the model, we need to pad the sequences and make their lengths equal. We can use pad_sequence function of Kears for this purpose. To input this data into a learning model, we need to create predictors and label. We will create N-grams sequence as predictors and the next word of the N-gram as label. For example:\n",
    "\n",
    "\n",
    "Headline:  they are learning data science\n",
    "\n",
    "<table>\n",
    "<tr><td>PREDICTORS </td> <td>           LABEL </td></tr>\n",
    "<tr><td>they                   </td> <td>  are</td></tr>\n",
    "<tr><td>they are               </td> <td>  learning</td></tr>\n",
    "<tr><td>they are learning      </td> <td>  data</td></tr>\n",
    "<tr><td>they are learning data </td> <td>  science</td></tr>\n",
    "</table>"
   ]
  },
  {
   "cell_type": "code",
   "execution_count": 10,
   "metadata": {
    "_cell_guid": "73254551-40bd-45b1-a7a5-88fe4cbe0b20",
    "_uuid": "ca588b414e70e21bebcead960f6632805d37dd8c",
    "collapsed": true
   },
   "outputs": [],
   "source": [
    "\n",
    "\n",
    "predictors, label, max_sequence_len = generate_padded_sequences(inp_sequences)"
   ]
  },
  {
   "cell_type": "markdown",
   "metadata": {
    "_cell_guid": "8b5d80ff-54a8-4380-8a3c-149be880551d",
    "_uuid": "8b8a64b96011f427c48d5b0819e3e74af604ce43"
   },
   "source": [
    "\n",
    "\n",
    "# The model"
   ]
  },
  {
   "cell_type": "code",
   "execution_count": 11,
   "metadata": {
    "_cell_guid": "60d6721e-e40e-4f2b-8f63-c06459d68f26",
    "_uuid": "76ef6d9352002d333a7c75e8aed7ce996015f527",
    "collapsed": true
   },
   "outputs": [
    {
     "name": "stdout",
     "output_type": "stream",
     "text": [
      "_________________________________________________________________\n",
      "Layer (type)                 Output Shape              Param #   \n",
      "=================================================================\n",
      "embedding_1 (Embedding)      (None, 16, 10)            24450     \n",
      "_________________________________________________________________\n",
      "lstm_1 (LSTM)                (None, 100)               44400     \n",
      "_________________________________________________________________\n",
      "dense_1 (Dense)              (None, 2445)              246945    \n",
      "=================================================================\n",
      "Total params: 315,795\n",
      "Trainable params: 315,795\n",
      "Non-trainable params: 0\n",
      "_________________________________________________________________\n"
     ]
    }
   ],
   "source": [
    "\n",
    "\n",
    "model = create_model(max_sequence_len, total_words)\n",
    "model.summary()"
   ]
  },
  {
   "cell_type": "markdown",
   "metadata": {
    "_cell_guid": "1826aa1a-cb77-4379-a69d-e9b180945dce",
    "_uuid": "f0b16b471969dbb831cb0024e303341e11b63de4"
   },
   "source": [
    "Lets train our model now"
   ]
  },
  {
   "cell_type": "code",
   "execution_count": 12,
   "metadata": {
    "_cell_guid": "07d5cf03-d171-4993-9f8b-18446649ecb0",
    "_uuid": "156f3303b8120cc6932e6db985cbea4a7ceb08bf",
    "collapsed": true
   },
   "outputs": [
    {
     "name": "stdout",
     "output_type": "stream",
     "text": [
      "Epoch 1/100\n",
      " - 8s - loss: 7.4037\n",
      "Epoch 2/100\n",
      " - 5s - loss: 6.8892\n",
      "Epoch 3/100\n",
      " - 4s - loss: 6.7654\n",
      "Epoch 4/100\n",
      " - 4s - loss: 6.6761\n",
      "Epoch 5/100\n",
      " - 4s - loss: 6.5786\n",
      "Epoch 6/100\n",
      " - 4s - loss: 6.4560\n",
      "Epoch 7/100\n",
      " - 4s - loss: 6.3166\n",
      "Epoch 8/100\n",
      " - 4s - loss: 6.1771\n",
      "Epoch 9/100\n",
      " - 4s - loss: 6.0437\n",
      "Epoch 10/100\n",
      " - 5s - loss: 5.9210\n",
      "Epoch 11/100\n",
      " - 4s - loss: 5.7991\n",
      "Epoch 12/100\n",
      " - 4s - loss: 5.6767\n",
      "Epoch 13/100\n",
      " - 5s - loss: 5.5574\n",
      "Epoch 14/100\n",
      " - 4s - loss: 5.4394\n",
      "Epoch 15/100\n",
      " - 4s - loss: 5.3243\n",
      "Epoch 16/100\n",
      " - 4s - loss: 5.2129\n",
      "Epoch 17/100\n",
      " - 4s - loss: 5.1028\n",
      "Epoch 18/100\n",
      " - 5s - loss: 4.9948\n",
      "Epoch 19/100\n",
      " - 4s - loss: 4.8900\n",
      "Epoch 20/100\n",
      " - 4s - loss: 4.7864\n",
      "Epoch 21/100\n",
      " - 4s - loss: 4.6860\n",
      "Epoch 22/100\n",
      " - 4s - loss: 4.5860\n",
      "Epoch 23/100\n",
      " - 4s - loss: 4.4915\n",
      "Epoch 24/100\n",
      " - 4s - loss: 4.3967\n",
      "Epoch 25/100\n",
      " - 4s - loss: 4.3040\n",
      "Epoch 26/100\n",
      " - 5s - loss: 4.2127\n",
      "Epoch 27/100\n",
      " - 4s - loss: 4.1254\n",
      "Epoch 28/100\n",
      " - 5s - loss: 4.0391\n",
      "Epoch 29/100\n",
      " - 4s - loss: 3.9515\n",
      "Epoch 30/100\n",
      " - 4s - loss: 3.8702\n",
      "Epoch 31/100\n",
      " - 4s - loss: 3.7881\n",
      "Epoch 32/100\n",
      " - 4s - loss: 3.7075\n",
      "Epoch 33/100\n",
      " - 4s - loss: 3.6311\n",
      "Epoch 34/100\n",
      " - 5s - loss: 3.5540\n",
      "Epoch 35/100\n",
      " - 4s - loss: 3.4821\n",
      "Epoch 36/100\n",
      " - 4s - loss: 3.4097\n",
      "Epoch 37/100\n",
      " - 4s - loss: 3.3379\n",
      "Epoch 38/100\n",
      " - 4s - loss: 3.2706\n",
      "Epoch 39/100\n",
      " - 4s - loss: 3.2059\n",
      "Epoch 40/100\n",
      " - 4s - loss: 3.1411\n",
      "Epoch 41/100\n",
      " - 4s - loss: 3.0788\n",
      "Epoch 42/100\n",
      " - 6s - loss: 3.0202\n",
      "Epoch 43/100\n",
      " - 4s - loss: 2.9612\n",
      "Epoch 44/100\n",
      " - 4s - loss: 2.9030\n",
      "Epoch 45/100\n",
      " - 4s - loss: 2.8467\n",
      "Epoch 46/100\n",
      " - 4s - loss: 2.7961\n",
      "Epoch 47/100\n",
      " - 4s - loss: 2.7421\n",
      "Epoch 48/100\n",
      " - 4s - loss: 2.6893\n",
      "Epoch 49/100\n",
      " - 4s - loss: 2.6386\n",
      "Epoch 50/100\n",
      " - 4s - loss: 2.5880\n",
      "Epoch 51/100\n",
      " - 4s - loss: 2.5437\n",
      "Epoch 52/100\n",
      " - 4s - loss: 2.4972\n",
      "Epoch 53/100\n",
      " - 4s - loss: 2.4496\n",
      "Epoch 54/100\n",
      " - 4s - loss: 2.4073\n",
      "Epoch 55/100\n",
      " - 4s - loss: 2.3612\n",
      "Epoch 56/100\n",
      " - 4s - loss: 2.3201\n",
      "Epoch 57/100\n",
      " - 5s - loss: 2.2781\n",
      "Epoch 58/100\n",
      " - 5s - loss: 2.2367\n",
      "Epoch 59/100\n",
      " - 4s - loss: 2.1995\n",
      "Epoch 60/100\n",
      " - 4s - loss: 2.1591\n",
      "Epoch 61/100\n",
      " - 4s - loss: 2.1240\n",
      "Epoch 62/100\n",
      " - 4s - loss: 2.0841\n",
      "Epoch 63/100\n",
      " - 4s - loss: 2.0451\n",
      "Epoch 64/100\n",
      " - 4s - loss: 2.0108\n",
      "Epoch 65/100\n",
      " - 5s - loss: 1.9753\n",
      "Epoch 66/100\n",
      " - 4s - loss: 1.9406\n",
      "Epoch 67/100\n",
      " - 4s - loss: 1.9076\n",
      "Epoch 68/100\n",
      " - 4s - loss: 1.8750\n",
      "Epoch 69/100\n",
      " - 4s - loss: 1.8416\n",
      "Epoch 70/100\n",
      " - 4s - loss: 1.8098\n",
      "Epoch 71/100\n",
      " - 5s - loss: 1.7791\n",
      "Epoch 72/100\n",
      " - 4s - loss: 1.7464\n",
      "Epoch 73/100\n",
      " - 5s - loss: 1.7172\n",
      "Epoch 74/100\n",
      " - 4s - loss: 1.6887\n",
      "Epoch 75/100\n",
      " - 4s - loss: 1.6586\n",
      "Epoch 76/100\n",
      " - 4s - loss: 1.6298\n",
      "Epoch 77/100\n",
      " - 4s - loss: 1.6005\n",
      "Epoch 78/100\n",
      " - 4s - loss: 1.5734\n",
      "Epoch 79/100\n",
      " - 4s - loss: 1.5472\n",
      "Epoch 80/100\n",
      " - 4s - loss: 1.5202\n",
      "Epoch 81/100\n",
      " - 5s - loss: 1.4935\n",
      "Epoch 82/100\n",
      " - 4s - loss: 1.4675\n",
      "Epoch 83/100\n",
      " - 4s - loss: 1.4427\n",
      "Epoch 84/100\n",
      " - 4s - loss: 1.4177\n",
      "Epoch 85/100\n",
      " - 4s - loss: 1.3932\n",
      "Epoch 86/100\n",
      " - 5s - loss: 1.3690\n",
      "Epoch 87/100\n",
      " - 4s - loss: 1.3476\n",
      "Epoch 88/100\n",
      " - 4s - loss: 1.3234\n",
      "Epoch 89/100\n",
      " - 4s - loss: 1.3002\n",
      "Epoch 90/100\n",
      " - 4s - loss: 1.2752\n",
      "Epoch 91/100\n",
      " - 4s - loss: 1.2544\n",
      "Epoch 92/100\n",
      " - 4s - loss: 1.2345\n",
      "Epoch 93/100\n",
      " - 4s - loss: 1.2114\n",
      "Epoch 94/100\n",
      " - 4s - loss: 1.1914\n",
      "Epoch 95/100\n",
      " - 4s - loss: 1.1712\n",
      "Epoch 96/100\n",
      " - 4s - loss: 1.1514\n",
      "Epoch 97/100\n",
      " - 4s - loss: 1.1322\n",
      "Epoch 98/100\n",
      " - 4s - loss: 1.1126\n",
      "Epoch 99/100\n",
      " - 4s - loss: 1.0945\n",
      "Epoch 100/100\n",
      " - 5s - loss: 1.0752\n"
     ]
    },
    {
     "data": {
      "text/plain": [
       "<keras.callbacks.History at 0x7f020471e390>"
      ]
     },
     "execution_count": 12,
     "metadata": {},
     "output_type": "execute_result"
    }
   ],
   "source": [
    "model.fit(predictors, label, epochs=100, verbose=2)"
   ]
  },
  {
   "cell_type": "markdown",
   "metadata": {
    "_cell_guid": "61e99cfe-7395-4d61-8d1a-8539103d3db5",
    "_uuid": "448bf43b123060dfe4e27cb9f12889e4fe0ed2a7"
   },
   "source": [
    "\n",
    "\n",
    "Great, our model architecture is now ready and we can train it using our data. Next lets write the function to predict the next word based on the input words (or seed text). We will first tokenize the seed text, pad the sequences and pass into the trained model to get predicted word. The multiple predicted words can be appended together to get predicted sequence.\n"
   ]
  },
  {
   "cell_type": "code",
   "execution_count": 13,
   "metadata": {},
   "outputs": [
    {
     "name": "stdout",
     "output_type": "stream",
     "text": [
      "United States Shouldnt Sit Still An Atlantic\n",
      "United States Shouldnt Sit Still An Atlantic Imperative Agencies Out To 2426\n",
      "United States Shouldnt Sit Still An Atlantic Imperative Agencies Out To 2426 And 9 Flights Of Stairs\n"
     ]
    }
   ],
   "source": [
    "print (generate_text(\"united states\", 5, model, max_sequence_len))\n",
    "print (generate_text(\"united states\", 10, model, max_sequence_len))\n",
    "print (generate_text(\"united states\", 15, model, max_sequence_len))"
   ]
  },
  {
   "cell_type": "code",
   "execution_count": 14,
   "metadata": {},
   "outputs": [
    {
     "name": "stdout",
     "output_type": "stream",
     "text": [
      "President Trump Vs Congress Bird\n",
      "President Trump Vs Congress Bird Moving\n",
      "President Trump Vs Congress Bird Moving One\n",
      "President Trump Vs Congress Bird Moving One About A Fairy\n"
     ]
    }
   ],
   "source": [
    "print (generate_text(\"president trump\", 3, model, max_sequence_len))\n",
    "print (generate_text(\"president trump\", 4, model, max_sequence_len))\n",
    "print (generate_text(\"president trump\", 5, model, max_sequence_len))\n",
    "print (generate_text(\"president trump\", 8, model, max_sequence_len))\n"
   ]
  },
  {
   "cell_type": "code",
   "execution_count": 15,
   "metadata": {},
   "outputs": [
    {
     "name": "stdout",
     "output_type": "stream",
     "text": [
      "Joe Biden Infuses The Constitution\n",
      "Joe Biden Infuses The Constitution Invaded\n",
      "Joe Biden Infuses The Constitution Invaded Canada\n",
      "Joe Biden Infuses The Constitution Invaded Canada Unique Memorial Award\n"
     ]
    }
   ],
   "source": [
    "print (generate_text(\"joe biden\", 3, model, max_sequence_len))\n",
    "print (generate_text(\"joe biden\", 4, model, max_sequence_len))\n",
    "print (generate_text(\"joe biden\", 5, model, max_sequence_len))\n",
    "print (generate_text(\"joe biden\", 8, model, max_sequence_len))"
   ]
  },
  {
   "cell_type": "code",
   "execution_count": 16,
   "metadata": {},
   "outputs": [
    {
     "name": "stdout",
     "output_type": "stream",
     "text": [
      "India And China Deal And The\n",
      "India And China Deal And The Young\n",
      "India And China Deal And The Young Think\n",
      "India And China Deal And The Young Think Again To It\n"
     ]
    }
   ],
   "source": [
    "print (generate_text(\"india and china\", 3, model, max_sequence_len))\n",
    "print (generate_text(\"india and china\", 4, model, max_sequence_len))\n",
    "print (generate_text(\"india and china\", 5, model, max_sequence_len))\n",
    "print (generate_text(\"india and china\", 8, model, max_sequence_len))"
   ]
  },
  {
   "cell_type": "code",
   "execution_count": 17,
   "metadata": {},
   "outputs": [
    {
     "name": "stdout",
     "output_type": "stream",
     "text": [
      "European Union Infuses The Constitution\n",
      "European Union Infuses The Constitution Invaded\n",
      "European Union Infuses The Constitution Invaded Canada\n",
      "European Union Infuses The Constitution Invaded Canada Unique Memorial Award\n"
     ]
    }
   ],
   "source": [
    "print (generate_text(\"european union\", 3, model, max_sequence_len))\n",
    "print (generate_text(\"european union\", 4, model, max_sequence_len))\n",
    "print (generate_text(\"european union\", 5, model, max_sequence_len))\n",
    "print (generate_text(\"european union\", 8, model, max_sequence_len))"
   ]
  }
 ],
 "metadata": {
  "kernelspec": {
   "display_name": "Python 3",
   "language": "python",
   "name": "python3"
  },
  "language_info": {
   "codemirror_mode": {
    "name": "ipython",
    "version": 3
   },
   "file_extension": ".py",
   "mimetype": "text/x-python",
   "name": "python",
   "nbconvert_exporter": "python",
   "pygments_lexer": "ipython3",
   "version": "3.6.4"
  }
 },
 "nbformat": 4,
 "nbformat_minor": 4
}
