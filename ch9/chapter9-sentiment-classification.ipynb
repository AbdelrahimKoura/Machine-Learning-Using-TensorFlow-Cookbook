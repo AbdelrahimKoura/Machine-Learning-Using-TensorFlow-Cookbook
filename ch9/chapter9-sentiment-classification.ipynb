{
 "cells": [
  {
   "cell_type": "code",
   "execution_count": 1,
   "metadata": {
    "_cell_guid": "b1076dfc-b9ad-4769-8c92-a6c4dae69d19",
    "_uuid": "8f2839f25d086af736a60e9eeb907d3b93b6e0e5"
   },
   "outputs": [],
   "source": [
    "import json\n",
    "import tensorflow as tf\n",
    "import csv\n",
    "import random\n",
    "import numpy as np\n",
    "import pandas as pd\n",
    "import matplotlib.pyplot as plt\n",
    "\n",
    "\n",
    "from tensorflow.keras.preprocessing.text import Tokenizer\n",
    "from tensorflow.keras.preprocessing.sequence import pad_sequences\n",
    "from tensorflow.keras.utils import to_categorical\n",
    "from tensorflow.keras import regularizers\n",
    "\n",
    "\n"
   ]
  },
  {
   "cell_type": "code",
   "execution_count": 2,
   "metadata": {},
   "outputs": [],
   "source": [
    "embedding_dim = 100\n",
    "max_length = 16\n",
    "trunc_type='post'\n",
    "padding_type='post'\n",
    "oov_tok = \"<OOV>\"\n",
    "training_size=160000\n",
    "test_portion=.1\n",
    "\n",
    "\n",
    "dropout_val = 0.2\n",
    "nof_units = 64\n",
    "\n",
    "corpus = []"
   ]
  },
  {
   "cell_type": "code",
   "execution_count": 3,
   "metadata": {},
   "outputs": [],
   "source": [
    "def create_model(dropout_val, nof_units):\n",
    "\n",
    "    \n",
    "    model = tf.keras.Sequential([\n",
    "    tf.keras.layers.Embedding(vocab_size+1, embedding_dim, input_length=max_length, weights=[embeddings_matrix], trainable=False),\n",
    "    tf.keras.layers.Dropout(dropout_val),\n",
    "    tf.keras.layers.Conv1D(64, 5, activation='relu'),\n",
    "    tf.keras.layers.MaxPooling1D(pool_size=4),\n",
    "    tf.keras.layers.LSTM(nof_units),\n",
    "    tf.keras.layers.Dense(1, activation='sigmoid')\n",
    "    ])\n",
    "    model.compile(loss='binary_crossentropy',optimizer='adam',metrics=['accuracy'])\n",
    "\n",
    "    return model"
   ]
  },
  {
   "cell_type": "code",
   "execution_count": 4,
   "metadata": {},
   "outputs": [],
   "source": [
    "num_sentences = 0\n",
    "\n",
    "with open(\"../input/twitter-sentiment-clean-dataset/training_cleaned.csv\") as csvfile:\n",
    "    reader = csv.reader(csvfile, delimiter=',')\n",
    "    for row in reader:\n",
    "        list_item=[]\n",
    "        list_item.append(row[5])\n",
    "        this_label=row[0]\n",
    "        if this_label=='0':\n",
    "            list_item.append(0)\n",
    "        else:\n",
    "            list_item.append(1)\n",
    "        num_sentences = num_sentences + 1\n",
    "        corpus.append(list_item)"
   ]
  },
  {
   "cell_type": "code",
   "execution_count": 5,
   "metadata": {},
   "outputs": [],
   "source": [
    "sentences=[]\n",
    "labels=[]\n",
    "random.shuffle(corpus)\n",
    "for x in range(training_size):\n",
    "    sentences.append(corpus[x][0])\n",
    "    labels.append(corpus[x][1])\n",
    "    \n",
    "tokenizer = Tokenizer()\n",
    "tokenizer.fit_on_texts(sentences)\n",
    "word_index = tokenizer.word_index\n",
    "vocab_size=len(word_index)\n",
    "sequences = tokenizer.texts_to_sequences(sentences)\n",
    "\n",
    "padded = pad_sequences(sequences, maxlen=max_length, padding=padding_type, truncating=trunc_type)\n",
    "\n",
    "\n",
    "split = int(test_portion * training_size)\n",
    "test_sequences = padded[0:split]\n",
    "training_sequences = padded[split:training_size]\n",
    "test_labels = labels[0:split]\n",
    "training_labels = labels[split:training_size]"
   ]
  },
  {
   "cell_type": "code",
   "execution_count": 6,
   "metadata": {},
   "outputs": [],
   "source": [
    "embeddings_index = {};\n",
    "with open('../input/glove6b/glove.6B.100d.txt') as f:\n",
    "    for line in f:\n",
    "        values = line.split();\n",
    "        word = values[0];\n",
    "        coefs = np.asarray(values[1:], dtype='float32');\n",
    "        embeddings_index[word] = coefs;\n",
    "\n"
   ]
  },
  {
   "cell_type": "code",
   "execution_count": 7,
   "metadata": {},
   "outputs": [],
   "source": [
    "embeddings_matrix = np.zeros((vocab_size+1, embedding_dim));\n",
    "for word, i in word_index.items():\n",
    "    embedding_vector = embeddings_index.get(word);\n",
    "    if embedding_vector is not None:\n",
    "        embeddings_matrix[i] = embedding_vector;"
   ]
  },
  {
   "cell_type": "code",
   "execution_count": 8,
   "metadata": {},
   "outputs": [
    {
     "name": "stdout",
     "output_type": "stream",
     "text": [
      "Model: \"sequential\"\n",
      "_________________________________________________________________\n",
      "Layer (type)                 Output Shape              Param #   \n",
      "=================================================================\n",
      "embedding (Embedding)        (None, 16, 100)           13877100  \n",
      "_________________________________________________________________\n",
      "dropout (Dropout)            (None, 16, 100)           0         \n",
      "_________________________________________________________________\n",
      "conv1d (Conv1D)              (None, 12, 64)            32064     \n",
      "_________________________________________________________________\n",
      "max_pooling1d (MaxPooling1D) (None, 3, 64)             0         \n",
      "_________________________________________________________________\n",
      "lstm (LSTM)                  (None, 64)                33024     \n",
      "_________________________________________________________________\n",
      "dense (Dense)                (None, 1)                 65        \n",
      "=================================================================\n",
      "Total params: 13,942,253\n",
      "Trainable params: 65,153\n",
      "Non-trainable params: 13,877,100\n",
      "_________________________________________________________________\n"
     ]
    }
   ],
   "source": [
    "model = create_model(dropout_val, nof_units)\n",
    "model.summary()\n",
    "\n"
   ]
  },
  {
   "cell_type": "code",
   "execution_count": 9,
   "metadata": {},
   "outputs": [
    {
     "name": "stdout",
     "output_type": "stream",
     "text": [
      "Train on 144000 samples, validate on 16000 samples\n",
      "Epoch 1/50\n",
      "144000/144000 - 47s - loss: 0.5685 - acc: 0.6981 - val_loss: 0.5454 - val_acc: 0.7142\n",
      "Epoch 2/50\n",
      "144000/144000 - 44s - loss: 0.5296 - acc: 0.7289 - val_loss: 0.5101 - val_acc: 0.7419\n",
      "Epoch 3/50\n",
      "144000/144000 - 42s - loss: 0.5130 - acc: 0.7419 - val_loss: 0.5044 - val_acc: 0.7481\n",
      "Epoch 4/50\n",
      "144000/144000 - 42s - loss: 0.5017 - acc: 0.7503 - val_loss: 0.5134 - val_acc: 0.7421\n",
      "Epoch 5/50\n",
      "144000/144000 - 42s - loss: 0.4921 - acc: 0.7563 - val_loss: 0.5025 - val_acc: 0.7518\n",
      "Epoch 6/50\n",
      "144000/144000 - 42s - loss: 0.4856 - acc: 0.7603 - val_loss: 0.5003 - val_acc: 0.7509\n",
      "Epoch 7/50\n",
      "144000/144000 - 42s - loss: 0.4797 - acc: 0.7646 - val_loss: 0.5040 - val_acc: 0.7533\n",
      "Epoch 8/50\n",
      "144000/144000 - 44s - loss: 0.4740 - acc: 0.7682 - val_loss: 0.5010 - val_acc: 0.7546\n",
      "Epoch 9/50\n",
      "144000/144000 - 44s - loss: 0.4700 - acc: 0.7710 - val_loss: 0.5008 - val_acc: 0.7534\n",
      "Epoch 10/50\n",
      "144000/144000 - 41s - loss: 0.4667 - acc: 0.7728 - val_loss: 0.5041 - val_acc: 0.7554\n",
      "Epoch 11/50\n",
      "144000/144000 - 44s - loss: 0.4636 - acc: 0.7754 - val_loss: 0.5036 - val_acc: 0.7522\n",
      "Epoch 12/50\n",
      "144000/144000 - 42s - loss: 0.4604 - acc: 0.7771 - val_loss: 0.5015 - val_acc: 0.7507\n",
      "Epoch 13/50\n",
      "144000/144000 - 43s - loss: 0.4573 - acc: 0.7785 - val_loss: 0.5067 - val_acc: 0.7526\n",
      "Epoch 14/50\n",
      "144000/144000 - 41s - loss: 0.4540 - acc: 0.7814 - val_loss: 0.5088 - val_acc: 0.7528\n",
      "Epoch 15/50\n",
      "144000/144000 - 43s - loss: 0.4525 - acc: 0.7819 - val_loss: 0.5142 - val_acc: 0.7506\n",
      "Epoch 16/50\n",
      "144000/144000 - 43s - loss: 0.4512 - acc: 0.7826 - val_loss: 0.5097 - val_acc: 0.7492\n",
      "Epoch 17/50\n",
      "144000/144000 - 41s - loss: 0.4494 - acc: 0.7835 - val_loss: 0.5125 - val_acc: 0.7514\n",
      "Epoch 18/50\n",
      "144000/144000 - 42s - loss: 0.4481 - acc: 0.7836 - val_loss: 0.5139 - val_acc: 0.7506\n",
      "Epoch 19/50\n",
      "144000/144000 - 43s - loss: 0.4463 - acc: 0.7855 - val_loss: 0.5107 - val_acc: 0.7547\n",
      "Epoch 20/50\n",
      "144000/144000 - 43s - loss: 0.4453 - acc: 0.7851 - val_loss: 0.5116 - val_acc: 0.7542\n",
      "Epoch 21/50\n",
      "144000/144000 - 43s - loss: 0.4453 - acc: 0.7861 - val_loss: 0.5117 - val_acc: 0.7541\n",
      "Epoch 22/50\n",
      "144000/144000 - 44s - loss: 0.4442 - acc: 0.7872 - val_loss: 0.5078 - val_acc: 0.7492\n",
      "Epoch 23/50\n",
      "144000/144000 - 43s - loss: 0.4434 - acc: 0.7868 - val_loss: 0.5161 - val_acc: 0.7501\n",
      "Epoch 24/50\n",
      "144000/144000 - 41s - loss: 0.4427 - acc: 0.7881 - val_loss: 0.5148 - val_acc: 0.7540\n",
      "Epoch 25/50\n",
      "144000/144000 - 43s - loss: 0.4403 - acc: 0.7885 - val_loss: 0.5138 - val_acc: 0.7459\n",
      "Epoch 26/50\n",
      "144000/144000 - 42s - loss: 0.4407 - acc: 0.7881 - val_loss: 0.5152 - val_acc: 0.7474\n",
      "Epoch 27/50\n",
      "144000/144000 - 43s - loss: 0.4385 - acc: 0.7913 - val_loss: 0.5151 - val_acc: 0.7509\n",
      "Epoch 28/50\n",
      "144000/144000 - 43s - loss: 0.4379 - acc: 0.7910 - val_loss: 0.5148 - val_acc: 0.7504\n",
      "Epoch 29/50\n",
      "144000/144000 - 42s - loss: 0.4388 - acc: 0.7893 - val_loss: 0.5179 - val_acc: 0.7493\n",
      "Epoch 30/50\n",
      "144000/144000 - 43s - loss: 0.4394 - acc: 0.7891 - val_loss: 0.5154 - val_acc: 0.7505\n",
      "Epoch 31/50\n",
      "144000/144000 - 42s - loss: 0.4366 - acc: 0.7920 - val_loss: 0.5220 - val_acc: 0.7479\n",
      "Epoch 32/50\n",
      "144000/144000 - 44s - loss: 0.4362 - acc: 0.7911 - val_loss: 0.5167 - val_acc: 0.7490\n",
      "Epoch 33/50\n",
      "144000/144000 - 42s - loss: 0.4353 - acc: 0.7918 - val_loss: 0.5146 - val_acc: 0.7486\n",
      "Epoch 34/50\n",
      "144000/144000 - 43s - loss: 0.4354 - acc: 0.7916 - val_loss: 0.5237 - val_acc: 0.7474\n",
      "Epoch 35/50\n",
      "144000/144000 - 41s - loss: 0.4354 - acc: 0.7918 - val_loss: 0.5180 - val_acc: 0.7493\n",
      "Epoch 36/50\n",
      "144000/144000 - 43s - loss: 0.4348 - acc: 0.7924 - val_loss: 0.5221 - val_acc: 0.7479\n",
      "Epoch 37/50\n",
      "144000/144000 - 43s - loss: 0.4341 - acc: 0.7926 - val_loss: 0.5169 - val_acc: 0.7505\n",
      "Epoch 38/50\n",
      "144000/144000 - 41s - loss: 0.4336 - acc: 0.7935 - val_loss: 0.5228 - val_acc: 0.7496\n",
      "Epoch 39/50\n",
      "144000/144000 - 42s - loss: 0.4341 - acc: 0.7927 - val_loss: 0.5191 - val_acc: 0.7503\n",
      "Epoch 40/50\n",
      "144000/144000 - 43s - loss: 0.4335 - acc: 0.7928 - val_loss: 0.5124 - val_acc: 0.7506\n",
      "Epoch 41/50\n",
      "144000/144000 - 41s - loss: 0.4327 - acc: 0.7938 - val_loss: 0.5168 - val_acc: 0.7495\n",
      "Epoch 42/50\n",
      "144000/144000 - 43s - loss: 0.4327 - acc: 0.7932 - val_loss: 0.5171 - val_acc: 0.7506\n",
      "Epoch 43/50\n",
      "144000/144000 - 43s - loss: 0.4335 - acc: 0.7945 - val_loss: 0.5150 - val_acc: 0.7471\n",
      "Epoch 44/50\n",
      "144000/144000 - 42s - loss: 0.4334 - acc: 0.7943 - val_loss: 0.5190 - val_acc: 0.7496\n",
      "Epoch 45/50\n",
      "144000/144000 - 42s - loss: 0.4309 - acc: 0.7950 - val_loss: 0.5259 - val_acc: 0.7474\n",
      "Epoch 46/50\n",
      "144000/144000 - 43s - loss: 0.4322 - acc: 0.7947 - val_loss: 0.5223 - val_acc: 0.7453\n",
      "Epoch 47/50\n",
      "144000/144000 - 42s - loss: 0.4318 - acc: 0.7950 - val_loss: 0.5210 - val_acc: 0.7474\n",
      "Epoch 48/50\n",
      "144000/144000 - 41s - loss: 0.4303 - acc: 0.7951 - val_loss: 0.5196 - val_acc: 0.7451\n",
      "Epoch 49/50\n",
      "144000/144000 - 44s - loss: 0.4300 - acc: 0.7959 - val_loss: 0.5193 - val_acc: 0.7474\n",
      "Epoch 50/50\n",
      "144000/144000 - 43s - loss: 0.4308 - acc: 0.7956 - val_loss: 0.5203 - val_acc: 0.7434\n"
     ]
    }
   ],
   "source": [
    "num_epochs = 50\n",
    "history = model.fit(training_sequences, training_labels, epochs=num_epochs, validation_data=(test_sequences, test_labels), verbose=2)\n"
   ]
  },
  {
   "cell_type": "code",
   "execution_count": 10,
   "metadata": {},
   "outputs": [
    {
     "data": {
      "image/png": "[encoded data removed]",
      "text/plain": [
       "<Figure size 432x288 with 1 Axes>"
      ]
     },
     "metadata": {
      "needs_background": "light"
     },
     "output_type": "display_data"
    },
    {
     "data": {
      "image/png": "[encoded data removed]",
      "text/plain": [
       "<Figure size 432x288 with 1 Axes>"
      ]
     },
     "metadata": {
      "needs_background": "light"
     },
     "output_type": "display_data"
    }
   ],
   "source": [
    "acc = history.history['acc']\n",
    "val_acc = history.history['val_acc']\n",
    "loss = history.history['loss']\n",
    "val_loss = history.history['val_loss']\n",
    "epochs = range(len(acc))\n",
    "\n",
    "plt.plot(epochs, acc, 'r', label='Training accuracy')\n",
    "plt.plot(epochs, val_acc, 'b', label='Validation accuracy')\n",
    "plt.title('Training and validation accuracy')\n",
    "plt.legend()\n",
    "plt.figure()\n",
    "\n",
    "plt.plot(epochs, loss, 'r', label='Training Loss')\n",
    "plt.plot(epochs, val_loss, 'b', label='Validation Loss')\n",
    "plt.title('Training and validation loss')\n",
    "plt.legend()\n",
    "\n",
    "plt.show()"
   ]
  }
 ],
 "metadata": {
  "kernelspec": {
   "display_name": "Python 3",
   "language": "python",
   "name": "python3"
  },
  "language_info": {
   "codemirror_mode": {
    "name": "ipython",
    "version": 3
   },
   "file_extension": ".py",
   "mimetype": "text/x-python",
   "name": "python",
   "nbconvert_exporter": "python",
   "pygments_lexer": "ipython3",
   "version": "3.6.6"
  }
 },
 "nbformat": 4,
 "nbformat_minor": 4
}
