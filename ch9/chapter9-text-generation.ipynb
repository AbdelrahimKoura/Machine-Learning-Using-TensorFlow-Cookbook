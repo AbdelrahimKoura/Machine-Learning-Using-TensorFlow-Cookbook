{
 "cells": [
  {
   "cell_type": "code",
   "execution_count": 1,
   "metadata": {
    "_cell_guid": "b1076dfc-b9ad-4769-8c92-a6c4dae69d19",
    "_uuid": "8f2839f25d086af736a60e9eeb907d3b93b6e0e5",
    "execution": {
     "iopub.execute_input": "2021-01-28T14:51:55.284931Z",
     "iopub.status.busy": "2021-01-28T14:51:55.284219Z",
     "iopub.status.idle": "2021-01-28T14:52:02.954465Z",
     "shell.execute_reply": "2021-01-28T14:52:02.953853Z"
    },
    "papermill": {
     "duration": 7.691488,
     "end_time": "2021-01-28T14:52:02.954686",
     "exception": false,
     "start_time": "2021-01-28T14:51:55.263198",
     "status": "completed"
    },
    "tags": []
   },
   "outputs": [],
   "source": [
    "import tensorflow as tf\n",
    "from tensorflow import keras \n",
    "\n",
    "# keras module for building LSTM \n",
    "from keras.preprocessing.sequence import pad_sequences\n",
    "from keras.layers import Embedding, LSTM, Dense\n",
    "from keras.preprocessing.text import Tokenizer\n",
    "from keras.callbacks import EarlyStopping\n",
    "from keras.models import Sequential\n",
    "import keras.utils as ku \n",
    "\n",
    "import numpy as np\n",
    "np.random.seed(7)\n",
    "tf.random.set_seed(7) # analogue of set_random_seed(seed_value) in TF 1.x\n",
    "import random\n",
    "random.seed(7)\n",
    "tf.random.uniform([1], seed=1)\n",
    "\n",
    "import pandas as pd\n",
    "import string, os \n",
    "\n",
    "import warnings\n",
    "warnings.filterwarnings(\"ignore\")\n",
    "warnings.simplefilter(action='ignore', category=FutureWarning)"
   ]
  },
  {
   "cell_type": "markdown",
   "metadata": {
    "papermill": {
     "duration": 0.012256,
     "end_time": "2021-01-28T14:52:02.980683",
     "exception": false,
     "start_time": "2021-01-28T14:52:02.968427",
     "status": "completed"
    },
    "tags": []
   },
   "source": [
    "# Functions"
   ]
  },
  {
   "cell_type": "code",
   "execution_count": 2,
   "metadata": {
    "execution": {
     "iopub.execute_input": "2021-01-28T14:52:03.010230Z",
     "iopub.status.busy": "2021-01-28T14:52:03.009672Z",
     "iopub.status.idle": "2021-01-28T14:52:03.013555Z",
     "shell.execute_reply": "2021-01-28T14:52:03.013051Z"
    },
    "papermill": {
     "duration": 0.020623,
     "end_time": "2021-01-28T14:52:03.013681",
     "exception": false,
     "start_time": "2021-01-28T14:52:02.993058",
     "status": "completed"
    },
    "tags": []
   },
   "outputs": [],
   "source": [
    "def clean_text(txt):\n",
    "    txt = \"\".join(v for v in txt if v not in string.punctuation).lower()\n",
    "    txt = txt.encode(\"utf8\").decode(\"ascii\",'ignore')\n",
    "    return txt "
   ]
  },
  {
   "cell_type": "code",
   "execution_count": 3,
   "metadata": {
    "execution": {
     "iopub.execute_input": "2021-01-28T14:52:03.043747Z",
     "iopub.status.busy": "2021-01-28T14:52:03.043186Z",
     "iopub.status.idle": "2021-01-28T14:52:03.047314Z",
     "shell.execute_reply": "2021-01-28T14:52:03.046887Z"
    },
    "papermill": {
     "duration": 0.021253,
     "end_time": "2021-01-28T14:52:03.047418",
     "exception": false,
     "start_time": "2021-01-28T14:52:03.026165",
     "status": "completed"
    },
    "tags": []
   },
   "outputs": [],
   "source": [
    "def get_sequence_of_tokens(corpus):\n",
    "    ## tokenization\n",
    "    tokenizer.fit_on_texts(corpus)\n",
    "    total_words = len(tokenizer.word_index) + 1\n",
    "    \n",
    "    ## convert data to sequence of tokens \n",
    "    input_sequences = []\n",
    "    for line in corpus:\n",
    "        token_list = tokenizer.texts_to_sequences([line])[0]\n",
    "        for i in range(1, len(token_list)):\n",
    "            n_gram_sequence = token_list[:i+1]\n",
    "            input_sequences.append(n_gram_sequence)\n",
    "    return input_sequences, total_words"
   ]
  },
  {
   "cell_type": "code",
   "execution_count": 4,
   "metadata": {
    "execution": {
     "iopub.execute_input": "2021-01-28T14:52:03.077405Z",
     "iopub.status.busy": "2021-01-28T14:52:03.076908Z",
     "iopub.status.idle": "2021-01-28T14:52:03.080738Z",
     "shell.execute_reply": "2021-01-28T14:52:03.080170Z"
    },
    "papermill": {
     "duration": 0.020781,
     "end_time": "2021-01-28T14:52:03.080904",
     "exception": false,
     "start_time": "2021-01-28T14:52:03.060123",
     "status": "completed"
    },
    "tags": []
   },
   "outputs": [],
   "source": [
    "def generate_padded_sequences(input_sequences):\n",
    "    max_sequence_len = max([len(x) for x in input_sequences])\n",
    "    input_sequences = np.array(pad_sequences(input_sequences, maxlen=max_sequence_len, padding='pre'))\n",
    "    \n",
    "    predictors, label = input_sequences[:,:-1],input_sequences[:,-1]\n",
    "    label = ku.to_categorical(label, num_classes=total_words)\n",
    "    return predictors, label, max_sequence_len"
   ]
  },
  {
   "cell_type": "code",
   "execution_count": 5,
   "metadata": {
    "execution": {
     "iopub.execute_input": "2021-01-28T14:52:03.111823Z",
     "iopub.status.busy": "2021-01-28T14:52:03.111259Z",
     "iopub.status.idle": "2021-01-28T14:52:03.114545Z",
     "shell.execute_reply": "2021-01-28T14:52:03.114922Z"
    },
    "papermill": {
     "duration": 0.021432,
     "end_time": "2021-01-28T14:52:03.115037",
     "exception": false,
     "start_time": "2021-01-28T14:52:03.093605",
     "status": "completed"
    },
    "tags": []
   },
   "outputs": [],
   "source": [
    "def generate_text(seed_text, next_words, model, max_sequence_len):\n",
    "    for _ in range(next_words):\n",
    "        token_list = tokenizer.texts_to_sequences([seed_text])[0]\n",
    "        token_list = pad_sequences([token_list], maxlen=max_sequence_len-1, padding='pre')\n",
    "        predicted = model.predict_classes(token_list, verbose=0)\n",
    "        \n",
    "        output_word = \"\"\n",
    "        for word,index in tokenizer.word_index.items():\n",
    "            if index == predicted:\n",
    "                output_word = word\n",
    "                break\n",
    "        seed_text += \" \"+output_word\n",
    "    return seed_text.title()"
   ]
  },
  {
   "cell_type": "code",
   "execution_count": 6,
   "metadata": {
    "execution": {
     "iopub.execute_input": "2021-01-28T14:52:03.146691Z",
     "iopub.status.busy": "2021-01-28T14:52:03.145019Z",
     "iopub.status.idle": "2021-01-28T14:52:03.147265Z",
     "shell.execute_reply": "2021-01-28T14:52:03.147663Z"
    },
    "papermill": {
     "duration": 0.019866,
     "end_time": "2021-01-28T14:52:03.147775",
     "exception": false,
     "start_time": "2021-01-28T14:52:03.127909",
     "status": "completed"
    },
    "tags": []
   },
   "outputs": [],
   "source": [
    "def create_model(max_sequence_len, total_words):\n",
    "    input_len = max_sequence_len - 1\n",
    "    model = Sequential()\n",
    "    \n",
    "    # Add Input Embedding Layer\n",
    "    model.add(Embedding(total_words, 10, input_length=input_len))\n",
    "    \n",
    "    # Add Hidden Layer 1 - LSTM Layer\n",
    "    model.add(LSTM(100))\n",
    "    \n",
    "    # Add Output Layer\n",
    "    model.add(Dense(total_words, activation='softmax'))\n",
    "\n",
    "    model.compile(loss='categorical_crossentropy', optimizer='adam')\n",
    "    \n",
    "    return model"
   ]
  },
  {
   "cell_type": "markdown",
   "metadata": {
    "papermill": {
     "duration": 0.012457,
     "end_time": "2021-01-28T14:52:03.173333",
     "exception": false,
     "start_time": "2021-01-28T14:52:03.160876",
     "status": "completed"
    },
    "tags": []
   },
   "source": [
    "# Data"
   ]
  },
  {
   "cell_type": "code",
   "execution_count": 7,
   "metadata": {
    "_cell_guid": "b8ef1429-ff19-4a6c-92d7-af8cc61c55f7",
    "_uuid": "87836e3adbe046dd0db62013491ba62bae93b6be",
    "execution": {
     "iopub.execute_input": "2021-01-28T14:52:03.204248Z",
     "iopub.status.busy": "2021-01-28T14:52:03.203574Z",
     "iopub.status.idle": "2021-01-28T14:52:03.245066Z",
     "shell.execute_reply": "2021-01-28T14:52:03.244616Z"
    },
    "papermill": {
     "duration": 0.059113,
     "end_time": "2021-01-28T14:52:03.245180",
     "exception": false,
     "start_time": "2021-01-28T14:52:03.186067",
     "status": "completed"
    },
    "tags": []
   },
   "outputs": [
    {
     "data": {
      "text/plain": [
       "['N.F.L. vs. Politics Has Been Battle All Season Long',\n",
       " 'Voice. Vice. Veracity.',\n",
       " 'A Stand-Up’s Downward Slide',\n",
       " 'New York Today: A Groundhog Has Her Day',\n",
       " 'A Swimmer’s Communion With the Ocean',\n",
       " 'Trail Activity',\n",
       " 'Super Bowl',\n",
       " 'Trump’s Mexican Shakedown',\n",
       " 'Pence’s Presidential Pet',\n",
       " 'Fruit of a Poison Tree']"
      ]
     },
     "execution_count": 7,
     "metadata": {},
     "output_type": "execute_result"
    }
   ],
   "source": [
    "curr_dir = '../input/nyt-comments/'\n",
    "all_headlines = []\n",
    "for filename in os.listdir(curr_dir):\n",
    "    if 'Articles' in filename:\n",
    "        article_df = pd.read_csv(curr_dir + filename)\n",
    "        all_headlines.extend(list(article_df.headline.values))\n",
    "        break\n",
    "\n",
    "all_headlines[:10]"
   ]
  },
  {
   "cell_type": "code",
   "execution_count": 8,
   "metadata": {
    "execution": {
     "iopub.execute_input": "2021-01-28T14:52:03.276127Z",
     "iopub.status.busy": "2021-01-28T14:52:03.275609Z",
     "iopub.status.idle": "2021-01-28T14:52:03.283122Z",
     "shell.execute_reply": "2021-01-28T14:52:03.283713Z"
    },
    "papermill": {
     "duration": 0.024731,
     "end_time": "2021-01-28T14:52:03.283871",
     "exception": false,
     "start_time": "2021-01-28T14:52:03.259140",
     "status": "completed"
    },
    "tags": []
   },
   "outputs": [
    {
     "name": "stdout",
     "output_type": "stream",
     "text": [
      "CommentsFeb2018.csv\n",
      "ArticlesFeb2017.csv\n",
      "CommentsApril2018.csv\n",
      "ArticlesJan2017.csv\n",
      "ArticlesMay2017.csv\n",
      "CommentsJan2017.csv\n",
      "CommentsMarch2017.csv\n",
      "CommentsMay2017.csv\n",
      "CommentsMarch2018.csv\n",
      "CommentsApril2017.csv\n",
      "ArticlesMarch2017.csv\n",
      "ArticlesApril2017.csv\n",
      "CommentsFeb2017.csv\n",
      "ArticlesJan2018.csv\n",
      "ArticlesFeb2018.csv\n",
      "ArticlesMarch2018.csv\n",
      "CommentsJan2018.csv\n",
      "ArticlesApril2018.csv\n"
     ]
    }
   ],
   "source": [
    "for filename in os.listdir(curr_dir):\n",
    "    print(filename)"
   ]
  },
  {
   "cell_type": "markdown",
   "metadata": {
    "_cell_guid": "9dbd8bc9-fb61-43b9-b0c4-98bd7f3f8150",
    "_uuid": "fda5d4868631d3618d4d9a9a863541b2faf121c0",
    "papermill": {
     "duration": 0.01388,
     "end_time": "2021-01-28T14:52:03.312029",
     "exception": false,
     "start_time": "2021-01-28T14:52:03.298149",
     "status": "completed"
    },
    "tags": []
   },
   "source": [
    "\n",
    "In dataset preparation step, we will first perform text cleaning of the data which includes removal of punctuations and lower casing all the words. "
   ]
  },
  {
   "cell_type": "code",
   "execution_count": 9,
   "metadata": {
    "_cell_guid": "b8bf84ed-da11-4f89-a584-9dceea677420",
    "_uuid": "2a07365a27a7ba2f92fc9ba4d05d8e6254a68d8c",
    "collapsed": true,
    "execution": {
     "iopub.execute_input": "2021-01-28T14:52:03.349239Z",
     "iopub.status.busy": "2021-01-28T14:52:03.348415Z",
     "iopub.status.idle": "2021-01-28T14:52:03.352380Z",
     "shell.execute_reply": "2021-01-28T14:52:03.351990Z"
    },
    "papermill": {
     "duration": 0.02693,
     "end_time": "2021-01-28T14:52:03.352483",
     "exception": false,
     "start_time": "2021-01-28T14:52:03.325553",
     "status": "completed"
    },
    "tags": []
   },
   "outputs": [
    {
     "data": {
      "text/plain": [
       "['nfl vs politics has been battle all season long',\n",
       " 'voice vice veracity',\n",
       " 'a standups downward slide',\n",
       " 'new york today a groundhog has her day',\n",
       " 'a swimmers communion with the ocean',\n",
       " 'trail activity',\n",
       " 'super bowl',\n",
       " 'trumps mexican shakedown',\n",
       " 'pences presidential pet',\n",
       " 'fruit of a poison tree']"
      ]
     },
     "execution_count": 9,
     "metadata": {},
     "output_type": "execute_result"
    }
   ],
   "source": [
    "\n",
    "\n",
    "corpus = [clean_text(x) for x in all_headlines]\n",
    "corpus[:10]"
   ]
  },
  {
   "cell_type": "markdown",
   "metadata": {
    "_cell_guid": "9d83cc08-19ba-4b00-9ca6-dcf5ff39c8af",
    "_uuid": "6fd11859fd71aa5c7ce10bdbbd31c8eb6d1b3118",
    "papermill": {
     "duration": 0.013832,
     "end_time": "2021-01-28T14:52:03.380249",
     "exception": false,
     "start_time": "2021-01-28T14:52:03.366417",
     "status": "completed"
    },
    "tags": []
   },
   "source": [
    "### Generating Sequence of N-gram Tokens\n",
    "\n",
    "Language modelling requires a sequence input data, as given a sequence (of words/tokens) the aim is the predict next word/token.  \n",
    "\n",
    "The next step is Tokenization. Tokenization is a process of extracting tokens (terms / words) from a corpus. Python’s library Keras has inbuilt model for tokenization which can be used to obtain the tokens and their index in the corpus. After this step, every text document in the dataset is converted into sequence of tokens. \n"
   ]
  },
  {
   "cell_type": "code",
   "execution_count": 10,
   "metadata": {
    "_cell_guid": "896543c9-7944-4748-b8ef-ef8cbc2a84f0",
    "_uuid": "9129a8b773feb72eff91aa0025157a173d10c625",
    "collapsed": true,
    "execution": {
     "iopub.execute_input": "2021-01-28T14:52:03.436404Z",
     "iopub.status.busy": "2021-01-28T14:52:03.431202Z",
     "iopub.status.idle": "2021-01-28T14:52:03.442140Z",
     "shell.execute_reply": "2021-01-28T14:52:03.441634Z"
    },
    "papermill": {
     "duration": 0.047886,
     "end_time": "2021-01-28T14:52:03.442253",
     "exception": false,
     "start_time": "2021-01-28T14:52:03.394367",
     "status": "completed"
    },
    "tags": []
   },
   "outputs": [
    {
     "data": {
      "text/plain": [
       "[[661, 118],\n",
       " [661, 118, 73],\n",
       " [661, 118, 73, 74],\n",
       " [661, 118, 73, 74, 662],\n",
       " [661, 118, 73, 74, 662, 663],\n",
       " [661, 118, 73, 74, 662, 663, 64],\n",
       " [661, 118, 73, 74, 662, 663, 64, 30],\n",
       " [661, 118, 73, 74, 662, 663, 64, 30, 211],\n",
       " [212, 664],\n",
       " [212, 664, 665]]"
      ]
     },
     "execution_count": 10,
     "metadata": {},
     "output_type": "execute_result"
    }
   ],
   "source": [
    "tokenizer = Tokenizer()\n",
    "\n",
    "\n",
    "inp_sequences, total_words = get_sequence_of_tokens(corpus)\n",
    "inp_sequences[:10]"
   ]
  },
  {
   "cell_type": "markdown",
   "metadata": {
    "_cell_guid": "a22c88f5-f2a3-457c-835b-63341e657e3f",
    "_uuid": "f22aa5e0c04620ca5034ab9389322eee543060c6",
    "papermill": {
     "duration": 0.014704,
     "end_time": "2021-01-28T14:52:03.472254",
     "exception": false,
     "start_time": "2021-01-28T14:52:03.457550",
     "status": "completed"
    },
    "tags": []
   },
   "source": [
    "In the above output [30, 507], [30, 507, 11], [30, 507, 11, 1] and so on represents the ngram phrases generated from the input data. where every integer corresponds to the index of a particular word in the complete vocabulary of words present in the text. For example\n",
    "\n",
    "**Headline:** i stand  with the shedevils  \n",
    "**Ngrams:** | **Sequence of Tokens**\n",
    "\n",
    "<table>\n",
    "<tr><td>Ngram </td><td> Sequence of Tokens</td></tr>\n",
    "<tr> <td>i stand </td><td> [30, 507] </td></tr>\n",
    "<tr> <td>i stand with </td><td> [30, 507, 11] </td></tr>\n",
    "<tr> <td>i stand with the </td><td> [30, 507, 11, 1] </td></tr>\n",
    "<tr> <td>i stand with the shedevils </td><td> [30, 507, 11, 1, 975] </td></tr>\n",
    "</table>\n",
    "\n",
    "\n",
    "\n",
    "### Padding the Sequences and obtain Variables : Predictors and Target\n",
    "\n",
    "Now that we have generated a data-set which contains sequence of tokens, it is possible that different sequences have different lengths. Before starting training the model, we need to pad the sequences and make their lengths equal. We can use pad_sequence function of Kears for this purpose. To input this data into a learning model, we need to create predictors and label. We will create N-grams sequence as predictors and the next word of the N-gram as label. For example:\n",
    "\n",
    "\n",
    "Headline:  they are learning data science\n",
    "\n",
    "<table>\n",
    "<tr><td>PREDICTORS </td> <td>           LABEL </td></tr>\n",
    "<tr><td>they                   </td> <td>  are</td></tr>\n",
    "<tr><td>they are               </td> <td>  learning</td></tr>\n",
    "<tr><td>they are learning      </td> <td>  data</td></tr>\n",
    "<tr><td>they are learning data </td> <td>  science</td></tr>\n",
    "</table>"
   ]
  },
  {
   "cell_type": "code",
   "execution_count": 11,
   "metadata": {
    "_cell_guid": "73254551-40bd-45b1-a7a5-88fe4cbe0b20",
    "_uuid": "ca588b414e70e21bebcead960f6632805d37dd8c",
    "collapsed": true,
    "execution": {
     "iopub.execute_input": "2021-01-28T14:52:03.505826Z",
     "iopub.status.busy": "2021-01-28T14:52:03.505074Z",
     "iopub.status.idle": "2021-01-28T14:52:03.542016Z",
     "shell.execute_reply": "2021-01-28T14:52:03.541533Z"
    },
    "papermill": {
     "duration": 0.055269,
     "end_time": "2021-01-28T14:52:03.542122",
     "exception": false,
     "start_time": "2021-01-28T14:52:03.486853",
     "status": "completed"
    },
    "tags": []
   },
   "outputs": [],
   "source": [
    "\n",
    "\n",
    "predictors, label, max_sequence_len = generate_padded_sequences(inp_sequences)"
   ]
  },
  {
   "cell_type": "markdown",
   "metadata": {
    "_cell_guid": "8b5d80ff-54a8-4380-8a3c-149be880551d",
    "_uuid": "8b8a64b96011f427c48d5b0819e3e74af604ce43",
    "papermill": {
     "duration": 0.014387,
     "end_time": "2021-01-28T14:52:03.570789",
     "exception": false,
     "start_time": "2021-01-28T14:52:03.556402",
     "status": "completed"
    },
    "tags": []
   },
   "source": [
    "\n",
    "\n",
    "# The model"
   ]
  },
  {
   "cell_type": "code",
   "execution_count": 12,
   "metadata": {
    "_cell_guid": "60d6721e-e40e-4f2b-8f63-c06459d68f26",
    "_uuid": "76ef6d9352002d333a7c75e8aed7ce996015f527",
    "collapsed": true,
    "execution": {
     "iopub.execute_input": "2021-01-28T14:52:03.603221Z",
     "iopub.status.busy": "2021-01-28T14:52:03.602733Z",
     "iopub.status.idle": "2021-01-28T14:52:03.919294Z",
     "shell.execute_reply": "2021-01-28T14:52:03.917030Z"
    },
    "papermill": {
     "duration": 0.33415,
     "end_time": "2021-01-28T14:52:03.919435",
     "exception": false,
     "start_time": "2021-01-28T14:52:03.585285",
     "status": "completed"
    },
    "tags": []
   },
   "outputs": [
    {
     "name": "stdout",
     "output_type": "stream",
     "text": [
      "Model: \"sequential\"\n",
      "_________________________________________________________________\n",
      "Layer (type)                 Output Shape              Param #   \n",
      "=================================================================\n",
      "embedding (Embedding)        (None, 16, 10)            22890     \n",
      "_________________________________________________________________\n",
      "lstm (LSTM)                  (None, 100)               44400     \n",
      "_________________________________________________________________\n",
      "dense (Dense)                (None, 2289)              231189    \n",
      "=================================================================\n",
      "Total params: 298,479\n",
      "Trainable params: 298,479\n",
      "Non-trainable params: 0\n",
      "_________________________________________________________________\n"
     ]
    }
   ],
   "source": [
    "\n",
    "\n",
    "model = create_model(max_sequence_len, total_words)\n",
    "model.summary()"
   ]
  },
  {
   "cell_type": "markdown",
   "metadata": {
    "_cell_guid": "1826aa1a-cb77-4379-a69d-e9b180945dce",
    "_uuid": "f0b16b471969dbb831cb0024e303341e11b63de4",
    "papermill": {
     "duration": 0.014921,
     "end_time": "2021-01-28T14:52:03.950192",
     "exception": false,
     "start_time": "2021-01-28T14:52:03.935271",
     "status": "completed"
    },
    "tags": []
   },
   "source": [
    "Lets train our model now"
   ]
  },
  {
   "cell_type": "code",
   "execution_count": 13,
   "metadata": {
    "_cell_guid": "07d5cf03-d171-4993-9f8b-18446649ecb0",
    "_uuid": "156f3303b8120cc6932e6db985cbea4a7ceb08bf",
    "collapsed": true,
    "execution": {
     "iopub.execute_input": "2021-01-28T14:52:03.983961Z",
     "iopub.status.busy": "2021-01-28T14:52:03.983357Z",
     "iopub.status.idle": "2021-01-28T14:52:59.542587Z",
     "shell.execute_reply": "2021-01-28T14:52:59.543017Z"
    },
    "papermill": {
     "duration": 55.578146,
     "end_time": "2021-01-28T14:52:59.543172",
     "exception": false,
     "start_time": "2021-01-28T14:52:03.965026",
     "status": "completed"
    },
    "tags": []
   },
   "outputs": [
    {
     "name": "stdout",
     "output_type": "stream",
     "text": [
      "Epoch 1/100\n",
      "142/142 - 4s - loss: 7.3548\n",
      "Epoch 2/100\n",
      "142/142 - 0s - loss: 6.8464\n",
      "Epoch 3/100\n",
      "142/142 - 0s - loss: 6.7234\n",
      "Epoch 4/100\n",
      "142/142 - 1s - loss: 6.6350\n",
      "Epoch 5/100\n",
      "142/142 - 0s - loss: 6.5433\n",
      "Epoch 6/100\n",
      "142/142 - 1s - loss: 6.4345\n",
      "Epoch 7/100\n",
      "142/142 - 1s - loss: 6.3215\n",
      "Epoch 8/100\n",
      "142/142 - 1s - loss: 6.2053\n",
      "Epoch 9/100\n",
      "142/142 - 0s - loss: 6.0881\n",
      "Epoch 10/100\n",
      "142/142 - 0s - loss: 5.9710\n",
      "Epoch 11/100\n",
      "142/142 - 0s - loss: 5.8578\n",
      "Epoch 12/100\n",
      "142/142 - 1s - loss: 5.7509\n",
      "Epoch 13/100\n",
      "142/142 - 1s - loss: 5.6478\n",
      "Epoch 14/100\n",
      "142/142 - 1s - loss: 5.5485\n",
      "Epoch 15/100\n",
      "142/142 - 0s - loss: 5.4517\n",
      "Epoch 16/100\n",
      "142/142 - 0s - loss: 5.3560\n",
      "Epoch 17/100\n",
      "142/142 - 0s - loss: 5.2652\n",
      "Epoch 18/100\n",
      "142/142 - 0s - loss: 5.1751\n",
      "Epoch 19/100\n",
      "142/142 - 0s - loss: 5.0884\n",
      "Epoch 20/100\n",
      "142/142 - 1s - loss: 5.0050\n",
      "Epoch 21/100\n",
      "142/142 - 0s - loss: 4.9200\n",
      "Epoch 22/100\n",
      "142/142 - 0s - loss: 4.8389\n",
      "Epoch 23/100\n",
      "142/142 - 0s - loss: 4.7589\n",
      "Epoch 24/100\n",
      "142/142 - 0s - loss: 4.6804\n",
      "Epoch 25/100\n",
      "142/142 - 0s - loss: 4.6019\n",
      "Epoch 26/100\n",
      "142/142 - 0s - loss: 4.5293\n",
      "Epoch 27/100\n",
      "142/142 - 0s - loss: 4.4507\n",
      "Epoch 28/100\n",
      "142/142 - 1s - loss: 4.3786\n",
      "Epoch 29/100\n",
      "142/142 - 1s - loss: 4.3033\n",
      "Epoch 30/100\n",
      "142/142 - 1s - loss: 4.2311\n",
      "Epoch 31/100\n",
      "142/142 - 0s - loss: 4.1613\n",
      "Epoch 32/100\n",
      "142/142 - 0s - loss: 4.0928\n",
      "Epoch 33/100\n",
      "142/142 - 0s - loss: 4.0223\n",
      "Epoch 34/100\n",
      "142/142 - 1s - loss: 3.9523\n",
      "Epoch 35/100\n",
      "142/142 - 1s - loss: 3.8847\n",
      "Epoch 36/100\n",
      "142/142 - 0s - loss: 3.8211\n",
      "Epoch 37/100\n",
      "142/142 - 1s - loss: 3.7553\n",
      "Epoch 38/100\n",
      "142/142 - 1s - loss: 3.6898\n",
      "Epoch 39/100\n",
      "142/142 - 0s - loss: 3.6282\n",
      "Epoch 40/100\n",
      "142/142 - 0s - loss: 3.5660\n",
      "Epoch 41/100\n",
      "142/142 - 1s - loss: 3.5083\n",
      "Epoch 42/100\n",
      "142/142 - 1s - loss: 3.4461\n",
      "Epoch 43/100\n",
      "142/142 - 0s - loss: 3.3880\n",
      "Epoch 44/100\n",
      "142/142 - 0s - loss: 3.3328\n",
      "Epoch 45/100\n",
      "142/142 - 0s - loss: 3.2748\n",
      "Epoch 46/100\n",
      "142/142 - 1s - loss: 3.2187\n",
      "Epoch 47/100\n",
      "142/142 - 0s - loss: 3.1658\n",
      "Epoch 48/100\n",
      "142/142 - 0s - loss: 3.1129\n",
      "Epoch 49/100\n",
      "142/142 - 1s - loss: 3.0618\n",
      "Epoch 50/100\n",
      "142/142 - 1s - loss: 3.0103\n",
      "Epoch 51/100\n",
      "142/142 - 0s - loss: 2.9605\n",
      "Epoch 52/100\n",
      "142/142 - 0s - loss: 2.9129\n",
      "Epoch 53/100\n",
      "142/142 - 1s - loss: 2.8645\n",
      "Epoch 54/100\n",
      "142/142 - 0s - loss: 2.8182\n",
      "Epoch 55/100\n",
      "142/142 - 0s - loss: 2.7732\n",
      "Epoch 56/100\n",
      "142/142 - 0s - loss: 2.7285\n",
      "Epoch 57/100\n",
      "142/142 - 1s - loss: 2.6814\n",
      "Epoch 58/100\n",
      "142/142 - 0s - loss: 2.6400\n",
      "Epoch 59/100\n",
      "142/142 - 1s - loss: 2.5982\n",
      "Epoch 60/100\n",
      "142/142 - 0s - loss: 2.5556\n",
      "Epoch 61/100\n",
      "142/142 - 1s - loss: 2.5158\n",
      "Epoch 62/100\n",
      "142/142 - 1s - loss: 2.4746\n",
      "Epoch 63/100\n",
      "142/142 - 1s - loss: 2.4356\n",
      "Epoch 64/100\n",
      "142/142 - 1s - loss: 2.3969\n",
      "Epoch 65/100\n",
      "142/142 - 1s - loss: 2.3590\n",
      "Epoch 66/100\n",
      "142/142 - 1s - loss: 2.3221\n",
      "Epoch 67/100\n",
      "142/142 - 1s - loss: 2.2850\n",
      "Epoch 68/100\n",
      "142/142 - 1s - loss: 2.2488\n",
      "Epoch 69/100\n",
      "142/142 - 0s - loss: 2.2148\n",
      "Epoch 70/100\n",
      "142/142 - 1s - loss: 2.1812\n",
      "Epoch 71/100\n",
      "142/142 - 1s - loss: 2.1475\n",
      "Epoch 72/100\n",
      "142/142 - 0s - loss: 2.1140\n",
      "Epoch 73/100\n",
      "142/142 - 0s - loss: 2.0797\n",
      "Epoch 74/100\n",
      "142/142 - 1s - loss: 2.0487\n",
      "Epoch 75/100\n",
      "142/142 - 0s - loss: 2.0179\n",
      "Epoch 76/100\n",
      "142/142 - 1s - loss: 1.9854\n",
      "Epoch 77/100\n",
      "142/142 - 0s - loss: 1.9538\n",
      "Epoch 78/100\n",
      "142/142 - 1s - loss: 1.9255\n",
      "Epoch 79/100\n",
      "142/142 - 0s - loss: 1.8950\n",
      "Epoch 80/100\n",
      "142/142 - 0s - loss: 1.8680\n",
      "Epoch 81/100\n",
      "142/142 - 1s - loss: 1.8401\n",
      "Epoch 82/100\n",
      "142/142 - 1s - loss: 1.8089\n",
      "Epoch 83/100\n",
      "142/142 - 0s - loss: 1.7831\n",
      "Epoch 84/100\n",
      "142/142 - 0s - loss: 1.7564\n",
      "Epoch 85/100\n",
      "142/142 - 0s - loss: 1.7311\n",
      "Epoch 86/100\n",
      "142/142 - 0s - loss: 1.7046\n",
      "Epoch 87/100\n",
      "142/142 - 0s - loss: 1.6797\n",
      "Epoch 88/100\n",
      "142/142 - 0s - loss: 1.6545\n",
      "Epoch 89/100\n",
      "142/142 - 0s - loss: 1.6290\n",
      "Epoch 90/100\n",
      "142/142 - 0s - loss: 1.6063\n",
      "Epoch 91/100\n",
      "142/142 - 0s - loss: 1.5822\n",
      "Epoch 92/100\n",
      "142/142 - 1s - loss: 1.5575\n",
      "Epoch 93/100\n",
      "142/142 - 1s - loss: 1.5355\n",
      "Epoch 94/100\n",
      "142/142 - 1s - loss: 1.5113\n",
      "Epoch 95/100\n",
      "142/142 - 1s - loss: 1.4916\n",
      "Epoch 96/100\n",
      "142/142 - 1s - loss: 1.4658\n",
      "Epoch 97/100\n",
      "142/142 - 1s - loss: 1.4464\n",
      "Epoch 98/100\n",
      "142/142 - 1s - loss: 1.4250\n",
      "Epoch 99/100\n",
      "142/142 - 1s - loss: 1.4027\n",
      "Epoch 100/100\n",
      "142/142 - 0s - loss: 1.3832\n"
     ]
    },
    {
     "data": {
      "text/plain": [
       "<tensorflow.python.keras.callbacks.History at 0x7ff3b27fc690>"
      ]
     },
     "execution_count": 13,
     "metadata": {},
     "output_type": "execute_result"
    }
   ],
   "source": [
    "model.fit(predictors, label, epochs=100, verbose=2)"
   ]
  },
  {
   "cell_type": "markdown",
   "metadata": {
    "_cell_guid": "61e99cfe-7395-4d61-8d1a-8539103d3db5",
    "_uuid": "448bf43b123060dfe4e27cb9f12889e4fe0ed2a7",
    "papermill": {
     "duration": 0.06448,
     "end_time": "2021-01-28T14:52:59.673073",
     "exception": false,
     "start_time": "2021-01-28T14:52:59.608593",
     "status": "completed"
    },
    "tags": []
   },
   "source": [
    "\n",
    "\n",
    "Great, our model architecture is now ready and we can train it using our data. Next lets write the function to predict the next word based on the input words (or seed text). We will first tokenize the seed text, pad the sequences and pass into the trained model to get predicted word. The multiple predicted words can be appended together to get predicted sequence.\n"
   ]
  },
  {
   "cell_type": "code",
   "execution_count": 14,
   "metadata": {
    "execution": {
     "iopub.execute_input": "2021-01-28T14:52:59.808024Z",
     "iopub.status.busy": "2021-01-28T14:52:59.807211Z",
     "iopub.status.idle": "2021-01-28T14:53:01.179934Z",
     "shell.execute_reply": "2021-01-28T14:53:01.178977Z"
    },
    "papermill": {
     "duration": 1.442172,
     "end_time": "2021-01-28T14:53:01.180062",
     "exception": false,
     "start_time": "2021-01-28T14:52:59.737890",
     "status": "completed"
    },
    "tags": []
   },
   "outputs": [
    {
     "name": "stdout",
     "output_type": "stream",
     "text": [
      "United States Test For Sports Champs Would\n",
      "United States Test For Sports Champs Would You Meet With Climate Change\n",
      "United States Test For Sports Champs Would You Meet With Climate Change Bold Legislative Todo List On\n"
     ]
    }
   ],
   "source": [
    "print (generate_text(\"united states\", 5, model, max_sequence_len))\n",
    "print (generate_text(\"united states\", 10, model, max_sequence_len))\n",
    "print (generate_text(\"united states\", 15, model, max_sequence_len))"
   ]
  },
  {
   "cell_type": "code",
   "execution_count": 15,
   "metadata": {
    "execution": {
     "iopub.execute_input": "2021-01-28T14:53:01.317326Z",
     "iopub.status.busy": "2021-01-28T14:53:01.316540Z",
     "iopub.status.idle": "2021-01-28T14:53:01.942825Z",
     "shell.execute_reply": "2021-01-28T14:53:01.942346Z"
    },
    "papermill": {
     "duration": 0.696685,
     "end_time": "2021-01-28T14:53:01.942955",
     "exception": false,
     "start_time": "2021-01-28T14:53:01.246270",
     "status": "completed"
    },
    "tags": []
   },
   "outputs": [
    {
     "name": "stdout",
     "output_type": "stream",
     "text": [
      "President Trump Sales Fall Again\n",
      "President Trump Sales Fall Again In\n",
      "President Trump Sales Fall Again In Mexicos\n",
      "President Trump Sales Fall Again In Mexicos Second Year Of\n"
     ]
    }
   ],
   "source": [
    "print (generate_text(\"president trump\", 3, model, max_sequence_len))\n",
    "print (generate_text(\"president trump\", 4, model, max_sequence_len))\n",
    "print (generate_text(\"president trump\", 5, model, max_sequence_len))\n",
    "print (generate_text(\"president trump\", 8, model, max_sequence_len))\n"
   ]
  },
  {
   "cell_type": "code",
   "execution_count": 16,
   "metadata": {
    "execution": {
     "iopub.execute_input": "2021-01-28T14:53:02.082357Z",
     "iopub.status.busy": "2021-01-28T14:53:02.081834Z",
     "iopub.status.idle": "2021-01-28T14:53:02.701837Z",
     "shell.execute_reply": "2021-01-28T14:53:02.701334Z"
    },
    "papermill": {
     "duration": 0.690836,
     "end_time": "2021-01-28T14:53:02.701967",
     "exception": false,
     "start_time": "2021-01-28T14:53:02.011131",
     "status": "completed"
    },
    "tags": []
   },
   "outputs": [
    {
     "name": "stdout",
     "output_type": "stream",
     "text": [
      "Joe Biden I Too Took\n",
      "Joe Biden I Too Took An\n",
      "Joe Biden I Too Took An Oath\n",
      "Joe Biden I Too Took An Oath And Anthony Care\n"
     ]
    }
   ],
   "source": [
    "print (generate_text(\"joe biden\", 3, model, max_sequence_len))\n",
    "print (generate_text(\"joe biden\", 4, model, max_sequence_len))\n",
    "print (generate_text(\"joe biden\", 5, model, max_sequence_len))\n",
    "print (generate_text(\"joe biden\", 8, model, max_sequence_len))"
   ]
  },
  {
   "cell_type": "code",
   "execution_count": 17,
   "metadata": {
    "execution": {
     "iopub.execute_input": "2021-01-28T14:53:02.844920Z",
     "iopub.status.busy": "2021-01-28T14:53:02.844089Z",
     "iopub.status.idle": "2021-01-28T14:53:03.473685Z",
     "shell.execute_reply": "2021-01-28T14:53:03.472767Z"
    },
    "papermill": {
     "duration": 0.703723,
     "end_time": "2021-01-28T14:53:03.473848",
     "exception": false,
     "start_time": "2021-01-28T14:53:02.770125",
     "status": "completed"
    },
    "tags": []
   },
   "outputs": [
    {
     "name": "stdout",
     "output_type": "stream",
     "text": [
      "India And China A Appetite For\n",
      "India And China A Appetite For The\n",
      "India And China A Appetite For The Ages\n",
      "India And China A Appetite For The Ages To Win A\n"
     ]
    }
   ],
   "source": [
    "print (generate_text(\"india and china\", 3, model, max_sequence_len))\n",
    "print (generate_text(\"india and china\", 4, model, max_sequence_len))\n",
    "print (generate_text(\"india and china\", 5, model, max_sequence_len))\n",
    "print (generate_text(\"india and china\", 8, model, max_sequence_len))"
   ]
  },
  {
   "cell_type": "code",
   "execution_count": 18,
   "metadata": {
    "execution": {
     "iopub.execute_input": "2021-01-28T14:53:03.617446Z",
     "iopub.status.busy": "2021-01-28T14:53:03.616686Z",
     "iopub.status.idle": "2021-01-28T14:53:04.235373Z",
     "shell.execute_reply": "2021-01-28T14:53:04.234789Z"
    },
    "papermill": {
     "duration": 0.692243,
     "end_time": "2021-01-28T14:53:04.235535",
     "exception": false,
     "start_time": "2021-01-28T14:53:03.543292",
     "status": "completed"
    },
    "tags": []
   },
   "outputs": [
    {
     "name": "stdout",
     "output_type": "stream",
     "text": [
      "European Union I Too Took\n",
      "European Union I Too Took An\n",
      "European Union I Too Took An Oath\n",
      "European Union I Too Took An Oath And Anthony Care\n"
     ]
    }
   ],
   "source": [
    "print (generate_text(\"european union\", 3, model, max_sequence_len))\n",
    "print (generate_text(\"european union\", 4, model, max_sequence_len))\n",
    "print (generate_text(\"european union\", 5, model, max_sequence_len))\n",
    "print (generate_text(\"european union\", 8, model, max_sequence_len))"
   ]
  }
 ],
 "metadata": {
  "kernelspec": {
   "display_name": "Python 3",
   "language": "python",
   "name": "python3"
  },
  "language_info": {
   "codemirror_mode": {
    "name": "ipython",
    "version": 3
   },
   "file_extension": ".py",
   "mimetype": "text/x-python",
   "name": "python",
   "nbconvert_exporter": "python",
   "pygments_lexer": "ipython3",
   "version": "3.7.9"
  },
  "papermill": {
   "default_parameters": {},
   "duration": 76.735179,
   "end_time": "2021-01-28T14:53:06.824879",
   "environment_variables": {},
   "exception": null,
   "input_path": "__notebook__.ipynb",
   "output_path": "__notebook__.ipynb",
   "parameters": {},
   "start_time": "2021-01-28T14:51:50.089700",
   "version": "2.2.2"
  }
 },
 "nbformat": 4,
 "nbformat_minor": 4
}
