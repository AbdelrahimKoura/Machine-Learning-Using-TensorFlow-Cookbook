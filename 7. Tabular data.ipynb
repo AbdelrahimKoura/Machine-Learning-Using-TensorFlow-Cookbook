{
 "cells": [
  {
   "cell_type": "markdown",
   "metadata": {},
   "source": [
    "# Tabular Data"
   ]
  },
  {
   "cell_type": "code",
   "execution_count": 1,
   "metadata": {},
   "outputs": [
    {
     "name": "stdout",
     "output_type": "stream",
     "text": [
      "2.1.0\n"
     ]
    }
   ],
   "source": [
    "import tensorflow as tf\n",
    "print(tf.__version__)"
   ]
  },
  {
   "cell_type": "markdown",
   "metadata": {},
   "source": [
    "## Dataset preparation"
   ]
  },
  {
   "cell_type": "code",
   "execution_count": 2,
   "metadata": {},
   "outputs": [],
   "source": [
    "# Loading data directly from CatBoost\n",
    "from catboost.datasets import amazon\n",
    "\n",
    "X, Xt = amazon()\n",
    "\n",
    "y = X[\"ACTION\"].apply(lambda x: 1 if x == 1 else 0).values\n",
    "X.drop([\"ACTION\"], axis=1, inplace=True)"
   ]
  },
  {
   "cell_type": "code",
   "execution_count": 3,
   "metadata": {},
   "outputs": [
    {
     "data": {
      "text/html": [
       "<div>\n",
       "<style scoped>\n",
       "    .dataframe tbody tr th:only-of-type {\n",
       "        vertical-align: middle;\n",
       "    }\n",
       "\n",
       "    .dataframe tbody tr th {\n",
       "        vertical-align: top;\n",
       "    }\n",
       "\n",
       "    .dataframe thead th {\n",
       "        text-align: right;\n",
       "    }\n",
       "</style>\n",
       "<table border=\"1\" class=\"dataframe\">\n",
       "  <thead>\n",
       "    <tr style=\"text-align: right;\">\n",
       "      <th></th>\n",
       "      <th>RESOURCE</th>\n",
       "      <th>MGR_ID</th>\n",
       "      <th>ROLE_ROLLUP_1</th>\n",
       "      <th>ROLE_ROLLUP_2</th>\n",
       "      <th>ROLE_DEPTNAME</th>\n",
       "      <th>ROLE_TITLE</th>\n",
       "      <th>ROLE_FAMILY_DESC</th>\n",
       "      <th>ROLE_FAMILY</th>\n",
       "      <th>ROLE_CODE</th>\n",
       "    </tr>\n",
       "  </thead>\n",
       "  <tbody>\n",
       "    <tr>\n",
       "      <th>0</th>\n",
       "      <td>39353</td>\n",
       "      <td>85475</td>\n",
       "      <td>117961</td>\n",
       "      <td>118300</td>\n",
       "      <td>123472</td>\n",
       "      <td>117905</td>\n",
       "      <td>117906</td>\n",
       "      <td>290919</td>\n",
       "      <td>117908</td>\n",
       "    </tr>\n",
       "    <tr>\n",
       "      <th>1</th>\n",
       "      <td>17183</td>\n",
       "      <td>1540</td>\n",
       "      <td>117961</td>\n",
       "      <td>118343</td>\n",
       "      <td>123125</td>\n",
       "      <td>118536</td>\n",
       "      <td>118536</td>\n",
       "      <td>308574</td>\n",
       "      <td>118539</td>\n",
       "    </tr>\n",
       "    <tr>\n",
       "      <th>2</th>\n",
       "      <td>36724</td>\n",
       "      <td>14457</td>\n",
       "      <td>118219</td>\n",
       "      <td>118220</td>\n",
       "      <td>117884</td>\n",
       "      <td>117879</td>\n",
       "      <td>267952</td>\n",
       "      <td>19721</td>\n",
       "      <td>117880</td>\n",
       "    </tr>\n",
       "    <tr>\n",
       "      <th>3</th>\n",
       "      <td>36135</td>\n",
       "      <td>5396</td>\n",
       "      <td>117961</td>\n",
       "      <td>118343</td>\n",
       "      <td>119993</td>\n",
       "      <td>118321</td>\n",
       "      <td>240983</td>\n",
       "      <td>290919</td>\n",
       "      <td>118322</td>\n",
       "    </tr>\n",
       "    <tr>\n",
       "      <th>4</th>\n",
       "      <td>42680</td>\n",
       "      <td>5905</td>\n",
       "      <td>117929</td>\n",
       "      <td>117930</td>\n",
       "      <td>119569</td>\n",
       "      <td>119323</td>\n",
       "      <td>123932</td>\n",
       "      <td>19793</td>\n",
       "      <td>119325</td>\n",
       "    </tr>\n",
       "  </tbody>\n",
       "</table>\n",
       "</div>"
      ],
      "text/plain": [
       "   RESOURCE  MGR_ID  ROLE_ROLLUP_1  ROLE_ROLLUP_2  ROLE_DEPTNAME  ROLE_TITLE  \\\n",
       "0     39353   85475         117961         118300         123472      117905   \n",
       "1     17183    1540         117961         118343         123125      118536   \n",
       "2     36724   14457         118219         118220         117884      117879   \n",
       "3     36135    5396         117961         118343         119993      118321   \n",
       "4     42680    5905         117929         117930         119569      119323   \n",
       "\n",
       "   ROLE_FAMILY_DESC  ROLE_FAMILY  ROLE_CODE  \n",
       "0            117906       290919     117908  \n",
       "1            118536       308574     118539  \n",
       "2            267952        19721     117880  \n",
       "3            240983       290919     118322  \n",
       "4            123932        19793     119325  "
      ]
     },
     "execution_count": 3,
     "metadata": {},
     "output_type": "execute_result"
    }
   ],
   "source": [
    "X.head()"
   ]
  },
  {
   "cell_type": "markdown",
   "metadata": {},
   "source": [
    "## Processing numeric data"
   ]
  },
  {
   "cell_type": "code",
   "execution_count": 4,
   "metadata": {},
   "outputs": [],
   "source": [
    "import numpy as np\n",
    "import pandas as pd\n",
    "\n",
    "try:\n",
    "    from sklearn.impute import IterativeImputer\n",
    "except:\n",
    "    from sklearn.experimental import enable_iterative_imputer\n",
    "    from sklearn.impute import IterativeImputer\n",
    "\n",
    "from sklearn.ensemble import ExtraTreesRegressor\n",
    "from sklearn.impute import SimpleImputer\n",
    "\n",
    "from sklearn.preprocessing import StandardScaler, QuantileTransformer\n",
    "from sklearn.feature_selection import VarianceThreshold\n",
    "\n",
    "from sklearn.pipeline import Pipeline"
   ]
  },
  {
   "cell_type": "code",
   "execution_count": 5,
   "metadata": {},
   "outputs": [],
   "source": [
    "example = pd.DataFrame([[1, 2, 3, np.nan], [1, 3, np.nan, 4], [1, 2, 2, 2]], columns = ['a', 'b', 'c', 'd'])"
   ]
  },
  {
   "cell_type": "code",
   "execution_count": 6,
   "metadata": {},
   "outputs": [],
   "source": [
    "def assemble_numeric_pipeline(variance_threshold=0.0, \n",
    "                              imputer='mean', \n",
    "                              multivariate_imputer=False, \n",
    "                              add_indicator=True,\n",
    "                              quantile_transformer='normal',\n",
    "                              scaler=True):\n",
    "    numeric_pipeline = []\n",
    "    if variance_threshold is not None:\n",
    "        if isinstance(variance_threshold, float):\n",
    "            numeric_pipeline.append(('var_filter', \n",
    "                                     VarianceThreshold(threshold=variance_threshold)))\n",
    "        else:\n",
    "            numeric_pipeline.append(('var_filter',\n",
    "                                     VarianceThreshold()))\n",
    "    if imputer is not None:\n",
    "        if multivariate_imputer is True:\n",
    "            numeric_pipeline.append(('imputer', \n",
    "                                     IterativeImputer(estimator=ExtraTreesRegressor(n_estimators=100, n_jobs=-2), \n",
    "                                                      initial_strategy=imputer,\n",
    "                                                      add_indicator=add_indicator)))\n",
    "        else:\n",
    "            numeric_pipeline.append(('imputer', \n",
    "                                     SimpleImputer(strategy=imputer, \n",
    "                                                   add_indicator=add_indicator)\n",
    "                                    )\n",
    "                                   )\n",
    "\n",
    "    if quantile_transformer is not None:\n",
    "        numeric_pipeline.append(('transformer',\n",
    "                                 QuantileTransformer(n_quantiles=100, \n",
    "                                                     output_distribution=quantile_transformer, \n",
    "                                                     random_state=42)\n",
    "                                )\n",
    "                               )\n",
    "\n",
    "    if scaler is not None:\n",
    "        numeric_pipeline.append(('scaler', \n",
    "                                 StandardScaler()\n",
    "                                )\n",
    "                               )\n",
    "\n",
    "    return Pipeline(steps=numeric_pipeline)"
   ]
  },
  {
   "cell_type": "code",
   "execution_count": 7,
   "metadata": {},
   "outputs": [
    {
     "name": "stderr",
     "output_type": "stream",
     "text": [
      "C:\\Users\\LucaMassaron.AzureAD\\Anaconda3\\envs\\kaggle\\lib\\site-packages\\sklearn\\preprocessing\\_data.py:2357: UserWarning: n_quantiles (100) is greater than the total number of samples (3). n_quantiles is set to n_samples.\n",
      "  % (self.n_quantiles, n_samples))\n"
     ]
    },
    {
     "data": {
      "text/plain": [
       "Pipeline(memory=None,\n",
       "         steps=[('var_filter', VarianceThreshold(threshold=0.0)),\n",
       "                ('imputer',\n",
       "                 SimpleImputer(add_indicator=True, copy=True, fill_value=None,\n",
       "                               missing_values=nan, strategy='mean',\n",
       "                               verbose=0)),\n",
       "                ('transformer',\n",
       "                 QuantileTransformer(copy=True, ignore_implicit_zeros=False,\n",
       "                                     n_quantiles=100,\n",
       "                                     output_distribution='normal',\n",
       "                                     random_state=42, subsample=100000)),\n",
       "                ('scaler',\n",
       "                 StandardScaler(copy=True, with_mean=True, with_std=True))],\n",
       "         verbose=False)"
      ]
     },
     "execution_count": 7,
     "metadata": {},
     "output_type": "execute_result"
    }
   ],
   "source": [
    "numeric_pipeline = assemble_numeric_pipeline(variance_threshold=0.0, \n",
    "                              imputer='mean', \n",
    "                              multivariate_imputer=False, \n",
    "                              add_indicator=True,\n",
    "                              quantile_transformer='normal',\n",
    "                              scaler=True)\n",
    "\n",
    "numeric_pipeline.fit(example)"
   ]
  },
  {
   "cell_type": "code",
   "execution_count": 8,
   "metadata": {},
   "outputs": [
    {
     "data": {
      "text/plain": [
       "array([[-0.707,  1.225, -0.   , -0.707,  1.414],\n",
       "       [ 1.414, -0.   ,  1.225,  1.414, -0.707],\n",
       "       [-0.707, -1.225, -1.225, -0.707, -0.707]])"
      ]
     },
     "execution_count": 8,
     "metadata": {},
     "output_type": "execute_result"
    }
   ],
   "source": [
    "np.round(numeric_pipeline.transform(example),3)"
   ]
  },
  {
   "cell_type": "code",
   "execution_count": 9,
   "metadata": {},
   "outputs": [
    {
     "data": {
      "text/plain": [
       "Index(['b', 'c', 'd', 'c_missing', 'd_missing'], dtype='object')"
      ]
     },
     "execution_count": 9,
     "metadata": {},
     "output_type": "execute_result"
    }
   ],
   "source": [
    "def derive_numeric_columns(df, pipeline):\n",
    "    columns = df.columns\n",
    "    if 'var_filter' in pipeline.named_steps:\n",
    "        threshold = pipeline.named_steps.var_filter.threshold\n",
    "        columns = columns[pipeline.named_steps.var_filter.variances_>threshold]\n",
    "    if 'imputer' in pipeline.named_steps:\n",
    "        missing_cols = pipeline.named_steps.imputer.indicator_.features_\n",
    "        if len(missing_cols) > 0:\n",
    "            columns = columns.append(columns[missing_cols] + '_missing')\n",
    "    return columns\n",
    "\n",
    "derive_numeric_columns(example, numeric_pipeline)"
   ]
  },
  {
   "cell_type": "markdown",
   "metadata": {},
   "source": [
    "## Processing dates"
   ]
  },
  {
   "cell_type": "code",
   "execution_count": 10,
   "metadata": {},
   "outputs": [],
   "source": [
    "from sklearn.base import BaseEstimator, TransformerMixin\n",
    "\n",
    "class DateProcessor(BaseEstimator, TransformerMixin):\n",
    "    def __init__(self, date_format='%d/%m/%Y', hours_secs=False):\n",
    "        self.format = date_format\n",
    "        self.columns = None\n",
    "        # see https://docs.python.org/3/library/datetime.html#strftime-and-strptime-behavior\n",
    "        self.time_transformations = [\n",
    "            ('day_sin', lambda x: np.sin(2*np.pi*x.dt.day/31)),\n",
    "            ('day_cos', lambda x: np.cos(2*np.pi*x.dt.day/31)),\n",
    "            ('dayofweek_sin', lambda x: np.sin(2*np.pi*x.dt.dayofweek/6)),\n",
    "            ('dayofweek_cos', lambda x: np.cos(2*np.pi*x.dt.dayofweek/6)),\n",
    "            ('month_sin', lambda x: np.sin(2*np.pi*x.dt.month/12)),\n",
    "            ('month_cos', lambda x: np.cos(2*np.pi*x.dt.month/12)),\n",
    "            ('year', lambda x: (x.dt.year - x.dt.year.min()) / (x.dt.year.max() - x.dt.year.min()))\n",
    "        ]\n",
    "        if hours_secs:\n",
    "            self.time_transformations = [\n",
    "                ('hour_sin', lambda x: np.sin(2*np.pi*x.dt.hour/23)),\n",
    "                ('hour_cos', lambda x: np.cos(2*np.pi*x.dt.hour/23)),\n",
    "                ('minute_sin', lambda x: np.sin(2*np.pi*x.dt.minute/59)),\n",
    "                ('minute_cos', lambda x: np.cos(2*np.pi*x.dt.minute/59))\n",
    "            ] + self.time_transformations\n",
    "    \n",
    "    def fit(self, X, y=None, **fit_params):\n",
    "        self.columns = self.transform(X.iloc[0:1,:]).columns\n",
    "        return self\n",
    "    \n",
    "    def transform(self, X, y=None, **fit_params):\n",
    "        transformed = list()\n",
    "        for col in X.columns:\n",
    "            time_column = pd.to_datetime(X[col], format=self.format)\n",
    "            for label, func in self.time_transformations:\n",
    "                transformed.append(func(time_column))\n",
    "                transformed[-1].name = transformed[-1].name + '_' + label\n",
    "        transformed = pd.concat(transformed, axis=1)\n",
    "        return transformed\n",
    "            \n",
    "    def fit_transform(self, X, y=None, **fit_params):\n",
    "        self.fit(X, y, **fit_params)\n",
    "        return self.transform(X) "
   ]
  },
  {
   "cell_type": "code",
   "execution_count": 11,
   "metadata": {},
   "outputs": [],
   "source": [
    "example = pd.DataFrame({'date_1': ['04/12/2018', '05/12/2019', '07/12/2020'],\n",
    "                        'date_2': ['12/5/2018', '15/5/2015', '18/5/2016'],\n",
    "                        'date_3': ['25/8/2019', '28/8/2018', '29/8/2017']})"
   ]
  },
  {
   "cell_type": "code",
   "execution_count": 12,
   "metadata": {},
   "outputs": [
    {
     "data": {
      "text/html": [
       "<div>\n",
       "<style scoped>\n",
       "    .dataframe tbody tr th:only-of-type {\n",
       "        vertical-align: middle;\n",
       "    }\n",
       "\n",
       "    .dataframe tbody tr th {\n",
       "        vertical-align: top;\n",
       "    }\n",
       "\n",
       "    .dataframe thead th {\n",
       "        text-align: right;\n",
       "    }\n",
       "</style>\n",
       "<table border=\"1\" class=\"dataframe\">\n",
       "  <thead>\n",
       "    <tr style=\"text-align: right;\">\n",
       "      <th></th>\n",
       "      <th>date_1_day_sin</th>\n",
       "      <th>date_1_day_cos</th>\n",
       "      <th>date_1_dayofweek_sin</th>\n",
       "      <th>date_1_dayofweek_cos</th>\n",
       "      <th>date_1_month_sin</th>\n",
       "      <th>date_1_month_cos</th>\n",
       "      <th>date_1_year</th>\n",
       "      <th>date_2_day_sin</th>\n",
       "      <th>date_2_day_cos</th>\n",
       "      <th>date_2_dayofweek_sin</th>\n",
       "      <th>...</th>\n",
       "      <th>date_2_month_sin</th>\n",
       "      <th>date_2_month_cos</th>\n",
       "      <th>date_2_year</th>\n",
       "      <th>date_3_day_sin</th>\n",
       "      <th>date_3_day_cos</th>\n",
       "      <th>date_3_dayofweek_sin</th>\n",
       "      <th>date_3_dayofweek_cos</th>\n",
       "      <th>date_3_month_sin</th>\n",
       "      <th>date_3_month_cos</th>\n",
       "      <th>date_3_year</th>\n",
       "    </tr>\n",
       "  </thead>\n",
       "  <tbody>\n",
       "    <tr>\n",
       "      <th>0</th>\n",
       "      <td>0.724793</td>\n",
       "      <td>0.688967</td>\n",
       "      <td>8.660254e-01</td>\n",
       "      <td>0.5</td>\n",
       "      <td>-2.449294e-16</td>\n",
       "      <td>1.0</td>\n",
       "      <td>0.0</td>\n",
       "      <td>0.651372</td>\n",
       "      <td>-0.758758</td>\n",
       "      <td>-0.866025</td>\n",
       "      <td>...</td>\n",
       "      <td>0.5</td>\n",
       "      <td>-0.866025</td>\n",
       "      <td>1.000000</td>\n",
       "      <td>-0.937752</td>\n",
       "      <td>0.347305</td>\n",
       "      <td>-2.449294e-16</td>\n",
       "      <td>1.0</td>\n",
       "      <td>-0.866025</td>\n",
       "      <td>-0.5</td>\n",
       "      <td>1.0</td>\n",
       "    </tr>\n",
       "    <tr>\n",
       "      <th>1</th>\n",
       "      <td>0.848644</td>\n",
       "      <td>0.528964</td>\n",
       "      <td>1.224647e-16</td>\n",
       "      <td>-1.0</td>\n",
       "      <td>-2.449294e-16</td>\n",
       "      <td>1.0</td>\n",
       "      <td>0.5</td>\n",
       "      <td>0.101168</td>\n",
       "      <td>-0.994869</td>\n",
       "      <td>-0.866025</td>\n",
       "      <td>...</td>\n",
       "      <td>0.5</td>\n",
       "      <td>-0.866025</td>\n",
       "      <td>0.000000</td>\n",
       "      <td>-0.571268</td>\n",
       "      <td>0.820763</td>\n",
       "      <td>8.660254e-01</td>\n",
       "      <td>0.5</td>\n",
       "      <td>-0.866025</td>\n",
       "      <td>-0.5</td>\n",
       "      <td>0.5</td>\n",
       "    </tr>\n",
       "    <tr>\n",
       "      <th>2</th>\n",
       "      <td>0.988468</td>\n",
       "      <td>0.151428</td>\n",
       "      <td>0.000000e+00</td>\n",
       "      <td>1.0</td>\n",
       "      <td>-2.449294e-16</td>\n",
       "      <td>1.0</td>\n",
       "      <td>1.0</td>\n",
       "      <td>-0.485302</td>\n",
       "      <td>-0.874347</td>\n",
       "      <td>0.866025</td>\n",
       "      <td>...</td>\n",
       "      <td>0.5</td>\n",
       "      <td>-0.866025</td>\n",
       "      <td>0.333333</td>\n",
       "      <td>-0.394356</td>\n",
       "      <td>0.918958</td>\n",
       "      <td>8.660254e-01</td>\n",
       "      <td>0.5</td>\n",
       "      <td>-0.866025</td>\n",
       "      <td>-0.5</td>\n",
       "      <td>0.0</td>\n",
       "    </tr>\n",
       "  </tbody>\n",
       "</table>\n",
       "<p>3 rows × 21 columns</p>\n",
       "</div>"
      ],
      "text/plain": [
       "   date_1_day_sin  date_1_day_cos  date_1_dayofweek_sin  date_1_dayofweek_cos  \\\n",
       "0        0.724793        0.688967          8.660254e-01                   0.5   \n",
       "1        0.848644        0.528964          1.224647e-16                  -1.0   \n",
       "2        0.988468        0.151428          0.000000e+00                   1.0   \n",
       "\n",
       "   date_1_month_sin  date_1_month_cos  date_1_year  date_2_day_sin  \\\n",
       "0     -2.449294e-16               1.0          0.0        0.651372   \n",
       "1     -2.449294e-16               1.0          0.5        0.101168   \n",
       "2     -2.449294e-16               1.0          1.0       -0.485302   \n",
       "\n",
       "   date_2_day_cos  date_2_dayofweek_sin  ...  date_2_month_sin  \\\n",
       "0       -0.758758             -0.866025  ...               0.5   \n",
       "1       -0.994869             -0.866025  ...               0.5   \n",
       "2       -0.874347              0.866025  ...               0.5   \n",
       "\n",
       "   date_2_month_cos  date_2_year  date_3_day_sin  date_3_day_cos  \\\n",
       "0         -0.866025     1.000000       -0.937752        0.347305   \n",
       "1         -0.866025     0.000000       -0.571268        0.820763   \n",
       "2         -0.866025     0.333333       -0.394356        0.918958   \n",
       "\n",
       "   date_3_dayofweek_sin  date_3_dayofweek_cos  date_3_month_sin  \\\n",
       "0         -2.449294e-16                   1.0         -0.866025   \n",
       "1          8.660254e-01                   0.5         -0.866025   \n",
       "2          8.660254e-01                   0.5         -0.866025   \n",
       "\n",
       "   date_3_month_cos  date_3_year  \n",
       "0              -0.5          1.0  \n",
       "1              -0.5          0.5  \n",
       "2              -0.5          0.0  \n",
       "\n",
       "[3 rows x 21 columns]"
      ]
     },
     "execution_count": 12,
     "metadata": {},
     "output_type": "execute_result"
    }
   ],
   "source": [
    "DateProcessor().fit_transform(example)"
   ]
  },
  {
   "cell_type": "code",
   "execution_count": 13,
   "metadata": {},
   "outputs": [
    {
     "data": {
      "image/png": "[encoded data removed]",
      "text/plain": [
       "<Figure size 432x288 with 1 Axes>"
      ]
     },
     "metadata": {
      "needs_background": "light"
     },
     "output_type": "display_data"
    }
   ],
   "source": [
    "import matplotlib.pyplot as plt\n",
    "\n",
    "sin_time = np.array([[t, np.sin(2*np.pi*t/23)] for t in range(0, 24)])\n",
    "cos_time = np.array([[t, np.cos(2*np.pi*t/23)] for t in range(0, 24)])\n",
    "\n",
    "plt.plot(sin_time[:,0], sin_time[:,1], label='sin hour')\n",
    "plt.plot(cos_time[:,0], cos_time[:,1], label='cos hour')\n",
    "plt.axhline(y=0.0, linestyle='--', color='lightgray')\n",
    "plt.legend()\n",
    "plt.show()"
   ]
  },
  {
   "cell_type": "code",
   "execution_count": 14,
   "metadata": {},
   "outputs": [
    {
     "data": {
      "image/png": "[encoded data removed]",
      "text/plain": [
       "<Figure size 432x288 with 1 Axes>"
      ]
     },
     "metadata": {
      "needs_background": "light"
     },
     "output_type": "display_data"
    }
   ],
   "source": [
    "ax = plt.subplot()\n",
    "ax.set_aspect('equal')\n",
    "ax.set_xlabel('sin hour')\n",
    "ax.set_ylabel('cos hour')\n",
    "plt.scatter(sin_time[:,1], cos_time[:,1])\n",
    "plt.show()"
   ]
  },
  {
   "cell_type": "markdown",
   "metadata": {},
   "source": [
    "## Processing categorical data"
   ]
  },
  {
   "cell_type": "code",
   "execution_count": 15,
   "metadata": {},
   "outputs": [],
   "source": [
    "from sklearn.preprocessing import OneHotEncoder\n",
    "    \n",
    "class ToString(BaseEstimator, TransformerMixin):\n",
    "    def fit(self, X, y=None, **fit_params):\n",
    "        return self\n",
    "    def transform(self, X, y=None, **fit_params):\n",
    "        return X.astype(str)\n",
    "    def fit_transform(self, X, y=None, **fit_params):\n",
    "        self.fit(X, y, **fit_params)\n",
    "        return self.transform(X)\n",
    "    \n",
    "categorical_pipeline = Pipeline(steps=[('string_converter', ToString()),\n",
    "                                       ('imputer', SimpleImputer(strategy='constant', fill_value='missing')),\n",
    "                                       ('onehot', OneHotEncoder(handle_unknown='ignore'))])"
   ]
  },
  {
   "cell_type": "code",
   "execution_count": 16,
   "metadata": {},
   "outputs": [],
   "source": [
    "example = pd.DataFrame([['car', 1234], ['house', 6543], ['tree', 3456]], columns=['object', 'code'])"
   ]
  },
  {
   "cell_type": "code",
   "execution_count": 17,
   "metadata": {},
   "outputs": [
    {
     "data": {
      "text/plain": [
       "matrix([[1., 0., 0., 1., 0., 0.],\n",
       "        [0., 1., 0., 0., 0., 1.],\n",
       "        [0., 0., 1., 0., 1., 0.]])"
      ]
     },
     "execution_count": 17,
     "metadata": {},
     "output_type": "execute_result"
    }
   ],
   "source": [
    "categorical_pipeline.fit_transform(example).todense()"
   ]
  },
  {
   "cell_type": "code",
   "execution_count": 18,
   "metadata": {},
   "outputs": [
    {
     "data": {
      "text/plain": [
       "['object_car',\n",
       " 'object_house',\n",
       " 'object_tree',\n",
       " 'code_1234',\n",
       " 'code_3456',\n",
       " 'code_6543']"
      ]
     },
     "execution_count": 18,
     "metadata": {},
     "output_type": "execute_result"
    }
   ],
   "source": [
    "def derive_ohe_columns(df, pipeline):\n",
    "    return [str(col) + '_' + str(lvl) for col, lvls in zip(df.columns, pipeline.named_steps.onehot.categories_) for lvl in lvls]\n",
    "\n",
    "derive_ohe_columns(example, categorical_pipeline)"
   ]
  },
  {
   "cell_type": "markdown",
   "metadata": {},
   "source": [
    "## Processing ordinal data"
   ]
  },
  {
   "cell_type": "code",
   "execution_count": 19,
   "metadata": {},
   "outputs": [],
   "source": [
    "from sklearn.preprocessing import OrdinalEncoder"
   ]
  },
  {
   "cell_type": "code",
   "execution_count": 20,
   "metadata": {},
   "outputs": [],
   "source": [
    "example = pd.DataFrame([['first', 'very much'], ['second', 'very little'], ['third', 'average']],\n",
    "                       columns = ['rank', 'importance'])"
   ]
  },
  {
   "cell_type": "code",
   "execution_count": 21,
   "metadata": {},
   "outputs": [],
   "source": [
    "oe = OrdinalEncoder(categories=[['first', 'second', 'third'], ['very much', 'average', 'very little']])\n",
    "\n",
    "categorical_pipeline = Pipeline(steps=[('string_converter', ToString()),\n",
    "                                       ('imputer', SimpleImputer(strategy='constant', fill_value='missing')),\n",
    "                                       ('onehot', OneHotEncoder(handle_unknown='ignore'))])"
   ]
  },
  {
   "cell_type": "code",
   "execution_count": 22,
   "metadata": {},
   "outputs": [
    {
     "data": {
      "text/plain": [
       "matrix([[0., 0., 1., 0., 0., 0., 0., 1.],\n",
       "        [1., 2., 0., 1., 0., 0., 1., 0.],\n",
       "        [2., 1., 0., 0., 1., 1., 0., 0.]])"
      ]
     },
     "execution_count": 22,
     "metadata": {},
     "output_type": "execute_result"
    }
   ],
   "source": [
    "np.hstack((oe.fit_transform(example), categorical_pipeline.fit_transform(example).todense()))"
   ]
  },
  {
   "cell_type": "code",
   "execution_count": 23,
   "metadata": {},
   "outputs": [
    {
     "data": {
      "text/plain": [
       "['rank',\n",
       " 'importance',\n",
       " 'rank_first',\n",
       " 'rank_second',\n",
       " 'rank_third',\n",
       " 'importance_average',\n",
       " 'importance_very little',\n",
       " 'importance_very much']"
      ]
     },
     "execution_count": 23,
     "metadata": {},
     "output_type": "execute_result"
    }
   ],
   "source": [
    "example.columns.tolist() + derive_ohe_columns(example, categorical_pipeline)"
   ]
  },
  {
   "cell_type": "markdown",
   "metadata": {},
   "source": [
    "## Processing high cardinality categorical data"
   ]
  },
  {
   "cell_type": "code",
   "execution_count": 24,
   "metadata": {},
   "outputs": [],
   "source": [
    "from sklearn.preprocessing import LabelEncoder\n",
    "\n",
    "class LEncoder(BaseEstimator, TransformerMixin):\n",
    "    \n",
    "    def __init__(self):\n",
    "        self.encoders = dict()\n",
    "        self.dictionary_size = list()\n",
    "        self.unk = -1\n",
    "    \n",
    "    def fit(self, X, y=None, **fit_params):\n",
    "        for col in range(X.shape[1]):\n",
    "            le = LabelEncoder()\n",
    "            le.fit(X.iloc[:, col].fillna('_nan'))\n",
    "            le_dict = dict(zip(le.classes_, le.transform(le.classes_)))\n",
    "            \n",
    "            if '_nan' not in le_dict:\n",
    "                max_value = max(le_dict.values())\n",
    "                le_dict['_nan'] = max_value\n",
    "            \n",
    "            max_value = max(le_dict.values())\n",
    "            le_dict['_unk'] = max_value\n",
    "            \n",
    "            self.unk = max_value\n",
    "            self.dictionary_size.append(len(le_dict))\n",
    "            col_name = X.columns[col]\n",
    "            self.encoders[col_name] = le_dict\n",
    "            \n",
    "        return self\n",
    "    \n",
    "    def transform(self, X, y=None, **fit_params):\n",
    "        output = list()\n",
    "        for col in range(X.shape[1]):\n",
    "            col_name = X.columns[col]\n",
    "            le_dict = self.encoders[col_name]\n",
    "            emb = X.iloc[:, col].fillna('_nan').apply(lambda x: le_dict.get(x, le_dict['_unk'])).values\n",
    "            output.append(pd.Series(emb, name=col_name).astype(np.int32))\n",
    "        return output\n",
    "\n",
    "    def fit_transform(self, X, y=None, **fit_params):\n",
    "        self.fit(X, y, **fit_params)\n",
    "        return self.transform(X)"
   ]
  },
  {
   "cell_type": "code",
   "execution_count": 25,
   "metadata": {},
   "outputs": [],
   "source": [
    "import string\n",
    "import random\n",
    "\n",
    "def random_id(length=8):\n",
    "    voc = string.ascii_lowercase + string.digits\n",
    "    return ''.join(random.choice(voc) for i in range(length))\n",
    "\n",
    "example = pd.DataFrame({'high_cat_1': [random_id(length=2) for i in range(500)], \n",
    "                        'high_cat_2': [random_id(length=3) for i in range(500)], \n",
    "                        'high_cat_3': [random_id(length=4) for i in range(500)]})"
   ]
  },
  {
   "cell_type": "code",
   "execution_count": 26,
   "metadata": {},
   "outputs": [
    {
     "data": {
      "text/html": [
       "<div>\n",
       "<style scoped>\n",
       "    .dataframe tbody tr th:only-of-type {\n",
       "        vertical-align: middle;\n",
       "    }\n",
       "\n",
       "    .dataframe tbody tr th {\n",
       "        vertical-align: top;\n",
       "    }\n",
       "\n",
       "    .dataframe thead th {\n",
       "        text-align: right;\n",
       "    }\n",
       "</style>\n",
       "<table border=\"1\" class=\"dataframe\">\n",
       "  <thead>\n",
       "    <tr style=\"text-align: right;\">\n",
       "      <th></th>\n",
       "      <th>high_cat_1</th>\n",
       "      <th>high_cat_2</th>\n",
       "      <th>high_cat_3</th>\n",
       "    </tr>\n",
       "  </thead>\n",
       "  <tbody>\n",
       "    <tr>\n",
       "      <th>0</th>\n",
       "      <td>7z</td>\n",
       "      <td>30i</td>\n",
       "      <td>r1ms</td>\n",
       "    </tr>\n",
       "    <tr>\n",
       "      <th>1</th>\n",
       "      <td>6w</td>\n",
       "      <td>ycy</td>\n",
       "      <td>08bj</td>\n",
       "    </tr>\n",
       "    <tr>\n",
       "      <th>2</th>\n",
       "      <td>ki</td>\n",
       "      <td>idv</td>\n",
       "      <td>jb5e</td>\n",
       "    </tr>\n",
       "    <tr>\n",
       "      <th>3</th>\n",
       "      <td>2v</td>\n",
       "      <td>fz0</td>\n",
       "      <td>qzut</td>\n",
       "    </tr>\n",
       "    <tr>\n",
       "      <th>4</th>\n",
       "      <td>ea</td>\n",
       "      <td>fwq</td>\n",
       "      <td>ytsg</td>\n",
       "    </tr>\n",
       "    <tr>\n",
       "      <th>...</th>\n",
       "      <td>...</td>\n",
       "      <td>...</td>\n",
       "      <td>...</td>\n",
       "    </tr>\n",
       "    <tr>\n",
       "      <th>495</th>\n",
       "      <td>kt</td>\n",
       "      <td>4nq</td>\n",
       "      <td>51te</td>\n",
       "    </tr>\n",
       "    <tr>\n",
       "      <th>496</th>\n",
       "      <td>si</td>\n",
       "      <td>2qs</td>\n",
       "      <td>zpz4</td>\n",
       "    </tr>\n",
       "    <tr>\n",
       "      <th>497</th>\n",
       "      <td>fb</td>\n",
       "      <td>gpm</td>\n",
       "      <td>urz5</td>\n",
       "    </tr>\n",
       "    <tr>\n",
       "      <th>498</th>\n",
       "      <td>3k</td>\n",
       "      <td>pfl</td>\n",
       "      <td>iuzc</td>\n",
       "    </tr>\n",
       "    <tr>\n",
       "      <th>499</th>\n",
       "      <td>i2</td>\n",
       "      <td>mu9</td>\n",
       "      <td>jnby</td>\n",
       "    </tr>\n",
       "  </tbody>\n",
       "</table>\n",
       "<p>500 rows × 3 columns</p>\n",
       "</div>"
      ],
      "text/plain": [
       "    high_cat_1 high_cat_2 high_cat_3\n",
       "0           7z        30i       r1ms\n",
       "1           6w        ycy       08bj\n",
       "2           ki        idv       jb5e\n",
       "3           2v        fz0       qzut\n",
       "4           ea        fwq       ytsg\n",
       "..         ...        ...        ...\n",
       "495         kt        4nq       51te\n",
       "496         si        2qs       zpz4\n",
       "497         fb        gpm       urz5\n",
       "498         3k        pfl       iuzc\n",
       "499         i2        mu9       jnby\n",
       "\n",
       "[500 rows x 3 columns]"
      ]
     },
     "execution_count": 26,
     "metadata": {},
     "output_type": "execute_result"
    }
   ],
   "source": [
    "example"
   ]
  },
  {
   "cell_type": "code",
   "execution_count": 27,
   "metadata": {},
   "outputs": [
    {
     "data": {
      "text/plain": [
       "[0       79\n",
       " 1       68\n",
       " 2      237\n",
       " 3       28\n",
       " 4      154\n",
       "       ... \n",
       " 495    238\n",
       " 496    331\n",
       " 497    165\n",
       " 498     37\n",
       " 499    203\n",
       " Name: high_cat_1, Length: 500, dtype: int32,\n",
       " 0       46\n",
       " 1      471\n",
       " 2      247\n",
       " 3      209\n",
       " 4      208\n",
       "       ... \n",
       " 495     73\n",
       " 496     43\n",
       " 497    220\n",
       " 498    347\n",
       " 499    304\n",
       " Name: high_cat_2, Length: 500, dtype: int32,\n",
       " 0      376\n",
       " 1        4\n",
       " 2      278\n",
       " 3      373\n",
       " 4      476\n",
       "       ... \n",
       " 495     79\n",
       " 496    491\n",
       " 497    429\n",
       " 498    271\n",
       " 499    284\n",
       " Name: high_cat_3, Length: 500, dtype: int32]"
      ]
     },
     "execution_count": 27,
     "metadata": {},
     "output_type": "execute_result"
    }
   ],
   "source": [
    "le = LEncoder()\n",
    "le.fit_transform(example)"
   ]
  },
  {
   "cell_type": "code",
   "execution_count": 28,
   "metadata": {},
   "outputs": [
    {
     "data": {
      "text/plain": [
       "[412, 497, 502]"
      ]
     },
     "execution_count": 28,
     "metadata": {},
     "output_type": "execute_result"
    }
   ],
   "source": [
    "le.dictionary_size"
   ]
  },
  {
   "cell_type": "code",
   "execution_count": 29,
   "metadata": {},
   "outputs": [
    {
     "data": {
      "text/plain": [
       "{'high_cat_1': {'02': 0,\n",
       "  '03': 1,\n",
       "  '05': 2,\n",
       "  '0a': 3,\n",
       "  '0c': 4,\n",
       "  '0n': 5,\n",
       "  '0v': 6,\n",
       "  '0w': 7,\n",
       "  '0x': 8,\n",
       "  '12': 9,\n",
       "  '18': 10,\n",
       "  ...\n",
       "  '_nan': 409,\n",
       "  '_unk': 409},\n",
       " 'high_cat_2': {'04h': 0,\n",
       "  '06d': 1,\n",
       "  '06o': 2,\n",
       "  '07r': 3,\n",
       "  '09b': 4,\n",
       "  '0e7': 5,\n",
       "  '0fn': 6,\n",
       "  '0jk': 7,\n",
       "  '0js': 8,\n",
       "  '0ka': 9,\n",
       "  '0ke': 10,\n",
       "  '...\n",
       "  '_nan': 494,\n",
       "  '_unk': 494},\n",
       " 'high_cat_3': {'00xd': 0,\n",
       "  '01v3': 1,\n",
       "  '02y3': 2,\n",
       "  '05hh': 3,\n",
       "  '08bj': 4,\n",
       "  '0dnb': 5,\n",
       "  '0fpz': 6,\n",
       "  '0m6s': 7,\n",
       "  '0m8o': 8,\n",
       "  '0md4': 9,\n",
       "  '0mgo': 10,\n",
       "  '...\n",
       "  '_nan': 499,\n",
       "  '_unk': 499}}"
      ]
     },
     "execution_count": 29,
     "metadata": {},
     "output_type": "execute_result"
    }
   ],
   "source": [
    "le.encoders"
   ]
  },
  {
   "cell_type": "markdown",
   "metadata": {},
   "source": [
    "## Wrapping everything up"
   ]
  },
  {
   "cell_type": "code",
   "execution_count": 30,
   "metadata": {},
   "outputs": [],
   "source": [
    "from sklearn.pipeline import FeatureUnion\n",
    "\n",
    "class TabularTransformer(BaseEstimator, TransformerMixin):\n",
    "    \n",
    "    def instantiate(self, param):\n",
    "        if isinstance(param, str):\n",
    "            return [param]\n",
    "        elif isinstance(param, list):\n",
    "            return param\n",
    "        else:\n",
    "            return None\n",
    "    \n",
    "    def __init__(self, numeric=None, dates=None, ordinal=None, cat=None, highcat=None,\n",
    "                 variance_threshold=0.0, missing_imputer='mean', use_multivariate_imputer=False,\n",
    "                 add_missing_indicator=True, quantile_transformer='normal', scaler=True,\n",
    "                 ordinal_categories='auto', date_format='%d/%m/%Y', hours_secs=False):\n",
    "        \n",
    "        self.numeric = self.instantiate(numeric)\n",
    "        self.dates = self.instantiate(dates)\n",
    "        self.ordinal = self.instantiate(ordinal)\n",
    "        self.cat  = self.instantiate(cat)\n",
    "        self.highcat = self.instantiate(highcat)\n",
    "        self.columns = None\n",
    "        self.vocabulary = None\n",
    "        \n",
    "        self.numeric_process = assemble_numeric_pipeline(variance_threshold=variance_threshold, \n",
    "                                                         imputer=missing_imputer, \n",
    "                                                         multivariate_imputer=use_multivariate_imputer, \n",
    "                                                         add_indicator=add_missing_indicator,\n",
    "                                                         quantile_transformer=quantile_transformer,\n",
    "                                                         scaler=scaler)\n",
    "        self.dates_process = DateProcessor(date_format=date_format, hours_secs=hours_secs)\n",
    "        self.ordinal_process = FeatureUnion([('ordinal', OrdinalEncoder(categories=ordinal_categories)),\n",
    "                                             ('categorial', Pipeline(steps=[('string_converter', ToString()),\n",
    "                                                  ('imputer', SimpleImputer(strategy='constant', fill_value='missing')),\n",
    "                                                  ('onehot', OneHotEncoder(handle_unknown='ignore'))]))])\n",
    "        self.cat_process = Pipeline(steps=[('string_converter', ToString()),\n",
    "                                           ('imputer', SimpleImputer(strategy='constant', fill_value='missing')),\n",
    "                                           ('onehot', OneHotEncoder(handle_unknown='ignore'))])\n",
    "        self.highcat_process = LEncoder()\n",
    "        \n",
    "    def fit(self, X, y=None, **fit_params):\n",
    "        self.columns = list()\n",
    "        if self.numeric:\n",
    "            self.numeric_process.fit(X[self.numeric])\n",
    "            self.columns += derive_numeric_columns(X[self.numeric], \n",
    "                                                   self.numeric_process).to_list()\n",
    "        if self.dates:\n",
    "            self.dates_process.fit(X[self.dates])\n",
    "            self.columns += self.dates_process.columns.to_list()\n",
    "        if self.ordinal:\n",
    "            self.ordinal_process.fit(X[self.ordinal])\n",
    "            self.columns += self.ordinal + derive_ohe_columns(X[self.ordinal], \n",
    "                                                             self.ordinal_process.transformer_list[1][1])\n",
    "        if self.cat:\n",
    "            self.cat_process.fit(X[self.cat])\n",
    "            self.columns += derive_ohe_columns(X[self.cat], \n",
    "                                               self.cat_process)\n",
    "        if self.highcat:\n",
    "            self.highcat_process.fit(X[self.highcat])\n",
    "            self.vocabulary = dict(zip(self.highcat, self.highcat_process.dictionary_size))\n",
    "            self.columns = [self.columns, self.highcat]\n",
    "        return self\n",
    "    \n",
    "    def transform(self, X, y=None, **fit_params):\n",
    "        flat_matrix = list()\n",
    "        if self.numeric:\n",
    "            flat_matrix.append(self.numeric_process.transform(X[self.numeric])\n",
    "                               .astype(np.float32))\n",
    "        if self.dates:\n",
    "            flat_matrix.append(self.dates_process.transform(X[self.dates])\n",
    "                               .values\n",
    "                               .astype(np.float32))\n",
    "        if self.ordinal:\n",
    "            flat_matrix.append(self.ordinal_process.transform(X[self.ordinal])\n",
    "                               .todense()\n",
    "                               .astype(np.float32))\n",
    "        if self.cat:\n",
    "            flat_matrix.append(self.cat_process.transform(X[self.cat])\n",
    "                               .todense()\n",
    "                               .astype(np.float32))\n",
    "        if self.highcat:\n",
    "            cat_vectors = self.highcat_process.transform(X[self.highcat])\n",
    "            if len(flat_matrix) > 0:\n",
    "                return [np.hstack(flat_matrix)] + cat_vectors\n",
    "            else:\n",
    "                return cat_vectors\n",
    "        else:\n",
    "            return np.hstack(flat_matrix)\n",
    "\n",
    "    def fit_transform(self, X, y=None, **fit_params):\n",
    "        self.fit(X, y, **fit_params)\n",
    "        return self.transform(X)"
   ]
  },
  {
   "cell_type": "code",
   "execution_count": 31,
   "metadata": {},
   "outputs": [],
   "source": [
    "example = pd.concat([pd.DataFrame([[1, 2, 3, np.nan], [1, 3, np.nan, 4], [1, 2, 2, 2]], columns = ['a', 'b', 'c', 'd']),\n",
    "                     pd.DataFrame({'date_1': ['04/12/2018', '05/12/2019', '07/12/2020'],\n",
    "                                    'date_2': ['12/5/2018', '15/5/2015', '18/5/2016'],\n",
    "                                    'date_3': ['25/8/2019', '28/8/2018', '29/8/2017']}),\n",
    "                     pd.DataFrame([['first', 'very much'], ['second', 'very little'], ['third', 'average']],\n",
    "                                   columns = ['rank', 'importance']),\n",
    "                     pd.DataFrame([['car', 1234], ['house', 6543], ['tree', 3456]], columns=['object', 'code']),\n",
    "                     pd.DataFrame({'high_cat_1': [random_id(length=2) for i in range(3)], \n",
    "                                    'high_cat_2': [random_id(length=3) for i in range(3)], \n",
    "                                    'high_cat_3': [random_id(length=4) for i in range(3)]})\n",
    "                    ], axis=1)\n",
    "\n",
    "numeric_vars = ['a', 'b', 'c', 'd']\n",
    "date_vars = ['date_1', 'date_2', 'date_3']\n",
    "ordinal_vars = ['rank', 'importance']\n",
    "cat_vars = ['object', 'code']\n",
    "highcat_vars = ['high_cat_1', 'high_cat_2', 'high_cat_3']"
   ]
  },
  {
   "cell_type": "code",
   "execution_count": 32,
   "metadata": {},
   "outputs": [],
   "source": [
    "tt = TabularTransformer(numeric=numeric_vars, dates=date_vars, ordinal=ordinal_vars, cat=cat_vars, highcat=highcat_vars)"
   ]
  },
  {
   "cell_type": "code",
   "execution_count": 33,
   "metadata": {},
   "outputs": [
    {
     "name": "stderr",
     "output_type": "stream",
     "text": [
      "C:\\Users\\LucaMassaron.AzureAD\\Anaconda3\\envs\\kaggle\\lib\\site-packages\\sklearn\\preprocessing\\_data.py:2357: UserWarning: n_quantiles (100) is greater than the total number of samples (3). n_quantiles is set to n_samples.\n",
      "  % (self.n_quantiles, n_samples))\n"
     ]
    }
   ],
   "source": [
    "input_list = tt.fit_transform(example)"
   ]
  },
  {
   "cell_type": "code",
   "execution_count": 34,
   "metadata": {},
   "outputs": [
    {
     "name": "stdout",
     "output_type": "stream",
     "text": [
      "[((3, 40), dtype('float32')), ((3,), dtype('int32')), ((3,), dtype('int32')), ((3,), dtype('int32'))]\n"
     ]
    }
   ],
   "source": [
    "print([(item.shape, item.dtype) for item in input_list])"
   ]
  },
  {
   "cell_type": "code",
   "execution_count": 35,
   "metadata": {},
   "outputs": [
    {
     "data": {
      "text/plain": [
       "[['b',\n",
       "  'c',\n",
       "  'd',\n",
       "  'c_missing',\n",
       "  'd_missing',\n",
       "  'date_1_day_sin',\n",
       "  'date_1_day_cos',\n",
       "  'date_1_dayofweek_sin',\n",
       "  'date_1_dayofweek_cos',\n",
       "  'date_1_month_sin',\n",
       "  'date_1_month_cos',\n",
       "  'date_1_year',\n",
       "  'date_2_day_sin',\n",
       "  'date_2_day_cos',\n",
       "  'date_2_dayofweek_sin',\n",
       "  'date_2_dayofweek_cos',\n",
       "  'date_2_month_sin',\n",
       "  'date_2_month_cos',\n",
       "  'date_2_year',\n",
       "  'date_3_day_sin',\n",
       "  'date_3_day_cos',\n",
       "  'date_3_dayofweek_sin',\n",
       "  'date_3_dayofweek_cos',\n",
       "  'date_3_month_sin',\n",
       "  'date_3_month_cos',\n",
       "  'date_3_year',\n",
       "  'rank',\n",
       "  'importance',\n",
       "  'rank_first',\n",
       "  'rank_second',\n",
       "  'rank_third',\n",
       "  'importance_average',\n",
       "  'importance_very little',\n",
       "  'importance_very much',\n",
       "  'object_car',\n",
       "  'object_house',\n",
       "  'object_tree',\n",
       "  'code_1234',\n",
       "  'code_3456',\n",
       "  'code_6543'],\n",
       " ['high_cat_1', 'high_cat_2', 'high_cat_3']]"
      ]
     },
     "execution_count": 35,
     "metadata": {},
     "output_type": "execute_result"
    }
   ],
   "source": [
    "tt.columns"
   ]
  },
  {
   "cell_type": "code",
   "execution_count": 36,
   "metadata": {},
   "outputs": [
    {
     "data": {
      "text/plain": [
       "{'high_cat_1': 5, 'high_cat_2': 5, 'high_cat_3': 5}"
      ]
     },
     "execution_count": 36,
     "metadata": {},
     "output_type": "execute_result"
    }
   ],
   "source": [
    "tt.vocabulary"
   ]
  },
  {
   "cell_type": "markdown",
   "metadata": {},
   "source": [
    "## Setting up a Generator"
   ]
  },
  {
   "cell_type": "code",
   "execution_count": 37,
   "metadata": {},
   "outputs": [],
   "source": [
    "from tensorflow.keras.utils import Sequence\n",
    "\n",
    "class DataGenerator(Sequence):\n",
    "    \"\"\"\n",
    "    Generates data for Keras\n",
    "    \"\"\"\n",
    "    def __init__(self, X, y,\n",
    "                 tabular_transformer=None,\n",
    "                 batch_size=32, \n",
    "                 shuffle=False,\n",
    "                 dict_output=False\n",
    "                 ):\n",
    "        \n",
    "        'Initialization'\n",
    "        self.X = X\n",
    "        self.y = y\n",
    "        self.tbt = tabular_transformer\n",
    "        self.tabular_transformer = tabular_transformer\n",
    "        self.batch_size = batch_size\n",
    "        self.shuffle = shuffle\n",
    "        self.dict_output = dict_output\n",
    "        self.indexes = self._build_index()\n",
    "        self.on_epoch_end()\n",
    "        self.item = 0\n",
    "    \n",
    "    def _build_index(self):\n",
    "        \"\"\"\n",
    "        Builds an index from data\n",
    "        \"\"\"\n",
    "        return np.arange(len(self.y))\n",
    "    \n",
    "    def on_epoch_end(self):\n",
    "        \"\"\"\n",
    "        At the end of every epoch, shuffle if required\n",
    "        \"\"\"\n",
    "        if self.shuffle:\n",
    "            np.random.shuffle(self.indexes)\n",
    "            \n",
    "    def __len__(self):\n",
    "        \"\"\"\n",
    "        Returns the number of batches per epoch\n",
    "        \"\"\"\n",
    "        return int(len(self.indexes) / self.batch_size) + 1\n",
    "    \n",
    "    \n",
    "    def __iter__(self):\n",
    "        \"\"\"\n",
    "        returns an iterable\n",
    "        \"\"\"\n",
    "        for i in range(self.__len__()):\n",
    "            self.item = i\n",
    "            yield self.__getitem__(index=i)\n",
    "            \n",
    "        self.item = 0\n",
    "        \n",
    "    def __next__(self):\n",
    "        return self.__getitem__(index=self.item)\n",
    "    \n",
    "    def __call__(self):\n",
    "        return self.__iter__()\n",
    "            \n",
    "    def __data_generation(self, selection):\n",
    "        if self.tbt is not None:\n",
    "            if self.dict_output:\n",
    "                dct = {'input_'+str(j) : arr for j, arr in enumerate(self.tbt.transform(self.X.iloc[selection, :]))}\n",
    "                return dct, self.y[selection]\n",
    "            else:\n",
    "                return self.tbt.transform(self.X.iloc[selection, :]), self.y[selection]\n",
    "        else:\n",
    "            return self.X.iloc[selection, :], self.y[selection]\n",
    "        \n",
    "    def __getitem__(self, index):\n",
    "        indexes = self.indexes[index*self.batch_size:(index+1)*self.batch_size]\n",
    "        samples, labels = self.__data_generation(indexes)\n",
    "        return samples, labels, [None]"
   ]
  },
  {
   "cell_type": "markdown",
   "metadata": {},
   "source": [
    "## Creating custom activations"
   ]
  },
  {
   "cell_type": "code",
   "execution_count": 38,
   "metadata": {},
   "outputs": [],
   "source": [
    "from tensorflow import keras as keras\n",
    "import numpy as np\n",
    "import matplotlib.pyplot as plt"
   ]
  },
  {
   "cell_type": "code",
   "execution_count": 39,
   "metadata": {},
   "outputs": [],
   "source": [
    "def gelu(x):\n",
    "    return 0.5 * x * (1 + tf.tanh(tf.sqrt(2 / np.pi) * (x + 0.044715 * tf.pow(x, 3))))\n",
    "\n",
    "keras.utils.get_custom_objects().update({'gelu': keras.layers.Activation(gelu)})"
   ]
  },
  {
   "cell_type": "code",
   "execution_count": 40,
   "metadata": {},
   "outputs": [],
   "source": [
    "def mish(inputs):\n",
    "    return inputs * tf.math.tanh(tf.math.softplus(inputs))\n",
    "\n",
    "keras.utils.get_custom_objects().update({'mish': keras.layers.Activation(mish)})"
   ]
  },
  {
   "cell_type": "code",
   "execution_count": 41,
   "metadata": {},
   "outputs": [
    {
     "data": {
      "image/png": "[encoded data removed]",
      "text/plain": [
       "<Figure size 432x288 with 1 Axes>"
      ]
     },
     "metadata": {
      "needs_background": "light"
     },
     "output_type": "display_data"
    }
   ],
   "source": [
    "gelu_vals = list()\n",
    "mish_vals = list()\n",
    "abscissa = np.arange(-4, 1, 0.1)\n",
    "for val in abscissa:\n",
    "    gelu_vals.append(gelu(tf.cast(val, tf.float32)).numpy())\n",
    "    mish_vals.append(mish(tf.cast(val, tf.float32)).numpy())\n",
    "    \n",
    "plt.plot(abscissa, gelu_vals, label='gelu')\n",
    "plt.plot(abscissa, mish_vals, label='mish')\n",
    "plt.axvline(x=0.0, linestyle='--', color='darkgray')\n",
    "plt.axhline(y=0.0, linestyle='--', color='darkgray')\n",
    "plt.legend()\n",
    "plt.show()"
   ]
  },
  {
   "cell_type": "markdown",
   "metadata": {},
   "source": [
    "## Test run on a difficult problem"
   ]
  },
  {
   "cell_type": "code",
   "execution_count": 42,
   "metadata": {},
   "outputs": [],
   "source": [
    "import tensorflow as tf\n",
    "import tensorflow.keras as keras"
   ]
  },
  {
   "cell_type": "code",
   "execution_count": 43,
   "metadata": {},
   "outputs": [],
   "source": [
    "# Loading data directly from CatBoost\n",
    "from catboost.datasets import amazon\n",
    "\n",
    "X, Xt = amazon()\n",
    "\n",
    "y = X[\"ACTION\"].apply(lambda x: 1 if x == 1 else 0).values\n",
    "X.drop([\"ACTION\"], axis=1, inplace=True)"
   ]
  },
  {
   "cell_type": "code",
   "execution_count": 44,
   "metadata": {},
   "outputs": [],
   "source": [
    "def dnn(categorical_variables, categorical_counts,\n",
    "        feature_selection_dropout=0.2, categorical_dropout=0.1,\n",
    "        first_dense = 256, second_dense = 256, dense_dropout = 0.2, \n",
    "        activation_type=gelu):\n",
    "    \n",
    "    categorical_inputs = []\n",
    "    categorical_embeddings = []\n",
    "    \n",
    "    for category in categorical_variables:\n",
    "        categorical_inputs.append(keras.layers.Input(shape=[1], \n",
    "                                                     name=category))\n",
    "        category_counts = categorical_counts[category]\n",
    "        categorical_embeddings.append(\n",
    "            keras.layers.Embedding(category_counts+1, \n",
    "                      int(np.log1p(category_counts)+1), \n",
    "                      name = category + \"_embed\")(categorical_inputs[-1]))\n",
    "    \n",
    "    def flatten_dropout(x, categorical_dropout):\n",
    "        return keras.layers.Flatten()(keras.layers.SpatialDropout1D(categorical_dropout)(x))\n",
    "    \n",
    "    categorical_logits = [flatten_dropout(cat_emb, categorical_dropout) for cat_emb in categorical_embeddings]\n",
    "    categorical_concat = keras.layers.Concatenate(name = \"categorical_concat\")(categorical_logits)\n",
    "\n",
    "    x = keras.layers.Dense(first_dense, activation=activation_type)(categorical_concat)\n",
    "    x = keras.layers.Dropout(dense_dropout)(x)  \n",
    "    x = keras.layers.Dense(second_dense, activation=activation_type)(x)\n",
    "    x = keras.layers.Dropout(dense_dropout)(x)\n",
    "    output = keras.layers.Dense(1, activation=\"sigmoid\")(x)\n",
    "    model = keras.Model(categorical_inputs, output)\n",
    "    \n",
    "    return model"
   ]
  },
  {
   "cell_type": "code",
   "execution_count": 45,
   "metadata": {},
   "outputs": [],
   "source": [
    "from sklearn.metrics import average_precision_score, roc_auc_score\n",
    "\n",
    "def mAP(y_true, y_pred):\n",
    "    return tf.py_function(average_precision_score, (y_true, y_pred), tf.double)\n",
    "\n",
    "def auc(y_true, y_pred):\n",
    "    try:\n",
    "        return tf.py_function(roc_auc_score, (y_true, y_pred), tf.double)\n",
    "    except: \n",
    "        return 0.5\n",
    "\n",
    "def compile_model(model, loss, metrics, optimizer):\n",
    "    model.compile(loss=loss, metrics=metrics, optimizer=optimizer)\n",
    "    return model\n",
    "\n",
    "def plot_keras_history(history, measures):\n",
    "    \"\"\"\n",
    "    history: Keras training history\n",
    "    measures = list of names of measures\n",
    "    \"\"\"\n",
    "    rows = len(measures) // 2 + len(measures) % 2\n",
    "    fig, panels = plt.subplots(rows, 2, figsize=(15, 5))\n",
    "    plt.subplots_adjust(top = 0.99, bottom=0.01, hspace=0.4, wspace=0.2)\n",
    "    try:\n",
    "        panels = [item for sublist in panels for item in sublist]\n",
    "    except:\n",
    "        pass\n",
    "    for k, measure in enumerate(measures):\n",
    "        panel = panels[k]\n",
    "        panel.set_title(measure + ' history')\n",
    "        panel.plot(history.epoch, history.history[measure], label=\"Train \"+measure)\n",
    "        panel.plot(history.epoch, history.history[\"val_\"+measure], label=\"Validation \"+measure)\n",
    "        panel.set(xlabel='epochs', ylabel=measure)\n",
    "        panel.legend()\n",
    "        \n",
    "    plt.show(fig)"
   ]
  },
  {
   "cell_type": "code",
   "execution_count": 46,
   "metadata": {},
   "outputs": [
    {
     "name": "stdout",
     "output_type": "stream",
     "text": [
      "Train for 43 steps, validate on 10923 samples\n",
      "Epoch 1/30\n",
      "43/43 - 3s - loss: 0.6816 - auc: 0.5138 - mAP: 0.9438 - val_loss: 0.6666 - val_auc: 0.5207 - val_mAP: 0.9461\n",
      "Epoch 2/30\n",
      "43/43 - 1s - loss: 0.6487 - auc: 0.5531 - mAP: 0.9510 - val_loss: 0.6278 - val_auc: 0.5441 - val_mAP: 0.9500\n",
      "Epoch 3/30\n",
      "43/43 - 1s - loss: 0.6002 - auc: 0.5788 - mAP: 0.9537 - val_loss: 0.5683 - val_auc: 0.5607 - val_mAP: 0.9528\n",
      "Epoch 4/30\n",
      "43/43 - 1s - loss: 0.5279 - auc: 0.6047 - mAP: 0.9583 - val_loss: 0.4839 - val_auc: 0.5771 - val_mAP: 0.9555\n",
      "Epoch 5/30\n",
      "43/43 - 1s - loss: 0.4347 - auc: 0.6292 - mAP: 0.9605 - val_loss: 0.3863 - val_auc: 0.5964 - val_mAP: 0.9583\n",
      "Epoch 6/30\n",
      "43/43 - 1s - loss: 0.3402 - auc: 0.6542 - mAP: 0.9644 - val_loss: 0.3022 - val_auc: 0.6189 - val_mAP: 0.9612\n",
      "Epoch 7/30\n",
      "43/43 - 1s - loss: 0.2694 - auc: 0.6841 - mAP: 0.9682 - val_loss: 0.2493 - val_auc: 0.6445 - val_mAP: 0.9643\n",
      "Epoch 8/30\n",
      "43/43 - 1s - loss: 0.2294 - auc: 0.7174 - mAP: 0.9726 - val_loss: 0.2232 - val_auc: 0.6724 - val_mAP: 0.9677\n",
      "Epoch 9/30\n",
      "43/43 - 1s - loss: 0.2091 - auc: 0.7565 - mAP: 0.9770 - val_loss: 0.2115 - val_auc: 0.7014 - val_mAP: 0.9711\n",
      "Epoch 10/30\n",
      "43/43 - 1s - loss: 0.1986 - auc: 0.7909 - mAP: 0.9812 - val_loss: 0.2053 - val_auc: 0.7270 - val_mAP: 0.9739\n",
      "Epoch 11/30\n",
      "43/43 - 1s - loss: 0.1915 - auc: 0.8231 - mAP: 0.9845 - val_loss: 0.2012 - val_auc: 0.7500 - val_mAP: 0.9763\n",
      "Epoch 12/30\n",
      "43/43 - 1s - loss: 0.1853 - auc: 0.8493 - mAP: 0.9870 - val_loss: 0.1978 - val_auc: 0.7677 - val_mAP: 0.9782\n",
      "Epoch 13/30\n",
      "43/43 - 1s - loss: 0.1796 - auc: 0.8719 - mAP: 0.9892 - val_loss: 0.1946 - val_auc: 0.7818 - val_mAP: 0.9795\n",
      "Epoch 14/30\n",
      "43/43 - 1s - loss: 0.1739 - auc: 0.8905 - mAP: 0.9909 - val_loss: 0.1916 - val_auc: 0.7922 - val_mAP: 0.9806\n",
      "Epoch 15/30\n",
      "43/43 - 1s - loss: 0.1682 - auc: 0.9064 - mAP: 0.9925 - val_loss: 0.1886 - val_auc: 0.8008 - val_mAP: 0.9815\n",
      "Epoch 16/30\n",
      "43/43 - 1s - loss: 0.1624 - auc: 0.9158 - mAP: 0.9934 - val_loss: 0.1858 - val_auc: 0.8078 - val_mAP: 0.9820\n",
      "Epoch 17/30\n",
      "43/43 - 1s - loss: 0.1570 - auc: 0.9237 - mAP: 0.9941 - val_loss: 0.1830 - val_auc: 0.8126 - val_mAP: 0.9824\n",
      "Epoch 18/30\n",
      "43/43 - 1s - loss: 0.1501 - auc: 0.9359 - mAP: 0.9951 - val_loss: 0.1806 - val_auc: 0.8170 - val_mAP: 0.9828\n",
      "Epoch 19/30\n",
      "43/43 - 1s - loss: 0.1445 - auc: 0.9422 - mAP: 0.9958 - val_loss: 0.1782 - val_auc: 0.8202 - val_mAP: 0.9831\n",
      "Epoch 20/30\n",
      "43/43 - 1s - loss: 0.1379 - auc: 0.9485 - mAP: 0.9962 - val_loss: 0.1762 - val_auc: 0.8230 - val_mAP: 0.9834\n",
      "Epoch 21/30\n",
      "43/43 - 1s - loss: 0.1320 - auc: 0.9537 - mAP: 0.9966 - val_loss: 0.1744 - val_auc: 0.8256 - val_mAP: 0.9836\n",
      "Epoch 22/30\n",
      "43/43 - 1s - loss: 0.1261 - auc: 0.9572 - mAP: 0.9969 - val_loss: 0.1728 - val_auc: 0.8281 - val_mAP: 0.9838\n",
      "Epoch 23/30\n",
      "43/43 - 1s - loss: 0.1206 - auc: 0.9607 - mAP: 0.9971 - val_loss: 0.1716 - val_auc: 0.8299 - val_mAP: 0.9839\n",
      "Epoch 24/30\n",
      "43/43 - 1s - loss: 0.1144 - auc: 0.9657 - mAP: 0.9976 - val_loss: 0.1709 - val_auc: 0.8315 - val_mAP: 0.9841\n",
      "Epoch 25/30\n",
      "43/43 - 1s - loss: 0.1090 - auc: 0.9693 - mAP: 0.9979 - val_loss: 0.1705 - val_auc: 0.8330 - val_mAP: 0.9842\n",
      "Epoch 26/30\n",
      "43/43 - 1s - loss: 0.1042 - auc: 0.9707 - mAP: 0.9980 - val_loss: 0.1704 - val_auc: 0.8342 - val_mAP: 0.9843\n",
      "Epoch 27/30\n",
      "43/43 - 1s - loss: 0.0993 - auc: 0.9728 - mAP: 0.9981 - val_loss: 0.1708 - val_auc: 0.8349 - val_mAP: 0.9844\n",
      "Epoch 28/30\n",
      "43/43 - 1s - loss: 0.0957 - auc: 0.9746 - mAP: 0.9983 - val_loss: 0.1714 - val_auc: 0.8356 - val_mAP: 0.9845\n",
      "Epoch 29/30\n",
      "43/43 - 1s - loss: 0.0907 - auc: 0.9778 - mAP: 0.9985 - val_loss: 0.1724 - val_auc: 0.8364 - val_mAP: 0.9845\n",
      "Epoch 30/30\n",
      "43/43 - 1s - loss: 0.0870 - auc: 0.9794 - mAP: 0.9986 - val_loss: 0.1736 - val_auc: 0.8365 - val_mAP: 0.9845\n",
      "\n",
      "FOLD 0\n"
     ]
    },
    {
     "data": {
      "image/png": "[encoded data removed]",
      "text/plain": [
       "<Figure size 1080x360 with 2 Axes>"
      ]
     },
     "metadata": {
      "needs_background": "light"
     },
     "output_type": "display_data"
    },
    {
     "name": "stdout",
     "output_type": "stream",
     "text": [
      "Train for 43 steps, validate on 10923 samples\n",
      "Epoch 1/30\n",
      "43/43 - 3s - loss: 0.6796 - auc: 0.5048 - mAP: 0.9436 - val_loss: 0.6648 - val_auc: 0.5285 - val_mAP: 0.9492\n",
      "Epoch 2/30\n",
      "43/43 - 1s - loss: 0.6472 - auc: 0.5449 - mAP: 0.9504 - val_loss: 0.6247 - val_auc: 0.5465 - val_mAP: 0.9519\n",
      "Epoch 3/30\n",
      "43/43 - 1s - loss: 0.5964 - auc: 0.5691 - mAP: 0.9528 - val_loss: 0.5609 - val_auc: 0.5647 - val_mAP: 0.9544\n",
      "Epoch 4/30\n",
      "43/43 - 1s - loss: 0.5194 - auc: 0.5980 - mAP: 0.9574 - val_loss: 0.4705 - val_auc: 0.5822 - val_mAP: 0.9567\n",
      "Epoch 5/30\n",
      "43/43 - 1s - loss: 0.4217 - auc: 0.6200 - mAP: 0.9605 - val_loss: 0.3695 - val_auc: 0.6011 - val_mAP: 0.9593\n",
      "Epoch 6/30\n",
      "43/43 - 1s - loss: 0.3269 - auc: 0.6448 - mAP: 0.9629 - val_loss: 0.2876 - val_auc: 0.6243 - val_mAP: 0.9621\n",
      "Epoch 7/30\n",
      "43/43 - 1s - loss: 0.2596 - auc: 0.6882 - mAP: 0.9690 - val_loss: 0.2398 - val_auc: 0.6498 - val_mAP: 0.9652\n",
      "Epoch 8/30\n",
      "43/43 - 1s - loss: 0.2246 - auc: 0.7140 - mAP: 0.9725 - val_loss: 0.2180 - val_auc: 0.6756 - val_mAP: 0.9683\n",
      "Epoch 9/30\n",
      "43/43 - 1s - loss: 0.2073 - auc: 0.7484 - mAP: 0.9765 - val_loss: 0.2085 - val_auc: 0.7023 - val_mAP: 0.9714\n",
      "Epoch 10/30\n",
      "43/43 - 1s - loss: 0.1975 - auc: 0.7852 - mAP: 0.9803 - val_loss: 0.2035 - val_auc: 0.7266 - val_mAP: 0.9741\n",
      "Epoch 11/30\n",
      "43/43 - 1s - loss: 0.1913 - auc: 0.8177 - mAP: 0.9837 - val_loss: 0.2000 - val_auc: 0.7479 - val_mAP: 0.9765\n",
      "Epoch 12/30\n",
      "43/43 - 1s - loss: 0.1861 - auc: 0.8393 - mAP: 0.9854 - val_loss: 0.1969 - val_auc: 0.7672 - val_mAP: 0.9785\n",
      "Epoch 13/30\n",
      "43/43 - 1s - loss: 0.1799 - auc: 0.8664 - mAP: 0.9887 - val_loss: 0.1941 - val_auc: 0.7802 - val_mAP: 0.9797\n",
      "Epoch 14/30\n",
      "43/43 - 1s - loss: 0.1748 - auc: 0.8824 - mAP: 0.9900 - val_loss: 0.1913 - val_auc: 0.7918 - val_mAP: 0.9808\n",
      "Epoch 15/30\n",
      "43/43 - 1s - loss: 0.1700 - auc: 0.8979 - mAP: 0.9917 - val_loss: 0.1887 - val_auc: 0.8001 - val_mAP: 0.9816\n",
      "Epoch 16/30\n",
      "43/43 - 1s - loss: 0.1643 - auc: 0.9108 - mAP: 0.9929 - val_loss: 0.1860 - val_auc: 0.8072 - val_mAP: 0.9822\n",
      "Epoch 17/30\n",
      "43/43 - 1s - loss: 0.1590 - auc: 0.9205 - mAP: 0.9936 - val_loss: 0.1835 - val_auc: 0.8124 - val_mAP: 0.9827\n",
      "Epoch 18/30\n",
      "43/43 - 1s - loss: 0.1537 - auc: 0.9295 - mAP: 0.9944 - val_loss: 0.1812 - val_auc: 0.8169 - val_mAP: 0.9831\n",
      "Epoch 19/30\n",
      "43/43 - 1s - loss: 0.1475 - auc: 0.9370 - mAP: 0.9950 - val_loss: 0.1790 - val_auc: 0.8198 - val_mAP: 0.9833\n",
      "Epoch 20/30\n",
      "43/43 - 1s - loss: 0.1421 - auc: 0.9449 - mAP: 0.9958 - val_loss: 0.1769 - val_auc: 0.8228 - val_mAP: 0.9836\n",
      "Epoch 21/30\n",
      "43/43 - 1s - loss: 0.1366 - auc: 0.9490 - mAP: 0.9961 - val_loss: 0.1753 - val_auc: 0.8247 - val_mAP: 0.9838\n",
      "Epoch 22/30\n",
      "43/43 - 1s - loss: 0.1309 - auc: 0.9533 - mAP: 0.9965 - val_loss: 0.1735 - val_auc: 0.8270 - val_mAP: 0.9840\n",
      "Epoch 23/30\n",
      "43/43 - 1s - loss: 0.1246 - auc: 0.9580 - mAP: 0.9969 - val_loss: 0.1723 - val_auc: 0.8278 - val_mAP: 0.9841\n",
      "Epoch 24/30\n",
      "43/43 - 1s - loss: 0.1202 - auc: 0.9604 - mAP: 0.9970 - val_loss: 0.1713 - val_auc: 0.8285 - val_mAP: 0.9842\n",
      "Epoch 25/30\n",
      "43/43 - 1s - loss: 0.1144 - auc: 0.9655 - mAP: 0.9975 - val_loss: 0.1711 - val_auc: 0.8289 - val_mAP: 0.9842\n",
      "Epoch 26/30\n",
      "43/43 - 1s - loss: 0.1093 - auc: 0.9688 - mAP: 0.9978 - val_loss: 0.1707 - val_auc: 0.8292 - val_mAP: 0.9842\n",
      "Epoch 27/30\n",
      "43/43 - 1s - loss: 0.1047 - auc: 0.9711 - mAP: 0.9980 - val_loss: 0.1709 - val_auc: 0.8297 - val_mAP: 0.9842\n",
      "Epoch 28/30\n",
      "43/43 - 1s - loss: 0.0999 - auc: 0.9737 - mAP: 0.9981 - val_loss: 0.1714 - val_auc: 0.8299 - val_mAP: 0.9842\n",
      "Epoch 29/30\n",
      "43/43 - 1s - loss: 0.0954 - auc: 0.9767 - mAP: 0.9984 - val_loss: 0.1723 - val_auc: 0.8299 - val_mAP: 0.9841\n",
      "Epoch 30/30\n",
      "43/43 - 1s - loss: 0.0917 - auc: 0.9775 - mAP: 0.9984 - val_loss: 0.1738 - val_auc: 0.8296 - val_mAP: 0.9841\n",
      "\n",
      "FOLD 1\n"
     ]
    },
    {
     "data": {
      "image/png": "[encoded data removed]",
      "text/plain": [
       "<Figure size 1080x360 with 2 Axes>"
      ]
     },
     "metadata": {
      "needs_background": "light"
     },
     "output_type": "display_data"
    },
    {
     "name": "stdout",
     "output_type": "stream",
     "text": [
      "Train for 43 steps, validate on 10923 samples\n",
      "Epoch 1/30\n",
      "43/43 - 3s - loss: 0.6802 - auc: 0.5077 - mAP: 0.9437 - val_loss: 0.6656 - val_auc: 0.5183 - val_mAP: 0.9431\n",
      "Epoch 2/30\n",
      "43/43 - 1s - loss: 0.6475 - auc: 0.5321 - mAP: 0.9468 - val_loss: 0.6266 - val_auc: 0.5339 - val_mAP: 0.9452\n",
      "Epoch 3/30\n",
      "43/43 - 1s - loss: 0.5978 - auc: 0.5457 - mAP: 0.9490 - val_loss: 0.5649 - val_auc: 0.5494 - val_mAP: 0.9481\n",
      "Epoch 4/30\n",
      "43/43 - 1s - loss: 0.5217 - auc: 0.5751 - mAP: 0.9540 - val_loss: 0.4755 - val_auc: 0.5689 - val_mAP: 0.9516\n",
      "Epoch 5/30\n",
      "43/43 - 1s - loss: 0.4228 - auc: 0.6066 - mAP: 0.9577 - val_loss: 0.3735 - val_auc: 0.5908 - val_mAP: 0.9554\n",
      "Epoch 6/30\n",
      "43/43 - 1s - loss: 0.3266 - auc: 0.6321 - mAP: 0.9616 - val_loss: 0.2903 - val_auc: 0.6139 - val_mAP: 0.9590\n",
      "Epoch 7/30\n",
      "43/43 - 1s - loss: 0.2596 - auc: 0.6701 - mAP: 0.9664 - val_loss: 0.2423 - val_auc: 0.6391 - val_mAP: 0.9625\n",
      "Epoch 8/30\n",
      "43/43 - 1s - loss: 0.2245 - auc: 0.7095 - mAP: 0.9709 - val_loss: 0.2205 - val_auc: 0.6687 - val_mAP: 0.9666\n",
      "Epoch 9/30\n",
      "43/43 - 1s - loss: 0.2080 - auc: 0.7424 - mAP: 0.9755 - val_loss: 0.2107 - val_auc: 0.6994 - val_mAP: 0.9705\n",
      "Epoch 10/30\n",
      "43/43 - 1s - loss: 0.1987 - auc: 0.7826 - mAP: 0.9799 - val_loss: 0.2054 - val_auc: 0.7270 - val_mAP: 0.9737\n",
      "Epoch 11/30\n",
      "43/43 - 1s - loss: 0.1921 - auc: 0.8161 - mAP: 0.9838 - val_loss: 0.2015 - val_auc: 0.7528 - val_mAP: 0.9766\n",
      "Epoch 12/30\n",
      "43/43 - 1s - loss: 0.1863 - auc: 0.8470 - mAP: 0.9868 - val_loss: 0.1981 - val_auc: 0.7735 - val_mAP: 0.9788\n",
      "Epoch 13/30\n",
      "43/43 - 1s - loss: 0.1806 - auc: 0.8689 - mAP: 0.9891 - val_loss: 0.1949 - val_auc: 0.7898 - val_mAP: 0.9804\n",
      "Epoch 14/30\n",
      "43/43 - 1s - loss: 0.1748 - auc: 0.8871 - mAP: 0.9907 - val_loss: 0.1917 - val_auc: 0.8029 - val_mAP: 0.9816\n",
      "Epoch 15/30\n",
      "43/43 - 1s - loss: 0.1693 - auc: 0.9029 - mAP: 0.9920 - val_loss: 0.1887 - val_auc: 0.8133 - val_mAP: 0.9825\n",
      "Epoch 16/30\n",
      "43/43 - 1s - loss: 0.1631 - auc: 0.9191 - mAP: 0.9935 - val_loss: 0.1859 - val_auc: 0.8205 - val_mAP: 0.9832\n",
      "Epoch 17/30\n",
      "43/43 - 1s - loss: 0.1568 - auc: 0.9270 - mAP: 0.9943 - val_loss: 0.1830 - val_auc: 0.8262 - val_mAP: 0.9837\n",
      "Epoch 18/30\n",
      "43/43 - 1s - loss: 0.1501 - auc: 0.9369 - mAP: 0.9952 - val_loss: 0.1804 - val_auc: 0.8308 - val_mAP: 0.9842\n",
      "Epoch 19/30\n",
      "43/43 - 1s - loss: 0.1448 - auc: 0.9408 - mAP: 0.9953 - val_loss: 0.1780 - val_auc: 0.8341 - val_mAP: 0.9845\n",
      "Epoch 20/30\n",
      "43/43 - 1s - loss: 0.1381 - auc: 0.9484 - mAP: 0.9962 - val_loss: 0.1757 - val_auc: 0.8368 - val_mAP: 0.9847\n",
      "Epoch 21/30\n",
      "43/43 - 1s - loss: 0.1319 - auc: 0.9541 - mAP: 0.9967 - val_loss: 0.1739 - val_auc: 0.8387 - val_mAP: 0.9849\n",
      "Epoch 22/30\n",
      "43/43 - 1s - loss: 0.1261 - auc: 0.9572 - mAP: 0.9969 - val_loss: 0.1723 - val_auc: 0.8402 - val_mAP: 0.9850\n",
      "Epoch 23/30\n",
      "43/43 - 1s - loss: 0.1201 - auc: 0.9621 - mAP: 0.9974 - val_loss: 0.1711 - val_auc: 0.8417 - val_mAP: 0.9852\n",
      "Epoch 24/30\n",
      "43/43 - 1s - loss: 0.1147 - auc: 0.9647 - mAP: 0.9975 - val_loss: 0.1703 - val_auc: 0.8428 - val_mAP: 0.9853\n",
      "Epoch 25/30\n",
      "43/43 - 1s - loss: 0.1089 - auc: 0.9687 - mAP: 0.9978 - val_loss: 0.1698 - val_auc: 0.8436 - val_mAP: 0.9854\n",
      "Epoch 26/30\n",
      "43/43 - 1s - loss: 0.1038 - auc: 0.9713 - mAP: 0.9981 - val_loss: 0.1699 - val_auc: 0.8440 - val_mAP: 0.9855\n",
      "Epoch 27/30\n",
      "43/43 - 1s - loss: 0.0994 - auc: 0.9731 - mAP: 0.9982 - val_loss: 0.1702 - val_auc: 0.8448 - val_mAP: 0.9856\n",
      "Epoch 28/30\n",
      "43/43 - 1s - loss: 0.0944 - auc: 0.9760 - mAP: 0.9984 - val_loss: 0.1709 - val_auc: 0.8454 - val_mAP: 0.9856\n",
      "Epoch 29/30\n",
      "43/43 - 1s - loss: 0.0898 - auc: 0.9782 - mAP: 0.9985 - val_loss: 0.1718 - val_auc: 0.8461 - val_mAP: 0.9857\n",
      "Epoch 30/30\n",
      "43/43 - 1s - loss: 0.0866 - auc: 0.9797 - mAP: 0.9987 - val_loss: 0.1731 - val_auc: 0.8459 - val_mAP: 0.9857\n",
      "\n",
      "FOLD 2\n"
     ]
    },
    {
     "data": {
      "image/png": "[encoded data removed]",
      "text/plain": [
       "<Figure size 1080x360 with 2 Axes>"
      ]
     },
     "metadata": {
      "needs_background": "light"
     },
     "output_type": "display_data"
    },
    {
     "name": "stdout",
     "output_type": "stream",
     "text": [
      "mean cv roc auc 0.840\n",
      "mean cv average precision 0.985\n"
     ]
    }
   ],
   "source": [
    "from sklearn.model_selection import StratifiedKFold\n",
    "\n",
    "SEED = 0\n",
    "FOLDS = 3\n",
    "BATCH_SIZE = 512\n",
    "\n",
    "skf = StratifiedKFold(n_splits=FOLDS, \n",
    "                      shuffle=True, \n",
    "                      random_state=SEED)\n",
    "\n",
    "roc_auc = list()\n",
    "average_precision = list()\n",
    "categorical_variables = X.columns.to_list()\n",
    "\n",
    "for fold, (train_idx, test_idx) in enumerate(skf.split(X, y)):\n",
    "    \n",
    "    tt = TabularTransformer(highcat = categorical_variables)\n",
    "\n",
    "    tt.fit(X.iloc[train_idx])   \n",
    "    categorical_levels = tt.vocabulary\n",
    "    \n",
    "    model = dnn(categorical_variables,\n",
    "                categorical_levels, \n",
    "                feature_selection_dropout=0.1,\n",
    "                categorical_dropout=0.1,\n",
    "                first_dense=64,\n",
    "                second_dense=64,\n",
    "                dense_dropout=0.1,\n",
    "                activation_type=mish)\n",
    "    \n",
    "    model = compile_model(model, \n",
    "                          keras.losses.binary_crossentropy, \n",
    "                          [auc, mAP], \n",
    "                          tf.keras.optimizers.Adam(learning_rate=0.0001))\n",
    "    \n",
    "    train_batch = DataGenerator(X.iloc[train_idx], \n",
    "                                y[train_idx],\n",
    "                                tabular_transformer=tt,\n",
    "                                batch_size=BATCH_SIZE,\n",
    "                                shuffle=True)\n",
    "    \n",
    "    val_X, val_y = tt.transform(X.iloc[test_idx]), y[test_idx]\n",
    "    \n",
    "    history = model.fit(train_batch,\n",
    "                        validation_data=(val_X, val_y),\n",
    "                        epochs=30,\n",
    "                        class_weight=[1.0, (np.sum(y==0) / np.sum(y==1))],\n",
    "                        verbose=2)\n",
    "    \n",
    "    print(\"\\nFOLD %i\" % fold)\n",
    "    plot_keras_history(history, measures=['auc', 'loss'])\n",
    "    \n",
    "    preds = model.predict(val_X, verbose=0, batch_size=1024).flatten()\n",
    "\n",
    "    roc_auc.append(roc_auc_score(y_true=val_y, y_score=preds))\n",
    "    average_precision.append(average_precision_score(y_true=val_y, y_score=preds))\n",
    "    \n",
    "print(f\"mean cv roc auc {np.mean(roc_auc):0.3f}\")\n",
    "print(f\"mean cv average precision {np.mean(average_precision):0.3f}\")"
   ]
  }
 ],
 "metadata": {
  "kernelspec": {
   "display_name": "Python 3",
   "language": "python",
   "name": "python3"
  },
  "language_info": {
   "codemirror_mode": {
    "name": "ipython",
    "version": 3
   },
   "file_extension": ".py",
   "mimetype": "text/x-python",
   "name": "python",
   "nbconvert_exporter": "python",
   "pygments_lexer": "ipython3",
   "version": "3.7.6"
  }
 },
 "nbformat": 4,
 "nbformat_minor": 2
}
